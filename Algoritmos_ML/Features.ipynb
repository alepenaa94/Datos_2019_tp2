{
 "cells": [
  {
   "cell_type": "code",
   "execution_count": 1,
   "metadata": {},
   "outputs": [],
   "source": [
    "import pandas as pd\n",
    "import numpy as np\n",
    "import datetime as datetime\n",
    "import os\n",
    "\n",
    "import warnings \n",
    "warnings.filterwarnings('ignore')"
   ]
  },
  {
   "cell_type": "code",
   "execution_count": 2,
   "metadata": {},
   "outputs": [],
   "source": [
    "if '__file__' in locals():\n",
    "    current_folder = os.path.dirname(os.path.abspath(__file__))\n",
    "else:\n",
    "    current_folder = os.getcwd()\n",
    "\n",
    "Limpieza_Clicks = '\"{}\"'.format(os.path.join(current_folder, '..', 'Notebook_limpieza', 'Limpieza_Clicks.ipynb'))\n",
    "Limpieza_Auctions = '\"{}\"'.format(os.path.join(current_folder, '..', 'Notebook_limpieza', 'Limpieza_Auctions.ipynb'))\n",
    "Limpieza_Installs = '\"{}\"'.format(os.path.join(current_folder, '..', 'Notebook_limpieza', 'Limpieza_Installs.ipynb'))\n",
    "Limpieza_Events = '\"{}\"'.format(os.path.join(current_folder, '..', 'Notebook_limpieza', 'Limpieza_Events.ipynb'))"
   ]
  },
  {
   "cell_type": "code",
   "execution_count": 3,
   "metadata": {},
   "outputs": [],
   "source": [
    "%run $Limpieza_Clicks\n",
    "%run $Limpieza_Auctions\n",
    "%run $Limpieza_Installs\n",
    "%run $Limpieza_Events"
   ]
  },
  {
   "cell_type": "markdown",
   "metadata": {},
   "source": [
    "# Cálculo del St"
   ]
  },
  {
   "cell_type": "markdown",
   "metadata": {},
   "source": [
    "Calculamos el tiempo hasta que un dispositivo vuelva a aparecer en una subasta RTB como la fecha de la primera aparición en la ventana menos la fecha de inicio de la ventana."
   ]
  },
  {
   "cell_type": "code",
   "execution_count": 4,
   "metadata": {},
   "outputs": [],
   "source": [
    "training_set_subastas = auctions\n",
    "training_set_subastas.sort_values(ascending=True,by='date',inplace=True)"
   ]
  },
  {
   "cell_type": "code",
   "execution_count": 5,
   "metadata": {},
   "outputs": [],
   "source": [
    "#Definimos la fecha de inicio de cada ventana\n",
    "fecha_iv1 = pd.to_datetime('2019-04-18')\n",
    "fecha_iv2 = pd.to_datetime('2019-04-19')\n",
    "fecha_iv3 = pd.to_datetime('2019-04-20')\n",
    "fecha_iv4 = pd.to_datetime('2019-04-21')\n",
    "fecha_iv5 = pd.to_datetime('2019-04-22')\n",
    "fecha_iv6 = pd.to_datetime('2019-04-23')\n",
    "fecha_iv7 = pd.to_datetime('2019-04-24')\n",
    "\n",
    "fecha_inicio_ventana = [fecha_iv1,fecha_iv2,fecha_iv3,fecha_iv4,fecha_iv5,fecha_iv6,fecha_iv7]"
   ]
  },
  {
   "cell_type": "code",
   "execution_count": 6,
   "metadata": {},
   "outputs": [],
   "source": [
    "#Separamos el set de datos de subastas en \"ventanas\" de 3 días cada una.\n",
    "ventanas_subastas = []\n",
    "for i in range(0,7):\n",
    "    ventanas_subastas.append(training_set_subastas.loc[(training_set_subastas['date'] > fecha_inicio_ventana[i]) & (training_set_subastas['date'] < (fecha_inicio_ventana[i] + pd.Timedelta('3 days')))])"
   ]
  },
  {
   "cell_type": "code",
   "execution_count": 7,
   "metadata": {},
   "outputs": [],
   "source": [
    "for i in range(0,7):\n",
    "    ventanas_subastas[i]['st'] = (ventanas_subastas[i].groupby('device_id')['date'].transform(min) - fecha_inicio_ventana[i]).dt.total_seconds()"
   ]
  },
  {
   "cell_type": "code",
   "execution_count": 8,
   "metadata": {},
   "outputs": [],
   "source": [
    "labels = []\n",
    "\n",
    "for i in range(0,7):\n",
    "    labels.append(ventanas_subastas[i][['device_id','st']].drop_duplicates())"
   ]
  },
  {
   "cell_type": "code",
   "execution_count": 9,
   "metadata": {},
   "outputs": [
    {
     "name": "stdout",
     "output_type": "stream",
     "text": [
      "Cantidad de registros en el label 1: 318325\n",
      "Cantidad de registros en el label 2: 316149\n",
      "Cantidad de registros en el label 3: 324622\n",
      "Cantidad de registros en el label 4: 326945\n",
      "Cantidad de registros en el label 5: 325310\n",
      "Cantidad de registros en el label 6: 322403\n",
      "Cantidad de registros en el label 7: 329779\n"
     ]
    }
   ],
   "source": [
    "#Veamos la cantidad de registros del label de cada ventana\n",
    "for i in range(0,7):\n",
    "    print(\"Cantidad de registros en el label \" + str(i+1) + \": \" + str(labels[i].shape[0]))"
   ]
  },
  {
   "cell_type": "code",
   "execution_count": 10,
   "metadata": {},
   "outputs": [
    {
     "data": {
      "text/html": [
       "<div>\n",
       "<style scoped>\n",
       "    .dataframe tbody tr th:only-of-type {\n",
       "        vertical-align: middle;\n",
       "    }\n",
       "\n",
       "    .dataframe tbody tr th {\n",
       "        vertical-align: top;\n",
       "    }\n",
       "\n",
       "    .dataframe thead th {\n",
       "        text-align: right;\n",
       "    }\n",
       "</style>\n",
       "<table border=\"1\" class=\"dataframe\">\n",
       "  <thead>\n",
       "    <tr style=\"text-align: right;\">\n",
       "      <th></th>\n",
       "      <th>device_id</th>\n",
       "      <th>st</th>\n",
       "    </tr>\n",
       "  </thead>\n",
       "  <tbody>\n",
       "    <tr>\n",
       "      <th>10129864</th>\n",
       "      <td>1826643666390887030</td>\n",
       "      <td>0.015050</td>\n",
       "    </tr>\n",
       "    <tr>\n",
       "      <th>25285906</th>\n",
       "      <td>7037174172278258682</td>\n",
       "      <td>0.029014</td>\n",
       "    </tr>\n",
       "    <tr>\n",
       "      <th>3946062</th>\n",
       "      <td>3392065368947589877</td>\n",
       "      <td>0.057540</td>\n",
       "    </tr>\n",
       "    <tr>\n",
       "      <th>3946063</th>\n",
       "      <td>1228982273563226229</td>\n",
       "      <td>0.126828</td>\n",
       "    </tr>\n",
       "    <tr>\n",
       "      <th>24607726</th>\n",
       "      <td>4123059034628125459</td>\n",
       "      <td>0.132510</td>\n",
       "    </tr>\n",
       "  </tbody>\n",
       "</table>\n",
       "</div>"
      ],
      "text/plain": [
       "                    device_id        st\n",
       "10129864  1826643666390887030  0.015050\n",
       "25285906  7037174172278258682  0.029014\n",
       "3946062   3392065368947589877  0.057540\n",
       "3946063   1228982273563226229  0.126828\n",
       "24607726  4123059034628125459  0.132510"
      ]
     },
     "execution_count": 10,
     "metadata": {},
     "output_type": "execute_result"
    }
   ],
   "source": [
    "#Veamos la forma que tiene un label\n",
    "labels[0].head()"
   ]
  },
  {
   "cell_type": "markdown",
   "metadata": {},
   "source": [
    "# Cálculo del Sc"
   ]
  },
  {
   "cell_type": "markdown",
   "metadata": {},
   "source": [
    "De la misma forma que con St, calculamos el tiempo hasta que un dispositivo vuelva a instalar como la fecha de la primera aparición en la ventana menos la fecha de inicio de la ventana."
   ]
  },
  {
   "cell_type": "code",
   "execution_count": 11,
   "metadata": {},
   "outputs": [],
   "source": [
    "training_set_instalaciones = installs\n",
    "training_set_instalaciones.sort_values(ascending=True,by='created',inplace=True)"
   ]
  },
  {
   "cell_type": "code",
   "execution_count": 12,
   "metadata": {},
   "outputs": [],
   "source": [
    "#Separamos el set de datos de instalaciones en \"ventanas\" de 3 días cada una.\n",
    "ventanas_instalaciones = []\n",
    "for i in range(0,7):\n",
    "    ventanas_instalaciones.append(training_set_instalaciones.loc[(training_set_instalaciones['created'] > fecha_inicio_ventana[i]) & (training_set_instalaciones['created'] < (fecha_inicio_ventana[i] + pd.Timedelta('3 days')))])"
   ]
  },
  {
   "cell_type": "code",
   "execution_count": 13,
   "metadata": {},
   "outputs": [],
   "source": [
    "for i in range(0,7):\n",
    "    ventanas_instalaciones[i]['sc'] = (ventanas_instalaciones[i].groupby('ref_hash')['created'].transform(min) - fecha_inicio_ventana[i]).dt.total_seconds()"
   ]
  },
  {
   "cell_type": "code",
   "execution_count": 14,
   "metadata": {},
   "outputs": [],
   "source": [
    "tiempo_maximo = 259200 #tiempo de 3 días en segundos\n",
    "\n",
    "for i in range(0,7):\n",
    "    instalaciones_a_mergear = ventanas_instalaciones[i][['ref_hash','sc']].drop_duplicates()\n",
    "    instalaciones_a_mergear.columns = ['device_id', 'sc']\n",
    "    labels[i] = labels[i].merge(instalaciones_a_mergear,on='device_id',how='outer')\n",
    "    labels[i].fillna(value=tiempo_maximo,inplace=True)"
   ]
  },
  {
   "cell_type": "code",
   "execution_count": 15,
   "metadata": {},
   "outputs": [
    {
     "name": "stdout",
     "output_type": "stream",
     "text": [
      "Cantidad de registros en el label 1: 385959\n",
      "Cantidad de registros en el label 2: 382751\n",
      "Cantidad de registros en el label 3: 391936\n",
      "Cantidad de registros en el label 4: 396735\n",
      "Cantidad de registros en el label 5: 395720\n",
      "Cantidad de registros en el label 6: 394475\n",
      "Cantidad de registros en el label 7: 403828\n"
     ]
    }
   ],
   "source": [
    "#Veamos la cantidad de registros del label de cada ventana luego del join\n",
    "for i in range(0,7):\n",
    "    print(\"Cantidad de registros en el label \" + str(i+1) + \": \" + str(labels[i].shape[0]))"
   ]
  },
  {
   "cell_type": "markdown",
   "metadata": {},
   "source": [
    "Los label por ventana quedan de la siguiente forma:"
   ]
  },
  {
   "cell_type": "code",
   "execution_count": 16,
   "metadata": {},
   "outputs": [
    {
     "data": {
      "text/html": [
       "<div>\n",
       "<style scoped>\n",
       "    .dataframe tbody tr th:only-of-type {\n",
       "        vertical-align: middle;\n",
       "    }\n",
       "\n",
       "    .dataframe tbody tr th {\n",
       "        vertical-align: top;\n",
       "    }\n",
       "\n",
       "    .dataframe thead th {\n",
       "        text-align: right;\n",
       "    }\n",
       "</style>\n",
       "<table border=\"1\" class=\"dataframe\">\n",
       "  <thead>\n",
       "    <tr style=\"text-align: right;\">\n",
       "      <th></th>\n",
       "      <th>device_id</th>\n",
       "      <th>st</th>\n",
       "      <th>sc</th>\n",
       "    </tr>\n",
       "  </thead>\n",
       "  <tbody>\n",
       "    <tr>\n",
       "      <th>0</th>\n",
       "      <td>1826643666390887030</td>\n",
       "      <td>0.015050</td>\n",
       "      <td>259200.000</td>\n",
       "    </tr>\n",
       "    <tr>\n",
       "      <th>1</th>\n",
       "      <td>7037174172278258682</td>\n",
       "      <td>0.029014</td>\n",
       "      <td>259200.000</td>\n",
       "    </tr>\n",
       "    <tr>\n",
       "      <th>2</th>\n",
       "      <td>3392065368947589877</td>\n",
       "      <td>0.057540</td>\n",
       "      <td>259200.000</td>\n",
       "    </tr>\n",
       "    <tr>\n",
       "      <th>3</th>\n",
       "      <td>1228982273563226229</td>\n",
       "      <td>0.126828</td>\n",
       "      <td>259200.000</td>\n",
       "    </tr>\n",
       "    <tr>\n",
       "      <th>4</th>\n",
       "      <td>4123059034628125459</td>\n",
       "      <td>0.132510</td>\n",
       "      <td>17800.664</td>\n",
       "    </tr>\n",
       "  </tbody>\n",
       "</table>\n",
       "</div>"
      ],
      "text/plain": [
       "             device_id        st          sc\n",
       "0  1826643666390887030  0.015050  259200.000\n",
       "1  7037174172278258682  0.029014  259200.000\n",
       "2  3392065368947589877  0.057540  259200.000\n",
       "3  1228982273563226229  0.126828  259200.000\n",
       "4  4123059034628125459  0.132510   17800.664"
      ]
     },
     "execution_count": 16,
     "metadata": {},
     "output_type": "execute_result"
    }
   ],
   "source": [
    "labels[0].head()"
   ]
  },
  {
   "cell_type": "markdown",
   "metadata": {},
   "source": [
    "# FEATURES\n",
    "Creamos features en base a los datasets. Los features van a estar divididos por dispositivo para poder mergearlos en un unico dataframe con features de todos los dataframes."
   ]
  },
  {
   "cell_type": "markdown",
   "metadata": {},
   "source": [
    "### Features de Auctions"
   ]
  },
  {
   "cell_type": "code",
   "execution_count": 17,
   "metadata": {},
   "outputs": [],
   "source": [
    "ventanas_auctions = []\n",
    "for i in range(0,7):\n",
    "    ventanas_auctions.append(auctions.loc[(auctions['date'] > fecha_inicio_ventana[i]) & (auctions['date'] < (fecha_inicio_ventana[i] + pd.Timedelta('3 days')))])"
   ]
  },
  {
   "cell_type": "markdown",
   "metadata": {},
   "source": [
    "#### Cantidad de subastas por ventana"
   ]
  },
  {
   "cell_type": "code",
   "execution_count": 18,
   "metadata": {},
   "outputs": [],
   "source": [
    "features_auctions = []\n",
    "\n",
    "for ventana in ventanas_auctions:\n",
    "    features_ventana = ventana.groupby('device_id').agg({'device_id':'size'})\n",
    "    features_ventana.columns = ['cantidad_de_subastas_en_ventana']\n",
    "    features_auctions.append(features_ventana)"
   ]
  },
  {
   "cell_type": "code",
   "execution_count": 19,
   "metadata": {},
   "outputs": [],
   "source": [
    "for i in range(0,7):\n",
    "    features_auctions[i] = features_auctions[i].reset_index()"
   ]
  },
  {
   "cell_type": "code",
   "execution_count": 20,
   "metadata": {},
   "outputs": [
    {
     "data": {
      "text/html": [
       "<div>\n",
       "<style scoped>\n",
       "    .dataframe tbody tr th:only-of-type {\n",
       "        vertical-align: middle;\n",
       "    }\n",
       "\n",
       "    .dataframe tbody tr th {\n",
       "        vertical-align: top;\n",
       "    }\n",
       "\n",
       "    .dataframe thead th {\n",
       "        text-align: right;\n",
       "    }\n",
       "</style>\n",
       "<table border=\"1\" class=\"dataframe\">\n",
       "  <thead>\n",
       "    <tr style=\"text-align: right;\">\n",
       "      <th></th>\n",
       "      <th>device_id</th>\n",
       "      <th>cantidad_de_subastas_en_ventana</th>\n",
       "    </tr>\n",
       "  </thead>\n",
       "  <tbody>\n",
       "    <tr>\n",
       "      <th>0</th>\n",
       "      <td>41863526108385</td>\n",
       "      <td>35</td>\n",
       "    </tr>\n",
       "    <tr>\n",
       "      <th>1</th>\n",
       "      <td>135153013040192</td>\n",
       "      <td>8</td>\n",
       "    </tr>\n",
       "    <tr>\n",
       "      <th>2</th>\n",
       "      <td>161514654074162</td>\n",
       "      <td>6</td>\n",
       "    </tr>\n",
       "    <tr>\n",
       "      <th>3</th>\n",
       "      <td>181891380775191</td>\n",
       "      <td>1</td>\n",
       "    </tr>\n",
       "    <tr>\n",
       "      <th>4</th>\n",
       "      <td>186034136943920</td>\n",
       "      <td>7</td>\n",
       "    </tr>\n",
       "  </tbody>\n",
       "</table>\n",
       "</div>"
      ],
      "text/plain": [
       "         device_id  cantidad_de_subastas_en_ventana\n",
       "0   41863526108385                               35\n",
       "1  135153013040192                                8\n",
       "2  161514654074162                                6\n",
       "3  181891380775191                                1\n",
       "4  186034136943920                                7"
      ]
     },
     "execution_count": 20,
     "metadata": {},
     "output_type": "execute_result"
    }
   ],
   "source": [
    "features_auctions[0].head()"
   ]
  },
  {
   "cell_type": "code",
   "execution_count": 21,
   "metadata": {},
   "outputs": [
    {
     "data": {
      "text/plain": [
       "(318325, 2)"
      ]
     },
     "execution_count": 21,
     "metadata": {},
     "output_type": "execute_result"
    }
   ],
   "source": [
    "features_auctions[0].shape"
   ]
  },
  {
   "cell_type": "code",
   "execution_count": null,
   "metadata": {},
   "outputs": [],
   "source": []
  },
  {
   "cell_type": "markdown",
   "metadata": {},
   "source": [
    "### Features de Events"
   ]
  },
  {
   "cell_type": "code",
   "execution_count": 22,
   "metadata": {},
   "outputs": [],
   "source": [
    "ventanas_events = []\n",
    "for i in range(0,7):\n",
    "    ventanas_events.append(events.loc[(events['date'] > fecha_inicio_ventana[i]) & (events['date'] < (fecha_inicio_ventana[i] + pd.Timedelta('3 days')))])"
   ]
  },
  {
   "cell_type": "markdown",
   "metadata": {},
   "source": [
    "#### Cantidad de eventos por ventana"
   ]
  },
  {
   "cell_type": "code",
   "execution_count": 23,
   "metadata": {},
   "outputs": [],
   "source": [
    "features_events = []\n",
    "\n",
    "for ventana in ventanas_events:\n",
    "    ventana['kind'].fillna(0,inplace=True)\n",
    "    features_ventana = ventana.groupby('ref_hash').agg({'ref_hash':'size',\n",
    "                                                        'event_id':lambda x: (x.mode())[0],\n",
    "                                                        'application_id':lambda x: (x.mode())[0],\n",
    "                                                        'kind':lambda x: (x.mode())[0]})\n",
    "    \n",
    "    features_ventana.columns = ['cantidad_de_eventos_en_ventana','evento_mas_frecuente','aplicacion_mas_usada','tipo_evento']\n",
    "    features_events.append(features_ventana)"
   ]
  },
  {
   "cell_type": "markdown",
   "metadata": {},
   "source": [
    "#### Versión más tipica de SO registrada en los eventos para cada dispositivo"
   ]
  },
  {
   "cell_type": "code",
   "execution_count": 24,
   "metadata": {},
   "outputs": [],
   "source": [
    "for index,ventana in enumerate(ventanas_events):\n",
    "    ventana_temp = ventana\n",
    "    ventana_temp['device_os_version'] = ventana_temp['device_os_version'].fillna(value=0)\n",
    "    features_events[index] = features_events[index].merge(ventana_temp.groupby('ref_hash').\\\n",
    "                                              agg({'device_os_version':lambda x: (x.mode())[0]}),\n",
    "                                      left_on='ref_hash',\n",
    "                                      right_index=True,\n",
    "                                      how='outer')"
   ]
  },
  {
   "cell_type": "code",
   "execution_count": 25,
   "metadata": {},
   "outputs": [],
   "source": [
    "for i in range(0,7):\n",
    "    features_events[i] = features_events[i].reset_index().rename(columns={'ref_hash':'device_id'})"
   ]
  },
  {
   "cell_type": "code",
   "execution_count": 26,
   "metadata": {},
   "outputs": [
    {
     "data": {
      "text/html": [
       "<div>\n",
       "<style scoped>\n",
       "    .dataframe tbody tr th:only-of-type {\n",
       "        vertical-align: middle;\n",
       "    }\n",
       "\n",
       "    .dataframe tbody tr th {\n",
       "        vertical-align: top;\n",
       "    }\n",
       "\n",
       "    .dataframe thead th {\n",
       "        text-align: right;\n",
       "    }\n",
       "</style>\n",
       "<table border=\"1\" class=\"dataframe\">\n",
       "  <thead>\n",
       "    <tr style=\"text-align: right;\">\n",
       "      <th></th>\n",
       "      <th>device_id</th>\n",
       "      <th>cantidad_de_eventos_en_ventana</th>\n",
       "      <th>evento_mas_frecuente</th>\n",
       "      <th>aplicacion_mas_usada</th>\n",
       "      <th>tipo_evento</th>\n",
       "      <th>device_os_version</th>\n",
       "    </tr>\n",
       "  </thead>\n",
       "  <tbody>\n",
       "    <tr>\n",
       "      <th>0</th>\n",
       "      <td>41863526108385</td>\n",
       "      <td>88</td>\n",
       "      <td>1</td>\n",
       "      <td>210</td>\n",
       "      <td>4.017674e+18</td>\n",
       "      <td>0.000000e+00</td>\n",
       "    </tr>\n",
       "    <tr>\n",
       "      <th>1</th>\n",
       "      <td>161514654074162</td>\n",
       "      <td>8</td>\n",
       "      <td>23</td>\n",
       "      <td>121</td>\n",
       "      <td>6.081165e+18</td>\n",
       "      <td>0.000000e+00</td>\n",
       "    </tr>\n",
       "    <tr>\n",
       "      <th>2</th>\n",
       "      <td>186034136943920</td>\n",
       "      <td>13</td>\n",
       "      <td>1</td>\n",
       "      <td>210</td>\n",
       "      <td>4.017674e+18</td>\n",
       "      <td>0.000000e+00</td>\n",
       "    </tr>\n",
       "    <tr>\n",
       "      <th>3</th>\n",
       "      <td>360710529886978</td>\n",
       "      <td>3</td>\n",
       "      <td>23</td>\n",
       "      <td>14</td>\n",
       "      <td>6.081165e+18</td>\n",
       "      <td>7.391844e+18</td>\n",
       "    </tr>\n",
       "    <tr>\n",
       "      <th>4</th>\n",
       "      <td>365882020742330</td>\n",
       "      <td>57</td>\n",
       "      <td>15</td>\n",
       "      <td>302</td>\n",
       "      <td>5.500848e+18</td>\n",
       "      <td>0.000000e+00</td>\n",
       "    </tr>\n",
       "  </tbody>\n",
       "</table>\n",
       "</div>"
      ],
      "text/plain": [
       "         device_id  cantidad_de_eventos_en_ventana  evento_mas_frecuente  \\\n",
       "0   41863526108385                              88                     1   \n",
       "1  161514654074162                               8                    23   \n",
       "2  186034136943920                              13                     1   \n",
       "3  360710529886978                               3                    23   \n",
       "4  365882020742330                              57                    15   \n",
       "\n",
       "   aplicacion_mas_usada   tipo_evento  device_os_version  \n",
       "0                   210  4.017674e+18       0.000000e+00  \n",
       "1                   121  6.081165e+18       0.000000e+00  \n",
       "2                   210  4.017674e+18       0.000000e+00  \n",
       "3                    14  6.081165e+18       7.391844e+18  \n",
       "4                   302  5.500848e+18       0.000000e+00  "
      ]
     },
     "execution_count": 26,
     "metadata": {},
     "output_type": "execute_result"
    }
   ],
   "source": [
    "features_events[0].head()"
   ]
  },
  {
   "cell_type": "code",
   "execution_count": 27,
   "metadata": {},
   "outputs": [
    {
     "data": {
      "text/plain": [
       "(166002, 6)"
      ]
     },
     "execution_count": 27,
     "metadata": {},
     "output_type": "execute_result"
    }
   ],
   "source": [
    "features_events[0].shape"
   ]
  },
  {
   "cell_type": "code",
   "execution_count": null,
   "metadata": {},
   "outputs": [],
   "source": []
  },
  {
   "cell_type": "markdown",
   "metadata": {},
   "source": [
    "### Clicks"
   ]
  },
  {
   "cell_type": "code",
   "execution_count": 28,
   "metadata": {},
   "outputs": [],
   "source": [
    "ventanas_clicks = []\n",
    "for i in range(0,7):\n",
    "    ventanas_clicks.append(clicks.loc[(clicks['created'] > fecha_inicio_ventana[i]) & (clicks['created'] < (fecha_inicio_ventana[i] + pd.Timedelta('3 days')))])"
   ]
  },
  {
   "cell_type": "markdown",
   "metadata": {},
   "source": [
    "#### Cantidad de clicks por ventana"
   ]
  },
  {
   "cell_type": "code",
   "execution_count": 29,
   "metadata": {},
   "outputs": [],
   "source": [
    "features_clicks = []\n",
    "\n",
    "for ventana in ventanas_clicks:\n",
    "    features_ventana = ventana.groupby('ref_hash').agg({'ref_hash':'size'})\n",
    "    features_ventana.columns = ['cantidad_de_clicks_en_ventana']\n",
    "    features_clicks.append(features_ventana)"
   ]
  },
  {
   "cell_type": "markdown",
   "metadata": {},
   "source": [
    "#### Tiempo promedio en hacer click"
   ]
  },
  {
   "cell_type": "code",
   "execution_count": 30,
   "metadata": {},
   "outputs": [],
   "source": [
    "# En caso de que sea nulo se llena con tiempo maximo\n",
    "tiempo_maximo = 259200\n",
    "for index, ventana in enumerate(ventanas_clicks):\n",
    "    temp = ventana.groupby('ref_hash').agg({'timeToClick' : 'mean'})\n",
    "    temp.columns = ['tiempo_de_click_promedio']\n",
    "    \n",
    "    features_clicks[index] = features_clicks[index].merge(temp, how='outer', on='ref_hash')\n",
    "    features_clicks[index]['tiempo_de_click_promedio'].fillna(tiempo_maximo, inplace=True)"
   ]
  },
  {
   "cell_type": "markdown",
   "metadata": {},
   "source": [
    "#### Region en pantalla del click"
   ]
  },
  {
   "cell_type": "markdown",
   "metadata": {},
   "source": [
    "Se divide en una cuadricula de 9 sectores.Por un lado: Superior, subdividido en izquierda, centro y derecha; Centro con mismas subdivisiones e Inferior también con mismas subdivisiones."
   ]
  },
  {
   "cell_type": "code",
   "execution_count": 31,
   "metadata": {},
   "outputs": [],
   "source": [
    "#Me quedo con la region mas común para cada dispositivo\n",
    "for index, ventana in enumerate(ventanas_clicks):\n",
    "    ventana_temp = ventana[['ref_hash','touchX','touchY']].fillna(value=-1).groupby('ref_hash')\\\n",
    "                        .agg({'touchX':lambda x: (x.mode())[0],\n",
    "                              'touchY':lambda x: (x.mode())[0]}).reset_index()\n",
    "    ventana_temp['SUP_D'] = 0\n",
    "    ventana_temp['SUP_C'] = 0\n",
    "    ventana_temp['SUP_I'] = 0\n",
    "    ventana_temp['CENT_D'] = 0\n",
    "    ventana_temp['CENT_C'] = 0\n",
    "    ventana_temp['CENT_I'] = 0\n",
    "    ventana_temp['INF_D'] = 0\n",
    "    ventana_temp['INF_C'] = 0\n",
    "    ventana_temp['INF_I'] = 0\n",
    "    ventana_temp.loc[(ventana_temp['touchX']>=0.66)&(ventana_temp['touchY']>=10.66),'SUP_D'] = 1\n",
    "    ventana_temp.loc[(ventana_temp['touchX']<0.66)&(ventana_temp['touchX']>=0.33)&(ventana_temp['touchY']>=10.66),'SUP_C'] = 1\n",
    "    ventana_temp.loc[(ventana_temp['touchX']<0.33)&(ventana_temp['touchX']>=0)&(ventana_temp['touchY']>=10.66),'SUP_I'] = 1\n",
    "    ventana_temp.loc[(ventana_temp['touchX']>=0.66)&(ventana_temp['touchY']>=5.33)&(ventana_temp['touchY']<10.66),'CENT_D'] = 1\n",
    "    ventana_temp.loc[(ventana_temp['touchX']<0.66)&(ventana_temp['touchX']>=0.33)&(ventana_temp['touchY']>=5.33)&(ventana_temp['touchY']<10.66),'CENT_C'] = 1\n",
    "    ventana_temp.loc[(ventana_temp['touchX']<0.33)&(ventana_temp['touchX']>=0)&(ventana_temp['touchY']>=5.33)&(ventana_temp['touchY']<10.66),'CENT_I'] = 1\n",
    "    ventana_temp.loc[(ventana_temp['touchX']>=0.66)&(ventana_temp['touchY']>=0)&(ventana_temp['touchY']<5.33),'INF_D'] = 1\n",
    "    ventana_temp.loc[(ventana_temp['touchX']<0.66)&(ventana_temp['touchX']>=0.33)&(ventana_temp['touchY']>=0)&(ventana_temp['touchY']<5.33),'INF_C'] = 1\n",
    "    ventana_temp.loc[(ventana_temp['touchX']<0.33)&(ventana_temp['touchX']>=0)&(ventana_temp['touchY']>=0)&(ventana_temp['touchY']<5.33),'INF_I'] = 1\n",
    "    \n",
    "    features_clicks[index] = pd.merge(features_clicks[index],\\\n",
    "        ventana_temp[['ref_hash','SUP_D','SUP_C','SUP_I','CENT_D','CENT_C','CENT_I','INF_D','INF_C','INF_I']].drop_duplicates(),\\\n",
    "                              on='ref_hash',how='inner')"
   ]
  },
  {
   "cell_type": "code",
   "execution_count": 32,
   "metadata": {},
   "outputs": [],
   "source": [
    "for i in range(0,7):\n",
    "    features_clicks[i] = features_clicks[i].rename(columns={'ref_hash':'device_id'})"
   ]
  },
  {
   "cell_type": "code",
   "execution_count": 33,
   "metadata": {},
   "outputs": [
    {
     "data": {
      "text/html": [
       "<div>\n",
       "<style scoped>\n",
       "    .dataframe tbody tr th:only-of-type {\n",
       "        vertical-align: middle;\n",
       "    }\n",
       "\n",
       "    .dataframe tbody tr th {\n",
       "        vertical-align: top;\n",
       "    }\n",
       "\n",
       "    .dataframe thead th {\n",
       "        text-align: right;\n",
       "    }\n",
       "</style>\n",
       "<table border=\"1\" class=\"dataframe\">\n",
       "  <thead>\n",
       "    <tr style=\"text-align: right;\">\n",
       "      <th></th>\n",
       "      <th>device_id</th>\n",
       "      <th>cantidad_de_clicks_en_ventana</th>\n",
       "      <th>tiempo_de_click_promedio</th>\n",
       "      <th>SUP_D</th>\n",
       "      <th>SUP_C</th>\n",
       "      <th>SUP_I</th>\n",
       "      <th>CENT_D</th>\n",
       "      <th>CENT_C</th>\n",
       "      <th>CENT_I</th>\n",
       "      <th>INF_D</th>\n",
       "      <th>INF_C</th>\n",
       "      <th>INF_I</th>\n",
       "    </tr>\n",
       "  </thead>\n",
       "  <tbody>\n",
       "    <tr>\n",
       "      <th>0</th>\n",
       "      <td>1461247282174365</td>\n",
       "      <td>1</td>\n",
       "      <td>229.257</td>\n",
       "      <td>0</td>\n",
       "      <td>0</td>\n",
       "      <td>0</td>\n",
       "      <td>0</td>\n",
       "      <td>0</td>\n",
       "      <td>0</td>\n",
       "      <td>1</td>\n",
       "      <td>0</td>\n",
       "      <td>0</td>\n",
       "    </tr>\n",
       "    <tr>\n",
       "      <th>1</th>\n",
       "      <td>5470466329076030</td>\n",
       "      <td>1</td>\n",
       "      <td>259200.000</td>\n",
       "      <td>0</td>\n",
       "      <td>0</td>\n",
       "      <td>0</td>\n",
       "      <td>0</td>\n",
       "      <td>0</td>\n",
       "      <td>0</td>\n",
       "      <td>0</td>\n",
       "      <td>0</td>\n",
       "      <td>0</td>\n",
       "    </tr>\n",
       "    <tr>\n",
       "      <th>2</th>\n",
       "      <td>5534899846690585</td>\n",
       "      <td>1</td>\n",
       "      <td>10.223</td>\n",
       "      <td>0</td>\n",
       "      <td>0</td>\n",
       "      <td>0</td>\n",
       "      <td>0</td>\n",
       "      <td>0</td>\n",
       "      <td>0</td>\n",
       "      <td>1</td>\n",
       "      <td>0</td>\n",
       "      <td>0</td>\n",
       "    </tr>\n",
       "    <tr>\n",
       "      <th>3</th>\n",
       "      <td>7429113196145773</td>\n",
       "      <td>1</td>\n",
       "      <td>259200.000</td>\n",
       "      <td>0</td>\n",
       "      <td>0</td>\n",
       "      <td>0</td>\n",
       "      <td>0</td>\n",
       "      <td>0</td>\n",
       "      <td>0</td>\n",
       "      <td>1</td>\n",
       "      <td>0</td>\n",
       "      <td>0</td>\n",
       "    </tr>\n",
       "    <tr>\n",
       "      <th>4</th>\n",
       "      <td>8577232270715133</td>\n",
       "      <td>1</td>\n",
       "      <td>259200.000</td>\n",
       "      <td>0</td>\n",
       "      <td>0</td>\n",
       "      <td>0</td>\n",
       "      <td>0</td>\n",
       "      <td>0</td>\n",
       "      <td>0</td>\n",
       "      <td>0</td>\n",
       "      <td>0</td>\n",
       "      <td>0</td>\n",
       "    </tr>\n",
       "  </tbody>\n",
       "</table>\n",
       "</div>"
      ],
      "text/plain": [
       "          device_id  cantidad_de_clicks_en_ventana  tiempo_de_click_promedio  \\\n",
       "0  1461247282174365                              1                   229.257   \n",
       "1  5470466329076030                              1                259200.000   \n",
       "2  5534899846690585                              1                    10.223   \n",
       "3  7429113196145773                              1                259200.000   \n",
       "4  8577232270715133                              1                259200.000   \n",
       "\n",
       "   SUP_D  SUP_C  SUP_I  CENT_D  CENT_C  CENT_I  INF_D  INF_C  INF_I  \n",
       "0      0      0      0       0       0       0      1      0      0  \n",
       "1      0      0      0       0       0       0      0      0      0  \n",
       "2      0      0      0       0       0       0      1      0      0  \n",
       "3      0      0      0       0       0       0      1      0      0  \n",
       "4      0      0      0       0       0       0      0      0      0  "
      ]
     },
     "execution_count": 33,
     "metadata": {},
     "output_type": "execute_result"
    }
   ],
   "source": [
    "features_clicks[0].head()"
   ]
  },
  {
   "cell_type": "code",
   "execution_count": 34,
   "metadata": {},
   "outputs": [
    {
     "data": {
      "text/plain": [
       "(9185, 12)"
      ]
     },
     "execution_count": 34,
     "metadata": {},
     "output_type": "execute_result"
    }
   ],
   "source": [
    "features_clicks[0].shape"
   ]
  },
  {
   "cell_type": "markdown",
   "metadata": {},
   "source": [
    "### Installs"
   ]
  },
  {
   "cell_type": "code",
   "execution_count": 35,
   "metadata": {},
   "outputs": [],
   "source": [
    "ventanas_installs = []\n",
    "for i in range(0,7):\n",
    "    ventanas_installs.append(installs.loc[(installs['created'] > fecha_inicio_ventana[i]) & (installs['created'] < (fecha_inicio_ventana[i] + pd.Timedelta('3 days')))])"
   ]
  },
  {
   "cell_type": "markdown",
   "metadata": {},
   "source": [
    "#### Cantidad de instalaciones por ventana"
   ]
  },
  {
   "cell_type": "code",
   "execution_count": 36,
   "metadata": {},
   "outputs": [],
   "source": [
    "features_installs = []\n",
    "\n",
    "for ventana in ventanas_installs:\n",
    "    features_ventana = ventana.groupby('ref_hash').agg({'ref_hash':'size'})\n",
    "    features_ventana.columns = ['cantidad_de_instalaciones_en_ventana']\n",
    "    features_installs.append(features_ventana)"
   ]
  },
  {
   "cell_type": "code",
   "execution_count": 37,
   "metadata": {},
   "outputs": [],
   "source": [
    "#Las columnas kind y wifi \"rompen\" el fit transform()\n",
    "# OneHotEncoder().fit_transform(features_por_ventana[0])\n",
    "\n",
    "for index, ventana in enumerate(ventanas_installs):\n",
    "    ventana['Wifi_cat'] = ventana['Wifi_cat'].cat.add_categories([''])\n",
    "    ventana['kind'].fillna('',inplace=True)\n",
    "    features_ventana = ventana.groupby('ref_hash').agg({'Wifi_cat':lambda x: (x.mode())[0],\n",
    "                                                        'kind':lambda x: (x.mode())[0]})\n",
    "    \n",
    "    features_ventana.columns = ['wifi','kind']\n",
    "    \n",
    "    features_installs[index] = features_installs[index].merge(features_ventana,   \n",
    "                                                              left_on='ref_hash',\n",
    "                                                              right_index=True,\n",
    "                                                              how='outer')\n",
    "    features_installs[index]['wifi'].fillna('', inplace=True)\n",
    "    features_installs[index]['kind'].fillna('', inplace=True)"
   ]
  },
  {
   "cell_type": "code",
   "execution_count": 38,
   "metadata": {},
   "outputs": [],
   "source": [
    "for i in range (0,7):\n",
    "    ventanas_installs[i] =pd.merge(ventanas_installs[i],\n",
    "             (clicks.loc[clicks['created']<fecha_inicio_ventana[i]].groupby('ref_hash').size().reset_index(name='cant_clicks_previos')),\n",
    "             on='ref_hash',\n",
    "             how='outer')\n",
    "    ventanas_installs[i]['cant_clicks_previos'].fillna(0,inplace=True)"
   ]
  },
  {
   "cell_type": "markdown",
   "metadata": {},
   "source": [
    "#### Relación cantidad de instalacions / cantidad de eventos por dispositivo"
   ]
  },
  {
   "cell_type": "code",
   "execution_count": 39,
   "metadata": {},
   "outputs": [],
   "source": [
    "for i in range(0,7):\n",
    "    feature_porc = pd.merge(ventanas_events[i].groupby('ref_hash').size().reset_index(name='cantidad_eventos_x_dev'),\n",
    "                       ventanas_installs[i].groupby('ref_hash').size().reset_index(name='cantidad_inst_x_dev'),\n",
    "                       on='ref_hash',\n",
    "                       how='inner')\n",
    "    feature_porc['Porc_I-E'] =  feature_porc['cantidad_inst_x_dev'] / feature_porc['cantidad_eventos_x_dev']\n",
    "    feature_porc.set_index('ref_hash',inplace=True)\n",
    "    feature_porc['Porc_I-E'] = feature_porc['Porc_I-E'].astype('float16')\n",
    "    del feature_porc['cantidad_inst_x_dev'] \n",
    "    del feature_porc['cantidad_eventos_x_dev']\n",
    "    features_installs[i] = features_installs[i].merge(feature_porc, how='outer', left_index=True, right_index=True)\n",
    "    features_installs[i].fillna(0, inplace=True)"
   ]
  },
  {
   "cell_type": "markdown",
   "metadata": {},
   "source": [
    "#### Tipo de instalación open\n",
    "Notamos que los tipos de instalaciones que más se repiten son las de tipo open. Creamos un feature para determinar si el dispositivo tiene ese tipo de instalación o no."
   ]
  },
  {
   "cell_type": "code",
   "execution_count": 51,
   "metadata": {},
   "outputs": [],
   "source": [
    "for i in range(0,7):\n",
    "    temp = ventanas_installs[i][['ref_hash','kind']]\n",
    "    temp['instalacion_open'] = ventanas_installs[i]['kind'].str.lower().str.contains('open')\n",
    "    temp = temp.loc[temp['instalacion_open']== True][['ref_hash','instalacion_open']].sort_values(by='ref_hash').drop_duplicates()\n",
    "    temp.set_index('ref_hash',inplace=True)\n",
    "    \n",
    "    features_installs[i] = features_installs[i].merge(temp,left_index=True,right_index=True, how='outer')\n",
    "    features_installs[i]['instalacion_open'].fillna(False, inplace=True)"
   ]
  },
  {
   "cell_type": "code",
   "execution_count": 52,
   "metadata": {},
   "outputs": [],
   "source": [
    "for i in range(0,7):\n",
    "    features_installs[i] = features_installs[i].reset_index().rename(columns={'ref_hash':'device_id'})"
   ]
  },
  {
   "cell_type": "code",
   "execution_count": 53,
   "metadata": {},
   "outputs": [
    {
     "data": {
      "text/html": [
       "<div>\n",
       "<style scoped>\n",
       "    .dataframe tbody tr th:only-of-type {\n",
       "        vertical-align: middle;\n",
       "    }\n",
       "\n",
       "    .dataframe tbody tr th {\n",
       "        vertical-align: top;\n",
       "    }\n",
       "\n",
       "    .dataframe thead th {\n",
       "        text-align: right;\n",
       "    }\n",
       "</style>\n",
       "<table border=\"1\" class=\"dataframe\">\n",
       "  <thead>\n",
       "    <tr style=\"text-align: right;\">\n",
       "      <th></th>\n",
       "      <th>device_id</th>\n",
       "      <th>cantidad_de_instalaciones_en_ventana</th>\n",
       "      <th>wifi</th>\n",
       "      <th>kind</th>\n",
       "      <th>Porc_I-E</th>\n",
       "      <th>instalacion_open</th>\n",
       "    </tr>\n",
       "  </thead>\n",
       "  <tbody>\n",
       "    <tr>\n",
       "      <th>0</th>\n",
       "      <td>41863526108385</td>\n",
       "      <td>4.0</td>\n",
       "      <td>Sin Wifi</td>\n",
       "      <td></td>\n",
       "      <td>0.045441</td>\n",
       "      <td>True</td>\n",
       "    </tr>\n",
       "    <tr>\n",
       "      <th>1</th>\n",
       "      <td>135153013040192</td>\n",
       "      <td>1.0</td>\n",
       "      <td>Sin Definir</td>\n",
       "      <td></td>\n",
       "      <td>0.000000</td>\n",
       "      <td>False</td>\n",
       "    </tr>\n",
       "    <tr>\n",
       "      <th>2</th>\n",
       "      <td>186034136943920</td>\n",
       "      <td>1.0</td>\n",
       "      <td>Sin Definir</td>\n",
       "      <td>list view</td>\n",
       "      <td>0.076904</td>\n",
       "      <td>False</td>\n",
       "    </tr>\n",
       "    <tr>\n",
       "      <th>3</th>\n",
       "      <td>365882020742330</td>\n",
       "      <td>1.0</td>\n",
       "      <td>Sin Wifi</td>\n",
       "      <td></td>\n",
       "      <td>0.017548</td>\n",
       "      <td>False</td>\n",
       "    </tr>\n",
       "    <tr>\n",
       "      <th>4</th>\n",
       "      <td>519199987760489</td>\n",
       "      <td>1.0</td>\n",
       "      <td>Con Wifi</td>\n",
       "      <td></td>\n",
       "      <td>0.500000</td>\n",
       "      <td>False</td>\n",
       "    </tr>\n",
       "  </tbody>\n",
       "</table>\n",
       "</div>"
      ],
      "text/plain": [
       "         device_id  cantidad_de_instalaciones_en_ventana         wifi  \\\n",
       "0   41863526108385                                   4.0     Sin Wifi   \n",
       "1  135153013040192                                   1.0  Sin Definir   \n",
       "2  186034136943920                                   1.0  Sin Definir   \n",
       "3  365882020742330                                   1.0     Sin Wifi   \n",
       "4  519199987760489                                   1.0     Con Wifi   \n",
       "\n",
       "        kind  Porc_I-E  instalacion_open  \n",
       "0             0.045441              True  \n",
       "1             0.000000             False  \n",
       "2  list view  0.076904             False  \n",
       "3             0.017548             False  \n",
       "4             0.500000             False  "
      ]
     },
     "execution_count": 53,
     "metadata": {},
     "output_type": "execute_result"
    }
   ],
   "source": [
    "features_installs[0].head()"
   ]
  },
  {
   "cell_type": "code",
   "execution_count": 54,
   "metadata": {},
   "outputs": [
    {
     "data": {
      "text/plain": [
       "(134114, 6)"
      ]
     },
     "execution_count": 54,
     "metadata": {},
     "output_type": "execute_result"
    }
   ],
   "source": [
    "features_installs[0].shape"
   ]
  },
  {
   "cell_type": "code",
   "execution_count": null,
   "metadata": {},
   "outputs": [],
   "source": []
  },
  {
   "cell_type": "code",
   "execution_count": null,
   "metadata": {},
   "outputs": [],
   "source": []
  },
  {
   "cell_type": "markdown",
   "metadata": {},
   "source": [
    "## Mergeo todos los features por dispositivo"
   ]
  },
  {
   "cell_type": "code",
   "execution_count": 55,
   "metadata": {},
   "outputs": [],
   "source": [
    "features_por_ventana = []\n",
    "\n",
    "for i in range(0,7):\n",
    "    features_por_ventana.append(features_auctions[i].merge(features_clicks[i],on='device_id',how='outer'))\n",
    "    \n",
    "    features_por_ventana[i] = features_por_ventana[i].merge(features_installs[i],on='device_id',how='outer')\n",
    "    \n",
    "    features_por_ventana[i] = features_por_ventana[i].merge(features_events[i],on='device_id',how='outer')\n",
    "    \n",
    "    features_por_ventana[i].fillna(0,inplace=True)\n",
    "    \n",
    "    features_por_ventana[i] = pd.merge(labels[i][['device_id']],features_por_ventana[i],on='device_id',how='inner')\n",
    "    \n",
    "    features_por_ventana[i].sort_values(by='device_id',inplace=True)"
   ]
  },
  {
   "cell_type": "code",
   "execution_count": 56,
   "metadata": {},
   "outputs": [
    {
     "data": {
      "text/html": [
       "<div>\n",
       "<style scoped>\n",
       "    .dataframe tbody tr th:only-of-type {\n",
       "        vertical-align: middle;\n",
       "    }\n",
       "\n",
       "    .dataframe tbody tr th {\n",
       "        vertical-align: top;\n",
       "    }\n",
       "\n",
       "    .dataframe thead th {\n",
       "        text-align: right;\n",
       "    }\n",
       "</style>\n",
       "<table border=\"1\" class=\"dataframe\">\n",
       "  <thead>\n",
       "    <tr style=\"text-align: right;\">\n",
       "      <th></th>\n",
       "      <th>device_id</th>\n",
       "      <th>cantidad_de_subastas_en_ventana</th>\n",
       "      <th>cantidad_de_clicks_en_ventana</th>\n",
       "      <th>tiempo_de_click_promedio</th>\n",
       "      <th>SUP_D</th>\n",
       "      <th>SUP_C</th>\n",
       "      <th>SUP_I</th>\n",
       "      <th>CENT_D</th>\n",
       "      <th>CENT_C</th>\n",
       "      <th>CENT_I</th>\n",
       "      <th>...</th>\n",
       "      <th>cantidad_de_instalaciones_en_ventana</th>\n",
       "      <th>wifi</th>\n",
       "      <th>kind</th>\n",
       "      <th>Porc_I-E</th>\n",
       "      <th>instalacion_open</th>\n",
       "      <th>cantidad_de_eventos_en_ventana</th>\n",
       "      <th>evento_mas_frecuente</th>\n",
       "      <th>aplicacion_mas_usada</th>\n",
       "      <th>tipo_evento</th>\n",
       "      <th>device_os_version</th>\n",
       "    </tr>\n",
       "  </thead>\n",
       "  <tbody>\n",
       "    <tr>\n",
       "      <th>257007</th>\n",
       "      <td>41863526108385</td>\n",
       "      <td>35.0</td>\n",
       "      <td>0.0</td>\n",
       "      <td>0.0</td>\n",
       "      <td>0.0</td>\n",
       "      <td>0.0</td>\n",
       "      <td>0.0</td>\n",
       "      <td>0.0</td>\n",
       "      <td>0.0</td>\n",
       "      <td>0.0</td>\n",
       "      <td>...</td>\n",
       "      <td>4.0</td>\n",
       "      <td>Sin Wifi</td>\n",
       "      <td></td>\n",
       "      <td>0.045441</td>\n",
       "      <td>True</td>\n",
       "      <td>88.0</td>\n",
       "      <td>1.0</td>\n",
       "      <td>210.0</td>\n",
       "      <td>4.017674e+18</td>\n",
       "      <td>0.0</td>\n",
       "    </tr>\n",
       "    <tr>\n",
       "      <th>285766</th>\n",
       "      <td>135153013040192</td>\n",
       "      <td>8.0</td>\n",
       "      <td>0.0</td>\n",
       "      <td>0.0</td>\n",
       "      <td>0.0</td>\n",
       "      <td>0.0</td>\n",
       "      <td>0.0</td>\n",
       "      <td>0.0</td>\n",
       "      <td>0.0</td>\n",
       "      <td>0.0</td>\n",
       "      <td>...</td>\n",
       "      <td>1.0</td>\n",
       "      <td>Sin Definir</td>\n",
       "      <td></td>\n",
       "      <td>0.000000</td>\n",
       "      <td>False</td>\n",
       "      <td>0.0</td>\n",
       "      <td>0.0</td>\n",
       "      <td>0.0</td>\n",
       "      <td>0.000000e+00</td>\n",
       "      <td>0.0</td>\n",
       "    </tr>\n",
       "    <tr>\n",
       "      <th>70944</th>\n",
       "      <td>161514654074162</td>\n",
       "      <td>6.0</td>\n",
       "      <td>0.0</td>\n",
       "      <td>0.0</td>\n",
       "      <td>0.0</td>\n",
       "      <td>0.0</td>\n",
       "      <td>0.0</td>\n",
       "      <td>0.0</td>\n",
       "      <td>0.0</td>\n",
       "      <td>0.0</td>\n",
       "      <td>...</td>\n",
       "      <td>0.0</td>\n",
       "      <td>0</td>\n",
       "      <td>0</td>\n",
       "      <td>0.000000</td>\n",
       "      <td>0</td>\n",
       "      <td>8.0</td>\n",
       "      <td>23.0</td>\n",
       "      <td>121.0</td>\n",
       "      <td>6.081165e+18</td>\n",
       "      <td>0.0</td>\n",
       "    </tr>\n",
       "    <tr>\n",
       "      <th>316713</th>\n",
       "      <td>181891380775191</td>\n",
       "      <td>1.0</td>\n",
       "      <td>0.0</td>\n",
       "      <td>0.0</td>\n",
       "      <td>0.0</td>\n",
       "      <td>0.0</td>\n",
       "      <td>0.0</td>\n",
       "      <td>0.0</td>\n",
       "      <td>0.0</td>\n",
       "      <td>0.0</td>\n",
       "      <td>...</td>\n",
       "      <td>0.0</td>\n",
       "      <td>0</td>\n",
       "      <td>0</td>\n",
       "      <td>0.000000</td>\n",
       "      <td>0</td>\n",
       "      <td>0.0</td>\n",
       "      <td>0.0</td>\n",
       "      <td>0.0</td>\n",
       "      <td>0.000000e+00</td>\n",
       "      <td>0.0</td>\n",
       "    </tr>\n",
       "    <tr>\n",
       "      <th>155213</th>\n",
       "      <td>186034136943920</td>\n",
       "      <td>7.0</td>\n",
       "      <td>0.0</td>\n",
       "      <td>0.0</td>\n",
       "      <td>0.0</td>\n",
       "      <td>0.0</td>\n",
       "      <td>0.0</td>\n",
       "      <td>0.0</td>\n",
       "      <td>0.0</td>\n",
       "      <td>0.0</td>\n",
       "      <td>...</td>\n",
       "      <td>1.0</td>\n",
       "      <td>Sin Definir</td>\n",
       "      <td>list view</td>\n",
       "      <td>0.076904</td>\n",
       "      <td>False</td>\n",
       "      <td>13.0</td>\n",
       "      <td>1.0</td>\n",
       "      <td>210.0</td>\n",
       "      <td>4.017674e+18</td>\n",
       "      <td>0.0</td>\n",
       "    </tr>\n",
       "  </tbody>\n",
       "</table>\n",
       "<p>5 rows × 23 columns</p>\n",
       "</div>"
      ],
      "text/plain": [
       "              device_id  cantidad_de_subastas_en_ventana  \\\n",
       "257007   41863526108385                             35.0   \n",
       "285766  135153013040192                              8.0   \n",
       "70944   161514654074162                              6.0   \n",
       "316713  181891380775191                              1.0   \n",
       "155213  186034136943920                              7.0   \n",
       "\n",
       "        cantidad_de_clicks_en_ventana  tiempo_de_click_promedio  SUP_D  SUP_C  \\\n",
       "257007                            0.0                       0.0    0.0    0.0   \n",
       "285766                            0.0                       0.0    0.0    0.0   \n",
       "70944                             0.0                       0.0    0.0    0.0   \n",
       "316713                            0.0                       0.0    0.0    0.0   \n",
       "155213                            0.0                       0.0    0.0    0.0   \n",
       "\n",
       "        SUP_I  CENT_D  CENT_C  CENT_I        ...          \\\n",
       "257007    0.0     0.0     0.0     0.0        ...           \n",
       "285766    0.0     0.0     0.0     0.0        ...           \n",
       "70944     0.0     0.0     0.0     0.0        ...           \n",
       "316713    0.0     0.0     0.0     0.0        ...           \n",
       "155213    0.0     0.0     0.0     0.0        ...           \n",
       "\n",
       "        cantidad_de_instalaciones_en_ventana         wifi       kind  \\\n",
       "257007                                   4.0     Sin Wifi              \n",
       "285766                                   1.0  Sin Definir              \n",
       "70944                                    0.0            0          0   \n",
       "316713                                   0.0            0          0   \n",
       "155213                                   1.0  Sin Definir  list view   \n",
       "\n",
       "        Porc_I-E instalacion_open cantidad_de_eventos_en_ventana  \\\n",
       "257007  0.045441             True                           88.0   \n",
       "285766  0.000000            False                            0.0   \n",
       "70944   0.000000                0                            8.0   \n",
       "316713  0.000000                0                            0.0   \n",
       "155213  0.076904            False                           13.0   \n",
       "\n",
       "        evento_mas_frecuente aplicacion_mas_usada   tipo_evento  \\\n",
       "257007                   1.0                210.0  4.017674e+18   \n",
       "285766                   0.0                  0.0  0.000000e+00   \n",
       "70944                   23.0                121.0  6.081165e+18   \n",
       "316713                   0.0                  0.0  0.000000e+00   \n",
       "155213                   1.0                210.0  4.017674e+18   \n",
       "\n",
       "        device_os_version  \n",
       "257007                0.0  \n",
       "285766                0.0  \n",
       "70944                 0.0  \n",
       "316713                0.0  \n",
       "155213                0.0  \n",
       "\n",
       "[5 rows x 23 columns]"
      ]
     },
     "execution_count": 56,
     "metadata": {},
     "output_type": "execute_result"
    }
   ],
   "source": [
    "features_por_ventana[0].head()"
   ]
  },
  {
   "cell_type": "code",
   "execution_count": 57,
   "metadata": {},
   "outputs": [
    {
     "data": {
      "text/plain": [
       "(385959, 23)"
      ]
     },
     "execution_count": 57,
     "metadata": {},
     "output_type": "execute_result"
    }
   ],
   "source": [
    "features_por_ventana[0].shape"
   ]
  },
  {
   "cell_type": "code",
   "execution_count": null,
   "metadata": {},
   "outputs": [],
   "source": []
  },
  {
   "cell_type": "markdown",
   "metadata": {},
   "source": [
    "# Guardo los dataframes de features y labels"
   ]
  },
  {
   "cell_type": "code",
   "execution_count": 58,
   "metadata": {},
   "outputs": [],
   "source": [
    "for i in range(0,7):\n",
    "    labels[i].to_csv('labels_v'+str(i+1)+'.csv')\n",
    "    features_por_ventana[i].to_csv('features_v'+str(i+1)+'.csv')  "
   ]
  },
  {
   "cell_type": "code",
   "execution_count": null,
   "metadata": {},
   "outputs": [],
   "source": []
  },
  {
   "cell_type": "code",
   "execution_count": null,
   "metadata": {},
   "outputs": [],
   "source": []
  },
  {
   "cell_type": "code",
   "execution_count": null,
   "metadata": {},
   "outputs": [],
   "source": []
  },
  {
   "cell_type": "code",
   "execution_count": null,
   "metadata": {},
   "outputs": [],
   "source": []
  },
  {
   "cell_type": "code",
   "execution_count": null,
   "metadata": {},
   "outputs": [],
   "source": []
  },
  {
   "cell_type": "code",
   "execution_count": null,
   "metadata": {},
   "outputs": [],
   "source": []
  },
  {
   "cell_type": "code",
   "execution_count": null,
   "metadata": {},
   "outputs": [],
   "source": []
  },
  {
   "cell_type": "code",
   "execution_count": null,
   "metadata": {},
   "outputs": [],
   "source": []
  },
  {
   "cell_type": "code",
   "execution_count": null,
   "metadata": {},
   "outputs": [],
   "source": []
  },
  {
   "cell_type": "code",
   "execution_count": null,
   "metadata": {},
   "outputs": [],
   "source": []
  },
  {
   "cell_type": "code",
   "execution_count": null,
   "metadata": {},
   "outputs": [],
   "source": []
  },
  {
   "cell_type": "code",
   "execution_count": null,
   "metadata": {},
   "outputs": [],
   "source": []
  },
  {
   "cell_type": "code",
   "execution_count": null,
   "metadata": {},
   "outputs": [],
   "source": []
  }
 ],
 "metadata": {
  "kernelspec": {
   "display_name": "Python 3",
   "language": "python",
   "name": "python3"
  },
  "language_info": {
   "codemirror_mode": {
    "name": "ipython",
    "version": 3
   },
   "file_extension": ".py",
   "mimetype": "text/x-python",
   "name": "python",
   "nbconvert_exporter": "python",
   "pygments_lexer": "ipython3",
   "version": "3.7.1"
  }
 },
 "nbformat": 4,
 "nbformat_minor": 2
}
