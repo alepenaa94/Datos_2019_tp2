{
 "cells": [
  {
   "cell_type": "code",
   "execution_count": 1,
   "metadata": {},
   "outputs": [],
   "source": [
    "import pandas as pd\n",
    "import numpy as np\n",
    "import matplotlib.pyplot as plt\n",
    "import matplotlib.colors as clr\n",
    "import matplotlib.dates as md\n",
    "import seaborn as sns\n",
    "import datetime as datetime\n",
    "import numpy as np\n",
    "import os\n",
    "\n",
    "%matplotlib inline\n",
    "\n",
    "plt.style.use('default')\n",
    "\n",
    "sns.set(style=\"whitegrid\")\n",
    "\n",
    "import warnings \n",
    "warnings.filterwarnings('ignore')\n",
    "\n",
    "my_colors = plt.rcParams['axes.prop_cycle'].by_key()['color']"
   ]
  },
  {
   "cell_type": "code",
   "execution_count": 2,
   "metadata": {},
   "outputs": [],
   "source": [
    "if '__file__' in locals():\n",
    "    current_folder = os.path.dirname(os.path.abspath(__file__))\n",
    "else:\n",
    "    current_folder = os.getcwd()\n",
    "\n",
    "Limpieza_Clicks = '\"{}\"'.format(os.path.join(current_folder, '..', 'Notebook_limpieza', 'Limpieza_Clicks.ipynb'))\n",
    "Limpieza_Auctions = '\"{}\"'.format(os.path.join(current_folder, '..', 'Notebook_limpieza', 'Limpieza_Auctions.ipynb'))\n",
    "Limpieza_Installs = '\"{}\"'.format(os.path.join(current_folder, '..', 'Notebook_limpieza', 'Limpieza_Installs.ipynb'))\n",
    "Limpieza_Events = '\"{}\"'.format(os.path.join(current_folder, '..', 'Notebook_limpieza', 'Limpieza_Events.ipynb'))"
   ]
  },
  {
   "cell_type": "code",
   "execution_count": 3,
   "metadata": {},
   "outputs": [],
   "source": [
    "%run $Limpieza_Clicks\n",
    "%run $Limpieza_Auctions\n",
    "%run $Limpieza_Installs\n",
    "%run $Limpieza_Events"
   ]
  },
  {
   "cell_type": "markdown",
   "metadata": {},
   "source": [
    "# Cálculo del St"
   ]
  },
  {
   "cell_type": "code",
   "execution_count": 510,
   "metadata": {},
   "outputs": [],
   "source": [
    "training_set = auctions\n",
    "training_set.sort_values(ascending=True,by='date',inplace=True)"
   ]
  },
  {
   "cell_type": "code",
   "execution_count": 511,
   "metadata": {},
   "outputs": [],
   "source": [
    "#Separamos el set de datos en \"ventanas\" de 3 días cada una.\n",
    "ventana1 = training_set.loc[(training_set['date'] > pd.to_datetime('2019-04-18')) & (training_set['date'] < pd.to_datetime('2019-04-21'))]\n",
    "ventana2 = training_set.loc[(training_set['date'] > pd.to_datetime('2019-04-19')) & (training_set['date'] < pd.to_datetime('2019-04-22'))]\n",
    "ventana3 = training_set.loc[(training_set['date'] > pd.to_datetime('2019-04-20')) & (training_set['date'] < pd.to_datetime('2019-04-23'))]\n",
    "ventana4 = training_set.loc[(training_set['date'] > pd.to_datetime('2019-04-21')) & (training_set['date'] < pd.to_datetime('2019-04-24'))]\n",
    "ventana5 = training_set.loc[(training_set['date'] > pd.to_datetime('2019-04-22')) & (training_set['date'] < pd.to_datetime('2019-04-25'))]\n",
    "ventana6 = training_set.loc[(training_set['date'] > pd.to_datetime('2019-04-23')) & (training_set['date'] < pd.to_datetime('2019-04-26'))]\n",
    "ventana7 = training_set.loc[(training_set['date'] > pd.to_datetime('2019-04-24')) & (training_set['date'] < pd.to_datetime('2019-04-27'))]"
   ]
  },
  {
   "cell_type": "code",
   "execution_count": 512,
   "metadata": {},
   "outputs": [],
   "source": [
    "fecha_iv1 = pd.to_datetime('2019-04-18')\n",
    "fecha_iv2 = pd.to_datetime('2019-04-19')\n",
    "fecha_iv3 = pd.to_datetime('2019-04-20')\n",
    "fecha_iv4 = pd.to_datetime('2019-04-21')\n",
    "fecha_iv5 = pd.to_datetime('2019-04-22')\n",
    "fecha_iv6 = pd.to_datetime('2019-04-23')\n",
    "fecha_iv7 = pd.to_datetime('2019-04-24')\n",
    "\n",
    "ventana1['st'] = (ventana1.groupby('device_id')['date'].transform(min) -  fecha_iv1).dt.total_seconds()\n",
    "ventana2['st'] = (ventana2.groupby('device_id')['date'].transform(min) -  fecha_iv2).dt.total_seconds()\n",
    "ventana3['st'] = (ventana3.groupby('device_id')['date'].transform(min) -  fecha_iv3).dt.total_seconds()\n",
    "ventana4['st'] = (ventana4.groupby('device_id')['date'].transform(min) -  fecha_iv4).dt.total_seconds()\n",
    "ventana5['st'] = (ventana5.groupby('device_id')['date'].transform(min) -  fecha_iv5).dt.total_seconds()\n",
    "ventana6['st'] = (ventana6.groupby('device_id')['date'].transform(min) -  fecha_iv6).dt.total_seconds()\n",
    "ventana7['st'] = (ventana7.groupby('device_id')['date'].transform(min) -  fecha_iv7).dt.total_seconds()"
   ]
  },
  {
   "cell_type": "code",
   "execution_count": 513,
   "metadata": {},
   "outputs": [],
   "source": [
    "label1 = ventana1[['device_id','st']].drop_duplicates()"
   ]
  },
  {
   "cell_type": "code",
   "execution_count": 514,
   "metadata": {},
   "outputs": [],
   "source": [
    "label2 = ventana2[['device_id','st']].drop_duplicates()"
   ]
  },
  {
   "cell_type": "code",
   "execution_count": 515,
   "metadata": {},
   "outputs": [],
   "source": [
    "label3 = ventana3[['device_id','st']].drop_duplicates()"
   ]
  },
  {
   "cell_type": "code",
   "execution_count": 516,
   "metadata": {},
   "outputs": [],
   "source": [
    "label4 = ventana4[['device_id','st']].drop_duplicates()"
   ]
  },
  {
   "cell_type": "code",
   "execution_count": 517,
   "metadata": {},
   "outputs": [],
   "source": [
    "label5 = ventana5[['device_id','st']].drop_duplicates()"
   ]
  },
  {
   "cell_type": "markdown",
   "metadata": {},
   "source": [
    "# Cálculo del Sc"
   ]
  },
  {
   "cell_type": "code",
   "execution_count": 518,
   "metadata": {},
   "outputs": [],
   "source": [
    "training_set = installs\n",
    "training_set.sort_values(ascending=True,by='created',inplace=True)"
   ]
  },
  {
   "cell_type": "code",
   "execution_count": 519,
   "metadata": {},
   "outputs": [],
   "source": [
    "#Separamos el set de datos en \"ventanas\" de 3 días cada una.\n",
    "ventana1 = training_set.loc[(training_set['created'] > pd.to_datetime('2019-04-18')) & (training_set['created'] < pd.to_datetime('2019-04-21'))]\n",
    "ventana2 = training_set.loc[(training_set['created'] > pd.to_datetime('2019-04-19')) & (training_set['created'] < pd.to_datetime('2019-04-22'))]\n",
    "ventana3 = training_set.loc[(training_set['created'] > pd.to_datetime('2019-04-20')) & (training_set['created'] < pd.to_datetime('2019-04-23'))]\n",
    "ventana4 = training_set.loc[(training_set['created'] > pd.to_datetime('2019-04-21')) & (training_set['created'] < pd.to_datetime('2019-04-24'))]\n",
    "ventana5 = training_set.loc[(training_set['created'] > pd.to_datetime('2019-04-22')) & (training_set['created'] < pd.to_datetime('2019-04-25'))]\n",
    "ventana6 = training_set.loc[(training_set['created'] > pd.to_datetime('2019-04-23')) & (training_set['created'] < pd.to_datetime('2019-04-26'))]\n",
    "ventana7 = training_set.loc[(training_set['created'] > pd.to_datetime('2019-04-24')) & (training_set['created'] < pd.to_datetime('2019-04-27'))]"
   ]
  },
  {
   "cell_type": "code",
   "execution_count": 520,
   "metadata": {},
   "outputs": [],
   "source": [
    "fecha_iv1 = pd.to_datetime('2019-04-18')\n",
    "fecha_iv2 = pd.to_datetime('2019-04-19')\n",
    "fecha_iv3 = pd.to_datetime('2019-04-20')\n",
    "fecha_iv4 = pd.to_datetime('2019-04-21')\n",
    "fecha_iv5 = pd.to_datetime('2019-04-22')\n",
    "fecha_iv6 = pd.to_datetime('2019-04-23')\n",
    "fecha_iv7 = pd.to_datetime('2019-04-24')\n",
    "\n",
    "ventana1['sc'] = (ventana1.groupby('ref_hash')['created'].transform(min) -  fecha_iv1).dt.total_seconds()\n",
    "ventana2['sc'] = (ventana2.groupby('ref_hash')['created'].transform(min) -  fecha_iv2).dt.total_seconds()\n",
    "ventana3['sc'] = (ventana3.groupby('ref_hash')['created'].transform(min) -  fecha_iv3).dt.total_seconds()\n",
    "ventana4['sc'] = (ventana4.groupby('ref_hash')['created'].transform(min) -  fecha_iv4).dt.total_seconds()\n",
    "ventana5['sc'] = (ventana5.groupby('ref_hash')['created'].transform(min) -  fecha_iv5).dt.total_seconds()\n",
    "ventana6['sc'] = (ventana6.groupby('ref_hash')['created'].transform(min) -  fecha_iv6).dt.total_seconds()\n",
    "ventana7['sc'] = (ventana7.groupby('ref_hash')['created'].transform(min) -  fecha_iv7).dt.total_seconds()"
   ]
  },
  {
   "cell_type": "code",
   "execution_count": 521,
   "metadata": {},
   "outputs": [],
   "source": [
    "label1 = pd.merge(label1,ventana1[['ref_hash','sc']].drop_duplicates(),left_on='device_id',right_on='ref_hash',how='inner')  \n",
    "del label1['ref_hash']"
   ]
  },
  {
   "cell_type": "code",
   "execution_count": 522,
   "metadata": {},
   "outputs": [],
   "source": [
    "label2 = pd.merge(label2,ventana2[['ref_hash','sc']].drop_duplicates(),left_on='device_id',right_on='ref_hash',how='inner')  \n",
    "del label2['ref_hash']"
   ]
  },
  {
   "cell_type": "code",
   "execution_count": 523,
   "metadata": {},
   "outputs": [],
   "source": [
    "label3 = pd.merge(label3,ventana3[['ref_hash','sc']].drop_duplicates(),left_on='device_id',right_on='ref_hash',how='inner')  \n",
    "del label3['ref_hash']"
   ]
  },
  {
   "cell_type": "code",
   "execution_count": 524,
   "metadata": {},
   "outputs": [],
   "source": [
    "label4 = pd.merge(label4,ventana4[['ref_hash','sc']].drop_duplicates(),left_on='device_id',right_on='ref_hash',how='inner')  \n",
    "del label4['ref_hash']"
   ]
  },
  {
   "cell_type": "code",
   "execution_count": 525,
   "metadata": {},
   "outputs": [],
   "source": [
    "label5 = pd.merge(label5,ventana5[['ref_hash','sc']].drop_duplicates(),left_on='device_id',right_on='ref_hash',how='inner')  \n",
    "del label5['ref_hash']"
   ]
  },
  {
   "cell_type": "code",
   "execution_count": 526,
   "metadata": {},
   "outputs": [
    {
     "data": {
      "text/html": [
       "<div>\n",
       "<style scoped>\n",
       "    .dataframe tbody tr th:only-of-type {\n",
       "        vertical-align: middle;\n",
       "    }\n",
       "\n",
       "    .dataframe tbody tr th {\n",
       "        vertical-align: top;\n",
       "    }\n",
       "\n",
       "    .dataframe thead th {\n",
       "        text-align: right;\n",
       "    }\n",
       "</style>\n",
       "<table border=\"1\" class=\"dataframe\">\n",
       "  <thead>\n",
       "    <tr style=\"text-align: right;\">\n",
       "      <th></th>\n",
       "      <th>device_id</th>\n",
       "      <th>st</th>\n",
       "      <th>sc</th>\n",
       "    </tr>\n",
       "  </thead>\n",
       "  <tbody>\n",
       "    <tr>\n",
       "      <th>0</th>\n",
       "      <td>4123059034628125459</td>\n",
       "      <td>0.132510</td>\n",
       "      <td>17800.664</td>\n",
       "    </tr>\n",
       "    <tr>\n",
       "      <th>1</th>\n",
       "      <td>2844535553398493162</td>\n",
       "      <td>0.219200</td>\n",
       "      <td>254067.909</td>\n",
       "    </tr>\n",
       "    <tr>\n",
       "      <th>2</th>\n",
       "      <td>7081017498081781688</td>\n",
       "      <td>0.370859</td>\n",
       "      <td>246869.802</td>\n",
       "    </tr>\n",
       "    <tr>\n",
       "      <th>3</th>\n",
       "      <td>5372400508976774833</td>\n",
       "      <td>0.485009</td>\n",
       "      <td>162439.165</td>\n",
       "    </tr>\n",
       "    <tr>\n",
       "      <th>4</th>\n",
       "      <td>2227766999717522159</td>\n",
       "      <td>0.502433</td>\n",
       "      <td>46431.436</td>\n",
       "    </tr>\n",
       "  </tbody>\n",
       "</table>\n",
       "</div>"
      ],
      "text/plain": [
       "             device_id        st          sc\n",
       "0  4123059034628125459  0.132510   17800.664\n",
       "1  2844535553398493162  0.219200  254067.909\n",
       "2  7081017498081781688  0.370859  246869.802\n",
       "3  5372400508976774833  0.485009  162439.165\n",
       "4  2227766999717522159  0.502433   46431.436"
      ]
     },
     "execution_count": 526,
     "metadata": {},
     "output_type": "execute_result"
    }
   ],
   "source": [
    "label1.head()"
   ]
  },
  {
   "cell_type": "code",
   "execution_count": 527,
   "metadata": {},
   "outputs": [
    {
     "data": {
      "text/plain": [
       "(64663, 3)"
      ]
     },
     "execution_count": 527,
     "metadata": {},
     "output_type": "execute_result"
    }
   ],
   "source": [
    "label1.shape"
   ]
  },
  {
   "cell_type": "markdown",
   "metadata": {},
   "source": [
    "# FEATURES"
   ]
  },
  {
   "cell_type": "markdown",
   "metadata": {},
   "source": [
    "Creamos features en base a los datasets. Los features van a estar divididos por dispositivo para poder mergearlos en un unico dataframe con features de todos los dataframes."
   ]
  },
  {
   "cell_type": "markdown",
   "metadata": {},
   "source": [
    "### Features de Auctions"
   ]
  },
  {
   "cell_type": "code",
   "execution_count": 528,
   "metadata": {},
   "outputs": [],
   "source": [
    "auctions_v1 = auctions.loc[(auctions['date'] > pd.to_datetime('2019-04-18')) & (auctions['date'] < pd.to_datetime('2019-04-21'))]\n",
    "auctions_v2 = auctions.loc[(auctions['date'] > pd.to_datetime('2019-04-19')) & (auctions['date'] < pd.to_datetime('2019-04-22'))]\n",
    "auctions_v3 = auctions.loc[(auctions['date'] > pd.to_datetime('2019-04-20')) & (auctions['date'] < pd.to_datetime('2019-04-23'))]\n",
    "auctions_v4 = auctions.loc[(auctions['date'] > pd.to_datetime('2019-04-21')) & (auctions['date'] < pd.to_datetime('2019-04-24'))]\n",
    "auctions_v5 = auctions.loc[(auctions['date'] > pd.to_datetime('2019-04-22')) & (auctions['date'] < pd.to_datetime('2019-04-25'))]\n",
    "\n",
    "features_auctions_v1 = auctions_v1.groupby('device_id').agg({'device_id':'size'})\n",
    "features_auctions_v2 = auctions_v2.groupby('device_id').agg({'device_id':'size'})\n",
    "features_auctions_v3 = auctions_v3.groupby('device_id').agg({'device_id':'size'})\n",
    "features_auctions_v4 = auctions_v4.groupby('device_id').agg({'device_id':'size'})\n",
    "features_auctions_v5 = auctions_v5.groupby('device_id').agg({'device_id':'size'})"
   ]
  },
  {
   "cell_type": "code",
   "execution_count": 529,
   "metadata": {},
   "outputs": [],
   "source": [
    "features_auctions_v1.columns = ['cantidad_de_subastas_en_ventana']\n",
    "features_auctions_v2.columns = ['cantidad_de_subastas_en_ventana']\n",
    "features_auctions_v3.columns = ['cantidad_de_subastas_en_ventana']\n",
    "features_auctions_v4.columns = ['cantidad_de_subastas_en_ventana']\n",
    "features_auctions_v5.columns = ['cantidad_de_subastas_en_ventana']"
   ]
  },
  {
   "cell_type": "code",
   "execution_count": 530,
   "metadata": {},
   "outputs": [],
   "source": [
    "Week_Day = [\"Monday\",\"Tuesday\",\"Wednesday\",\"Thursday\",\"Friday\",\"Saturday\",\"Sunday\"]\n",
    "\n",
    "for dia in Week_Day:\n",
    "    subastas_por_dia = auctions[auctions['date'].dt.day_name() == dia].groupby('device_id').agg({'device_id':'size'})\n",
    "    subastas_por_dia.columns = ['cantidad_subastas_{}'.format(dia)]\n",
    "    \n",
    "    features_auctions_v1 = features_auctions_v1.merge(subastas_por_dia, how='outer', left_index=True, right_index=True)\n",
    "    features_auctions_v2 = features_auctions_v2.merge(subastas_por_dia, how='outer', left_index=True, right_index=True)\n",
    "    features_auctions_v3 = features_auctions_v3.merge(subastas_por_dia, how='outer', left_index=True, right_index=True)\n",
    "    features_auctions_v4 = features_auctions_v4.merge(subastas_por_dia, how='outer', left_index=True, right_index=True)\n",
    "    features_auctions_v5 = features_auctions_v5.merge(subastas_por_dia, how='outer', left_index=True, right_index=True)\n",
    "    \n",
    "features_auctions_v1 = features_auctions_v1.fillna(0)\n",
    "features_auctions_v2 = features_auctions_v2.fillna(0)\n",
    "features_auctions_v3 = features_auctions_v3.fillna(0)\n",
    "features_auctions_v4 = features_auctions_v4.fillna(0)\n",
    "features_auctions_v5 = features_auctions_v5.fillna(0)"
   ]
  },
  {
   "cell_type": "code",
   "execution_count": 531,
   "metadata": {},
   "outputs": [
    {
     "data": {
      "text/html": [
       "<div>\n",
       "<style scoped>\n",
       "    .dataframe tbody tr th:only-of-type {\n",
       "        vertical-align: middle;\n",
       "    }\n",
       "\n",
       "    .dataframe tbody tr th {\n",
       "        vertical-align: top;\n",
       "    }\n",
       "\n",
       "    .dataframe thead th {\n",
       "        text-align: right;\n",
       "    }\n",
       "</style>\n",
       "<table border=\"1\" class=\"dataframe\">\n",
       "  <thead>\n",
       "    <tr style=\"text-align: right;\">\n",
       "      <th></th>\n",
       "      <th>cantidad_de_subastas_en_ventana</th>\n",
       "      <th>cantidad_subastas_Monday</th>\n",
       "      <th>cantidad_subastas_Tuesday</th>\n",
       "      <th>cantidad_subastas_Wednesday</th>\n",
       "      <th>cantidad_subastas_Thursday</th>\n",
       "      <th>cantidad_subastas_Friday</th>\n",
       "      <th>cantidad_subastas_Saturday</th>\n",
       "      <th>cantidad_subastas_Sunday</th>\n",
       "    </tr>\n",
       "    <tr>\n",
       "      <th>device_id</th>\n",
       "      <th></th>\n",
       "      <th></th>\n",
       "      <th></th>\n",
       "      <th></th>\n",
       "      <th></th>\n",
       "      <th></th>\n",
       "      <th></th>\n",
       "      <th></th>\n",
       "    </tr>\n",
       "  </thead>\n",
       "  <tbody>\n",
       "    <tr>\n",
       "      <th>40621409780134</th>\n",
       "      <td>0.0</td>\n",
       "      <td>0.0</td>\n",
       "      <td>1.0</td>\n",
       "      <td>0.0</td>\n",
       "      <td>0.0</td>\n",
       "      <td>0.0</td>\n",
       "      <td>0.0</td>\n",
       "      <td>0.0</td>\n",
       "    </tr>\n",
       "    <tr>\n",
       "      <th>41863526108385</th>\n",
       "      <td>35.0</td>\n",
       "      <td>0.0</td>\n",
       "      <td>0.0</td>\n",
       "      <td>0.0</td>\n",
       "      <td>0.0</td>\n",
       "      <td>1.0</td>\n",
       "      <td>34.0</td>\n",
       "      <td>0.0</td>\n",
       "    </tr>\n",
       "    <tr>\n",
       "      <th>69039685746313</th>\n",
       "      <td>0.0</td>\n",
       "      <td>0.0</td>\n",
       "      <td>0.0</td>\n",
       "      <td>0.0</td>\n",
       "      <td>4.0</td>\n",
       "      <td>0.0</td>\n",
       "      <td>0.0</td>\n",
       "      <td>0.0</td>\n",
       "    </tr>\n",
       "    <tr>\n",
       "      <th>135153013040192</th>\n",
       "      <td>8.0</td>\n",
       "      <td>0.0</td>\n",
       "      <td>0.0</td>\n",
       "      <td>0.0</td>\n",
       "      <td>0.0</td>\n",
       "      <td>0.0</td>\n",
       "      <td>8.0</td>\n",
       "      <td>0.0</td>\n",
       "    </tr>\n",
       "    <tr>\n",
       "      <th>161514654074162</th>\n",
       "      <td>6.0</td>\n",
       "      <td>0.0</td>\n",
       "      <td>0.0</td>\n",
       "      <td>0.0</td>\n",
       "      <td>6.0</td>\n",
       "      <td>0.0</td>\n",
       "      <td>0.0</td>\n",
       "      <td>0.0</td>\n",
       "    </tr>\n",
       "  </tbody>\n",
       "</table>\n",
       "</div>"
      ],
      "text/plain": [
       "                 cantidad_de_subastas_en_ventana  cantidad_subastas_Monday  \\\n",
       "device_id                                                                    \n",
       "40621409780134                               0.0                       0.0   \n",
       "41863526108385                              35.0                       0.0   \n",
       "69039685746313                               0.0                       0.0   \n",
       "135153013040192                              8.0                       0.0   \n",
       "161514654074162                              6.0                       0.0   \n",
       "\n",
       "                 cantidad_subastas_Tuesday  cantidad_subastas_Wednesday  \\\n",
       "device_id                                                                 \n",
       "40621409780134                         1.0                          0.0   \n",
       "41863526108385                         0.0                          0.0   \n",
       "69039685746313                         0.0                          0.0   \n",
       "135153013040192                        0.0                          0.0   \n",
       "161514654074162                        0.0                          0.0   \n",
       "\n",
       "                 cantidad_subastas_Thursday  cantidad_subastas_Friday  \\\n",
       "device_id                                                               \n",
       "40621409780134                          0.0                       0.0   \n",
       "41863526108385                          0.0                       1.0   \n",
       "69039685746313                          4.0                       0.0   \n",
       "135153013040192                         0.0                       0.0   \n",
       "161514654074162                         6.0                       0.0   \n",
       "\n",
       "                 cantidad_subastas_Saturday  cantidad_subastas_Sunday  \n",
       "device_id                                                              \n",
       "40621409780134                          0.0                       0.0  \n",
       "41863526108385                         34.0                       0.0  \n",
       "69039685746313                          0.0                       0.0  \n",
       "135153013040192                         8.0                       0.0  \n",
       "161514654074162                         0.0                       0.0  "
      ]
     },
     "execution_count": 531,
     "metadata": {},
     "output_type": "execute_result"
    }
   ],
   "source": [
    "features_auctions_v1.head()"
   ]
  },
  {
   "cell_type": "code",
   "execution_count": null,
   "metadata": {},
   "outputs": [],
   "source": []
  },
  {
   "cell_type": "markdown",
   "metadata": {},
   "source": [
    "### Features de Events"
   ]
  },
  {
   "cell_type": "code",
   "execution_count": 532,
   "metadata": {},
   "outputs": [],
   "source": [
    "events_v1 = events.loc[(events['date'] >= pd.to_datetime('2019-04-18')) & (events['date'] <= pd.to_datetime('2019-04-21'))]\n",
    "events_v2 = events.loc[(events['date'] >= pd.to_datetime('2019-04-19')) & (events['date'] <= pd.to_datetime('2019-04-22'))]\n",
    "events_v3 = events.loc[(events['date'] >= pd.to_datetime('2019-04-20')) & (events['date'] <= pd.to_datetime('2019-04-23'))]\n",
    "events_v4 = events.loc[(events['date'] >= pd.to_datetime('2019-04-21')) & (events['date'] <= pd.to_datetime('2019-04-24'))]\n",
    "\n",
    "ventanas_events = [events_v1, events_v2, events_v3, events_v4]"
   ]
  },
  {
   "cell_type": "code",
   "execution_count": 533,
   "metadata": {},
   "outputs": [],
   "source": [
    "features_events = []\n",
    "\n",
    "for ventana in ventanas_events:\n",
    "    features_ventana = ventana.groupby('ref_hash').agg({'ref_hash':'size'})\n",
    "    features_ventana.columns = ['cantidad_de_eventos_en_ventana']\n",
    "    features_events.append(features_ventana)"
   ]
  },
  {
   "cell_type": "code",
   "execution_count": 534,
   "metadata": {},
   "outputs": [],
   "source": [
    "for index, ventana in enumerate(ventanas_events):\n",
    "    for dia in Week_Day:\n",
    "        eventos_por_dia = ventana[ventana['date'].dt.day_name() == dia].groupby('ref_hash').agg({'ref_hash':'size'})\n",
    "        eventos_por_dia.columns = ['cantidad_eventos_{}'.format(dia)]\n",
    "        \n",
    "        features_events[index] = features_events[index].merge(eventos_por_dia, how='outer', left_index=True, right_index=True)\n",
    "        features_events[index].fillna(0, inplace=True)"
   ]
  },
  {
   "cell_type": "markdown",
   "metadata": {},
   "source": [
    "#### Eventos por hora"
   ]
  },
  {
   "cell_type": "code",
   "execution_count": 535,
   "metadata": {},
   "outputs": [],
   "source": [
    "for index, ventana in enumerate(ventanas_events):\n",
    "    for hora in range(24):\n",
    "        eventos_por_hora = ventana[ventana['date'].dt.hour == hora].groupby('ref_hash').agg({'ref_hash':'size'})\n",
    "        eventos_por_hora.columns = ['cantidad_eventos_hora_{}'.format(hora)]\n",
    "        features_events[index] = features_events[index].merge(eventos_por_hora, how='outer', left_index=True, right_index=True) \n",
    "        features_events[index]['cantidad_eventos_hora_{}'.format(hora)].fillna(0, inplace=True)"
   ]
  },
  {
   "cell_type": "code",
   "execution_count": 536,
   "metadata": {},
   "outputs": [
    {
     "data": {
      "text/html": [
       "<div>\n",
       "<style scoped>\n",
       "    .dataframe tbody tr th:only-of-type {\n",
       "        vertical-align: middle;\n",
       "    }\n",
       "\n",
       "    .dataframe tbody tr th {\n",
       "        vertical-align: top;\n",
       "    }\n",
       "\n",
       "    .dataframe thead th {\n",
       "        text-align: right;\n",
       "    }\n",
       "</style>\n",
       "<table border=\"1\" class=\"dataframe\">\n",
       "  <thead>\n",
       "    <tr style=\"text-align: right;\">\n",
       "      <th></th>\n",
       "      <th>cantidad_de_eventos_en_ventana</th>\n",
       "      <th>cantidad_eventos_Monday</th>\n",
       "      <th>cantidad_eventos_Tuesday</th>\n",
       "      <th>cantidad_eventos_Wednesday</th>\n",
       "      <th>cantidad_eventos_Thursday</th>\n",
       "      <th>cantidad_eventos_Friday</th>\n",
       "      <th>cantidad_eventos_Saturday</th>\n",
       "      <th>cantidad_eventos_Sunday</th>\n",
       "      <th>cantidad_eventos_hora_0</th>\n",
       "      <th>cantidad_eventos_hora_1</th>\n",
       "      <th>...</th>\n",
       "      <th>cantidad_eventos_hora_14</th>\n",
       "      <th>cantidad_eventos_hora_15</th>\n",
       "      <th>cantidad_eventos_hora_16</th>\n",
       "      <th>cantidad_eventos_hora_17</th>\n",
       "      <th>cantidad_eventos_hora_18</th>\n",
       "      <th>cantidad_eventos_hora_19</th>\n",
       "      <th>cantidad_eventos_hora_20</th>\n",
       "      <th>cantidad_eventos_hora_21</th>\n",
       "      <th>cantidad_eventos_hora_22</th>\n",
       "      <th>cantidad_eventos_hora_23</th>\n",
       "    </tr>\n",
       "    <tr>\n",
       "      <th>ref_hash</th>\n",
       "      <th></th>\n",
       "      <th></th>\n",
       "      <th></th>\n",
       "      <th></th>\n",
       "      <th></th>\n",
       "      <th></th>\n",
       "      <th></th>\n",
       "      <th></th>\n",
       "      <th></th>\n",
       "      <th></th>\n",
       "      <th></th>\n",
       "      <th></th>\n",
       "      <th></th>\n",
       "      <th></th>\n",
       "      <th></th>\n",
       "      <th></th>\n",
       "      <th></th>\n",
       "      <th></th>\n",
       "      <th></th>\n",
       "      <th></th>\n",
       "      <th></th>\n",
       "    </tr>\n",
       "  </thead>\n",
       "  <tbody>\n",
       "    <tr>\n",
       "      <th>41863526108385</th>\n",
       "      <td>88</td>\n",
       "      <td>0.0</td>\n",
       "      <td>0.0</td>\n",
       "      <td>0.0</td>\n",
       "      <td>24.0</td>\n",
       "      <td>21.0</td>\n",
       "      <td>43.0</td>\n",
       "      <td>0.0</td>\n",
       "      <td>0.0</td>\n",
       "      <td>0.0</td>\n",
       "      <td>...</td>\n",
       "      <td>0.0</td>\n",
       "      <td>0.0</td>\n",
       "      <td>0.0</td>\n",
       "      <td>0.0</td>\n",
       "      <td>0.0</td>\n",
       "      <td>0.0</td>\n",
       "      <td>0.0</td>\n",
       "      <td>24.0</td>\n",
       "      <td>0.0</td>\n",
       "      <td>0.0</td>\n",
       "    </tr>\n",
       "    <tr>\n",
       "      <th>161514654074162</th>\n",
       "      <td>8</td>\n",
       "      <td>0.0</td>\n",
       "      <td>0.0</td>\n",
       "      <td>0.0</td>\n",
       "      <td>0.0</td>\n",
       "      <td>8.0</td>\n",
       "      <td>0.0</td>\n",
       "      <td>0.0</td>\n",
       "      <td>0.0</td>\n",
       "      <td>0.0</td>\n",
       "      <td>...</td>\n",
       "      <td>0.0</td>\n",
       "      <td>0.0</td>\n",
       "      <td>0.0</td>\n",
       "      <td>8.0</td>\n",
       "      <td>0.0</td>\n",
       "      <td>0.0</td>\n",
       "      <td>0.0</td>\n",
       "      <td>0.0</td>\n",
       "      <td>0.0</td>\n",
       "      <td>0.0</td>\n",
       "    </tr>\n",
       "    <tr>\n",
       "      <th>186034136943920</th>\n",
       "      <td>13</td>\n",
       "      <td>0.0</td>\n",
       "      <td>0.0</td>\n",
       "      <td>0.0</td>\n",
       "      <td>13.0</td>\n",
       "      <td>0.0</td>\n",
       "      <td>0.0</td>\n",
       "      <td>0.0</td>\n",
       "      <td>0.0</td>\n",
       "      <td>0.0</td>\n",
       "      <td>...</td>\n",
       "      <td>0.0</td>\n",
       "      <td>0.0</td>\n",
       "      <td>13.0</td>\n",
       "      <td>0.0</td>\n",
       "      <td>0.0</td>\n",
       "      <td>0.0</td>\n",
       "      <td>0.0</td>\n",
       "      <td>0.0</td>\n",
       "      <td>0.0</td>\n",
       "      <td>0.0</td>\n",
       "    </tr>\n",
       "    <tr>\n",
       "      <th>360710529886978</th>\n",
       "      <td>3</td>\n",
       "      <td>0.0</td>\n",
       "      <td>0.0</td>\n",
       "      <td>0.0</td>\n",
       "      <td>0.0</td>\n",
       "      <td>1.0</td>\n",
       "      <td>2.0</td>\n",
       "      <td>0.0</td>\n",
       "      <td>0.0</td>\n",
       "      <td>0.0</td>\n",
       "      <td>...</td>\n",
       "      <td>0.0</td>\n",
       "      <td>0.0</td>\n",
       "      <td>0.0</td>\n",
       "      <td>0.0</td>\n",
       "      <td>2.0</td>\n",
       "      <td>0.0</td>\n",
       "      <td>0.0</td>\n",
       "      <td>1.0</td>\n",
       "      <td>0.0</td>\n",
       "      <td>0.0</td>\n",
       "    </tr>\n",
       "    <tr>\n",
       "      <th>365882020742330</th>\n",
       "      <td>57</td>\n",
       "      <td>0.0</td>\n",
       "      <td>0.0</td>\n",
       "      <td>0.0</td>\n",
       "      <td>0.0</td>\n",
       "      <td>36.0</td>\n",
       "      <td>21.0</td>\n",
       "      <td>0.0</td>\n",
       "      <td>4.0</td>\n",
       "      <td>6.0</td>\n",
       "      <td>...</td>\n",
       "      <td>1.0</td>\n",
       "      <td>0.0</td>\n",
       "      <td>4.0</td>\n",
       "      <td>1.0</td>\n",
       "      <td>8.0</td>\n",
       "      <td>1.0</td>\n",
       "      <td>3.0</td>\n",
       "      <td>0.0</td>\n",
       "      <td>0.0</td>\n",
       "      <td>0.0</td>\n",
       "    </tr>\n",
       "  </tbody>\n",
       "</table>\n",
       "<p>5 rows × 32 columns</p>\n",
       "</div>"
      ],
      "text/plain": [
       "                 cantidad_de_eventos_en_ventana  cantidad_eventos_Monday  \\\n",
       "ref_hash                                                                   \n",
       "41863526108385                               88                      0.0   \n",
       "161514654074162                               8                      0.0   \n",
       "186034136943920                              13                      0.0   \n",
       "360710529886978                               3                      0.0   \n",
       "365882020742330                              57                      0.0   \n",
       "\n",
       "                 cantidad_eventos_Tuesday  cantidad_eventos_Wednesday  \\\n",
       "ref_hash                                                                \n",
       "41863526108385                        0.0                         0.0   \n",
       "161514654074162                       0.0                         0.0   \n",
       "186034136943920                       0.0                         0.0   \n",
       "360710529886978                       0.0                         0.0   \n",
       "365882020742330                       0.0                         0.0   \n",
       "\n",
       "                 cantidad_eventos_Thursday  cantidad_eventos_Friday  \\\n",
       "ref_hash                                                              \n",
       "41863526108385                        24.0                     21.0   \n",
       "161514654074162                        0.0                      8.0   \n",
       "186034136943920                       13.0                      0.0   \n",
       "360710529886978                        0.0                      1.0   \n",
       "365882020742330                        0.0                     36.0   \n",
       "\n",
       "                 cantidad_eventos_Saturday  cantidad_eventos_Sunday  \\\n",
       "ref_hash                                                              \n",
       "41863526108385                        43.0                      0.0   \n",
       "161514654074162                        0.0                      0.0   \n",
       "186034136943920                        0.0                      0.0   \n",
       "360710529886978                        2.0                      0.0   \n",
       "365882020742330                       21.0                      0.0   \n",
       "\n",
       "                 cantidad_eventos_hora_0  cantidad_eventos_hora_1  \\\n",
       "ref_hash                                                            \n",
       "41863526108385                       0.0                      0.0   \n",
       "161514654074162                      0.0                      0.0   \n",
       "186034136943920                      0.0                      0.0   \n",
       "360710529886978                      0.0                      0.0   \n",
       "365882020742330                      4.0                      6.0   \n",
       "\n",
       "                           ...             cantidad_eventos_hora_14  \\\n",
       "ref_hash                   ...                                        \n",
       "41863526108385             ...                                  0.0   \n",
       "161514654074162            ...                                  0.0   \n",
       "186034136943920            ...                                  0.0   \n",
       "360710529886978            ...                                  0.0   \n",
       "365882020742330            ...                                  1.0   \n",
       "\n",
       "                 cantidad_eventos_hora_15  cantidad_eventos_hora_16  \\\n",
       "ref_hash                                                              \n",
       "41863526108385                        0.0                       0.0   \n",
       "161514654074162                       0.0                       0.0   \n",
       "186034136943920                       0.0                      13.0   \n",
       "360710529886978                       0.0                       0.0   \n",
       "365882020742330                       0.0                       4.0   \n",
       "\n",
       "                 cantidad_eventos_hora_17  cantidad_eventos_hora_18  \\\n",
       "ref_hash                                                              \n",
       "41863526108385                        0.0                       0.0   \n",
       "161514654074162                       8.0                       0.0   \n",
       "186034136943920                       0.0                       0.0   \n",
       "360710529886978                       0.0                       2.0   \n",
       "365882020742330                       1.0                       8.0   \n",
       "\n",
       "                 cantidad_eventos_hora_19  cantidad_eventos_hora_20  \\\n",
       "ref_hash                                                              \n",
       "41863526108385                        0.0                       0.0   \n",
       "161514654074162                       0.0                       0.0   \n",
       "186034136943920                       0.0                       0.0   \n",
       "360710529886978                       0.0                       0.0   \n",
       "365882020742330                       1.0                       3.0   \n",
       "\n",
       "                 cantidad_eventos_hora_21  cantidad_eventos_hora_22  \\\n",
       "ref_hash                                                              \n",
       "41863526108385                       24.0                       0.0   \n",
       "161514654074162                       0.0                       0.0   \n",
       "186034136943920                       0.0                       0.0   \n",
       "360710529886978                       1.0                       0.0   \n",
       "365882020742330                       0.0                       0.0   \n",
       "\n",
       "                 cantidad_eventos_hora_23  \n",
       "ref_hash                                   \n",
       "41863526108385                        0.0  \n",
       "161514654074162                       0.0  \n",
       "186034136943920                       0.0  \n",
       "360710529886978                       0.0  \n",
       "365882020742330                       0.0  \n",
       "\n",
       "[5 rows x 32 columns]"
      ]
     },
     "execution_count": 536,
     "metadata": {},
     "output_type": "execute_result"
    }
   ],
   "source": [
    "features_events[0].head()"
   ]
  },
  {
   "cell_type": "markdown",
   "metadata": {},
   "source": [
    "### Clicks"
   ]
  },
  {
   "cell_type": "code",
   "execution_count": 537,
   "metadata": {},
   "outputs": [],
   "source": [
    "#Hay clicks que suceden fuera del período de análisis.\n",
    "clicks_a_considerar = clicks.loc[(clicks['created'] > pd.to_datetime('2019-04-18')) & (clicks['created'] < pd.to_datetime('2019-04-27'))]"
   ]
  },
  {
   "cell_type": "code",
   "execution_count": 538,
   "metadata": {},
   "outputs": [],
   "source": [
    "clicks_v1 = clicks.loc[(clicks['created'] > pd.to_datetime('2019-04-18')) & (clicks['created'] < pd.to_datetime('2019-04-21'))]\n",
    "clicks_v2 = clicks.loc[(clicks['created'] > pd.to_datetime('2019-04-19')) & (clicks['created'] < pd.to_datetime('2019-04-22'))]\n",
    "clicks_v3 = clicks.loc[(clicks['created'] > pd.to_datetime('2019-04-20')) & (clicks['created'] < pd.to_datetime('2019-04-23'))]\n",
    "clicks_v4 = clicks.loc[(clicks['created'] > pd.to_datetime('2019-04-21')) & (clicks['created'] < pd.to_datetime('2019-04-24'))]\n",
    "\n",
    "features_clicks_v1 = clicks_v1.groupby('ref_hash').agg({'ref_hash':'size'})\n",
    "features_clicks_v2 = clicks_v2.groupby('ref_hash').agg({'ref_hash':'size'})\n",
    "features_clicks_v3 = clicks_v3.groupby('ref_hash').agg({'ref_hash':'size'})\n",
    "features_clicks_v4 = clicks_v4.groupby('ref_hash').agg({'ref_hash':'size'})"
   ]
  },
  {
   "cell_type": "code",
   "execution_count": 539,
   "metadata": {},
   "outputs": [],
   "source": [
    "features_clicks_v1.columns = ['cantidad_de_clicks_en_ventana']\n",
    "features_clicks_v2.columns = ['cantidad_de_clicks_en_ventana']\n",
    "features_clicks_v3.columns = ['cantidad_de_clicks_en_ventana']\n",
    "features_clicks_v4.columns = ['cantidad_de_clicks_en_ventana']"
   ]
  },
  {
   "cell_type": "code",
   "execution_count": 540,
   "metadata": {},
   "outputs": [],
   "source": [
    "for dia in Week_Day:\n",
    "    clicks_por_dia = clicks_a_considerar[clicks_a_considerar['created'].dt.day_name() == dia].groupby('ref_hash').agg({'ref_hash':'size'})\n",
    "    clicks_por_dia.columns = ['cantidad_clicks_{}'.format(dia)]\n",
    "    \n",
    "    features_clicks_v1 = features_clicks_v1.merge(clicks_por_dia, how='outer', left_index=True, right_index=True)\n",
    "    features_clicks_v2 = features_clicks_v2.merge(clicks_por_dia, how='outer', left_index=True, right_index=True)\n",
    "    features_clicks_v3 = features_clicks_v3.merge(clicks_por_dia, how='outer', left_index=True, right_index=True)\n",
    "    features_clicks_v4 = features_clicks_v4.merge(clicks_por_dia, how='outer', left_index=True, right_index=True)\n",
    "    \n",
    "features_clicks_v1 = features_clicks_v1.fillna(0)\n",
    "features_clicks_v2 = features_clicks_v2.fillna(0)\n",
    "features_clicks_v3 = features_clicks_v3.fillna(0)\n",
    "features_clicks_v4 = features_clicks_v4.fillna(0)"
   ]
  },
  {
   "cell_type": "markdown",
   "metadata": {},
   "source": [
    "#### Region en pantalla del click\n",
    "Se dibide en una cuadricula de 9 sectores.Por un lado: Superior, subdividido en izquierda, centro y derecha; Centro con mismas subdivisiones e Inferior también con mismas subdivisiones."
   ]
  },
  {
   "cell_type": "code",
   "execution_count": 541,
   "metadata": {
    "scrolled": true
   },
   "outputs": [],
   "source": [
    "clicks_v1  = clicks_v1[['ref_hash','touchX','touchY']].fillna(value=-1).groupby('ref_hash')\\\n",
    "    .agg({'touchX':lambda x: (x.mode())[0],'touchY':lambda x: (x.mode())[0]}).reset_index()\n",
    "clicks_v1['SUP_D'] = 0\n",
    "clicks_v1['SUP_C'] = 0\n",
    "clicks_v1['SUP_I'] = 0\n",
    "clicks_v1['CENT_D'] = 0\n",
    "clicks_v1['CENT_C'] = 0\n",
    "clicks_v1['CENT_I'] = 0\n",
    "clicks_v1['INF_D'] = 0\n",
    "clicks_v1['INF_C'] = 0\n",
    "clicks_v1['INF_I'] = 0\n",
    "\n",
    "clicks_v1.loc[(clicks_v1['touchX']>=0.66)&(clicks_v1['touchY']>=10.66),'SUP_D'] = 1\n",
    "clicks_v1.loc[(clicks_v1['touchX']<0.66)&(clicks_v1['touchX']>=0.33)&(clicks_v1['touchY']>=10.66),'SUP_C'] = 1\n",
    "clicks_v1.loc[(clicks_v1['touchX']<0.33)&(clicks_v1['touchX']>=0)&(clicks_v1['touchY']>=10.66),'SUP_I'] = 1\n",
    "clicks_v1.loc[(clicks_v1['touchX']>=0.66)&(clicks_v1['touchY']>=5.33)&(clicks_v1['touchY']<10.66),'CENT_D'] = 1\n",
    "clicks_v1.loc[(clicks_v1['touchX']<0.66)&(clicks_v1['touchX']>=0.33)&(clicks_v1['touchY']>=5.33)&(clicks_v1['touchY']<10.66),'CENT_C'] = 1\n",
    "clicks_v1.loc[(clicks_v1['touchX']<0.33)&(clicks_v1['touchX']>=0)&(clicks_v1['touchY']>=5.33)&(clicks_v1['touchY']<10.66),'CENT_I'] = 1\n",
    "clicks_v1.loc[(clicks_v1['touchX']>=0.66)&(clicks_v1['touchY']>=0)&(clicks_v1['touchY']<5.33),'INF_D'] = 1\n",
    "clicks_v1.loc[(clicks_v1['touchX']<0.66)&(clicks_v1['touchX']>=0.33)&(clicks_v1['touchY']>=0)&(clicks_v1['touchY']<5.33),'INF_C'] = 1\n",
    "clicks_v1.loc[(clicks_v1['touchX']<0.33)&(clicks_v1['touchX']>=0)&(clicks_v1['touchY']>=0)&(clicks_v1['touchY']<5.33),'INF_I'] = 1\n",
    "\n",
    "\n",
    "clicks_v2  = clicks_v2[['ref_hash','touchX','touchY']].fillna(value=-1).groupby('ref_hash')\\\n",
    "    .agg({'touchX':lambda x: (x.mode())[0],'touchY':lambda x: (x.mode())[0]}).reset_index()\n",
    "clicks_v2['SUP_D'] = 0\n",
    "clicks_v2['SUP_C'] = 0\n",
    "clicks_v2['SUP_I'] = 0\n",
    "clicks_v2['CENT_D'] = 0\n",
    "clicks_v2['CENT_C'] = 0\n",
    "clicks_v2['CENT_I'] = 0\n",
    "clicks_v2['INF_D'] = 0\n",
    "clicks_v2['INF_C'] = 0\n",
    "clicks_v2['INF_I'] = 0\n",
    "clicks_v2.loc[(clicks_v2['touchX']>=0.66)&(clicks_v2['touchY']>=10.66),'SUP_D'] = 1\n",
    "clicks_v2.loc[(clicks_v2['touchX']<0.66)&(clicks_v2['touchX']>=0.33)&(clicks_v2['touchY']>=10.66),'SUP_C'] = 1\n",
    "clicks_v2.loc[(clicks_v2['touchX']<0.33)&(clicks_v2['touchX']>=0)&(clicks_v2['touchY']>=10.66),'SUP_I'] = 1\n",
    "clicks_v2.loc[(clicks_v2['touchX']>=0.66)&(clicks_v2['touchY']>=5.33)&(clicks_v2['touchY']<10.66),'CENT_D'] = 1\n",
    "clicks_v2.loc[(clicks_v2['touchX']<0.66)&(clicks_v2['touchX']>=0.33)&(clicks_v2['touchY']>=5.33)&(clicks_v2['touchY']<10.66),'CENT_C'] = 1\n",
    "clicks_v2.loc[(clicks_v2['touchX']<0.33)&(clicks_v2['touchX']>=0)&(clicks_v2['touchY']>=5.33)&(clicks_v2['touchY']<10.66),'CENT_I'] = 1\n",
    "clicks_v2.loc[(clicks_v2['touchX']>=0.66)&(clicks_v2['touchY']>=0)&(clicks_v2['touchY']<5.33),'INF_D'] = 1\n",
    "clicks_v2.loc[(clicks_v2['touchX']<0.66)&(clicks_v2['touchX']>=0.33)&(clicks_v2['touchY']>=0)&(clicks_v2['touchY']<5.33),'INF_C'] = 1\n",
    "clicks_v2.loc[(clicks_v2['touchX']<0.33)&(clicks_v2['touchX']>=0)&(clicks_v2['touchY']>=0)&(clicks_v2['touchY']<5.33),'INF_I'] = 1\n",
    "\n",
    "clicks_v3  = clicks_v3[['ref_hash','touchX','touchY']].fillna(value=-1).groupby('ref_hash')\\\n",
    "    .agg({'touchX':lambda x: (x.mode())[0],'touchY':lambda x: (x.mode())[0]}).reset_index()\n",
    "clicks_v3['SUP_D'] = 0\n",
    "clicks_v3['SUP_C'] = 0\n",
    "clicks_v3['SUP_I'] = 0\n",
    "clicks_v3['CENT_D'] = 0\n",
    "clicks_v3['CENT_C'] = 0\n",
    "clicks_v3['CENT_I'] = 0\n",
    "clicks_v3['INF_D'] = 0\n",
    "clicks_v3['INF_C'] = 0\n",
    "clicks_v3['INF_I'] = 0\n",
    "clicks_v3.loc[(clicks_v3['touchX']>=0.66)&(clicks_v3['touchY']>=10.66),'SUP_D'] = 1\n",
    "clicks_v3.loc[(clicks_v3['touchX']<0.66)&(clicks_v3['touchX']>=0.33)&(clicks_v3['touchY']>=10.66),'SUP_C'] = 1\n",
    "clicks_v3.loc[(clicks_v3['touchX']<0.33)&(clicks_v3['touchX']>=0)&(clicks_v3['touchY']>=10.66),'SUP_I'] = 1\n",
    "clicks_v3.loc[(clicks_v3['touchX']>=0.66)&(clicks_v3['touchY']>=5.33)&(clicks_v3['touchY']<10.66),'CENT_D'] = 1\n",
    "clicks_v3.loc[(clicks_v3['touchX']<0.66)&(clicks_v3['touchX']>=0.33)&(clicks_v3['touchY']>=5.33)&(clicks_v3['touchY']<10.66),'CENT_C'] = 1\n",
    "clicks_v3.loc[(clicks_v3['touchX']<0.33)&(clicks_v3['touchX']>=0)&(clicks_v3['touchY']>=5.33)&(clicks_v3['touchY']<10.66),'CENT_I'] = 1\n",
    "clicks_v3.loc[(clicks_v3['touchX']>=0.66)&(clicks_v3['touchY']>=0)&(clicks_v3['touchY']<5.33),'INF_D'] = 1\n",
    "clicks_v3.loc[(clicks_v3['touchX']<0.66)&(clicks_v3['touchX']>=0.33)&(clicks_v3['touchY']>=0)&(clicks_v3['touchY']<5.33),'INF_C'] = 1\n",
    "clicks_v3.loc[(clicks_v3['touchX']<0.33)&(clicks_v3['touchX']>=0)&(clicks_v3['touchY']>=0)&(clicks_v3['touchY']<5.33),'INF_I'] = 1\n",
    "\n",
    "clicks_v4  = clicks_v4[['ref_hash','touchX','touchY']].fillna(value=-1).groupby('ref_hash')\\\n",
    "    .agg({'touchX':lambda x: (x.mode())[0],'touchY':lambda x: (x.mode())[0]}).reset_index()\n",
    "clicks_v4['SUP_D'] = 0\n",
    "clicks_v4['SUP_C'] = 0\n",
    "clicks_v4['SUP_I'] = 0\n",
    "clicks_v4['CENT_D'] = 0\n",
    "clicks_v4['CENT_C'] = 0\n",
    "clicks_v4['CENT_I'] = 0\n",
    "clicks_v4['INF_D'] = 0\n",
    "clicks_v4['INF_C'] = 0\n",
    "clicks_v4['INF_I'] = 0\n",
    "clicks_v4.loc[(clicks_v4['touchX']>=0.66)&(clicks_v4['touchY']>=10.66),'SUP_D'] = 1\n",
    "clicks_v4.loc[(clicks_v4['touchX']<0.66)&(clicks_v4['touchX']>=0.33)&(clicks_v4['touchY']>=10.66),'SUP_C'] = 1\n",
    "clicks_v4.loc[(clicks_v4['touchX']<0.33)&(clicks_v4['touchX']>=0)&(clicks_v4['touchY']>=10.66),'SUP_I'] = 1\n",
    "clicks_v4.loc[(clicks_v4['touchX']>=0.66)&(clicks_v4['touchY']>=5.33)&(clicks_v4['touchY']<10.66),'CENT_D'] = 1\n",
    "clicks_v4.loc[(clicks_v4['touchX']<0.66)&(clicks_v4['touchX']>=0.33)&(clicks_v4['touchY']>=5.33)&(clicks_v4['touchY']<10.66),'CENT_C'] = 1\n",
    "clicks_v4.loc[(clicks_v4['touchX']<0.33)&(clicks_v4['touchX']>=0)&(clicks_v4['touchY']>=5.33)&(clicks_v4['touchY']<10.66),'CENT_I'] = 1\n",
    "clicks_v4.loc[(clicks_v4['touchX']>=0.66)&(clicks_v4['touchY']>=0)&(clicks_v4['touchY']<5.33),'INF_D'] = 1\n",
    "clicks_v4.loc[(clicks_v4['touchX']<0.66)&(clicks_v4['touchX']>=0.33)&(clicks_v4['touchY']>=0)&(clicks_v4['touchY']<5.33),'INF_C'] = 1\n",
    "clicks_v4.loc[(clicks_v4['touchX']<0.33)&(clicks_v4['touchX']>=0)&(clicks_v4['touchY']>=0)&(clicks_v4['touchY']<5.33),'INF_I'] = 1"
   ]
  },
  {
   "cell_type": "code",
   "execution_count": 542,
   "metadata": {},
   "outputs": [],
   "source": [
    "# me quedo con la region mas común para cada dispositivo\n",
    "# mergeo con features de clicks\n",
    "\n",
    "features_clicks_v1 = pd.merge(features_clicks_v1.reset_index(),\\\n",
    "            clicks_v1[['ref_hash','SUP_D','SUP_C','SUP_I','CENT_D','CENT_C','CENT_I','INF_D','INF_C','INF_I']].drop_duplicates(),\\\n",
    "                              on='ref_hash',how='inner')\n",
    "features_clicks_v2 = pd.merge(features_clicks_v2.reset_index(),\\\n",
    "            clicks_v2[['ref_hash','SUP_D','SUP_C','SUP_I','CENT_D','CENT_C','CENT_I','INF_D','INF_C','INF_I']].drop_duplicates(),\\\n",
    "                              on='ref_hash',how='inner')\n",
    "features_clicks_v3 = pd.merge(features_clicks_v3.reset_index(),\\\n",
    "            clicks_v3[['ref_hash','SUP_D','SUP_C','SUP_I','CENT_D','CENT_C','CENT_I','INF_D','INF_C','INF_I']].drop_duplicates(),\\\n",
    "                              on='ref_hash',how='inner')\n",
    "features_clicks_v4 = pd.merge(features_clicks_v4.reset_index(),\\\n",
    "            clicks_v4[['ref_hash','SUP_D','SUP_C','SUP_I','CENT_D','CENT_C','CENT_I','INF_D','INF_C','INF_I']].drop_duplicates(),\\\n",
    "                              on='ref_hash',how='inner')"
   ]
  },
  {
   "cell_type": "code",
   "execution_count": 543,
   "metadata": {},
   "outputs": [
    {
     "data": {
      "text/html": [
       "<div>\n",
       "<style scoped>\n",
       "    .dataframe tbody tr th:only-of-type {\n",
       "        vertical-align: middle;\n",
       "    }\n",
       "\n",
       "    .dataframe tbody tr th {\n",
       "        vertical-align: top;\n",
       "    }\n",
       "\n",
       "    .dataframe thead th {\n",
       "        text-align: right;\n",
       "    }\n",
       "</style>\n",
       "<table border=\"1\" class=\"dataframe\">\n",
       "  <thead>\n",
       "    <tr style=\"text-align: right;\">\n",
       "      <th></th>\n",
       "      <th>ref_hash</th>\n",
       "      <th>cantidad_de_clicks_en_ventana</th>\n",
       "      <th>cantidad_clicks_Monday</th>\n",
       "      <th>cantidad_clicks_Tuesday</th>\n",
       "      <th>cantidad_clicks_Wednesday</th>\n",
       "      <th>cantidad_clicks_Thursday</th>\n",
       "      <th>cantidad_clicks_Friday</th>\n",
       "      <th>cantidad_clicks_Saturday</th>\n",
       "      <th>cantidad_clicks_Sunday</th>\n",
       "      <th>SUP_D</th>\n",
       "      <th>SUP_C</th>\n",
       "      <th>SUP_I</th>\n",
       "      <th>CENT_D</th>\n",
       "      <th>CENT_C</th>\n",
       "      <th>CENT_I</th>\n",
       "      <th>INF_D</th>\n",
       "      <th>INF_C</th>\n",
       "      <th>INF_I</th>\n",
       "    </tr>\n",
       "  </thead>\n",
       "  <tbody>\n",
       "    <tr>\n",
       "      <th>0</th>\n",
       "      <td>1461247282174365</td>\n",
       "      <td>1.0</td>\n",
       "      <td>0.0</td>\n",
       "      <td>0.0</td>\n",
       "      <td>0.0</td>\n",
       "      <td>0.0</td>\n",
       "      <td>1.0</td>\n",
       "      <td>0.0</td>\n",
       "      <td>0.0</td>\n",
       "      <td>0</td>\n",
       "      <td>0</td>\n",
       "      <td>0</td>\n",
       "      <td>0</td>\n",
       "      <td>0</td>\n",
       "      <td>0</td>\n",
       "      <td>1</td>\n",
       "      <td>0</td>\n",
       "      <td>0</td>\n",
       "    </tr>\n",
       "    <tr>\n",
       "      <th>1</th>\n",
       "      <td>5470466329076030</td>\n",
       "      <td>1.0</td>\n",
       "      <td>0.0</td>\n",
       "      <td>0.0</td>\n",
       "      <td>0.0</td>\n",
       "      <td>0.0</td>\n",
       "      <td>0.0</td>\n",
       "      <td>1.0</td>\n",
       "      <td>0.0</td>\n",
       "      <td>0</td>\n",
       "      <td>0</td>\n",
       "      <td>0</td>\n",
       "      <td>0</td>\n",
       "      <td>0</td>\n",
       "      <td>0</td>\n",
       "      <td>0</td>\n",
       "      <td>0</td>\n",
       "      <td>0</td>\n",
       "    </tr>\n",
       "    <tr>\n",
       "      <th>2</th>\n",
       "      <td>5534899846690585</td>\n",
       "      <td>1.0</td>\n",
       "      <td>0.0</td>\n",
       "      <td>0.0</td>\n",
       "      <td>0.0</td>\n",
       "      <td>1.0</td>\n",
       "      <td>0.0</td>\n",
       "      <td>0.0</td>\n",
       "      <td>0.0</td>\n",
       "      <td>0</td>\n",
       "      <td>0</td>\n",
       "      <td>0</td>\n",
       "      <td>0</td>\n",
       "      <td>0</td>\n",
       "      <td>0</td>\n",
       "      <td>1</td>\n",
       "      <td>0</td>\n",
       "      <td>0</td>\n",
       "    </tr>\n",
       "    <tr>\n",
       "      <th>3</th>\n",
       "      <td>7429113196145773</td>\n",
       "      <td>1.0</td>\n",
       "      <td>0.0</td>\n",
       "      <td>0.0</td>\n",
       "      <td>0.0</td>\n",
       "      <td>2.0</td>\n",
       "      <td>0.0</td>\n",
       "      <td>0.0</td>\n",
       "      <td>0.0</td>\n",
       "      <td>0</td>\n",
       "      <td>0</td>\n",
       "      <td>0</td>\n",
       "      <td>0</td>\n",
       "      <td>0</td>\n",
       "      <td>0</td>\n",
       "      <td>1</td>\n",
       "      <td>0</td>\n",
       "      <td>0</td>\n",
       "    </tr>\n",
       "    <tr>\n",
       "      <th>4</th>\n",
       "      <td>8577232270715133</td>\n",
       "      <td>1.0</td>\n",
       "      <td>0.0</td>\n",
       "      <td>0.0</td>\n",
       "      <td>0.0</td>\n",
       "      <td>1.0</td>\n",
       "      <td>0.0</td>\n",
       "      <td>1.0</td>\n",
       "      <td>0.0</td>\n",
       "      <td>0</td>\n",
       "      <td>0</td>\n",
       "      <td>0</td>\n",
       "      <td>0</td>\n",
       "      <td>0</td>\n",
       "      <td>0</td>\n",
       "      <td>0</td>\n",
       "      <td>0</td>\n",
       "      <td>0</td>\n",
       "    </tr>\n",
       "  </tbody>\n",
       "</table>\n",
       "</div>"
      ],
      "text/plain": [
       "           ref_hash  cantidad_de_clicks_en_ventana  cantidad_clicks_Monday  \\\n",
       "0  1461247282174365                            1.0                     0.0   \n",
       "1  5470466329076030                            1.0                     0.0   \n",
       "2  5534899846690585                            1.0                     0.0   \n",
       "3  7429113196145773                            1.0                     0.0   \n",
       "4  8577232270715133                            1.0                     0.0   \n",
       "\n",
       "   cantidad_clicks_Tuesday  cantidad_clicks_Wednesday  \\\n",
       "0                      0.0                        0.0   \n",
       "1                      0.0                        0.0   \n",
       "2                      0.0                        0.0   \n",
       "3                      0.0                        0.0   \n",
       "4                      0.0                        0.0   \n",
       "\n",
       "   cantidad_clicks_Thursday  cantidad_clicks_Friday  cantidad_clicks_Saturday  \\\n",
       "0                       0.0                     1.0                       0.0   \n",
       "1                       0.0                     0.0                       1.0   \n",
       "2                       1.0                     0.0                       0.0   \n",
       "3                       2.0                     0.0                       0.0   \n",
       "4                       1.0                     0.0                       1.0   \n",
       "\n",
       "   cantidad_clicks_Sunday  SUP_D  SUP_C  SUP_I  CENT_D  CENT_C  CENT_I  INF_D  \\\n",
       "0                     0.0      0      0      0       0       0       0      1   \n",
       "1                     0.0      0      0      0       0       0       0      0   \n",
       "2                     0.0      0      0      0       0       0       0      1   \n",
       "3                     0.0      0      0      0       0       0       0      1   \n",
       "4                     0.0      0      0      0       0       0       0      0   \n",
       "\n",
       "   INF_C  INF_I  \n",
       "0      0      0  \n",
       "1      0      0  \n",
       "2      0      0  \n",
       "3      0      0  \n",
       "4      0      0  "
      ]
     },
     "execution_count": 543,
     "metadata": {},
     "output_type": "execute_result"
    }
   ],
   "source": [
    "features_clicks_v1.head()"
   ]
  },
  {
   "cell_type": "markdown",
   "metadata": {},
   "source": [
    "### Installs"
   ]
  },
  {
   "cell_type": "code",
   "execution_count": 544,
   "metadata": {},
   "outputs": [],
   "source": [
    "installs_v1 = installs.loc[(installs['created'] > pd.to_datetime('2019-04-18')) & (installs['created'] < pd.to_datetime('2019-04-21'))]\n",
    "installs_v2 = installs.loc[(installs['created'] > pd.to_datetime('2019-04-19')) & (installs['created'] < pd.to_datetime('2019-04-22'))]\n",
    "installs_v3 = installs.loc[(installs['created'] > pd.to_datetime('2019-04-20')) & (installs['created'] < pd.to_datetime('2019-04-23'))]\n",
    "installs_v4 = installs.loc[(installs['created'] > pd.to_datetime('2019-04-21')) & (installs['created'] < pd.to_datetime('2019-04-24'))]\n",
    "installs_v5 = installs.loc[(installs['created'] > pd.to_datetime('2019-04-22')) & (installs['created'] < pd.to_datetime('2019-04-25'))]\n",
    "\n",
    "features_installs_v1 = installs_v1.groupby('ref_hash').agg({'ref_hash':'size'})\n",
    "features_installs_v2 = installs_v2.groupby('ref_hash').agg({'ref_hash':'size'})\n",
    "features_installs_v3 = installs_v3.groupby('ref_hash').agg({'ref_hash':'size'})\n",
    "features_installs_v4 = installs_v4.groupby('ref_hash').agg({'ref_hash':'size'})\n",
    "features_installs_v5 = installs_v5.groupby('ref_hash').agg({'ref_hash':'size'})"
   ]
  },
  {
   "cell_type": "code",
   "execution_count": 545,
   "metadata": {},
   "outputs": [],
   "source": [
    "features_installs_v1.columns = ['cantidad_de_instalaciones_en_ventana']\n",
    "features_installs_v2.columns = ['cantidad_de_instalaciones_en_ventana']\n",
    "features_installs_v3.columns = ['cantidad_de_instalaciones_en_ventana']\n",
    "features_installs_v4.columns = ['cantidad_de_instalaciones_en_ventana']\n",
    "features_installs_v5.columns = ['cantidad_de_instalaciones_en_ventana']"
   ]
  },
  {
   "cell_type": "code",
   "execution_count": 546,
   "metadata": {},
   "outputs": [],
   "source": [
    "for dia in Week_Day:\n",
    "    instalaciones_por_dia = installs[installs['created'].dt.day_name() == dia].groupby('ref_hash').agg({'ref_hash':'size'})\n",
    "    instalaciones_por_dia.columns = ['cantidad_installs_{}'.format(dia)]\n",
    "    \n",
    "    features_installs_v1 = features_installs_v1.merge(instalaciones_por_dia, how='outer', left_index=True, right_index=True)\n",
    "    features_installs_v2 = features_installs_v2.merge(instalaciones_por_dia, how='outer', left_index=True, right_index=True)\n",
    "    features_installs_v3 = features_installs_v3.merge(instalaciones_por_dia, how='outer', left_index=True, right_index=True)\n",
    "    features_installs_v4 = features_installs_v4.merge(instalaciones_por_dia, how='outer', left_index=True, right_index=True)\n",
    "    features_installs_v5 = features_installs_v5.merge(instalaciones_por_dia, how='outer', left_index=True, right_index=True)\n",
    "    \n",
    "features_installs_v1 = features_installs_v1.fillna(0)\n",
    "features_installs_v2 = features_installs_v2.fillna(0)\n",
    "features_installs_v3 = features_installs_v3.fillna(0)\n",
    "features_installs_v4 = features_installs_v4.fillna(0)\n",
    "features_installs_v5 = features_installs_v5.fillna(0)"
   ]
  },
  {
   "cell_type": "code",
   "execution_count": 547,
   "metadata": {},
   "outputs": [
    {
     "data": {
      "text/html": [
       "<div>\n",
       "<style scoped>\n",
       "    .dataframe tbody tr th:only-of-type {\n",
       "        vertical-align: middle;\n",
       "    }\n",
       "\n",
       "    .dataframe tbody tr th {\n",
       "        vertical-align: top;\n",
       "    }\n",
       "\n",
       "    .dataframe thead th {\n",
       "        text-align: right;\n",
       "    }\n",
       "</style>\n",
       "<table border=\"1\" class=\"dataframe\">\n",
       "  <thead>\n",
       "    <tr style=\"text-align: right;\">\n",
       "      <th></th>\n",
       "      <th>cantidad_de_instalaciones_en_ventana</th>\n",
       "      <th>cantidad_installs_Monday</th>\n",
       "      <th>cantidad_installs_Tuesday</th>\n",
       "      <th>cantidad_installs_Wednesday</th>\n",
       "      <th>cantidad_installs_Thursday</th>\n",
       "      <th>cantidad_installs_Friday</th>\n",
       "      <th>cantidad_installs_Saturday</th>\n",
       "      <th>cantidad_installs_Sunday</th>\n",
       "    </tr>\n",
       "    <tr>\n",
       "      <th>ref_hash</th>\n",
       "      <th></th>\n",
       "      <th></th>\n",
       "      <th></th>\n",
       "      <th></th>\n",
       "      <th></th>\n",
       "      <th></th>\n",
       "      <th></th>\n",
       "      <th></th>\n",
       "    </tr>\n",
       "  </thead>\n",
       "  <tbody>\n",
       "    <tr>\n",
       "      <th>40621409780134</th>\n",
       "      <td>0.0</td>\n",
       "      <td>0.0</td>\n",
       "      <td>0.0</td>\n",
       "      <td>0.0</td>\n",
       "      <td>0.0</td>\n",
       "      <td>0.0</td>\n",
       "      <td>0.0</td>\n",
       "      <td>1.0</td>\n",
       "    </tr>\n",
       "    <tr>\n",
       "      <th>41863526108385</th>\n",
       "      <td>4.0</td>\n",
       "      <td>0.0</td>\n",
       "      <td>0.0</td>\n",
       "      <td>0.0</td>\n",
       "      <td>4.0</td>\n",
       "      <td>0.0</td>\n",
       "      <td>0.0</td>\n",
       "      <td>0.0</td>\n",
       "    </tr>\n",
       "    <tr>\n",
       "      <th>90072729247980</th>\n",
       "      <td>0.0</td>\n",
       "      <td>0.0</td>\n",
       "      <td>0.0</td>\n",
       "      <td>1.0</td>\n",
       "      <td>0.0</td>\n",
       "      <td>0.0</td>\n",
       "      <td>0.0</td>\n",
       "      <td>0.0</td>\n",
       "    </tr>\n",
       "    <tr>\n",
       "      <th>135153013040192</th>\n",
       "      <td>1.0</td>\n",
       "      <td>0.0</td>\n",
       "      <td>0.0</td>\n",
       "      <td>0.0</td>\n",
       "      <td>0.0</td>\n",
       "      <td>0.0</td>\n",
       "      <td>1.0</td>\n",
       "      <td>0.0</td>\n",
       "    </tr>\n",
       "    <tr>\n",
       "      <th>161514654074162</th>\n",
       "      <td>0.0</td>\n",
       "      <td>1.0</td>\n",
       "      <td>0.0</td>\n",
       "      <td>0.0</td>\n",
       "      <td>0.0</td>\n",
       "      <td>0.0</td>\n",
       "      <td>0.0</td>\n",
       "      <td>0.0</td>\n",
       "    </tr>\n",
       "  </tbody>\n",
       "</table>\n",
       "</div>"
      ],
      "text/plain": [
       "                 cantidad_de_instalaciones_en_ventana  \\\n",
       "ref_hash                                                \n",
       "40621409780134                                    0.0   \n",
       "41863526108385                                    4.0   \n",
       "90072729247980                                    0.0   \n",
       "135153013040192                                   1.0   \n",
       "161514654074162                                   0.0   \n",
       "\n",
       "                 cantidad_installs_Monday  cantidad_installs_Tuesday  \\\n",
       "ref_hash                                                               \n",
       "40621409780134                        0.0                        0.0   \n",
       "41863526108385                        0.0                        0.0   \n",
       "90072729247980                        0.0                        0.0   \n",
       "135153013040192                       0.0                        0.0   \n",
       "161514654074162                       1.0                        0.0   \n",
       "\n",
       "                 cantidad_installs_Wednesday  cantidad_installs_Thursday  \\\n",
       "ref_hash                                                                   \n",
       "40621409780134                           0.0                         0.0   \n",
       "41863526108385                           0.0                         4.0   \n",
       "90072729247980                           1.0                         0.0   \n",
       "135153013040192                          0.0                         0.0   \n",
       "161514654074162                          0.0                         0.0   \n",
       "\n",
       "                 cantidad_installs_Friday  cantidad_installs_Saturday  \\\n",
       "ref_hash                                                                \n",
       "40621409780134                        0.0                         0.0   \n",
       "41863526108385                        0.0                         0.0   \n",
       "90072729247980                        0.0                         0.0   \n",
       "135153013040192                       0.0                         1.0   \n",
       "161514654074162                       0.0                         0.0   \n",
       "\n",
       "                 cantidad_installs_Sunday  \n",
       "ref_hash                                   \n",
       "40621409780134                        1.0  \n",
       "41863526108385                        0.0  \n",
       "90072729247980                        0.0  \n",
       "135153013040192                       0.0  \n",
       "161514654074162                       0.0  "
      ]
     },
     "execution_count": 547,
     "metadata": {},
     "output_type": "execute_result"
    }
   ],
   "source": [
    "features_installs_v1.head()"
   ]
  },
  {
   "cell_type": "code",
   "execution_count": null,
   "metadata": {},
   "outputs": [],
   "source": []
  },
  {
   "cell_type": "markdown",
   "metadata": {},
   "source": [
    "## mergeo todos los features por dispositivo"
   ]
  },
  {
   "cell_type": "code",
   "execution_count": 548,
   "metadata": {},
   "outputs": [],
   "source": [
    "features_v1 = pd.merge(features_auctions_v1.reset_index(),\\\n",
    "                       features_clicks_v1,\\\n",
    "                       left_on='device_id',right_on='ref_hash',how='inner')"
   ]
  },
  {
   "cell_type": "code",
   "execution_count": 549,
   "metadata": {},
   "outputs": [],
   "source": [
    "del features_v1['device_id']"
   ]
  },
  {
   "cell_type": "code",
   "execution_count": 550,
   "metadata": {},
   "outputs": [],
   "source": [
    "features_v1 = pd.merge(features_v1,features_installs_v1.reset_index(),on='ref_hash',how='inner')"
   ]
  },
  {
   "cell_type": "code",
   "execution_count": 551,
   "metadata": {},
   "outputs": [],
   "source": [
    "features_v1 = pd.merge(features_v1,features_events[0].reset_index(),on='ref_hash',how='inner')"
   ]
  },
  {
   "cell_type": "code",
   "execution_count": 552,
   "metadata": {},
   "outputs": [
    {
     "data": {
      "text/plain": [
       "(1683, 66)"
      ]
     },
     "execution_count": 552,
     "metadata": {},
     "output_type": "execute_result"
    }
   ],
   "source": [
    "features_v1.shape"
   ]
  },
  {
   "cell_type": "code",
   "execution_count": 553,
   "metadata": {},
   "outputs": [],
   "source": [
    "features_v1 = pd.merge(label1[['device_id']],features_v1,left_on='device_id',right_on='ref_hash',how='inner')"
   ]
  },
  {
   "cell_type": "code",
   "execution_count": 554,
   "metadata": {},
   "outputs": [
    {
     "data": {
      "text/plain": [
       "(1327, 67)"
      ]
     },
     "execution_count": 554,
     "metadata": {},
     "output_type": "execute_result"
    }
   ],
   "source": [
    "features_v1.shape"
   ]
  },
  {
   "cell_type": "code",
   "execution_count": 555,
   "metadata": {},
   "outputs": [],
   "source": [
    "features_v1.sort_values(by='ref_hash',inplace=True)"
   ]
  },
  {
   "cell_type": "code",
   "execution_count": 556,
   "metadata": {},
   "outputs": [],
   "source": [
    "del features_v1['device_id']"
   ]
  },
  {
   "cell_type": "code",
   "execution_count": 557,
   "metadata": {},
   "outputs": [
    {
     "data": {
      "text/html": [
       "<div>\n",
       "<style scoped>\n",
       "    .dataframe tbody tr th:only-of-type {\n",
       "        vertical-align: middle;\n",
       "    }\n",
       "\n",
       "    .dataframe tbody tr th {\n",
       "        vertical-align: top;\n",
       "    }\n",
       "\n",
       "    .dataframe thead th {\n",
       "        text-align: right;\n",
       "    }\n",
       "</style>\n",
       "<table border=\"1\" class=\"dataframe\">\n",
       "  <thead>\n",
       "    <tr style=\"text-align: right;\">\n",
       "      <th></th>\n",
       "      <th>cantidad_de_subastas_en_ventana</th>\n",
       "      <th>cantidad_subastas_Monday</th>\n",
       "      <th>cantidad_subastas_Tuesday</th>\n",
       "      <th>cantidad_subastas_Wednesday</th>\n",
       "      <th>cantidad_subastas_Thursday</th>\n",
       "      <th>cantidad_subastas_Friday</th>\n",
       "      <th>cantidad_subastas_Saturday</th>\n",
       "      <th>cantidad_subastas_Sunday</th>\n",
       "      <th>ref_hash</th>\n",
       "      <th>cantidad_de_clicks_en_ventana</th>\n",
       "      <th>...</th>\n",
       "      <th>cantidad_eventos_hora_14</th>\n",
       "      <th>cantidad_eventos_hora_15</th>\n",
       "      <th>cantidad_eventos_hora_16</th>\n",
       "      <th>cantidad_eventos_hora_17</th>\n",
       "      <th>cantidad_eventos_hora_18</th>\n",
       "      <th>cantidad_eventos_hora_19</th>\n",
       "      <th>cantidad_eventos_hora_20</th>\n",
       "      <th>cantidad_eventos_hora_21</th>\n",
       "      <th>cantidad_eventos_hora_22</th>\n",
       "      <th>cantidad_eventos_hora_23</th>\n",
       "    </tr>\n",
       "  </thead>\n",
       "  <tbody>\n",
       "    <tr>\n",
       "      <th>941</th>\n",
       "      <td>4.0</td>\n",
       "      <td>1.0</td>\n",
       "      <td>0.0</td>\n",
       "      <td>73.0</td>\n",
       "      <td>8.0</td>\n",
       "      <td>2.0</td>\n",
       "      <td>0.0</td>\n",
       "      <td>0.0</td>\n",
       "      <td>17411113585415081</td>\n",
       "      <td>1.0</td>\n",
       "      <td>...</td>\n",
       "      <td>0.0</td>\n",
       "      <td>0.0</td>\n",
       "      <td>0.0</td>\n",
       "      <td>0.0</td>\n",
       "      <td>0.0</td>\n",
       "      <td>0.0</td>\n",
       "      <td>0.0</td>\n",
       "      <td>8.0</td>\n",
       "      <td>1.0</td>\n",
       "      <td>0.0</td>\n",
       "    </tr>\n",
       "    <tr>\n",
       "      <th>401</th>\n",
       "      <td>254.0</td>\n",
       "      <td>33.0</td>\n",
       "      <td>11.0</td>\n",
       "      <td>0.0</td>\n",
       "      <td>42.0</td>\n",
       "      <td>108.0</td>\n",
       "      <td>104.0</td>\n",
       "      <td>39.0</td>\n",
       "      <td>18336104939494418</td>\n",
       "      <td>4.0</td>\n",
       "      <td>...</td>\n",
       "      <td>0.0</td>\n",
       "      <td>0.0</td>\n",
       "      <td>0.0</td>\n",
       "      <td>0.0</td>\n",
       "      <td>0.0</td>\n",
       "      <td>0.0</td>\n",
       "      <td>0.0</td>\n",
       "      <td>0.0</td>\n",
       "      <td>5.0</td>\n",
       "      <td>0.0</td>\n",
       "    </tr>\n",
       "    <tr>\n",
       "      <th>980</th>\n",
       "      <td>36.0</td>\n",
       "      <td>19.0</td>\n",
       "      <td>86.0</td>\n",
       "      <td>51.0</td>\n",
       "      <td>111.0</td>\n",
       "      <td>64.0</td>\n",
       "      <td>34.0</td>\n",
       "      <td>82.0</td>\n",
       "      <td>24003528264893641</td>\n",
       "      <td>1.0</td>\n",
       "      <td>...</td>\n",
       "      <td>0.0</td>\n",
       "      <td>0.0</td>\n",
       "      <td>0.0</td>\n",
       "      <td>0.0</td>\n",
       "      <td>0.0</td>\n",
       "      <td>0.0</td>\n",
       "      <td>2.0</td>\n",
       "      <td>0.0</td>\n",
       "      <td>0.0</td>\n",
       "      <td>0.0</td>\n",
       "    </tr>\n",
       "    <tr>\n",
       "      <th>913</th>\n",
       "      <td>318.0</td>\n",
       "      <td>0.0</td>\n",
       "      <td>0.0</td>\n",
       "      <td>2.0</td>\n",
       "      <td>81.0</td>\n",
       "      <td>177.0</td>\n",
       "      <td>61.0</td>\n",
       "      <td>37.0</td>\n",
       "      <td>28354923597842736</td>\n",
       "      <td>1.0</td>\n",
       "      <td>...</td>\n",
       "      <td>0.0</td>\n",
       "      <td>0.0</td>\n",
       "      <td>0.0</td>\n",
       "      <td>0.0</td>\n",
       "      <td>0.0</td>\n",
       "      <td>0.0</td>\n",
       "      <td>23.0</td>\n",
       "      <td>0.0</td>\n",
       "      <td>0.0</td>\n",
       "      <td>0.0</td>\n",
       "    </tr>\n",
       "    <tr>\n",
       "      <th>505</th>\n",
       "      <td>32.0</td>\n",
       "      <td>2.0</td>\n",
       "      <td>0.0</td>\n",
       "      <td>0.0</td>\n",
       "      <td>29.0</td>\n",
       "      <td>4.0</td>\n",
       "      <td>1.0</td>\n",
       "      <td>1.0</td>\n",
       "      <td>31813139061954413</td>\n",
       "      <td>1.0</td>\n",
       "      <td>...</td>\n",
       "      <td>0.0</td>\n",
       "      <td>0.0</td>\n",
       "      <td>0.0</td>\n",
       "      <td>0.0</td>\n",
       "      <td>0.0</td>\n",
       "      <td>5.0</td>\n",
       "      <td>20.0</td>\n",
       "      <td>11.0</td>\n",
       "      <td>0.0</td>\n",
       "      <td>0.0</td>\n",
       "    </tr>\n",
       "  </tbody>\n",
       "</table>\n",
       "<p>5 rows × 66 columns</p>\n",
       "</div>"
      ],
      "text/plain": [
       "     cantidad_de_subastas_en_ventana  cantidad_subastas_Monday  \\\n",
       "941                              4.0                       1.0   \n",
       "401                            254.0                      33.0   \n",
       "980                             36.0                      19.0   \n",
       "913                            318.0                       0.0   \n",
       "505                             32.0                       2.0   \n",
       "\n",
       "     cantidad_subastas_Tuesday  cantidad_subastas_Wednesday  \\\n",
       "941                        0.0                         73.0   \n",
       "401                       11.0                          0.0   \n",
       "980                       86.0                         51.0   \n",
       "913                        0.0                          2.0   \n",
       "505                        0.0                          0.0   \n",
       "\n",
       "     cantidad_subastas_Thursday  cantidad_subastas_Friday  \\\n",
       "941                         8.0                       2.0   \n",
       "401                        42.0                     108.0   \n",
       "980                       111.0                      64.0   \n",
       "913                        81.0                     177.0   \n",
       "505                        29.0                       4.0   \n",
       "\n",
       "     cantidad_subastas_Saturday  cantidad_subastas_Sunday           ref_hash  \\\n",
       "941                         0.0                       0.0  17411113585415081   \n",
       "401                       104.0                      39.0  18336104939494418   \n",
       "980                        34.0                      82.0  24003528264893641   \n",
       "913                        61.0                      37.0  28354923597842736   \n",
       "505                         1.0                       1.0  31813139061954413   \n",
       "\n",
       "     cantidad_de_clicks_en_ventana            ...             \\\n",
       "941                            1.0            ...              \n",
       "401                            4.0            ...              \n",
       "980                            1.0            ...              \n",
       "913                            1.0            ...              \n",
       "505                            1.0            ...              \n",
       "\n",
       "     cantidad_eventos_hora_14  cantidad_eventos_hora_15  \\\n",
       "941                       0.0                       0.0   \n",
       "401                       0.0                       0.0   \n",
       "980                       0.0                       0.0   \n",
       "913                       0.0                       0.0   \n",
       "505                       0.0                       0.0   \n",
       "\n",
       "     cantidad_eventos_hora_16  cantidad_eventos_hora_17  \\\n",
       "941                       0.0                       0.0   \n",
       "401                       0.0                       0.0   \n",
       "980                       0.0                       0.0   \n",
       "913                       0.0                       0.0   \n",
       "505                       0.0                       0.0   \n",
       "\n",
       "     cantidad_eventos_hora_18  cantidad_eventos_hora_19  \\\n",
       "941                       0.0                       0.0   \n",
       "401                       0.0                       0.0   \n",
       "980                       0.0                       0.0   \n",
       "913                       0.0                       0.0   \n",
       "505                       0.0                       5.0   \n",
       "\n",
       "     cantidad_eventos_hora_20  cantidad_eventos_hora_21  \\\n",
       "941                       0.0                       8.0   \n",
       "401                       0.0                       0.0   \n",
       "980                       2.0                       0.0   \n",
       "913                      23.0                       0.0   \n",
       "505                      20.0                      11.0   \n",
       "\n",
       "     cantidad_eventos_hora_22  cantidad_eventos_hora_23  \n",
       "941                       1.0                       0.0  \n",
       "401                       5.0                       0.0  \n",
       "980                       0.0                       0.0  \n",
       "913                       0.0                       0.0  \n",
       "505                       0.0                       0.0  \n",
       "\n",
       "[5 rows x 66 columns]"
      ]
     },
     "execution_count": 557,
     "metadata": {},
     "output_type": "execute_result"
    }
   ],
   "source": [
    "features_v1.head()"
   ]
  },
  {
   "cell_type": "code",
   "execution_count": null,
   "metadata": {},
   "outputs": [],
   "source": []
  },
  {
   "cell_type": "code",
   "execution_count": 558,
   "metadata": {},
   "outputs": [],
   "source": [
    "features_v2 = pd.merge(features_auctions_v2.reset_index(),\\\n",
    "                       features_clicks_v2,\\\n",
    "                       left_on='device_id',right_on='ref_hash',how='inner')"
   ]
  },
  {
   "cell_type": "code",
   "execution_count": 559,
   "metadata": {},
   "outputs": [],
   "source": [
    "del features_v2['device_id']"
   ]
  },
  {
   "cell_type": "code",
   "execution_count": 560,
   "metadata": {},
   "outputs": [],
   "source": [
    "features_v2 = pd.merge(features_v2,features_installs_v2.reset_index(),on='ref_hash',how='inner')"
   ]
  },
  {
   "cell_type": "code",
   "execution_count": 561,
   "metadata": {},
   "outputs": [],
   "source": [
    "features_v2 = pd.merge(features_v2,features_events[1].reset_index(),on='ref_hash',how='inner')"
   ]
  },
  {
   "cell_type": "code",
   "execution_count": 562,
   "metadata": {},
   "outputs": [
    {
     "data": {
      "text/plain": [
       "(1726, 66)"
      ]
     },
     "execution_count": 562,
     "metadata": {},
     "output_type": "execute_result"
    }
   ],
   "source": [
    "features_v2.shape"
   ]
  },
  {
   "cell_type": "code",
   "execution_count": 563,
   "metadata": {},
   "outputs": [],
   "source": [
    "features_v2 = pd.merge(label2[['device_id']],features_v2,left_on='device_id',right_on='ref_hash',how='inner')"
   ]
  },
  {
   "cell_type": "code",
   "execution_count": 564,
   "metadata": {},
   "outputs": [
    {
     "data": {
      "text/plain": [
       "(1223, 67)"
      ]
     },
     "execution_count": 564,
     "metadata": {},
     "output_type": "execute_result"
    }
   ],
   "source": [
    "features_v2.shape"
   ]
  },
  {
   "cell_type": "code",
   "execution_count": 565,
   "metadata": {},
   "outputs": [],
   "source": [
    "features_v2.sort_values(by='ref_hash',inplace=True)"
   ]
  },
  {
   "cell_type": "code",
   "execution_count": 566,
   "metadata": {},
   "outputs": [],
   "source": [
    "del features_v2['device_id']"
   ]
  },
  {
   "cell_type": "code",
   "execution_count": 567,
   "metadata": {},
   "outputs": [
    {
     "data": {
      "text/html": [
       "<div>\n",
       "<style scoped>\n",
       "    .dataframe tbody tr th:only-of-type {\n",
       "        vertical-align: middle;\n",
       "    }\n",
       "\n",
       "    .dataframe tbody tr th {\n",
       "        vertical-align: top;\n",
       "    }\n",
       "\n",
       "    .dataframe thead th {\n",
       "        text-align: right;\n",
       "    }\n",
       "</style>\n",
       "<table border=\"1\" class=\"dataframe\">\n",
       "  <thead>\n",
       "    <tr style=\"text-align: right;\">\n",
       "      <th></th>\n",
       "      <th>cantidad_de_subastas_en_ventana</th>\n",
       "      <th>cantidad_subastas_Monday</th>\n",
       "      <th>cantidad_subastas_Tuesday</th>\n",
       "      <th>cantidad_subastas_Wednesday</th>\n",
       "      <th>cantidad_subastas_Thursday</th>\n",
       "      <th>cantidad_subastas_Friday</th>\n",
       "      <th>cantidad_subastas_Saturday</th>\n",
       "      <th>cantidad_subastas_Sunday</th>\n",
       "      <th>ref_hash</th>\n",
       "      <th>cantidad_de_clicks_en_ventana</th>\n",
       "      <th>...</th>\n",
       "      <th>cantidad_eventos_hora_14</th>\n",
       "      <th>cantidad_eventos_hora_15</th>\n",
       "      <th>cantidad_eventos_hora_16</th>\n",
       "      <th>cantidad_eventos_hora_17</th>\n",
       "      <th>cantidad_eventos_hora_18</th>\n",
       "      <th>cantidad_eventos_hora_19</th>\n",
       "      <th>cantidad_eventos_hora_20</th>\n",
       "      <th>cantidad_eventos_hora_21</th>\n",
       "      <th>cantidad_eventos_hora_22</th>\n",
       "      <th>cantidad_eventos_hora_23</th>\n",
       "    </tr>\n",
       "  </thead>\n",
       "  <tbody>\n",
       "    <tr>\n",
       "      <th>123</th>\n",
       "      <td>133.0</td>\n",
       "      <td>0.0</td>\n",
       "      <td>0.0</td>\n",
       "      <td>0.0</td>\n",
       "      <td>25.0</td>\n",
       "      <td>105.0</td>\n",
       "      <td>28.0</td>\n",
       "      <td>0.0</td>\n",
       "      <td>11447172392196885</td>\n",
       "      <td>1.0</td>\n",
       "      <td>...</td>\n",
       "      <td>0.0</td>\n",
       "      <td>0.0</td>\n",
       "      <td>0.0</td>\n",
       "      <td>0.0</td>\n",
       "      <td>0.0</td>\n",
       "      <td>0.0</td>\n",
       "      <td>0.0</td>\n",
       "      <td>0.0</td>\n",
       "      <td>3.0</td>\n",
       "      <td>1.0</td>\n",
       "    </tr>\n",
       "    <tr>\n",
       "      <th>44</th>\n",
       "      <td>358.0</td>\n",
       "      <td>240.0</td>\n",
       "      <td>284.0</td>\n",
       "      <td>162.0</td>\n",
       "      <td>370.0</td>\n",
       "      <td>423.0</td>\n",
       "      <td>34.0</td>\n",
       "      <td>169.0</td>\n",
       "      <td>22893722123239044</td>\n",
       "      <td>1.0</td>\n",
       "      <td>...</td>\n",
       "      <td>0.0</td>\n",
       "      <td>7.0</td>\n",
       "      <td>0.0</td>\n",
       "      <td>0.0</td>\n",
       "      <td>0.0</td>\n",
       "      <td>0.0</td>\n",
       "      <td>0.0</td>\n",
       "      <td>0.0</td>\n",
       "      <td>0.0</td>\n",
       "      <td>0.0</td>\n",
       "    </tr>\n",
       "    <tr>\n",
       "      <th>464</th>\n",
       "      <td>117.0</td>\n",
       "      <td>19.0</td>\n",
       "      <td>86.0</td>\n",
       "      <td>51.0</td>\n",
       "      <td>111.0</td>\n",
       "      <td>64.0</td>\n",
       "      <td>34.0</td>\n",
       "      <td>82.0</td>\n",
       "      <td>24003528264893641</td>\n",
       "      <td>1.0</td>\n",
       "      <td>...</td>\n",
       "      <td>0.0</td>\n",
       "      <td>0.0</td>\n",
       "      <td>0.0</td>\n",
       "      <td>0.0</td>\n",
       "      <td>0.0</td>\n",
       "      <td>0.0</td>\n",
       "      <td>2.0</td>\n",
       "      <td>0.0</td>\n",
       "      <td>0.0</td>\n",
       "      <td>0.0</td>\n",
       "    </tr>\n",
       "    <tr>\n",
       "      <th>311</th>\n",
       "      <td>275.0</td>\n",
       "      <td>0.0</td>\n",
       "      <td>0.0</td>\n",
       "      <td>2.0</td>\n",
       "      <td>81.0</td>\n",
       "      <td>177.0</td>\n",
       "      <td>61.0</td>\n",
       "      <td>37.0</td>\n",
       "      <td>28354923597842736</td>\n",
       "      <td>1.0</td>\n",
       "      <td>...</td>\n",
       "      <td>0.0</td>\n",
       "      <td>0.0</td>\n",
       "      <td>0.0</td>\n",
       "      <td>0.0</td>\n",
       "      <td>0.0</td>\n",
       "      <td>0.0</td>\n",
       "      <td>23.0</td>\n",
       "      <td>0.0</td>\n",
       "      <td>0.0</td>\n",
       "      <td>0.0</td>\n",
       "    </tr>\n",
       "    <tr>\n",
       "      <th>467</th>\n",
       "      <td>444.0</td>\n",
       "      <td>65.0</td>\n",
       "      <td>12.0</td>\n",
       "      <td>3.0</td>\n",
       "      <td>346.0</td>\n",
       "      <td>135.0</td>\n",
       "      <td>115.0</td>\n",
       "      <td>201.0</td>\n",
       "      <td>31852821981696986</td>\n",
       "      <td>1.0</td>\n",
       "      <td>...</td>\n",
       "      <td>0.0</td>\n",
       "      <td>0.0</td>\n",
       "      <td>0.0</td>\n",
       "      <td>0.0</td>\n",
       "      <td>0.0</td>\n",
       "      <td>0.0</td>\n",
       "      <td>0.0</td>\n",
       "      <td>0.0</td>\n",
       "      <td>0.0</td>\n",
       "      <td>0.0</td>\n",
       "    </tr>\n",
       "  </tbody>\n",
       "</table>\n",
       "<p>5 rows × 66 columns</p>\n",
       "</div>"
      ],
      "text/plain": [
       "     cantidad_de_subastas_en_ventana  cantidad_subastas_Monday  \\\n",
       "123                            133.0                       0.0   \n",
       "44                             358.0                     240.0   \n",
       "464                            117.0                      19.0   \n",
       "311                            275.0                       0.0   \n",
       "467                            444.0                      65.0   \n",
       "\n",
       "     cantidad_subastas_Tuesday  cantidad_subastas_Wednesday  \\\n",
       "123                        0.0                          0.0   \n",
       "44                       284.0                        162.0   \n",
       "464                       86.0                         51.0   \n",
       "311                        0.0                          2.0   \n",
       "467                       12.0                          3.0   \n",
       "\n",
       "     cantidad_subastas_Thursday  cantidad_subastas_Friday  \\\n",
       "123                        25.0                     105.0   \n",
       "44                        370.0                     423.0   \n",
       "464                       111.0                      64.0   \n",
       "311                        81.0                     177.0   \n",
       "467                       346.0                     135.0   \n",
       "\n",
       "     cantidad_subastas_Saturday  cantidad_subastas_Sunday           ref_hash  \\\n",
       "123                        28.0                       0.0  11447172392196885   \n",
       "44                         34.0                     169.0  22893722123239044   \n",
       "464                        34.0                      82.0  24003528264893641   \n",
       "311                        61.0                      37.0  28354923597842736   \n",
       "467                       115.0                     201.0  31852821981696986   \n",
       "\n",
       "     cantidad_de_clicks_en_ventana            ...             \\\n",
       "123                            1.0            ...              \n",
       "44                             1.0            ...              \n",
       "464                            1.0            ...              \n",
       "311                            1.0            ...              \n",
       "467                            1.0            ...              \n",
       "\n",
       "     cantidad_eventos_hora_14  cantidad_eventos_hora_15  \\\n",
       "123                       0.0                       0.0   \n",
       "44                        0.0                       7.0   \n",
       "464                       0.0                       0.0   \n",
       "311                       0.0                       0.0   \n",
       "467                       0.0                       0.0   \n",
       "\n",
       "     cantidad_eventos_hora_16  cantidad_eventos_hora_17  \\\n",
       "123                       0.0                       0.0   \n",
       "44                        0.0                       0.0   \n",
       "464                       0.0                       0.0   \n",
       "311                       0.0                       0.0   \n",
       "467                       0.0                       0.0   \n",
       "\n",
       "     cantidad_eventos_hora_18  cantidad_eventos_hora_19  \\\n",
       "123                       0.0                       0.0   \n",
       "44                        0.0                       0.0   \n",
       "464                       0.0                       0.0   \n",
       "311                       0.0                       0.0   \n",
       "467                       0.0                       0.0   \n",
       "\n",
       "     cantidad_eventos_hora_20  cantidad_eventos_hora_21  \\\n",
       "123                       0.0                       0.0   \n",
       "44                        0.0                       0.0   \n",
       "464                       2.0                       0.0   \n",
       "311                      23.0                       0.0   \n",
       "467                       0.0                       0.0   \n",
       "\n",
       "     cantidad_eventos_hora_22  cantidad_eventos_hora_23  \n",
       "123                       3.0                       1.0  \n",
       "44                        0.0                       0.0  \n",
       "464                       0.0                       0.0  \n",
       "311                       0.0                       0.0  \n",
       "467                       0.0                       0.0  \n",
       "\n",
       "[5 rows x 66 columns]"
      ]
     },
     "execution_count": 567,
     "metadata": {},
     "output_type": "execute_result"
    }
   ],
   "source": [
    "features_v2.head()"
   ]
  },
  {
   "cell_type": "markdown",
   "metadata": {},
   "source": [
    "# LABEL"
   ]
  },
  {
   "cell_type": "code",
   "execution_count": 568,
   "metadata": {},
   "outputs": [],
   "source": [
    "label1 = (label1.loc[label1['device_id'].isin(features_v1['ref_hash'])])[['device_id','st']]"
   ]
  },
  {
   "cell_type": "code",
   "execution_count": 569,
   "metadata": {},
   "outputs": [
    {
     "data": {
      "text/plain": [
       "(1327, 2)"
      ]
     },
     "execution_count": 569,
     "metadata": {},
     "output_type": "execute_result"
    }
   ],
   "source": [
    "label1.shape"
   ]
  },
  {
   "cell_type": "code",
   "execution_count": 570,
   "metadata": {},
   "outputs": [],
   "source": [
    "tiempo_maximo = 259200\n",
    "label1['binary'] = np.where(label1['st']>=tiempo_maximo,False,True)\n",
    "label1.sort_values(by='device_id',inplace=True)"
   ]
  },
  {
   "cell_type": "code",
   "execution_count": 571,
   "metadata": {},
   "outputs": [],
   "source": [
    "label1_b = label1[['binary','st']].to_records(index=False) "
   ]
  },
  {
   "cell_type": "code",
   "execution_count": null,
   "metadata": {},
   "outputs": [],
   "source": []
  },
  {
   "cell_type": "code",
   "execution_count": 572,
   "metadata": {},
   "outputs": [],
   "source": [
    "label2 = (label2.loc[label2['device_id'].isin(features_v2['ref_hash'])])[['device_id','st']]"
   ]
  },
  {
   "cell_type": "code",
   "execution_count": 573,
   "metadata": {},
   "outputs": [
    {
     "data": {
      "text/plain": [
       "(1223, 2)"
      ]
     },
     "execution_count": 573,
     "metadata": {},
     "output_type": "execute_result"
    }
   ],
   "source": [
    "label2.shape"
   ]
  },
  {
   "cell_type": "code",
   "execution_count": 574,
   "metadata": {},
   "outputs": [],
   "source": [
    "tiempo_maximo = 259200\n",
    "label2['binary'] = np.where(label2['st']>=tiempo_maximo,False,True)\n",
    "label2.sort_values(by='device_id',inplace=True)"
   ]
  },
  {
   "cell_type": "code",
   "execution_count": 575,
   "metadata": {},
   "outputs": [],
   "source": [
    "label2_b = label2[['binary','st']].to_records(index=False) "
   ]
  },
  {
   "cell_type": "code",
   "execution_count": null,
   "metadata": {},
   "outputs": [],
   "source": []
  },
  {
   "cell_type": "markdown",
   "metadata": {},
   "source": [
    "# Algoritmo"
   ]
  },
  {
   "cell_type": "code",
   "execution_count": 576,
   "metadata": {},
   "outputs": [
    {
     "data": {
      "text/html": [
       "<div>\n",
       "<style scoped>\n",
       "    .dataframe tbody tr th:only-of-type {\n",
       "        vertical-align: middle;\n",
       "    }\n",
       "\n",
       "    .dataframe tbody tr th {\n",
       "        vertical-align: top;\n",
       "    }\n",
       "\n",
       "    .dataframe thead th {\n",
       "        text-align: right;\n",
       "    }\n",
       "</style>\n",
       "<table border=\"1\" class=\"dataframe\">\n",
       "  <thead>\n",
       "    <tr style=\"text-align: right;\">\n",
       "      <th></th>\n",
       "      <th>cantidad_de_subastas_en_ventana</th>\n",
       "      <th>cantidad_subastas_Monday</th>\n",
       "      <th>cantidad_subastas_Tuesday</th>\n",
       "      <th>cantidad_subastas_Wednesday</th>\n",
       "      <th>cantidad_subastas_Thursday</th>\n",
       "      <th>cantidad_subastas_Friday</th>\n",
       "      <th>cantidad_subastas_Saturday</th>\n",
       "      <th>cantidad_subastas_Sunday</th>\n",
       "      <th>ref_hash</th>\n",
       "      <th>cantidad_de_clicks_en_ventana</th>\n",
       "      <th>...</th>\n",
       "      <th>cantidad_eventos_hora_14</th>\n",
       "      <th>cantidad_eventos_hora_15</th>\n",
       "      <th>cantidad_eventos_hora_16</th>\n",
       "      <th>cantidad_eventos_hora_17</th>\n",
       "      <th>cantidad_eventos_hora_18</th>\n",
       "      <th>cantidad_eventos_hora_19</th>\n",
       "      <th>cantidad_eventos_hora_20</th>\n",
       "      <th>cantidad_eventos_hora_21</th>\n",
       "      <th>cantidad_eventos_hora_22</th>\n",
       "      <th>cantidad_eventos_hora_23</th>\n",
       "    </tr>\n",
       "  </thead>\n",
       "  <tbody>\n",
       "    <tr>\n",
       "      <th>941</th>\n",
       "      <td>4.0</td>\n",
       "      <td>1.0</td>\n",
       "      <td>0.0</td>\n",
       "      <td>73.0</td>\n",
       "      <td>8.0</td>\n",
       "      <td>2.0</td>\n",
       "      <td>0.0</td>\n",
       "      <td>0.0</td>\n",
       "      <td>17411113585415081</td>\n",
       "      <td>1.0</td>\n",
       "      <td>...</td>\n",
       "      <td>0.0</td>\n",
       "      <td>0.0</td>\n",
       "      <td>0.0</td>\n",
       "      <td>0.0</td>\n",
       "      <td>0.0</td>\n",
       "      <td>0.0</td>\n",
       "      <td>0.0</td>\n",
       "      <td>8.0</td>\n",
       "      <td>1.0</td>\n",
       "      <td>0.0</td>\n",
       "    </tr>\n",
       "    <tr>\n",
       "      <th>401</th>\n",
       "      <td>254.0</td>\n",
       "      <td>33.0</td>\n",
       "      <td>11.0</td>\n",
       "      <td>0.0</td>\n",
       "      <td>42.0</td>\n",
       "      <td>108.0</td>\n",
       "      <td>104.0</td>\n",
       "      <td>39.0</td>\n",
       "      <td>18336104939494418</td>\n",
       "      <td>4.0</td>\n",
       "      <td>...</td>\n",
       "      <td>0.0</td>\n",
       "      <td>0.0</td>\n",
       "      <td>0.0</td>\n",
       "      <td>0.0</td>\n",
       "      <td>0.0</td>\n",
       "      <td>0.0</td>\n",
       "      <td>0.0</td>\n",
       "      <td>0.0</td>\n",
       "      <td>5.0</td>\n",
       "      <td>0.0</td>\n",
       "    </tr>\n",
       "    <tr>\n",
       "      <th>980</th>\n",
       "      <td>36.0</td>\n",
       "      <td>19.0</td>\n",
       "      <td>86.0</td>\n",
       "      <td>51.0</td>\n",
       "      <td>111.0</td>\n",
       "      <td>64.0</td>\n",
       "      <td>34.0</td>\n",
       "      <td>82.0</td>\n",
       "      <td>24003528264893641</td>\n",
       "      <td>1.0</td>\n",
       "      <td>...</td>\n",
       "      <td>0.0</td>\n",
       "      <td>0.0</td>\n",
       "      <td>0.0</td>\n",
       "      <td>0.0</td>\n",
       "      <td>0.0</td>\n",
       "      <td>0.0</td>\n",
       "      <td>2.0</td>\n",
       "      <td>0.0</td>\n",
       "      <td>0.0</td>\n",
       "      <td>0.0</td>\n",
       "    </tr>\n",
       "    <tr>\n",
       "      <th>913</th>\n",
       "      <td>318.0</td>\n",
       "      <td>0.0</td>\n",
       "      <td>0.0</td>\n",
       "      <td>2.0</td>\n",
       "      <td>81.0</td>\n",
       "      <td>177.0</td>\n",
       "      <td>61.0</td>\n",
       "      <td>37.0</td>\n",
       "      <td>28354923597842736</td>\n",
       "      <td>1.0</td>\n",
       "      <td>...</td>\n",
       "      <td>0.0</td>\n",
       "      <td>0.0</td>\n",
       "      <td>0.0</td>\n",
       "      <td>0.0</td>\n",
       "      <td>0.0</td>\n",
       "      <td>0.0</td>\n",
       "      <td>23.0</td>\n",
       "      <td>0.0</td>\n",
       "      <td>0.0</td>\n",
       "      <td>0.0</td>\n",
       "    </tr>\n",
       "    <tr>\n",
       "      <th>505</th>\n",
       "      <td>32.0</td>\n",
       "      <td>2.0</td>\n",
       "      <td>0.0</td>\n",
       "      <td>0.0</td>\n",
       "      <td>29.0</td>\n",
       "      <td>4.0</td>\n",
       "      <td>1.0</td>\n",
       "      <td>1.0</td>\n",
       "      <td>31813139061954413</td>\n",
       "      <td>1.0</td>\n",
       "      <td>...</td>\n",
       "      <td>0.0</td>\n",
       "      <td>0.0</td>\n",
       "      <td>0.0</td>\n",
       "      <td>0.0</td>\n",
       "      <td>0.0</td>\n",
       "      <td>5.0</td>\n",
       "      <td>20.0</td>\n",
       "      <td>11.0</td>\n",
       "      <td>0.0</td>\n",
       "      <td>0.0</td>\n",
       "    </tr>\n",
       "  </tbody>\n",
       "</table>\n",
       "<p>5 rows × 66 columns</p>\n",
       "</div>"
      ],
      "text/plain": [
       "     cantidad_de_subastas_en_ventana  cantidad_subastas_Monday  \\\n",
       "941                              4.0                       1.0   \n",
       "401                            254.0                      33.0   \n",
       "980                             36.0                      19.0   \n",
       "913                            318.0                       0.0   \n",
       "505                             32.0                       2.0   \n",
       "\n",
       "     cantidad_subastas_Tuesday  cantidad_subastas_Wednesday  \\\n",
       "941                        0.0                         73.0   \n",
       "401                       11.0                          0.0   \n",
       "980                       86.0                         51.0   \n",
       "913                        0.0                          2.0   \n",
       "505                        0.0                          0.0   \n",
       "\n",
       "     cantidad_subastas_Thursday  cantidad_subastas_Friday  \\\n",
       "941                         8.0                       2.0   \n",
       "401                        42.0                     108.0   \n",
       "980                       111.0                      64.0   \n",
       "913                        81.0                     177.0   \n",
       "505                        29.0                       4.0   \n",
       "\n",
       "     cantidad_subastas_Saturday  cantidad_subastas_Sunday           ref_hash  \\\n",
       "941                         0.0                       0.0  17411113585415081   \n",
       "401                       104.0                      39.0  18336104939494418   \n",
       "980                        34.0                      82.0  24003528264893641   \n",
       "913                        61.0                      37.0  28354923597842736   \n",
       "505                         1.0                       1.0  31813139061954413   \n",
       "\n",
       "     cantidad_de_clicks_en_ventana            ...             \\\n",
       "941                            1.0            ...              \n",
       "401                            4.0            ...              \n",
       "980                            1.0            ...              \n",
       "913                            1.0            ...              \n",
       "505                            1.0            ...              \n",
       "\n",
       "     cantidad_eventos_hora_14  cantidad_eventos_hora_15  \\\n",
       "941                       0.0                       0.0   \n",
       "401                       0.0                       0.0   \n",
       "980                       0.0                       0.0   \n",
       "913                       0.0                       0.0   \n",
       "505                       0.0                       0.0   \n",
       "\n",
       "     cantidad_eventos_hora_16  cantidad_eventos_hora_17  \\\n",
       "941                       0.0                       0.0   \n",
       "401                       0.0                       0.0   \n",
       "980                       0.0                       0.0   \n",
       "913                       0.0                       0.0   \n",
       "505                       0.0                       0.0   \n",
       "\n",
       "     cantidad_eventos_hora_18  cantidad_eventos_hora_19  \\\n",
       "941                       0.0                       0.0   \n",
       "401                       0.0                       0.0   \n",
       "980                       0.0                       0.0   \n",
       "913                       0.0                       0.0   \n",
       "505                       0.0                       5.0   \n",
       "\n",
       "     cantidad_eventos_hora_20  cantidad_eventos_hora_21  \\\n",
       "941                       0.0                       8.0   \n",
       "401                       0.0                       0.0   \n",
       "980                       2.0                       0.0   \n",
       "913                      23.0                       0.0   \n",
       "505                      20.0                      11.0   \n",
       "\n",
       "     cantidad_eventos_hora_22  cantidad_eventos_hora_23  \n",
       "941                       1.0                       0.0  \n",
       "401                       5.0                       0.0  \n",
       "980                       0.0                       0.0  \n",
       "913                       0.0                       0.0  \n",
       "505                       0.0                       0.0  \n",
       "\n",
       "[5 rows x 66 columns]"
      ]
     },
     "execution_count": 576,
     "metadata": {},
     "output_type": "execute_result"
    }
   ],
   "source": [
    "from sksurv.preprocessing import OneHotEncoder\n",
    "\n",
    "features_v1 = OneHotEncoder().fit_transform(features_v1)\n",
    "features_v2 = OneHotEncoder().fit_transform(features_v2)\n",
    "features_v1.head()"
   ]
  },
  {
   "cell_type": "code",
   "execution_count": 577,
   "metadata": {},
   "outputs": [
    {
     "data": {
      "text/plain": [
       "CoxPHSurvivalAnalysis(alpha=0.0001, n_iter=100, tol=1e-09, verbose=0)"
      ]
     },
     "execution_count": 577,
     "metadata": {},
     "output_type": "execute_result"
    }
   ],
   "source": [
    "from sksurv.linear_model import CoxPHSurvivalAnalysis\n",
    "\n",
    "estimator = CoxPHSurvivalAnalysis(alpha=0.0001)\n",
    "estimator.fit(features_v1,label1_b)"
   ]
  },
  {
   "cell_type": "code",
   "execution_count": 578,
   "metadata": {},
   "outputs": [
    {
     "data": {
      "text/plain": [
       "cantidad_de_subastas_en_ventana         2.096257e-03\n",
       "cantidad_subastas_Monday                1.565087e-04\n",
       "cantidad_subastas_Tuesday               1.470246e-03\n",
       "cantidad_subastas_Wednesday            -1.328926e-03\n",
       "cantidad_subastas_Thursday              1.075094e-03\n",
       "cantidad_subastas_Friday               -1.545175e-03\n",
       "cantidad_subastas_Saturday             -2.187072e-03\n",
       "cantidad_subastas_Sunday               -7.675585e-04\n",
       "ref_hash                               -5.301395e-21\n",
       "cantidad_de_clicks_en_ventana           7.192649e-02\n",
       "cantidad_clicks_Monday                 -4.280524e-02\n",
       "cantidad_clicks_Tuesday                 7.101886e-02\n",
       "cantidad_clicks_Wednesday               1.781215e-01\n",
       "cantidad_clicks_Thursday                2.097738e-01\n",
       "cantidad_clicks_Friday                  3.938105e-02\n",
       "cantidad_clicks_Saturday               -2.608162e-01\n",
       "cantidad_clicks_Sunday                  1.665684e-02\n",
       "SUP_D                                   6.119210e-01\n",
       "SUP_C                                   1.148551e+00\n",
       "SUP_I                                   9.562730e-01\n",
       "CENT_D                                  7.070715e-01\n",
       "CENT_C                                  6.973326e-01\n",
       "CENT_I                                  5.527483e-02\n",
       "INF_D                                   3.566487e-02\n",
       "INF_C                                   2.436093e-02\n",
       "INF_I                                  -6.148291e-03\n",
       "cantidad_de_instalaciones_en_ventana   -1.387335e-01\n",
       "cantidad_installs_Monday                1.626990e-01\n",
       "cantidad_installs_Tuesday               2.456494e-01\n",
       "cantidad_installs_Wednesday            -1.747308e-01\n",
       "                                            ...     \n",
       "cantidad_eventos_Tuesday                0.000000e+00\n",
       "cantidad_eventos_Wednesday              0.000000e+00\n",
       "cantidad_eventos_Thursday               4.848439e-03\n",
       "cantidad_eventos_Friday                -2.521069e-03\n",
       "cantidad_eventos_Saturday              -2.366904e-03\n",
       "cantidad_eventos_Sunday                 0.000000e+00\n",
       "cantidad_eventos_hora_0                 1.552086e-02\n",
       "cantidad_eventos_hora_1                -4.137628e-03\n",
       "cantidad_eventos_hora_2                 5.086974e-03\n",
       "cantidad_eventos_hora_3                 1.055595e-02\n",
       "cantidad_eventos_hora_4                 2.171579e-04\n",
       "cantidad_eventos_hora_5                 6.750199e-04\n",
       "cantidad_eventos_hora_6                -7.818152e-03\n",
       "cantidad_eventos_hora_7                 5.523277e-02\n",
       "cantidad_eventos_hora_8                -4.252616e-02\n",
       "cantidad_eventos_hora_9                -4.414436e-03\n",
       "cantidad_eventos_hora_10                2.352189e-02\n",
       "cantidad_eventos_hora_11               -4.053979e-02\n",
       "cantidad_eventos_hora_12                1.284816e-02\n",
       "cantidad_eventos_hora_13               -2.287852e-03\n",
       "cantidad_eventos_hora_14                2.419828e-04\n",
       "cantidad_eventos_hora_15               -1.705466e-02\n",
       "cantidad_eventos_hora_16               -3.911997e-03\n",
       "cantidad_eventos_hora_17               -6.613805e-03\n",
       "cantidad_eventos_hora_18               -2.116599e-02\n",
       "cantidad_eventos_hora_19                2.618644e-02\n",
       "cantidad_eventos_hora_20               -5.147741e-03\n",
       "cantidad_eventos_hora_21                3.234044e-03\n",
       "cantidad_eventos_hora_22                6.022802e-03\n",
       "cantidad_eventos_hora_23               -3.765378e-03\n",
       "Length: 66, dtype: float64"
      ]
     },
     "execution_count": 578,
     "metadata": {},
     "output_type": "execute_result"
    }
   ],
   "source": [
    "pd.Series(estimator.coef_, index=features_v1.columns)"
   ]
  },
  {
   "cell_type": "markdown",
   "metadata": {},
   "source": [
    "#### El resultado es un vector de coeficientes, uno para cada variable, donde cada valor corresponde a la relación del registro y evento"
   ]
  },
  {
   "cell_type": "code",
   "execution_count": 579,
   "metadata": {},
   "outputs": [
    {
     "data": {
      "text/plain": [
       "0.6212715104522832"
      ]
     },
     "execution_count": 579,
     "metadata": {},
     "output_type": "execute_result"
    }
   ],
   "source": [
    "estimator.score(features_v2, label2_b)"
   ]
  },
  {
   "cell_type": "code",
   "execution_count": null,
   "metadata": {},
   "outputs": [],
   "source": []
  },
  {
   "cell_type": "code",
   "execution_count": null,
   "metadata": {},
   "outputs": [],
   "source": []
  },
  {
   "cell_type": "code",
   "execution_count": null,
   "metadata": {},
   "outputs": [],
   "source": []
  },
  {
   "cell_type": "code",
   "execution_count": null,
   "metadata": {},
   "outputs": [],
   "source": []
  },
  {
   "cell_type": "code",
   "execution_count": null,
   "metadata": {},
   "outputs": [],
   "source": []
  },
  {
   "cell_type": "markdown",
   "metadata": {},
   "source": [
    "# KNN"
   ]
  },
  {
   "cell_type": "code",
   "execution_count": 580,
   "metadata": {},
   "outputs": [
    {
     "data": {
      "text/html": [
       "<div>\n",
       "<style scoped>\n",
       "    .dataframe tbody tr th:only-of-type {\n",
       "        vertical-align: middle;\n",
       "    }\n",
       "\n",
       "    .dataframe tbody tr th {\n",
       "        vertical-align: top;\n",
       "    }\n",
       "\n",
       "    .dataframe thead th {\n",
       "        text-align: right;\n",
       "    }\n",
       "</style>\n",
       "<table border=\"1\" class=\"dataframe\">\n",
       "  <thead>\n",
       "    <tr style=\"text-align: right;\">\n",
       "      <th></th>\n",
       "      <th>device_id</th>\n",
       "      <th>st</th>\n",
       "      <th>binary</th>\n",
       "    </tr>\n",
       "  </thead>\n",
       "  <tbody>\n",
       "    <tr>\n",
       "      <th>32647</th>\n",
       "      <td>17411113585415081</td>\n",
       "      <td>68166.777507</td>\n",
       "      <td>True</td>\n",
       "    </tr>\n",
       "    <tr>\n",
       "      <th>8346</th>\n",
       "      <td>18336104939494418</td>\n",
       "      <td>5620.605960</td>\n",
       "      <td>True</td>\n",
       "    </tr>\n",
       "    <tr>\n",
       "      <th>34253</th>\n",
       "      <td>24003528264893641</td>\n",
       "      <td>72429.253343</td>\n",
       "      <td>True</td>\n",
       "    </tr>\n",
       "    <tr>\n",
       "      <th>31448</th>\n",
       "      <td>28354923597842736</td>\n",
       "      <td>64902.493426</td>\n",
       "      <td>True</td>\n",
       "    </tr>\n",
       "    <tr>\n",
       "      <th>12005</th>\n",
       "      <td>31813139061954413</td>\n",
       "      <td>9390.984939</td>\n",
       "      <td>True</td>\n",
       "    </tr>\n",
       "  </tbody>\n",
       "</table>\n",
       "</div>"
      ],
      "text/plain": [
       "               device_id            st  binary\n",
       "32647  17411113585415081  68166.777507    True\n",
       "8346   18336104939494418   5620.605960    True\n",
       "34253  24003528264893641  72429.253343    True\n",
       "31448  28354923597842736  64902.493426    True\n",
       "12005  31813139061954413   9390.984939    True"
      ]
     },
     "execution_count": 580,
     "metadata": {},
     "output_type": "execute_result"
    }
   ],
   "source": [
    "df = label1.sort_values(ascending=True,by='device_id')\n",
    "df.head()"
   ]
  },
  {
   "cell_type": "code",
   "execution_count": 581,
   "metadata": {},
   "outputs": [
    {
     "data": {
      "text/html": [
       "<div>\n",
       "<style scoped>\n",
       "    .dataframe tbody tr th:only-of-type {\n",
       "        vertical-align: middle;\n",
       "    }\n",
       "\n",
       "    .dataframe tbody tr th {\n",
       "        vertical-align: top;\n",
       "    }\n",
       "\n",
       "    .dataframe thead th {\n",
       "        text-align: right;\n",
       "    }\n",
       "</style>\n",
       "<table border=\"1\" class=\"dataframe\">\n",
       "  <thead>\n",
       "    <tr style=\"text-align: right;\">\n",
       "      <th></th>\n",
       "      <th>cantidad_de_subastas_en_ventana</th>\n",
       "      <th>cantidad_subastas_Monday</th>\n",
       "      <th>cantidad_subastas_Tuesday</th>\n",
       "      <th>cantidad_subastas_Wednesday</th>\n",
       "      <th>cantidad_subastas_Thursday</th>\n",
       "      <th>cantidad_subastas_Friday</th>\n",
       "      <th>cantidad_subastas_Saturday</th>\n",
       "      <th>cantidad_subastas_Sunday</th>\n",
       "      <th>ref_hash</th>\n",
       "      <th>cantidad_de_clicks_en_ventana</th>\n",
       "      <th>...</th>\n",
       "      <th>cantidad_eventos_hora_14</th>\n",
       "      <th>cantidad_eventos_hora_15</th>\n",
       "      <th>cantidad_eventos_hora_16</th>\n",
       "      <th>cantidad_eventos_hora_17</th>\n",
       "      <th>cantidad_eventos_hora_18</th>\n",
       "      <th>cantidad_eventos_hora_19</th>\n",
       "      <th>cantidad_eventos_hora_20</th>\n",
       "      <th>cantidad_eventos_hora_21</th>\n",
       "      <th>cantidad_eventos_hora_22</th>\n",
       "      <th>cantidad_eventos_hora_23</th>\n",
       "    </tr>\n",
       "  </thead>\n",
       "  <tbody>\n",
       "    <tr>\n",
       "      <th>941</th>\n",
       "      <td>4.0</td>\n",
       "      <td>1.0</td>\n",
       "      <td>0.0</td>\n",
       "      <td>73.0</td>\n",
       "      <td>8.0</td>\n",
       "      <td>2.0</td>\n",
       "      <td>0.0</td>\n",
       "      <td>0.0</td>\n",
       "      <td>17411113585415081</td>\n",
       "      <td>1.0</td>\n",
       "      <td>...</td>\n",
       "      <td>0.0</td>\n",
       "      <td>0.0</td>\n",
       "      <td>0.0</td>\n",
       "      <td>0.0</td>\n",
       "      <td>0.0</td>\n",
       "      <td>0.0</td>\n",
       "      <td>0.0</td>\n",
       "      <td>8.0</td>\n",
       "      <td>1.0</td>\n",
       "      <td>0.0</td>\n",
       "    </tr>\n",
       "    <tr>\n",
       "      <th>401</th>\n",
       "      <td>254.0</td>\n",
       "      <td>33.0</td>\n",
       "      <td>11.0</td>\n",
       "      <td>0.0</td>\n",
       "      <td>42.0</td>\n",
       "      <td>108.0</td>\n",
       "      <td>104.0</td>\n",
       "      <td>39.0</td>\n",
       "      <td>18336104939494418</td>\n",
       "      <td>4.0</td>\n",
       "      <td>...</td>\n",
       "      <td>0.0</td>\n",
       "      <td>0.0</td>\n",
       "      <td>0.0</td>\n",
       "      <td>0.0</td>\n",
       "      <td>0.0</td>\n",
       "      <td>0.0</td>\n",
       "      <td>0.0</td>\n",
       "      <td>0.0</td>\n",
       "      <td>5.0</td>\n",
       "      <td>0.0</td>\n",
       "    </tr>\n",
       "    <tr>\n",
       "      <th>980</th>\n",
       "      <td>36.0</td>\n",
       "      <td>19.0</td>\n",
       "      <td>86.0</td>\n",
       "      <td>51.0</td>\n",
       "      <td>111.0</td>\n",
       "      <td>64.0</td>\n",
       "      <td>34.0</td>\n",
       "      <td>82.0</td>\n",
       "      <td>24003528264893641</td>\n",
       "      <td>1.0</td>\n",
       "      <td>...</td>\n",
       "      <td>0.0</td>\n",
       "      <td>0.0</td>\n",
       "      <td>0.0</td>\n",
       "      <td>0.0</td>\n",
       "      <td>0.0</td>\n",
       "      <td>0.0</td>\n",
       "      <td>2.0</td>\n",
       "      <td>0.0</td>\n",
       "      <td>0.0</td>\n",
       "      <td>0.0</td>\n",
       "    </tr>\n",
       "    <tr>\n",
       "      <th>913</th>\n",
       "      <td>318.0</td>\n",
       "      <td>0.0</td>\n",
       "      <td>0.0</td>\n",
       "      <td>2.0</td>\n",
       "      <td>81.0</td>\n",
       "      <td>177.0</td>\n",
       "      <td>61.0</td>\n",
       "      <td>37.0</td>\n",
       "      <td>28354923597842736</td>\n",
       "      <td>1.0</td>\n",
       "      <td>...</td>\n",
       "      <td>0.0</td>\n",
       "      <td>0.0</td>\n",
       "      <td>0.0</td>\n",
       "      <td>0.0</td>\n",
       "      <td>0.0</td>\n",
       "      <td>0.0</td>\n",
       "      <td>23.0</td>\n",
       "      <td>0.0</td>\n",
       "      <td>0.0</td>\n",
       "      <td>0.0</td>\n",
       "    </tr>\n",
       "    <tr>\n",
       "      <th>505</th>\n",
       "      <td>32.0</td>\n",
       "      <td>2.0</td>\n",
       "      <td>0.0</td>\n",
       "      <td>0.0</td>\n",
       "      <td>29.0</td>\n",
       "      <td>4.0</td>\n",
       "      <td>1.0</td>\n",
       "      <td>1.0</td>\n",
       "      <td>31813139061954413</td>\n",
       "      <td>1.0</td>\n",
       "      <td>...</td>\n",
       "      <td>0.0</td>\n",
       "      <td>0.0</td>\n",
       "      <td>0.0</td>\n",
       "      <td>0.0</td>\n",
       "      <td>0.0</td>\n",
       "      <td>5.0</td>\n",
       "      <td>20.0</td>\n",
       "      <td>11.0</td>\n",
       "      <td>0.0</td>\n",
       "      <td>0.0</td>\n",
       "    </tr>\n",
       "  </tbody>\n",
       "</table>\n",
       "<p>5 rows × 66 columns</p>\n",
       "</div>"
      ],
      "text/plain": [
       "     cantidad_de_subastas_en_ventana  cantidad_subastas_Monday  \\\n",
       "941                              4.0                       1.0   \n",
       "401                            254.0                      33.0   \n",
       "980                             36.0                      19.0   \n",
       "913                            318.0                       0.0   \n",
       "505                             32.0                       2.0   \n",
       "\n",
       "     cantidad_subastas_Tuesday  cantidad_subastas_Wednesday  \\\n",
       "941                        0.0                         73.0   \n",
       "401                       11.0                          0.0   \n",
       "980                       86.0                         51.0   \n",
       "913                        0.0                          2.0   \n",
       "505                        0.0                          0.0   \n",
       "\n",
       "     cantidad_subastas_Thursday  cantidad_subastas_Friday  \\\n",
       "941                         8.0                       2.0   \n",
       "401                        42.0                     108.0   \n",
       "980                       111.0                      64.0   \n",
       "913                        81.0                     177.0   \n",
       "505                        29.0                       4.0   \n",
       "\n",
       "     cantidad_subastas_Saturday  cantidad_subastas_Sunday           ref_hash  \\\n",
       "941                         0.0                       0.0  17411113585415081   \n",
       "401                       104.0                      39.0  18336104939494418   \n",
       "980                        34.0                      82.0  24003528264893641   \n",
       "913                        61.0                      37.0  28354923597842736   \n",
       "505                         1.0                       1.0  31813139061954413   \n",
       "\n",
       "     cantidad_de_clicks_en_ventana            ...             \\\n",
       "941                            1.0            ...              \n",
       "401                            4.0            ...              \n",
       "980                            1.0            ...              \n",
       "913                            1.0            ...              \n",
       "505                            1.0            ...              \n",
       "\n",
       "     cantidad_eventos_hora_14  cantidad_eventos_hora_15  \\\n",
       "941                       0.0                       0.0   \n",
       "401                       0.0                       0.0   \n",
       "980                       0.0                       0.0   \n",
       "913                       0.0                       0.0   \n",
       "505                       0.0                       0.0   \n",
       "\n",
       "     cantidad_eventos_hora_16  cantidad_eventos_hora_17  \\\n",
       "941                       0.0                       0.0   \n",
       "401                       0.0                       0.0   \n",
       "980                       0.0                       0.0   \n",
       "913                       0.0                       0.0   \n",
       "505                       0.0                       0.0   \n",
       "\n",
       "     cantidad_eventos_hora_18  cantidad_eventos_hora_19  \\\n",
       "941                       0.0                       0.0   \n",
       "401                       0.0                       0.0   \n",
       "980                       0.0                       0.0   \n",
       "913                       0.0                       0.0   \n",
       "505                       0.0                       5.0   \n",
       "\n",
       "     cantidad_eventos_hora_20  cantidad_eventos_hora_21  \\\n",
       "941                       0.0                       8.0   \n",
       "401                       0.0                       0.0   \n",
       "980                       2.0                       0.0   \n",
       "913                      23.0                       0.0   \n",
       "505                      20.0                      11.0   \n",
       "\n",
       "     cantidad_eventos_hora_22  cantidad_eventos_hora_23  \n",
       "941                       1.0                       0.0  \n",
       "401                       5.0                       0.0  \n",
       "980                       0.0                       0.0  \n",
       "913                       0.0                       0.0  \n",
       "505                       0.0                       0.0  \n",
       "\n",
       "[5 rows x 66 columns]"
      ]
     },
     "execution_count": 581,
     "metadata": {},
     "output_type": "execute_result"
    }
   ],
   "source": [
    "df_feat = features_v1.sort_values(ascending=True,by='ref_hash')\n",
    "df_feat.head()"
   ]
  },
  {
   "cell_type": "code",
   "execution_count": 582,
   "metadata": {},
   "outputs": [],
   "source": [
    "from sklearn.model_selection import train_test_split\n",
    "\n",
    "#TRAIN_TEST_SPLIT\n",
    "#Split arrays or matrices into random train and test subsets\n",
    "x_train, x_test, y_train, y_test = train_test_split(df_feat.drop(columns='ref_hash'),\n",
    "                                                    df['st'],\n",
    "                                                    test_size=0.2,\n",
    "                                                    random_state=43)"
   ]
  },
  {
   "cell_type": "code",
   "execution_count": 583,
   "metadata": {},
   "outputs": [],
   "source": [
    "from sklearn.neighbors import KNeighborsRegressor\n",
    "from sklearn import metrics\n",
    "\n",
    "k=5 #-->Hiperparametro\n",
    "neigh = KNeighborsRegressor(n_neighbors = k ,    #Cantidad de vecinos a usar --> K hiperparametro.\n",
    "                            n_jobs=-1,           #Define la cantidad de procesadores a usar, -1 todos los disponibles.\n",
    "                            weights='distance',  #Se define el peso como la inversa a la distancia, los mas cercanos tienen mayor influencia.\n",
    "                            algorithm='brute'    #Fuerza bruta para el algorimo, podría ser KDTree o sino automatico.\n",
    "                           )\n",
    "#En weights se puede pasar una funcion definida por el usuario--> Segundo hiperparametro posible de KNN."
   ]
  },
  {
   "cell_type": "code",
   "execution_count": 584,
   "metadata": {},
   "outputs": [
    {
     "data": {
      "text/plain": [
       "KNeighborsRegressor(algorithm='brute', leaf_size=30, metric='minkowski',\n",
       "          metric_params=None, n_jobs=-1, n_neighbors=5, p=2,\n",
       "          weights='distance')"
      ]
     },
     "execution_count": 584,
     "metadata": {},
     "output_type": "execute_result"
    }
   ],
   "source": [
    "neigh.fit(x_train,y_train) #Fit the model using X as training data and Y as target values"
   ]
  },
  {
   "cell_type": "code",
   "execution_count": 585,
   "metadata": {},
   "outputs": [],
   "source": [
    "predicted = neigh.predict(x_test) #Predict the target for the provided data"
   ]
  },
  {
   "cell_type": "code",
   "execution_count": 586,
   "metadata": {},
   "outputs": [
    {
     "data": {
      "text/plain": [
       "1.0"
      ]
     },
     "execution_count": 586,
     "metadata": {},
     "output_type": "execute_result"
    }
   ],
   "source": [
    "neigh.score(x_train, y_train)"
   ]
  },
  {
   "cell_type": "code",
   "execution_count": 587,
   "metadata": {},
   "outputs": [
    {
     "data": {
      "text/plain": [
       "0.3080919428898673"
      ]
     },
     "execution_count": 587,
     "metadata": {},
     "output_type": "execute_result"
    }
   ],
   "source": [
    "neigh.score(x_test, y_test)"
   ]
  },
  {
   "cell_type": "markdown",
   "metadata": {},
   "source": [
    "# Gradient Boosting"
   ]
  },
  {
   "cell_type": "code",
   "execution_count": 104,
   "metadata": {},
   "outputs": [],
   "source": [
    "from sklearn.ensemble import GradientBoostingRegressor\n",
    "\n",
    "gradient_boost = GradientBoostingRegressor()"
   ]
  },
  {
   "cell_type": "code",
   "execution_count": 105,
   "metadata": {},
   "outputs": [
    {
     "data": {
      "text/plain": [
       "GradientBoostingRegressor(alpha=0.9, criterion='friedman_mse', init=None,\n",
       "             learning_rate=0.1, loss='ls', max_depth=3, max_features=None,\n",
       "             max_leaf_nodes=None, min_impurity_decrease=0.0,\n",
       "             min_impurity_split=None, min_samples_leaf=1,\n",
       "             min_samples_split=2, min_weight_fraction_leaf=0.0,\n",
       "             n_estimators=100, n_iter_no_change=None, presort='auto',\n",
       "             random_state=None, subsample=1.0, tol=0.0001,\n",
       "             validation_fraction=0.1, verbose=0, warm_start=False)"
      ]
     },
     "execution_count": 105,
     "metadata": {},
     "output_type": "execute_result"
    }
   ],
   "source": [
    "gradient_boost.fit(x_train,y_train)"
   ]
  },
  {
   "cell_type": "code",
   "execution_count": 116,
   "metadata": {},
   "outputs": [
    {
     "data": {
      "text/plain": [
       "0.6676389678264849"
      ]
     },
     "execution_count": 116,
     "metadata": {},
     "output_type": "execute_result"
    }
   ],
   "source": [
    "gradient_boost.score(x_train, y_train)"
   ]
  },
  {
   "cell_type": "code",
   "execution_count": 106,
   "metadata": {},
   "outputs": [
    {
     "data": {
      "text/plain": [
       "0.5387903384814807"
      ]
     },
     "execution_count": 106,
     "metadata": {},
     "output_type": "execute_result"
    }
   ],
   "source": [
    "gradient_boost.score(x_test, y_test)"
   ]
  },
  {
   "cell_type": "markdown",
   "metadata": {},
   "source": [
    "# Random Forest"
   ]
  },
  {
   "cell_type": "code",
   "execution_count": 588,
   "metadata": {},
   "outputs": [],
   "source": [
    "from sklearn.ensemble import RandomForestRegressor\n",
    "\n",
    "random_forest = RandomForestRegressor()"
   ]
  },
  {
   "cell_type": "code",
   "execution_count": 589,
   "metadata": {},
   "outputs": [
    {
     "data": {
      "text/plain": [
       "RandomForestRegressor(bootstrap=True, criterion='mse', max_depth=None,\n",
       "           max_features='auto', max_leaf_nodes=None,\n",
       "           min_impurity_decrease=0.0, min_impurity_split=None,\n",
       "           min_samples_leaf=1, min_samples_split=2,\n",
       "           min_weight_fraction_leaf=0.0, n_estimators=10, n_jobs=None,\n",
       "           oob_score=False, random_state=None, verbose=0, warm_start=False)"
      ]
     },
     "execution_count": 589,
     "metadata": {},
     "output_type": "execute_result"
    }
   ],
   "source": [
    "random_forest.fit(x_train,y_train)"
   ]
  },
  {
   "cell_type": "code",
   "execution_count": 590,
   "metadata": {},
   "outputs": [
    {
     "data": {
      "text/plain": [
       "0.9272201120333222"
      ]
     },
     "execution_count": 590,
     "metadata": {},
     "output_type": "execute_result"
    }
   ],
   "source": [
    "random_forest.score(x_train, y_train)"
   ]
  },
  {
   "cell_type": "code",
   "execution_count": 591,
   "metadata": {},
   "outputs": [
    {
     "data": {
      "text/plain": [
       "0.48958061239983686"
      ]
     },
     "execution_count": 591,
     "metadata": {},
     "output_type": "execute_result"
    }
   ],
   "source": [
    "random_forest.score(x_test,y_test)"
   ]
  },
  {
   "cell_type": "markdown",
   "metadata": {},
   "source": [
    "# Linear Regression"
   ]
  },
  {
   "cell_type": "code",
   "execution_count": 592,
   "metadata": {},
   "outputs": [],
   "source": [
    "from sklearn.linear_model import LinearRegression\n",
    "\n",
    "reg_lineal = LinearRegression()"
   ]
  },
  {
   "cell_type": "code",
   "execution_count": 593,
   "metadata": {},
   "outputs": [
    {
     "data": {
      "text/plain": [
       "LinearRegression(copy_X=True, fit_intercept=True, n_jobs=None,\n",
       "         normalize=False)"
      ]
     },
     "execution_count": 593,
     "metadata": {},
     "output_type": "execute_result"
    }
   ],
   "source": [
    "reg_lineal.fit(x_train,y_train)"
   ]
  },
  {
   "cell_type": "code",
   "execution_count": 594,
   "metadata": {},
   "outputs": [
    {
     "data": {
      "text/plain": [
       "0.20714020618407492"
      ]
     },
     "execution_count": 594,
     "metadata": {},
     "output_type": "execute_result"
    }
   ],
   "source": [
    "reg_lineal.score(x_train,y_train)"
   ]
  },
  {
   "cell_type": "code",
   "execution_count": 595,
   "metadata": {},
   "outputs": [
    {
     "data": {
      "text/plain": [
       "0.11712444838813907"
      ]
     },
     "execution_count": 595,
     "metadata": {},
     "output_type": "execute_result"
    }
   ],
   "source": [
    "reg_lineal.score(x_test,y_test)"
   ]
  },
  {
   "cell_type": "markdown",
   "metadata": {},
   "source": [
    "# Ada Boost"
   ]
  },
  {
   "cell_type": "code",
   "execution_count": 596,
   "metadata": {},
   "outputs": [],
   "source": [
    "from sklearn.ensemble import AdaBoostRegressor\n",
    "\n",
    "ada_boost = AdaBoostRegressor()"
   ]
  },
  {
   "cell_type": "code",
   "execution_count": 597,
   "metadata": {},
   "outputs": [
    {
     "data": {
      "text/plain": [
       "AdaBoostRegressor(base_estimator=None, learning_rate=1.0, loss='linear',\n",
       "         n_estimators=50, random_state=None)"
      ]
     },
     "execution_count": 597,
     "metadata": {},
     "output_type": "execute_result"
    }
   ],
   "source": [
    "ada_boost.fit(x_train,y_train)"
   ]
  },
  {
   "cell_type": "code",
   "execution_count": 598,
   "metadata": {},
   "outputs": [
    {
     "data": {
      "text/plain": [
       "0.4355011018791608"
      ]
     },
     "execution_count": 598,
     "metadata": {},
     "output_type": "execute_result"
    }
   ],
   "source": [
    "ada_boost.score(x_train, y_train)"
   ]
  },
  {
   "cell_type": "code",
   "execution_count": 599,
   "metadata": {},
   "outputs": [
    {
     "data": {
      "text/plain": [
       "0.24130887255351421"
      ]
     },
     "execution_count": 599,
     "metadata": {},
     "output_type": "execute_result"
    }
   ],
   "source": [
    "ada_boost.score(x_test,y_test)"
   ]
  },
  {
   "cell_type": "markdown",
   "metadata": {},
   "source": [
    "# Decision Tree"
   ]
  },
  {
   "cell_type": "code",
   "execution_count": 600,
   "metadata": {},
   "outputs": [],
   "source": [
    "from sklearn.tree import DecisionTreeRegressor\n",
    "\n",
    "arbol_dec = DecisionTreeRegressor()"
   ]
  },
  {
   "cell_type": "code",
   "execution_count": 601,
   "metadata": {},
   "outputs": [
    {
     "data": {
      "text/plain": [
       "DecisionTreeRegressor(criterion='mse', max_depth=None, max_features=None,\n",
       "           max_leaf_nodes=None, min_impurity_decrease=0.0,\n",
       "           min_impurity_split=None, min_samples_leaf=1,\n",
       "           min_samples_split=2, min_weight_fraction_leaf=0.0,\n",
       "           presort=False, random_state=None, splitter='best')"
      ]
     },
     "execution_count": 601,
     "metadata": {},
     "output_type": "execute_result"
    }
   ],
   "source": [
    "arbol_dec.fit(x_train,y_train)"
   ]
  },
  {
   "cell_type": "code",
   "execution_count": 602,
   "metadata": {},
   "outputs": [
    {
     "data": {
      "text/plain": [
       "1.0"
      ]
     },
     "execution_count": 602,
     "metadata": {},
     "output_type": "execute_result"
    }
   ],
   "source": [
    "arbol_dec.score(x_train,y_train)"
   ]
  },
  {
   "cell_type": "code",
   "execution_count": 603,
   "metadata": {},
   "outputs": [
    {
     "data": {
      "text/plain": [
       "0.16295411271148652"
      ]
     },
     "execution_count": 603,
     "metadata": {},
     "output_type": "execute_result"
    }
   ],
   "source": [
    "arbol_dec.score(x_test,y_test)"
   ]
  },
  {
   "cell_type": "code",
   "execution_count": 604,
   "metadata": {},
   "outputs": [
    {
     "data": {
      "text/html": [
       "<div>\n",
       "<style scoped>\n",
       "    .dataframe tbody tr th:only-of-type {\n",
       "        vertical-align: middle;\n",
       "    }\n",
       "\n",
       "    .dataframe tbody tr th {\n",
       "        vertical-align: top;\n",
       "    }\n",
       "\n",
       "    .dataframe thead th {\n",
       "        text-align: right;\n",
       "    }\n",
       "</style>\n",
       "<table border=\"1\" class=\"dataframe\">\n",
       "  <thead>\n",
       "    <tr style=\"text-align: right;\">\n",
       "      <th></th>\n",
       "      <th>importance</th>\n",
       "    </tr>\n",
       "  </thead>\n",
       "  <tbody>\n",
       "    <tr>\n",
       "      <th>cantidad_subastas_Thursday</th>\n",
       "      <td>0.573375</td>\n",
       "    </tr>\n",
       "    <tr>\n",
       "      <th>cantidad_subastas_Friday</th>\n",
       "      <td>0.053397</td>\n",
       "    </tr>\n",
       "    <tr>\n",
       "      <th>cantidad_subastas_Saturday</th>\n",
       "      <td>0.045373</td>\n",
       "    </tr>\n",
       "    <tr>\n",
       "      <th>cantidad_clicks_Saturday</th>\n",
       "      <td>0.034322</td>\n",
       "    </tr>\n",
       "    <tr>\n",
       "      <th>cantidad_subastas_Sunday</th>\n",
       "      <td>0.029143</td>\n",
       "    </tr>\n",
       "    <tr>\n",
       "      <th>cantidad_de_subastas_en_ventana</th>\n",
       "      <td>0.025121</td>\n",
       "    </tr>\n",
       "    <tr>\n",
       "      <th>cantidad_subastas_Tuesday</th>\n",
       "      <td>0.024225</td>\n",
       "    </tr>\n",
       "    <tr>\n",
       "      <th>cantidad_subastas_Monday</th>\n",
       "      <td>0.022527</td>\n",
       "    </tr>\n",
       "    <tr>\n",
       "      <th>cantidad_de_eventos_en_ventana</th>\n",
       "      <td>0.012708</td>\n",
       "    </tr>\n",
       "    <tr>\n",
       "      <th>cantidad_clicks_Thursday</th>\n",
       "      <td>0.012116</td>\n",
       "    </tr>\n",
       "  </tbody>\n",
       "</table>\n",
       "</div>"
      ],
      "text/plain": [
       "                                 importance\n",
       "cantidad_subastas_Thursday         0.573375\n",
       "cantidad_subastas_Friday           0.053397\n",
       "cantidad_subastas_Saturday         0.045373\n",
       "cantidad_clicks_Saturday           0.034322\n",
       "cantidad_subastas_Sunday           0.029143\n",
       "cantidad_de_subastas_en_ventana    0.025121\n",
       "cantidad_subastas_Tuesday          0.024225\n",
       "cantidad_subastas_Monday           0.022527\n",
       "cantidad_de_eventos_en_ventana     0.012708\n",
       "cantidad_clicks_Thursday           0.012116"
      ]
     },
     "execution_count": 604,
     "metadata": {},
     "output_type": "execute_result"
    }
   ],
   "source": [
    "feature_importances = pd.DataFrame(arbol_dec.feature_importances_,\n",
    "                                   index = x_train.columns,\n",
    "                                    columns=['importance']).sort_values('importance',ascending=False)\n",
    "feature_importances.head(10)"
   ]
  },
  {
   "cell_type": "markdown",
   "metadata": {},
   "source": [
    "# XGBoost"
   ]
  },
  {
   "cell_type": "code",
   "execution_count": 605,
   "metadata": {},
   "outputs": [
    {
     "ename": "ModuleNotFoundError",
     "evalue": "No module named 'xgboost'",
     "output_type": "error",
     "traceback": [
      "\u001b[1;31m---------------------------------------------------------------------------\u001b[0m",
      "\u001b[1;31mModuleNotFoundError\u001b[0m                       Traceback (most recent call last)",
      "\u001b[1;32m<ipython-input-605-98954aff41dd>\u001b[0m in \u001b[0;36m<module>\u001b[1;34m\u001b[0m\n\u001b[1;32m----> 1\u001b[1;33m \u001b[1;32mfrom\u001b[0m \u001b[0mxgboost\u001b[0m \u001b[1;32mimport\u001b[0m \u001b[0mXGBRegressor\u001b[0m\u001b[1;33m\u001b[0m\u001b[1;33m\u001b[0m\u001b[0m\n\u001b[0m\u001b[0;32m      2\u001b[0m \u001b[1;33m\u001b[0m\u001b[0m\n\u001b[0;32m      3\u001b[0m \u001b[0mxgboost\u001b[0m \u001b[1;33m=\u001b[0m \u001b[0mXGBRegressor\u001b[0m\u001b[1;33m(\u001b[0m\u001b[1;33m)\u001b[0m\u001b[1;33m\u001b[0m\u001b[1;33m\u001b[0m\u001b[0m\n",
      "\u001b[1;31mModuleNotFoundError\u001b[0m: No module named 'xgboost'"
     ]
    }
   ],
   "source": [
    "from xgboost import XGBRegressor\n",
    "\n",
    "xgboost = XGBRegressor()"
   ]
  },
  {
   "cell_type": "code",
   "execution_count": 140,
   "metadata": {},
   "outputs": [
    {
     "name": "stdout",
     "output_type": "stream",
     "text": [
      "[03:17:32] WARNING: src/objective/regression_obj.cu:152: reg:linear is now deprecated in favor of reg:squarederror.\n"
     ]
    },
    {
     "data": {
      "text/plain": [
       "XGBRegressor(base_score=0.5, booster='gbtree', colsample_bylevel=1,\n",
       "       colsample_bynode=1, colsample_bytree=1, gamma=0,\n",
       "       importance_type='gain', learning_rate=0.1, max_delta_step=0,\n",
       "       max_depth=3, min_child_weight=1, missing=None, n_estimators=100,\n",
       "       n_jobs=1, nthread=None, objective='reg:linear', random_state=0,\n",
       "       reg_alpha=0, reg_lambda=1, scale_pos_weight=1, seed=None,\n",
       "       silent=None, subsample=1, verbosity=1)"
      ]
     },
     "execution_count": 140,
     "metadata": {},
     "output_type": "execute_result"
    }
   ],
   "source": [
    "xgboost.fit(x_train,y_train)"
   ]
  },
  {
   "cell_type": "code",
   "execution_count": 141,
   "metadata": {},
   "outputs": [
    {
     "data": {
      "text/plain": [
       "0.6631303454779043"
      ]
     },
     "execution_count": 141,
     "metadata": {},
     "output_type": "execute_result"
    }
   ],
   "source": [
    "xgboost.score(x_train,y_train)"
   ]
  },
  {
   "cell_type": "code",
   "execution_count": 142,
   "metadata": {},
   "outputs": [
    {
     "data": {
      "text/plain": [
       "0.5419874635560339"
      ]
     },
     "execution_count": 142,
     "metadata": {},
     "output_type": "execute_result"
    }
   ],
   "source": [
    "xgboost.score(x_test,y_test)"
   ]
  },
  {
   "cell_type": "code",
   "execution_count": null,
   "metadata": {},
   "outputs": [],
   "source": []
  },
  {
   "cell_type": "code",
   "execution_count": null,
   "metadata": {},
   "outputs": [],
   "source": []
  },
  {
   "cell_type": "code",
   "execution_count": null,
   "metadata": {},
   "outputs": [],
   "source": []
  },
  {
   "cell_type": "code",
   "execution_count": null,
   "metadata": {},
   "outputs": [],
   "source": []
  },
  {
   "cell_type": "code",
   "execution_count": null,
   "metadata": {},
   "outputs": [],
   "source": []
  },
  {
   "cell_type": "code",
   "execution_count": null,
   "metadata": {},
   "outputs": [],
   "source": []
  },
  {
   "cell_type": "code",
   "execution_count": null,
   "metadata": {},
   "outputs": [],
   "source": []
  },
  {
   "cell_type": "code",
   "execution_count": null,
   "metadata": {},
   "outputs": [],
   "source": []
  },
  {
   "cell_type": "code",
   "execution_count": 51,
   "metadata": {},
   "outputs": [
    {
     "data": {
      "text/html": [
       "<div>\n",
       "<style scoped>\n",
       "    .dataframe tbody tr th:only-of-type {\n",
       "        vertical-align: middle;\n",
       "    }\n",
       "\n",
       "    .dataframe tbody tr th {\n",
       "        vertical-align: top;\n",
       "    }\n",
       "\n",
       "    .dataframe thead th {\n",
       "        text-align: right;\n",
       "    }\n",
       "</style>\n",
       "<table border=\"1\" class=\"dataframe\">\n",
       "  <thead>\n",
       "    <tr style=\"text-align: right;\">\n",
       "      <th></th>\n",
       "      <th>advertiser_id</th>\n",
       "      <th>source_id</th>\n",
       "      <th>created</th>\n",
       "      <th>country_code</th>\n",
       "      <th>latitude</th>\n",
       "      <th>longitude</th>\n",
       "      <th>wifi_connection</th>\n",
       "      <th>carrier_id</th>\n",
       "      <th>trans_id</th>\n",
       "      <th>os_minor</th>\n",
       "      <th>agent_device</th>\n",
       "      <th>os_major</th>\n",
       "      <th>specs_brand</th>\n",
       "      <th>brand</th>\n",
       "      <th>timeToClick</th>\n",
       "      <th>touchX</th>\n",
       "      <th>touchY</th>\n",
       "      <th>ref_type</th>\n",
       "      <th>ref_hash</th>\n",
       "    </tr>\n",
       "  </thead>\n",
       "  <tbody>\n",
       "    <tr>\n",
       "      <th>0</th>\n",
       "      <td>1</td>\n",
       "      <td>2</td>\n",
       "      <td>2019-04-18 05:27:42.197</td>\n",
       "      <td>6287817205707153877</td>\n",
       "      <td>1.714547</td>\n",
       "      <td>0.871535</td>\n",
       "      <td>False</td>\n",
       "      <td>3</td>\n",
       "      <td>9JMAfrb-b9cSEVCJb0P9JfihGthaS7E</td>\n",
       "      <td>1.517644e+18</td>\n",
       "      <td>NaN</td>\n",
       "      <td>5.131615e+18</td>\n",
       "      <td>71913840936116953</td>\n",
       "      <td>0</td>\n",
       "      <td>2.317</td>\n",
       "      <td>0.968</td>\n",
       "      <td>0.503</td>\n",
       "      <td>Google</td>\n",
       "      <td>1293710398598742392</td>\n",
       "    </tr>\n",
       "    <tr>\n",
       "      <th>1</th>\n",
       "      <td>1</td>\n",
       "      <td>1</td>\n",
       "      <td>2019-04-18 05:27:03.164</td>\n",
       "      <td>6287817205707153877</td>\n",
       "      <td>1.714512</td>\n",
       "      <td>0.871062</td>\n",
       "      <td>True</td>\n",
       "      <td>2</td>\n",
       "      <td>r3xtTRv2lInfiXG8JI3NQsNcBo8GyFQ</td>\n",
       "      <td>1.288578e+18</td>\n",
       "      <td>NaN</td>\n",
       "      <td>3.908390e+18</td>\n",
       "      <td>3576558787748411622</td>\n",
       "      <td>1</td>\n",
       "      <td>7.653</td>\n",
       "      <td>0.712</td>\n",
       "      <td>1.689</td>\n",
       "      <td>Google</td>\n",
       "      <td>1663930990551616564</td>\n",
       "    </tr>\n",
       "    <tr>\n",
       "      <th>2</th>\n",
       "      <td>1</td>\n",
       "      <td>1</td>\n",
       "      <td>2019-04-18 05:42:07.926</td>\n",
       "      <td>6287817205707153877</td>\n",
       "      <td>1.714547</td>\n",
       "      <td>0.871535</td>\n",
       "      <td>True</td>\n",
       "      <td>4</td>\n",
       "      <td>WOnHFqQtY48z_ygKZ-030U_g0TMGVMw</td>\n",
       "      <td>2.238736e+18</td>\n",
       "      <td>NaN</td>\n",
       "      <td>3.581233e+18</td>\n",
       "      <td>3576558787748411622</td>\n",
       "      <td>-1</td>\n",
       "      <td>464.796</td>\n",
       "      <td>0.227</td>\n",
       "      <td>0.251</td>\n",
       "      <td>Google</td>\n",
       "      <td>8488038938665586188</td>\n",
       "    </tr>\n",
       "    <tr>\n",
       "      <th>3</th>\n",
       "      <td>1</td>\n",
       "      <td>1</td>\n",
       "      <td>2019-04-18 05:26:04.446</td>\n",
       "      <td>6287817205707153877</td>\n",
       "      <td>1.708041</td>\n",
       "      <td>0.870772</td>\n",
       "      <td>True</td>\n",
       "      <td>1</td>\n",
       "      <td>wQMLLmYqiFhSuha9p9B13PMtcyBW_vM</td>\n",
       "      <td>2.411640e+18</td>\n",
       "      <td>NaN</td>\n",
       "      <td>3.908390e+18</td>\n",
       "      <td>3576558787748411622</td>\n",
       "      <td>-1</td>\n",
       "      <td>225.311</td>\n",
       "      <td>0.696</td>\n",
       "      <td>6.587</td>\n",
       "      <td>Google</td>\n",
       "      <td>6488361690105189959</td>\n",
       "    </tr>\n",
       "    <tr>\n",
       "      <th>4</th>\n",
       "      <td>1</td>\n",
       "      <td>1</td>\n",
       "      <td>2019-04-18 05:23:37.764</td>\n",
       "      <td>6287817205707153877</td>\n",
       "      <td>1.715514</td>\n",
       "      <td>0.870772</td>\n",
       "      <td>True</td>\n",
       "      <td>2</td>\n",
       "      <td>GeFoyBzMA7taylMxxjzlNPTU-n4FXFs</td>\n",
       "      <td>1.517644e+18</td>\n",
       "      <td>NaN</td>\n",
       "      <td>5.131615e+18</td>\n",
       "      <td>3576558787748411622</td>\n",
       "      <td>0</td>\n",
       "      <td>84.736</td>\n",
       "      <td>0.059</td>\n",
       "      <td>0.142</td>\n",
       "      <td>Google</td>\n",
       "      <td>1348993302102753419</td>\n",
       "    </tr>\n",
       "  </tbody>\n",
       "</table>\n",
       "</div>"
      ],
      "text/plain": [
       "   advertiser_id  source_id                 created         country_code  \\\n",
       "0              1          2 2019-04-18 05:27:42.197  6287817205707153877   \n",
       "1              1          1 2019-04-18 05:27:03.164  6287817205707153877   \n",
       "2              1          1 2019-04-18 05:42:07.926  6287817205707153877   \n",
       "3              1          1 2019-04-18 05:26:04.446  6287817205707153877   \n",
       "4              1          1 2019-04-18 05:23:37.764  6287817205707153877   \n",
       "\n",
       "   latitude  longitude  wifi_connection  carrier_id  \\\n",
       "0  1.714547   0.871535            False           3   \n",
       "1  1.714512   0.871062             True           2   \n",
       "2  1.714547   0.871535             True           4   \n",
       "3  1.708041   0.870772             True           1   \n",
       "4  1.715514   0.870772             True           2   \n",
       "\n",
       "                          trans_id      os_minor  agent_device      os_major  \\\n",
       "0  9JMAfrb-b9cSEVCJb0P9JfihGthaS7E  1.517644e+18           NaN  5.131615e+18   \n",
       "1  r3xtTRv2lInfiXG8JI3NQsNcBo8GyFQ  1.288578e+18           NaN  3.908390e+18   \n",
       "2  WOnHFqQtY48z_ygKZ-030U_g0TMGVMw  2.238736e+18           NaN  3.581233e+18   \n",
       "3  wQMLLmYqiFhSuha9p9B13PMtcyBW_vM  2.411640e+18           NaN  3.908390e+18   \n",
       "4  GeFoyBzMA7taylMxxjzlNPTU-n4FXFs  1.517644e+18           NaN  5.131615e+18   \n",
       "\n",
       "           specs_brand  brand  timeToClick  touchX  touchY ref_type  \\\n",
       "0    71913840936116953      0        2.317   0.968   0.503   Google   \n",
       "1  3576558787748411622      1        7.653   0.712   1.689   Google   \n",
       "2  3576558787748411622     -1      464.796   0.227   0.251   Google   \n",
       "3  3576558787748411622     -1      225.311   0.696   6.587   Google   \n",
       "4  3576558787748411622      0       84.736   0.059   0.142   Google   \n",
       "\n",
       "              ref_hash  \n",
       "0  1293710398598742392  \n",
       "1  1663930990551616564  \n",
       "2  8488038938665586188  \n",
       "3  6488361690105189959  \n",
       "4  1348993302102753419  "
      ]
     },
     "execution_count": 51,
     "metadata": {},
     "output_type": "execute_result"
    }
   ],
   "source": [
    "clicks.head()"
   ]
  },
  {
   "cell_type": "code",
   "execution_count": null,
   "metadata": {},
   "outputs": [],
   "source": []
  },
  {
   "cell_type": "code",
   "execution_count": 72,
   "metadata": {},
   "outputs": [],
   "source": [
    "clicks_v1['click_region'] = '?'\n",
    "\n",
    "clicks_v1.loc[(clicks_v1['touchX']>=0.66)&(clicks_v1['touchY']>=10.66),'click_region'] = 'SUP_D'\n",
    "clicks_v1.loc[(clicks_v1['touchX']<0.66)&(clicks_v1['touchX']>=0.33)&(clicks_v1['touchY']>=10.66),'click_region'] = 'SUP_C'\n",
    "clicks_v1.loc[(clicks_v1['touchX']<0.33)&(clicks_v1['touchX']>=0)&(clicks_v1['touchY']>=10.66),'click_region'] = 'SUP_I'\n",
    "\n",
    "clicks_v1.loc[(clicks_v1['touchX']>=0.66)&(clicks_v1['touchY']>=5.33)&(clicks_v1['touchY']<10.66),'click_region'] = 'CENT_D'\n",
    "clicks_v1.loc[(clicks_v1['touchX']<0.66)&(clicks_v1['touchX']>=0.33)&(clicks_v1['touchY']>=5.33)&(clicks_v1['touchY']<10.66),'click_region'] = 'CENT_C'\n",
    "clicks_v1.loc[(clicks_v1['touchX']<0.33)&(clicks_v1['touchX']>=0)&(clicks_v1['touchY']>=5.33)&(clicks_v1['touchY']<10.66),'click_region'] = 'CENT_I'\n",
    "\n",
    "clicks_v1.loc[(clicks_v1['touchX']>=0.66)&(clicks_v1['touchY']>=0)&(clicks_v1['touchY']<5.33),'click_region'] = 'INF_D'\n",
    "clicks_v1.loc[(clicks_v1['touchX']<0.66)&(clicks_v1['touchX']>=0.33)&(clicks_v1['touchY']>=0)&(clicks_v1['touchY']<5.33),'click_region'] = 'INF_C'\n",
    "clicks_v1.loc[(clicks_v1['touchX']<0.33)&(clicks_v1['touchX']>=0)&(clicks_v1['touchY']>=0)&(clicks_v1['touchY']<5.33),'click_region'] = 'INF_I'"
   ]
  },
  {
   "cell_type": "code",
   "execution_count": 73,
   "metadata": {},
   "outputs": [],
   "source": [
    "clicks_v1['click_region'] = clicks_v1['click_region'].astype('category')"
   ]
  },
  {
   "cell_type": "code",
   "execution_count": null,
   "metadata": {},
   "outputs": [],
   "source": [
    "features_v1 = pd.merge(features_v1,clicks_v1[['ref_hash','click_region']],on='ref_hash',how='left')"
   ]
  },
  {
   "cell_type": "code",
   "execution_count": null,
   "metadata": {},
   "outputs": [],
   "source": []
  },
  {
   "cell_type": "code",
   "execution_count": null,
   "metadata": {},
   "outputs": [],
   "source": []
  },
  {
   "cell_type": "code",
   "execution_count": 71,
   "metadata": {},
   "outputs": [
    {
     "data": {
      "text/html": [
       "<div>\n",
       "<style scoped>\n",
       "    .dataframe tbody tr th:only-of-type {\n",
       "        vertical-align: middle;\n",
       "    }\n",
       "\n",
       "    .dataframe tbody tr th {\n",
       "        vertical-align: top;\n",
       "    }\n",
       "\n",
       "    .dataframe thead th {\n",
       "        text-align: right;\n",
       "    }\n",
       "</style>\n",
       "<table border=\"1\" class=\"dataframe\">\n",
       "  <thead>\n",
       "    <tr style=\"text-align: right;\">\n",
       "      <th></th>\n",
       "      <th>ref_hash</th>\n",
       "      <th>click_region</th>\n",
       "    </tr>\n",
       "  </thead>\n",
       "  <tbody>\n",
       "    <tr>\n",
       "      <th>0</th>\n",
       "      <td>1293710398598742392</td>\n",
       "      <td>INF_D</td>\n",
       "    </tr>\n",
       "    <tr>\n",
       "      <th>1</th>\n",
       "      <td>1663930990551616564</td>\n",
       "      <td>INF_D</td>\n",
       "    </tr>\n",
       "    <tr>\n",
       "      <th>2</th>\n",
       "      <td>8488038938665586188</td>\n",
       "      <td>INF_I</td>\n",
       "    </tr>\n",
       "    <tr>\n",
       "      <th>3</th>\n",
       "      <td>6488361690105189959</td>\n",
       "      <td>CENT_D</td>\n",
       "    </tr>\n",
       "    <tr>\n",
       "      <th>4</th>\n",
       "      <td>1348993302102753419</td>\n",
       "      <td>INF_I</td>\n",
       "    </tr>\n",
       "    <tr>\n",
       "      <th>5</th>\n",
       "      <td>9100483828528005102</td>\n",
       "      <td>INF_C</td>\n",
       "    </tr>\n",
       "    <tr>\n",
       "      <th>6</th>\n",
       "      <td>3003844605507221557</td>\n",
       "      <td>INF_C</td>\n",
       "    </tr>\n",
       "    <tr>\n",
       "      <th>7</th>\n",
       "      <td>3531386881361303675</td>\n",
       "      <td>?</td>\n",
       "    </tr>\n",
       "    <tr>\n",
       "      <th>8</th>\n",
       "      <td>7031053974919993085</td>\n",
       "      <td>CENT_D</td>\n",
       "    </tr>\n",
       "    <tr>\n",
       "      <th>990</th>\n",
       "      <td>5307746642116947383</td>\n",
       "      <td>INF_D</td>\n",
       "    </tr>\n",
       "    <tr>\n",
       "      <th>991</th>\n",
       "      <td>433096264079320548</td>\n",
       "      <td>INF_D</td>\n",
       "    </tr>\n",
       "    <tr>\n",
       "      <th>992</th>\n",
       "      <td>4514558595084304105</td>\n",
       "      <td>INF_I</td>\n",
       "    </tr>\n",
       "    <tr>\n",
       "      <th>993</th>\n",
       "      <td>5254585044390069818</td>\n",
       "      <td>INF_D</td>\n",
       "    </tr>\n",
       "    <tr>\n",
       "      <th>994</th>\n",
       "      <td>8518330388079067180</td>\n",
       "      <td>?</td>\n",
       "    </tr>\n",
       "    <tr>\n",
       "      <th>995</th>\n",
       "      <td>5386886474551069326</td>\n",
       "      <td>INF_D</td>\n",
       "    </tr>\n",
       "    <tr>\n",
       "      <th>996</th>\n",
       "      <td>5227917428852175613</td>\n",
       "      <td>INF_C</td>\n",
       "    </tr>\n",
       "    <tr>\n",
       "      <th>997</th>\n",
       "      <td>5227917428852175613</td>\n",
       "      <td>INF_D</td>\n",
       "    </tr>\n",
       "    <tr>\n",
       "      <th>998</th>\n",
       "      <td>5691854628099330130</td>\n",
       "      <td>INF_D</td>\n",
       "    </tr>\n",
       "    <tr>\n",
       "      <th>999</th>\n",
       "      <td>6734217153295401860</td>\n",
       "      <td>INF_D</td>\n",
       "    </tr>\n",
       "    <tr>\n",
       "      <th>1000</th>\n",
       "      <td>6734217153295401860</td>\n",
       "      <td>INF_D</td>\n",
       "    </tr>\n",
       "    <tr>\n",
       "      <th>1001</th>\n",
       "      <td>7425652559562776089</td>\n",
       "      <td>INF_I</td>\n",
       "    </tr>\n",
       "    <tr>\n",
       "      <th>1002</th>\n",
       "      <td>3223259397296754684</td>\n",
       "      <td>INF_D</td>\n",
       "    </tr>\n",
       "    <tr>\n",
       "      <th>1003</th>\n",
       "      <td>8199527210405932821</td>\n",
       "      <td>INF_C</td>\n",
       "    </tr>\n",
       "    <tr>\n",
       "      <th>1004</th>\n",
       "      <td>7437971761362140715</td>\n",
       "      <td>INF_C</td>\n",
       "    </tr>\n",
       "    <tr>\n",
       "      <th>1005</th>\n",
       "      <td>5254585044390069818</td>\n",
       "      <td>INF_D</td>\n",
       "    </tr>\n",
       "    <tr>\n",
       "      <th>1006</th>\n",
       "      <td>3496055677480793074</td>\n",
       "      <td>INF_D</td>\n",
       "    </tr>\n",
       "    <tr>\n",
       "      <th>1007</th>\n",
       "      <td>2144240325986153506</td>\n",
       "      <td>INF_D</td>\n",
       "    </tr>\n",
       "    <tr>\n",
       "      <th>1008</th>\n",
       "      <td>5254585044390069818</td>\n",
       "      <td>INF_D</td>\n",
       "    </tr>\n",
       "    <tr>\n",
       "      <th>1009</th>\n",
       "      <td>5602740981050152618</td>\n",
       "      <td>INF_I</td>\n",
       "    </tr>\n",
       "    <tr>\n",
       "      <th>1010</th>\n",
       "      <td>5227208809168204368</td>\n",
       "      <td>?</td>\n",
       "    </tr>\n",
       "    <tr>\n",
       "      <th>...</th>\n",
       "      <td>...</td>\n",
       "      <td>...</td>\n",
       "    </tr>\n",
       "    <tr>\n",
       "      <th>64183</th>\n",
       "      <td>3036453502319305318</td>\n",
       "      <td>INF_I</td>\n",
       "    </tr>\n",
       "    <tr>\n",
       "      <th>64184</th>\n",
       "      <td>1873476550363975514</td>\n",
       "      <td>INF_I</td>\n",
       "    </tr>\n",
       "    <tr>\n",
       "      <th>64185</th>\n",
       "      <td>7235820644970324907</td>\n",
       "      <td>INF_D</td>\n",
       "    </tr>\n",
       "    <tr>\n",
       "      <th>64186</th>\n",
       "      <td>2624501004738953291</td>\n",
       "      <td>INF_D</td>\n",
       "    </tr>\n",
       "    <tr>\n",
       "      <th>64187</th>\n",
       "      <td>1153857448364847156</td>\n",
       "      <td>INF_I</td>\n",
       "    </tr>\n",
       "    <tr>\n",
       "      <th>64188</th>\n",
       "      <td>7952965646497191793</td>\n",
       "      <td>INF_D</td>\n",
       "    </tr>\n",
       "    <tr>\n",
       "      <th>64189</th>\n",
       "      <td>6093340847647906333</td>\n",
       "      <td>INF_D</td>\n",
       "    </tr>\n",
       "    <tr>\n",
       "      <th>64190</th>\n",
       "      <td>7618419687302383795</td>\n",
       "      <td>INF_I</td>\n",
       "    </tr>\n",
       "    <tr>\n",
       "      <th>64191</th>\n",
       "      <td>3145414157605760982</td>\n",
       "      <td>INF_I</td>\n",
       "    </tr>\n",
       "    <tr>\n",
       "      <th>64192</th>\n",
       "      <td>12552176992342593</td>\n",
       "      <td>INF_I</td>\n",
       "    </tr>\n",
       "    <tr>\n",
       "      <th>64193</th>\n",
       "      <td>7107530412592438016</td>\n",
       "      <td>INF_D</td>\n",
       "    </tr>\n",
       "    <tr>\n",
       "      <th>64194</th>\n",
       "      <td>5987305029463559786</td>\n",
       "      <td>INF_I</td>\n",
       "    </tr>\n",
       "    <tr>\n",
       "      <th>64195</th>\n",
       "      <td>8444219597602228279</td>\n",
       "      <td>CENT_D</td>\n",
       "    </tr>\n",
       "    <tr>\n",
       "      <th>64196</th>\n",
       "      <td>8451300232380454209</td>\n",
       "      <td>INF_D</td>\n",
       "    </tr>\n",
       "    <tr>\n",
       "      <th>64197</th>\n",
       "      <td>7480031047658497084</td>\n",
       "      <td>INF_D</td>\n",
       "    </tr>\n",
       "    <tr>\n",
       "      <th>64198</th>\n",
       "      <td>322969737191086418</td>\n",
       "      <td>INF_C</td>\n",
       "    </tr>\n",
       "    <tr>\n",
       "      <th>64199</th>\n",
       "      <td>2147401873111788748</td>\n",
       "      <td>INF_D</td>\n",
       "    </tr>\n",
       "    <tr>\n",
       "      <th>64200</th>\n",
       "      <td>8500503567489269018</td>\n",
       "      <td>INF_D</td>\n",
       "    </tr>\n",
       "    <tr>\n",
       "      <th>64201</th>\n",
       "      <td>1666803095287735586</td>\n",
       "      <td>INF_I</td>\n",
       "    </tr>\n",
       "    <tr>\n",
       "      <th>64202</th>\n",
       "      <td>105089894094421736</td>\n",
       "      <td>INF_D</td>\n",
       "    </tr>\n",
       "    <tr>\n",
       "      <th>64203</th>\n",
       "      <td>2030959286026517854</td>\n",
       "      <td>INF_C</td>\n",
       "    </tr>\n",
       "    <tr>\n",
       "      <th>64204</th>\n",
       "      <td>9137493741802182437</td>\n",
       "      <td>CENT_D</td>\n",
       "    </tr>\n",
       "    <tr>\n",
       "      <th>64205</th>\n",
       "      <td>8084879497342162743</td>\n",
       "      <td>INF_D</td>\n",
       "    </tr>\n",
       "    <tr>\n",
       "      <th>64206</th>\n",
       "      <td>14584268460790220</td>\n",
       "      <td>CENT_D</td>\n",
       "    </tr>\n",
       "    <tr>\n",
       "      <th>64207</th>\n",
       "      <td>1955370179167435359</td>\n",
       "      <td>INF_C</td>\n",
       "    </tr>\n",
       "    <tr>\n",
       "      <th>64208</th>\n",
       "      <td>3998584874308644972</td>\n",
       "      <td>CENT_C</td>\n",
       "    </tr>\n",
       "    <tr>\n",
       "      <th>64209</th>\n",
       "      <td>2609004661207249931</td>\n",
       "      <td>?</td>\n",
       "    </tr>\n",
       "    <tr>\n",
       "      <th>64210</th>\n",
       "      <td>8859214043814992346</td>\n",
       "      <td>?</td>\n",
       "    </tr>\n",
       "    <tr>\n",
       "      <th>64211</th>\n",
       "      <td>59177402352445976</td>\n",
       "      <td>INF_D</td>\n",
       "    </tr>\n",
       "    <tr>\n",
       "      <th>64212</th>\n",
       "      <td>3377109688847643365</td>\n",
       "      <td>INF_I</td>\n",
       "    </tr>\n",
       "  </tbody>\n",
       "</table>\n",
       "<p>12768 rows × 2 columns</p>\n",
       "</div>"
      ],
      "text/plain": [
       "                  ref_hash click_region\n",
       "0      1293710398598742392        INF_D\n",
       "1      1663930990551616564        INF_D\n",
       "2      8488038938665586188        INF_I\n",
       "3      6488361690105189959       CENT_D\n",
       "4      1348993302102753419        INF_I\n",
       "5      9100483828528005102        INF_C\n",
       "6      3003844605507221557        INF_C\n",
       "7      3531386881361303675            ?\n",
       "8      7031053974919993085       CENT_D\n",
       "990    5307746642116947383        INF_D\n",
       "991     433096264079320548        INF_D\n",
       "992    4514558595084304105        INF_I\n",
       "993    5254585044390069818        INF_D\n",
       "994    8518330388079067180            ?\n",
       "995    5386886474551069326        INF_D\n",
       "996    5227917428852175613        INF_C\n",
       "997    5227917428852175613        INF_D\n",
       "998    5691854628099330130        INF_D\n",
       "999    6734217153295401860        INF_D\n",
       "1000   6734217153295401860        INF_D\n",
       "1001   7425652559562776089        INF_I\n",
       "1002   3223259397296754684        INF_D\n",
       "1003   8199527210405932821        INF_C\n",
       "1004   7437971761362140715        INF_C\n",
       "1005   5254585044390069818        INF_D\n",
       "1006   3496055677480793074        INF_D\n",
       "1007   2144240325986153506        INF_D\n",
       "1008   5254585044390069818        INF_D\n",
       "1009   5602740981050152618        INF_I\n",
       "1010   5227208809168204368            ?\n",
       "...                    ...          ...\n",
       "64183  3036453502319305318        INF_I\n",
       "64184  1873476550363975514        INF_I\n",
       "64185  7235820644970324907        INF_D\n",
       "64186  2624501004738953291        INF_D\n",
       "64187  1153857448364847156        INF_I\n",
       "64188  7952965646497191793        INF_D\n",
       "64189  6093340847647906333        INF_D\n",
       "64190  7618419687302383795        INF_I\n",
       "64191  3145414157605760982        INF_I\n",
       "64192    12552176992342593        INF_I\n",
       "64193  7107530412592438016        INF_D\n",
       "64194  5987305029463559786        INF_I\n",
       "64195  8444219597602228279       CENT_D\n",
       "64196  8451300232380454209        INF_D\n",
       "64197  7480031047658497084        INF_D\n",
       "64198   322969737191086418        INF_C\n",
       "64199  2147401873111788748        INF_D\n",
       "64200  8500503567489269018        INF_D\n",
       "64201  1666803095287735586        INF_I\n",
       "64202   105089894094421736        INF_D\n",
       "64203  2030959286026517854        INF_C\n",
       "64204  9137493741802182437       CENT_D\n",
       "64205  8084879497342162743        INF_D\n",
       "64206    14584268460790220       CENT_D\n",
       "64207  1955370179167435359        INF_C\n",
       "64208  3998584874308644972       CENT_C\n",
       "64209  2609004661207249931            ?\n",
       "64210  8859214043814992346            ?\n",
       "64211    59177402352445976        INF_D\n",
       "64212  3377109688847643365        INF_I\n",
       "\n",
       "[12768 rows x 2 columns]"
      ]
     },
     "execution_count": 71,
     "metadata": {},
     "output_type": "execute_result"
    }
   ],
   "source": [
    "clicks_v1[['ref_hash','click_region']]"
   ]
  },
  {
   "cell_type": "code",
   "execution_count": null,
   "metadata": {},
   "outputs": [],
   "source": []
  },
  {
   "cell_type": "code",
   "execution_count": null,
   "metadata": {},
   "outputs": [],
   "source": []
  },
  {
   "cell_type": "code",
   "execution_count": null,
   "metadata": {},
   "outputs": [],
   "source": []
  },
  {
   "cell_type": "code",
   "execution_count": null,
   "metadata": {},
   "outputs": [],
   "source": []
  },
  {
   "cell_type": "code",
   "execution_count": null,
   "metadata": {},
   "outputs": [],
   "source": [
    "clicks_v1[['ref_hash','click_region']]"
   ]
  },
  {
   "cell_type": "code",
   "execution_count": null,
   "metadata": {},
   "outputs": [],
   "source": []
  },
  {
   "cell_type": "code",
   "execution_count": null,
   "metadata": {},
   "outputs": [],
   "source": []
  },
  {
   "cell_type": "code",
   "execution_count": null,
   "metadata": {},
   "outputs": [],
   "source": []
  },
  {
   "cell_type": "code",
   "execution_count": null,
   "metadata": {},
   "outputs": [],
   "source": []
  }
 ],
 "metadata": {
  "kernelspec": {
   "display_name": "Python 3",
   "language": "python",
   "name": "python3"
  },
  "language_info": {
   "codemirror_mode": {
    "name": "ipython",
    "version": 3
   },
   "file_extension": ".py",
   "mimetype": "text/x-python",
   "name": "python",
   "nbconvert_exporter": "python",
   "pygments_lexer": "ipython3",
   "version": "3.7.3"
  }
 },
 "nbformat": 4,
 "nbformat_minor": 2
}
