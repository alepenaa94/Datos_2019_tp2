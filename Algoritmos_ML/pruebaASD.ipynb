{
 "cells": [
  {
   "cell_type": "code",
   "execution_count": 1,
   "metadata": {},
   "outputs": [],
   "source": [
    "import pandas as pd\n",
    "import numpy as np\n",
    "import matplotlib.pyplot as plt\n",
    "import matplotlib.colors as clr\n",
    "import matplotlib.dates as md\n",
    "import seaborn as sns\n",
    "import datetime as datetime\n",
    "import numpy as np\n",
    "import os\n",
    "\n",
    "%matplotlib inline\n",
    "\n",
    "plt.style.use('default')\n",
    "\n",
    "sns.set(style=\"whitegrid\")\n",
    "\n",
    "import warnings \n",
    "warnings.filterwarnings('ignore')\n",
    "\n",
    "my_colors = plt.rcParams['axes.prop_cycle'].by_key()['color']"
   ]
  },
  {
   "cell_type": "code",
   "execution_count": 2,
   "metadata": {},
   "outputs": [],
   "source": [
    "if '__file__' in locals():\n",
    "    current_folder = os.path.dirname(os.path.abspath(__file__))\n",
    "else:\n",
    "    current_folder = os.getcwd()\n",
    "\n",
    "Limpieza_Clicks = '\"{}\"'.format(os.path.join(current_folder, '..', 'Notebook_limpieza', 'Limpieza_Clicks.ipynb'))\n",
    "Limpieza_Auctions = '\"{}\"'.format(os.path.join(current_folder, '..', 'Notebook_limpieza', 'Limpieza_Auctions.ipynb'))\n",
    "Limpieza_Installs = '\"{}\"'.format(os.path.join(current_folder, '..', 'Notebook_limpieza', 'Limpieza_Installs.ipynb'))\n",
    "Limpieza_Events = '\"{}\"'.format(os.path.join(current_folder, '..', 'Notebook_limpieza', 'Limpieza_Events.ipynb'))"
   ]
  },
  {
   "cell_type": "code",
   "execution_count": 3,
   "metadata": {},
   "outputs": [],
   "source": [
    "%run $Limpieza_Clicks\n",
    "%run $Limpieza_Auctions\n",
    "%run $Limpieza_Installs\n",
    "%run $Limpieza_Events"
   ]
  },
  {
   "cell_type": "markdown",
   "metadata": {},
   "source": [
    "# Cálculo del St"
   ]
  },
  {
   "cell_type": "code",
   "execution_count": 35,
   "metadata": {},
   "outputs": [],
   "source": [
    "training_set = auctions\n",
    "training_set.sort_values(ascending=True,by='date',inplace=True)"
   ]
  },
  {
   "cell_type": "code",
   "execution_count": 36,
   "metadata": {},
   "outputs": [],
   "source": [
    "#Separamos el set de datos en \"ventanas\" de 3 días cada una.\n",
    "ventana1 = training_set.loc[(training_set['date'] > pd.to_datetime('2019-04-18')) & (training_set['date'] < pd.to_datetime('2019-04-21'))]\n",
    "ventana2 = training_set.loc[(training_set['date'] > pd.to_datetime('2019-04-19')) & (training_set['date'] < pd.to_datetime('2019-04-22'))]\n",
    "ventana3 = training_set.loc[(training_set['date'] > pd.to_datetime('2019-04-20')) & (training_set['date'] < pd.to_datetime('2019-04-23'))]\n",
    "ventana4 = training_set.loc[(training_set['date'] > pd.to_datetime('2019-04-21')) & (training_set['date'] < pd.to_datetime('2019-04-24'))]\n",
    "ventana5 = training_set.loc[(training_set['date'] > pd.to_datetime('2019-04-22')) & (training_set['date'] < pd.to_datetime('2019-04-25'))]\n",
    "ventana6 = training_set.loc[(training_set['date'] > pd.to_datetime('2019-04-23')) & (training_set['date'] < pd.to_datetime('2019-04-26'))]\n",
    "ventana7 = training_set.loc[(training_set['date'] > pd.to_datetime('2019-04-24')) & (training_set['date'] < pd.to_datetime('2019-04-27'))]"
   ]
  },
  {
   "cell_type": "markdown",
   "metadata": {},
   "source": [
    "Para cada ventana obtenemos la primer y la última subasta en que participo cada dispositivo"
   ]
  },
  {
   "cell_type": "code",
   "execution_count": 37,
   "metadata": {},
   "outputs": [],
   "source": [
    "ventana1['rg_min'] = ventana1.groupby('device_id')['date'].transform(min)\n",
    "ventana1['rg_max'] = ventana1.groupby('device_id')['date'].transform(max)\n",
    "\n",
    "train_st = ventana1[['device_id','rg_min','rg_max']].drop_duplicates()\n",
    "train_st.columns = ['device_id','v1_min','v1_max']"
   ]
  },
  {
   "cell_type": "code",
   "execution_count": 38,
   "metadata": {},
   "outputs": [],
   "source": [
    "ventana2['rg_min'] = ventana2.groupby('device_id')['date'].transform(min)\n",
    "ventana2['rg_max'] = ventana2.groupby('device_id')['date'].transform(max)\n",
    "\n",
    "train_st = pd.merge(train_st,ventana2[['device_id','rg_min','rg_max']].drop_duplicates(),on='device_id',how='outer')\n",
    "train_st.columns = ['device_id','v1_min','v1_max','v2_min','v2_max']"
   ]
  },
  {
   "cell_type": "code",
   "execution_count": 39,
   "metadata": {},
   "outputs": [],
   "source": [
    "ventana3['rg_min'] = ventana3.groupby('device_id')['date'].transform(min)\n",
    "ventana3['rg_max'] = ventana3.groupby('device_id')['date'].transform(max)\n",
    "\n",
    "train_st = pd.merge(train_st,ventana3[['device_id','rg_min','rg_max']].drop_duplicates(),on='device_id',how='outer')\n",
    "train_st.columns = ['device_id','v1_min','v1_max','v2_min','v2_max','v3_min','v3_max']"
   ]
  },
  {
   "cell_type": "code",
   "execution_count": 40,
   "metadata": {},
   "outputs": [],
   "source": [
    "ventana4['rg_min'] = ventana4.groupby('device_id')['date'].transform(min)\n",
    "ventana4['rg_max'] = ventana4.groupby('device_id')['date'].transform(max)\n",
    "\n",
    "train_st = pd.merge(train_st,ventana4[['device_id','rg_min','rg_max']].drop_duplicates(),on='device_id',how='outer')\n",
    "train_st.columns = ['device_id','v1_min','v1_max','v2_min','v2_max','v3_min','v3_max','v4_min','v4_max']"
   ]
  },
  {
   "cell_type": "code",
   "execution_count": 41,
   "metadata": {},
   "outputs": [],
   "source": [
    "ventana5['rg_min'] = ventana5.groupby('device_id')['date'].transform(min)\n",
    "ventana5['rg_max'] = ventana5.groupby('device_id')['date'].transform(max)\n",
    "\n",
    "train_st = pd.merge(train_st,ventana5[['device_id','rg_min','rg_max']].drop_duplicates(),on='device_id',how='outer')\n",
    "train_st.columns = ['device_id','v1_min','v1_max','v2_min','v2_max','v3_min','v3_max','v4_min','v4_max','v5_min','v5_max']"
   ]
  },
  {
   "cell_type": "code",
   "execution_count": 42,
   "metadata": {},
   "outputs": [],
   "source": [
    "ventana6['rg_min'] = ventana6.groupby('device_id')['date'].transform(min)\n",
    "ventana6['rg_max'] = ventana6.groupby('device_id')['date'].transform(max)\n",
    "\n",
    "train_st = pd.merge(train_st,ventana6[['device_id','rg_min','rg_max']].drop_duplicates(),on='device_id',how='outer')\n",
    "train_st.columns = ['device_id','v1_min','v1_max','v2_min','v2_max','v3_min','v3_max','v4_min','v4_max','v5_min','v5_max','v6_min','v6_max']"
   ]
  },
  {
   "cell_type": "code",
   "execution_count": 43,
   "metadata": {},
   "outputs": [],
   "source": [
    "ventana7['rg_min'] = ventana7.groupby('device_id')['date'].transform(min)\n",
    "ventana7['rg_max'] = ventana7.groupby('device_id')['date'].transform(max)\n",
    "\n",
    "train_st = pd.merge(train_st,ventana7[['device_id','rg_min','rg_max']].drop_duplicates(),on='device_id',how='outer')\n",
    "train_st.columns = ['device_id','v1_min','v1_max','v2_min','v2_max','v3_min','v3_max','v4_min','v4_max','v5_min','v5_max','v6_min','v6_max','v7_min','v7_max']"
   ]
  },
  {
   "cell_type": "markdown",
   "metadata": {},
   "source": [
    "Calculamos el St por ventana como la diferencia de tiempo (en segundos) entre la última subasta de una ventana con la primera subasta en los 3 días siguientes"
   ]
  },
  {
   "cell_type": "code",
   "execution_count": 45,
   "metadata": {},
   "outputs": [],
   "source": [
    "train_st['st_v1'] =  abs((train_st['v1_max'] - train_st['v4_min']).dt.total_seconds())\n",
    "train_st['st_v2'] =  abs((train_st['v2_max'] - train_st['v5_min']).dt.total_seconds())\n",
    "train_st['st_v3'] =  abs((train_st['v3_max'] - train_st['v6_min']).dt.total_seconds())\n",
    "train_st['st_v4'] =  abs((train_st['v4_max'] - train_st['v7_min']).dt.total_seconds())"
   ]
  },
  {
   "cell_type": "code",
   "execution_count": 46,
   "metadata": {},
   "outputs": [],
   "source": [
    "train_st = train_st[['device_id','st_v1','st_v2','st_v3','st_v4']]"
   ]
  },
  {
   "cell_type": "code",
   "execution_count": 47,
   "metadata": {},
   "outputs": [
    {
     "data": {
      "text/html": [
       "<div>\n",
       "<style scoped>\n",
       "    .dataframe tbody tr th:only-of-type {\n",
       "        vertical-align: middle;\n",
       "    }\n",
       "\n",
       "    .dataframe tbody tr th {\n",
       "        vertical-align: top;\n",
       "    }\n",
       "\n",
       "    .dataframe thead th {\n",
       "        text-align: right;\n",
       "    }\n",
       "</style>\n",
       "<table border=\"1\" class=\"dataframe\">\n",
       "  <thead>\n",
       "    <tr style=\"text-align: right;\">\n",
       "      <th></th>\n",
       "      <th>device_id</th>\n",
       "      <th>st_v1</th>\n",
       "      <th>st_v2</th>\n",
       "      <th>st_v3</th>\n",
       "      <th>st_v4</th>\n",
       "    </tr>\n",
       "  </thead>\n",
       "  <tbody>\n",
       "    <tr>\n",
       "      <th>0</th>\n",
       "      <td>1826643666390887030</td>\n",
       "      <td>94930.370193</td>\n",
       "      <td>100941.615377</td>\n",
       "      <td>100941.615377</td>\n",
       "      <td>216859.798358</td>\n",
       "    </tr>\n",
       "    <tr>\n",
       "      <th>1</th>\n",
       "      <td>7037174172278258682</td>\n",
       "      <td>219.606447</td>\n",
       "      <td>3763.735472</td>\n",
       "      <td>5334.823385</td>\n",
       "      <td>9475.648466</td>\n",
       "    </tr>\n",
       "    <tr>\n",
       "      <th>2</th>\n",
       "      <td>3392065368947589877</td>\n",
       "      <td>347185.086787</td>\n",
       "      <td>347185.086787</td>\n",
       "      <td>NaN</td>\n",
       "      <td>67974.352169</td>\n",
       "    </tr>\n",
       "    <tr>\n",
       "      <th>3</th>\n",
       "      <td>1228982273563226229</td>\n",
       "      <td>13280.234792</td>\n",
       "      <td>107721.277293</td>\n",
       "      <td>1735.126772</td>\n",
       "      <td>35732.474128</td>\n",
       "    </tr>\n",
       "    <tr>\n",
       "      <th>4</th>\n",
       "      <td>4123059034628125459</td>\n",
       "      <td>399399.762981</td>\n",
       "      <td>NaN</td>\n",
       "      <td>78072.495218</td>\n",
       "      <td>5002.646882</td>\n",
       "    </tr>\n",
       "  </tbody>\n",
       "</table>\n",
       "</div>"
      ],
      "text/plain": [
       "             device_id          st_v1          st_v2          st_v3  \\\n",
       "0  1826643666390887030   94930.370193  100941.615377  100941.615377   \n",
       "1  7037174172278258682     219.606447    3763.735472    5334.823385   \n",
       "2  3392065368947589877  347185.086787  347185.086787            NaN   \n",
       "3  1228982273563226229   13280.234792  107721.277293    1735.126772   \n",
       "4  4123059034628125459  399399.762981            NaN   78072.495218   \n",
       "\n",
       "           st_v4  \n",
       "0  216859.798358  \n",
       "1    9475.648466  \n",
       "2   67974.352169  \n",
       "3   35732.474128  \n",
       "4    5002.646882  "
      ]
     },
     "execution_count": 47,
     "metadata": {},
     "output_type": "execute_result"
    }
   ],
   "source": [
    "train_st.head()"
   ]
  },
  {
   "cell_type": "markdown",
   "metadata": {},
   "source": [
    "En caso de que no haya habido conversión para alguna ventana consideramos a St como el tiempo máximo (3 días en segundos)"
   ]
  },
  {
   "cell_type": "code",
   "execution_count": 49,
   "metadata": {},
   "outputs": [],
   "source": [
    "tiempo_maximo = 259200\n",
    "train_st.fillna(tiempo_maximo,inplace=True)"
   ]
  },
  {
   "cell_type": "code",
   "execution_count": 122,
   "metadata": {},
   "outputs": [
    {
     "data": {
      "text/html": [
       "<div>\n",
       "<style scoped>\n",
       "    .dataframe tbody tr th:only-of-type {\n",
       "        vertical-align: middle;\n",
       "    }\n",
       "\n",
       "    .dataframe tbody tr th {\n",
       "        vertical-align: top;\n",
       "    }\n",
       "\n",
       "    .dataframe thead th {\n",
       "        text-align: right;\n",
       "    }\n",
       "</style>\n",
       "<table border=\"1\" class=\"dataframe\">\n",
       "  <thead>\n",
       "    <tr style=\"text-align: right;\">\n",
       "      <th></th>\n",
       "      <th>device_id</th>\n",
       "      <th>st_v1</th>\n",
       "      <th>st_v2</th>\n",
       "      <th>st_v3</th>\n",
       "      <th>st_v4</th>\n",
       "    </tr>\n",
       "  </thead>\n",
       "  <tbody>\n",
       "    <tr>\n",
       "      <th>0</th>\n",
       "      <td>1826643666390887030</td>\n",
       "      <td>94930.370193</td>\n",
       "      <td>100941.615377</td>\n",
       "      <td>100941.615377</td>\n",
       "      <td>216859.798358</td>\n",
       "    </tr>\n",
       "    <tr>\n",
       "      <th>1</th>\n",
       "      <td>7037174172278258682</td>\n",
       "      <td>219.606447</td>\n",
       "      <td>3763.735472</td>\n",
       "      <td>5334.823385</td>\n",
       "      <td>9475.648466</td>\n",
       "    </tr>\n",
       "    <tr>\n",
       "      <th>2</th>\n",
       "      <td>3392065368947589877</td>\n",
       "      <td>347185.086787</td>\n",
       "      <td>347185.086787</td>\n",
       "      <td>259200.000000</td>\n",
       "      <td>67974.352169</td>\n",
       "    </tr>\n",
       "    <tr>\n",
       "      <th>3</th>\n",
       "      <td>1228982273563226229</td>\n",
       "      <td>13280.234792</td>\n",
       "      <td>107721.277293</td>\n",
       "      <td>1735.126772</td>\n",
       "      <td>35732.474128</td>\n",
       "    </tr>\n",
       "    <tr>\n",
       "      <th>4</th>\n",
       "      <td>4123059034628125459</td>\n",
       "      <td>399399.762981</td>\n",
       "      <td>259200.000000</td>\n",
       "      <td>78072.495218</td>\n",
       "      <td>5002.646882</td>\n",
       "    </tr>\n",
       "  </tbody>\n",
       "</table>\n",
       "</div>"
      ],
      "text/plain": [
       "             device_id          st_v1          st_v2          st_v3  \\\n",
       "0  1826643666390887030   94930.370193  100941.615377  100941.615377   \n",
       "1  7037174172278258682     219.606447    3763.735472    5334.823385   \n",
       "2  3392065368947589877  347185.086787  347185.086787  259200.000000   \n",
       "3  1228982273563226229   13280.234792  107721.277293    1735.126772   \n",
       "4  4123059034628125459  399399.762981  259200.000000   78072.495218   \n",
       "\n",
       "           st_v4  \n",
       "0  216859.798358  \n",
       "1    9475.648466  \n",
       "2   67974.352169  \n",
       "3   35732.474128  \n",
       "4    5002.646882  "
      ]
     },
     "execution_count": 122,
     "metadata": {},
     "output_type": "execute_result"
    }
   ],
   "source": [
    "train_st.head()"
   ]
  },
  {
   "cell_type": "markdown",
   "metadata": {},
   "source": [
    "# FEATURES"
   ]
  },
  {
   "cell_type": "markdown",
   "metadata": {},
   "source": [
    "Creamos features en base a los datasets. Los features van a estar divididos por dispositivo para poder mergearlos en un unico dataframe con features de todos los dataframes."
   ]
  },
  {
   "cell_type": "markdown",
   "metadata": {},
   "source": [
    "### Features de Auctions"
   ]
  },
  {
   "cell_type": "code",
   "execution_count": 123,
   "metadata": {},
   "outputs": [],
   "source": [
    "features_auctions = auctions[['device_id','ref_type_id']].drop_duplicates()"
   ]
  },
  {
   "cell_type": "code",
   "execution_count": 125,
   "metadata": {},
   "outputs": [],
   "source": [
    "features_auctions.sort_values('device_id',inplace=True)\n",
    "features_auctions.columns = ['device_id','es_Apple_o_Google']"
   ]
  },
  {
   "cell_type": "code",
   "execution_count": 126,
   "metadata": {},
   "outputs": [
    {
     "data": {
      "text/html": [
       "<div>\n",
       "<style scoped>\n",
       "    .dataframe tbody tr th:only-of-type {\n",
       "        vertical-align: middle;\n",
       "    }\n",
       "\n",
       "    .dataframe tbody tr th {\n",
       "        vertical-align: top;\n",
       "    }\n",
       "\n",
       "    .dataframe thead th {\n",
       "        text-align: right;\n",
       "    }\n",
       "</style>\n",
       "<table border=\"1\" class=\"dataframe\">\n",
       "  <thead>\n",
       "    <tr style=\"text-align: right;\">\n",
       "      <th></th>\n",
       "      <th>device_id</th>\n",
       "      <th>es_Apple_o_Google</th>\n",
       "    </tr>\n",
       "  </thead>\n",
       "  <tbody>\n",
       "    <tr>\n",
       "      <th>36601349</th>\n",
       "      <td>40621409780134</td>\n",
       "      <td>Google</td>\n",
       "    </tr>\n",
       "    <tr>\n",
       "      <th>30900602</th>\n",
       "      <td>41863526108385</td>\n",
       "      <td>Google</td>\n",
       "    </tr>\n",
       "    <tr>\n",
       "      <th>39675750</th>\n",
       "      <td>69039685746313</td>\n",
       "      <td>Google</td>\n",
       "    </tr>\n",
       "    <tr>\n",
       "      <th>39028251</th>\n",
       "      <td>135153013040192</td>\n",
       "      <td>Google</td>\n",
       "    </tr>\n",
       "    <tr>\n",
       "      <th>46872336</th>\n",
       "      <td>161514654074162</td>\n",
       "      <td>Google</td>\n",
       "    </tr>\n",
       "    <tr>\n",
       "      <th>33917684</th>\n",
       "      <td>168103949904656</td>\n",
       "      <td>Google</td>\n",
       "    </tr>\n",
       "    <tr>\n",
       "      <th>10607289</th>\n",
       "      <td>181891380775191</td>\n",
       "      <td>Google</td>\n",
       "    </tr>\n",
       "    <tr>\n",
       "      <th>16127540</th>\n",
       "      <td>186034136943920</td>\n",
       "      <td>Google</td>\n",
       "    </tr>\n",
       "    <tr>\n",
       "      <th>293739</th>\n",
       "      <td>283297668933729</td>\n",
       "      <td>Google</td>\n",
       "    </tr>\n",
       "    <tr>\n",
       "      <th>13736755</th>\n",
       "      <td>295841792051458</td>\n",
       "      <td>Google</td>\n",
       "    </tr>\n",
       "    <tr>\n",
       "      <th>24453051</th>\n",
       "      <td>345999128501141</td>\n",
       "      <td>Google</td>\n",
       "    </tr>\n",
       "    <tr>\n",
       "      <th>31219167</th>\n",
       "      <td>360710529886978</td>\n",
       "      <td>Google</td>\n",
       "    </tr>\n",
       "    <tr>\n",
       "      <th>35625524</th>\n",
       "      <td>365882020742330</td>\n",
       "      <td>Google</td>\n",
       "    </tr>\n",
       "    <tr>\n",
       "      <th>24538237</th>\n",
       "      <td>407152743717620</td>\n",
       "      <td>Google</td>\n",
       "    </tr>\n",
       "    <tr>\n",
       "      <th>9100988</th>\n",
       "      <td>416301579449694</td>\n",
       "      <td>Google</td>\n",
       "    </tr>\n",
       "    <tr>\n",
       "      <th>32433571</th>\n",
       "      <td>456015810461357</td>\n",
       "      <td>Google</td>\n",
       "    </tr>\n",
       "    <tr>\n",
       "      <th>30313318</th>\n",
       "      <td>473668258229864</td>\n",
       "      <td>Google</td>\n",
       "    </tr>\n",
       "    <tr>\n",
       "      <th>16379529</th>\n",
       "      <td>475635010681369</td>\n",
       "      <td>Google</td>\n",
       "    </tr>\n",
       "    <tr>\n",
       "      <th>30647378</th>\n",
       "      <td>501790157110512</td>\n",
       "      <td>Google</td>\n",
       "    </tr>\n",
       "    <tr>\n",
       "      <th>40773825</th>\n",
       "      <td>519199987760489</td>\n",
       "      <td>Google</td>\n",
       "    </tr>\n",
       "    <tr>\n",
       "      <th>5417505</th>\n",
       "      <td>526030445561483</td>\n",
       "      <td>Google</td>\n",
       "    </tr>\n",
       "    <tr>\n",
       "      <th>16127246</th>\n",
       "      <td>530786270564316</td>\n",
       "      <td>Google</td>\n",
       "    </tr>\n",
       "    <tr>\n",
       "      <th>12818011</th>\n",
       "      <td>558877640599287</td>\n",
       "      <td>Apple</td>\n",
       "    </tr>\n",
       "    <tr>\n",
       "      <th>28339888</th>\n",
       "      <td>607090818352855</td>\n",
       "      <td>Google</td>\n",
       "    </tr>\n",
       "    <tr>\n",
       "      <th>359525</th>\n",
       "      <td>608739959707707</td>\n",
       "      <td>Google</td>\n",
       "    </tr>\n",
       "    <tr>\n",
       "      <th>32192404</th>\n",
       "      <td>622102439689666</td>\n",
       "      <td>Google</td>\n",
       "    </tr>\n",
       "    <tr>\n",
       "      <th>25222573</th>\n",
       "      <td>627959756577621</td>\n",
       "      <td>Google</td>\n",
       "    </tr>\n",
       "    <tr>\n",
       "      <th>47075305</th>\n",
       "      <td>643594200494946</td>\n",
       "      <td>Google</td>\n",
       "    </tr>\n",
       "    <tr>\n",
       "      <th>47345849</th>\n",
       "      <td>645011308561636</td>\n",
       "      <td>Apple</td>\n",
       "    </tr>\n",
       "    <tr>\n",
       "      <th>38729772</th>\n",
       "      <td>651957297814003</td>\n",
       "      <td>Google</td>\n",
       "    </tr>\n",
       "    <tr>\n",
       "      <th>...</th>\n",
       "      <td>...</td>\n",
       "      <td>...</td>\n",
       "    </tr>\n",
       "    <tr>\n",
       "      <th>3862349</th>\n",
       "      <td>9222802779964047967</td>\n",
       "      <td>Google</td>\n",
       "    </tr>\n",
       "    <tr>\n",
       "      <th>23419793</th>\n",
       "      <td>9222809061253378785</td>\n",
       "      <td>Google</td>\n",
       "    </tr>\n",
       "    <tr>\n",
       "      <th>7332826</th>\n",
       "      <td>9222820903899321555</td>\n",
       "      <td>Google</td>\n",
       "    </tr>\n",
       "    <tr>\n",
       "      <th>18145354</th>\n",
       "      <td>9222825313616050213</td>\n",
       "      <td>Google</td>\n",
       "    </tr>\n",
       "    <tr>\n",
       "      <th>16645093</th>\n",
       "      <td>9222828776091827087</td>\n",
       "      <td>Apple</td>\n",
       "    </tr>\n",
       "    <tr>\n",
       "      <th>16314694</th>\n",
       "      <td>9222830073132521659</td>\n",
       "      <td>Google</td>\n",
       "    </tr>\n",
       "    <tr>\n",
       "      <th>8700268</th>\n",
       "      <td>9222833096174851045</td>\n",
       "      <td>Apple</td>\n",
       "    </tr>\n",
       "    <tr>\n",
       "      <th>28102580</th>\n",
       "      <td>9222846891248817195</td>\n",
       "      <td>Google</td>\n",
       "    </tr>\n",
       "    <tr>\n",
       "      <th>26749539</th>\n",
       "      <td>9222848912066710170</td>\n",
       "      <td>Google</td>\n",
       "    </tr>\n",
       "    <tr>\n",
       "      <th>42142465</th>\n",
       "      <td>9222856470568969120</td>\n",
       "      <td>Google</td>\n",
       "    </tr>\n",
       "    <tr>\n",
       "      <th>33230611</th>\n",
       "      <td>9222891164638072546</td>\n",
       "      <td>Google</td>\n",
       "    </tr>\n",
       "    <tr>\n",
       "      <th>26039139</th>\n",
       "      <td>9222941581432951568</td>\n",
       "      <td>Google</td>\n",
       "    </tr>\n",
       "    <tr>\n",
       "      <th>9122078</th>\n",
       "      <td>9222948803125074466</td>\n",
       "      <td>Google</td>\n",
       "    </tr>\n",
       "    <tr>\n",
       "      <th>16219418</th>\n",
       "      <td>9222949346293344736</td>\n",
       "      <td>Google</td>\n",
       "    </tr>\n",
       "    <tr>\n",
       "      <th>40728295</th>\n",
       "      <td>9222957264925735246</td>\n",
       "      <td>Google</td>\n",
       "    </tr>\n",
       "    <tr>\n",
       "      <th>29568075</th>\n",
       "      <td>9222980782941976521</td>\n",
       "      <td>Google</td>\n",
       "    </tr>\n",
       "    <tr>\n",
       "      <th>25202431</th>\n",
       "      <td>9223059472116696420</td>\n",
       "      <td>Google</td>\n",
       "    </tr>\n",
       "    <tr>\n",
       "      <th>16710340</th>\n",
       "      <td>9223135580643723279</td>\n",
       "      <td>Google</td>\n",
       "    </tr>\n",
       "    <tr>\n",
       "      <th>31259047</th>\n",
       "      <td>9223145249047741674</td>\n",
       "      <td>Google</td>\n",
       "    </tr>\n",
       "    <tr>\n",
       "      <th>11662614</th>\n",
       "      <td>9223163483138526566</td>\n",
       "      <td>Google</td>\n",
       "    </tr>\n",
       "    <tr>\n",
       "      <th>4854957</th>\n",
       "      <td>9223186171940415898</td>\n",
       "      <td>Google</td>\n",
       "    </tr>\n",
       "    <tr>\n",
       "      <th>15208086</th>\n",
       "      <td>9223189551280812934</td>\n",
       "      <td>Google</td>\n",
       "    </tr>\n",
       "    <tr>\n",
       "      <th>25213227</th>\n",
       "      <td>9223229584859890420</td>\n",
       "      <td>Google</td>\n",
       "    </tr>\n",
       "    <tr>\n",
       "      <th>19678123</th>\n",
       "      <td>9223231006535555583</td>\n",
       "      <td>Google</td>\n",
       "    </tr>\n",
       "    <tr>\n",
       "      <th>10173392</th>\n",
       "      <td>9223238938580369700</td>\n",
       "      <td>Google</td>\n",
       "    </tr>\n",
       "    <tr>\n",
       "      <th>4933065</th>\n",
       "      <td>9223252295312976945</td>\n",
       "      <td>Google</td>\n",
       "    </tr>\n",
       "    <tr>\n",
       "      <th>16260909</th>\n",
       "      <td>9223285798152466987</td>\n",
       "      <td>Google</td>\n",
       "    </tr>\n",
       "    <tr>\n",
       "      <th>31838988</th>\n",
       "      <td>9223343217005320170</td>\n",
       "      <td>Google</td>\n",
       "    </tr>\n",
       "    <tr>\n",
       "      <th>430365</th>\n",
       "      <td>9223356715682543611</td>\n",
       "      <td>Google</td>\n",
       "    </tr>\n",
       "    <tr>\n",
       "      <th>12817465</th>\n",
       "      <td>9223365873867066370</td>\n",
       "      <td>Google</td>\n",
       "    </tr>\n",
       "  </tbody>\n",
       "</table>\n",
       "<p>476022 rows × 2 columns</p>\n",
       "</div>"
      ],
      "text/plain": [
       "                    device_id es_Apple_o_Google\n",
       "36601349       40621409780134            Google\n",
       "30900602       41863526108385            Google\n",
       "39675750       69039685746313            Google\n",
       "39028251      135153013040192            Google\n",
       "46872336      161514654074162            Google\n",
       "33917684      168103949904656            Google\n",
       "10607289      181891380775191            Google\n",
       "16127540      186034136943920            Google\n",
       "293739        283297668933729            Google\n",
       "13736755      295841792051458            Google\n",
       "24453051      345999128501141            Google\n",
       "31219167      360710529886978            Google\n",
       "35625524      365882020742330            Google\n",
       "24538237      407152743717620            Google\n",
       "9100988       416301579449694            Google\n",
       "32433571      456015810461357            Google\n",
       "30313318      473668258229864            Google\n",
       "16379529      475635010681369            Google\n",
       "30647378      501790157110512            Google\n",
       "40773825      519199987760489            Google\n",
       "5417505       526030445561483            Google\n",
       "16127246      530786270564316            Google\n",
       "12818011      558877640599287             Apple\n",
       "28339888      607090818352855            Google\n",
       "359525        608739959707707            Google\n",
       "32192404      622102439689666            Google\n",
       "25222573      627959756577621            Google\n",
       "47075305      643594200494946            Google\n",
       "47345849      645011308561636             Apple\n",
       "38729772      651957297814003            Google\n",
       "...                       ...               ...\n",
       "3862349   9222802779964047967            Google\n",
       "23419793  9222809061253378785            Google\n",
       "7332826   9222820903899321555            Google\n",
       "18145354  9222825313616050213            Google\n",
       "16645093  9222828776091827087             Apple\n",
       "16314694  9222830073132521659            Google\n",
       "8700268   9222833096174851045             Apple\n",
       "28102580  9222846891248817195            Google\n",
       "26749539  9222848912066710170            Google\n",
       "42142465  9222856470568969120            Google\n",
       "33230611  9222891164638072546            Google\n",
       "26039139  9222941581432951568            Google\n",
       "9122078   9222948803125074466            Google\n",
       "16219418  9222949346293344736            Google\n",
       "40728295  9222957264925735246            Google\n",
       "29568075  9222980782941976521            Google\n",
       "25202431  9223059472116696420            Google\n",
       "16710340  9223135580643723279            Google\n",
       "31259047  9223145249047741674            Google\n",
       "11662614  9223163483138526566            Google\n",
       "4854957   9223186171940415898            Google\n",
       "15208086  9223189551280812934            Google\n",
       "25213227  9223229584859890420            Google\n",
       "19678123  9223231006535555583            Google\n",
       "10173392  9223238938580369700            Google\n",
       "4933065   9223252295312976945            Google\n",
       "16260909  9223285798152466987            Google\n",
       "31838988  9223343217005320170            Google\n",
       "430365    9223356715682543611            Google\n",
       "12817465  9223365873867066370            Google\n",
       "\n",
       "[476022 rows x 2 columns]"
      ]
     },
     "execution_count": 126,
     "metadata": {},
     "output_type": "execute_result"
    }
   ],
   "source": [
    "#No sirve porque hay dispositivos que usan ambas...\n",
    "features_auctions"
   ]
  },
  {
   "cell_type": "markdown",
   "metadata": {},
   "source": [
    "### Features de Events"
   ]
  },
  {
   "cell_type": "code",
   "execution_count": 131,
   "metadata": {},
   "outputs": [],
   "source": [
    "events_v1 = events.loc[(events['date'] > pd.to_datetime('2019-04-18')) & (events['date'] < pd.to_datetime('2019-04-21'))]\n",
    "events_v2 = events.loc[(events['date'] > pd.to_datetime('2019-04-19')) & (events['date'] < pd.to_datetime('2019-04-22'))]\n",
    "events_v3 = events.loc[(events['date'] > pd.to_datetime('2019-04-20')) & (events['date'] < pd.to_datetime('2019-04-23'))]\n",
    "events_v4 = events.loc[(events['date'] > pd.to_datetime('2019-04-21')) & (events['date'] < pd.to_datetime('2019-04-24'))]\n",
    "\n",
    "features_events_v1 = events_v1.groupby('ref_hash').agg({'ref_hash':'size'})\n",
    "features_events_v2 = events_v2.groupby('ref_hash').agg({'ref_hash':'size'})\n",
    "features_events_v3 = events_v3.groupby('ref_hash').agg({'ref_hash':'size'})\n",
    "features_events_v4 = events_v4.groupby('ref_hash').agg({'ref_hash':'size'})"
   ]
  },
  {
   "cell_type": "code",
   "execution_count": 132,
   "metadata": {},
   "outputs": [],
   "source": [
    "features_events_v1.columns = ['cantidad_de_eventos_en_ventana']\n",
    "features_events_v2.columns = ['cantidad_de_eventos_en_ventana']\n",
    "features_events_v3.columns = ['cantidad_de_eventos_en_ventana']\n",
    "features_events_v4.columns = ['cantidad_de_eventos_en_ventana']"
   ]
  },
  {
   "cell_type": "code",
   "execution_count": 133,
   "metadata": {},
   "outputs": [],
   "source": [
    "Week_Day = [\"Monday\",\"Tuesday\",\"Wednesday\",\"Thursday\",\"Friday\",\"Saturday\",\"Sunday\"]\n",
    "\n",
    "for dia in Week_Day:\n",
    "    eventos_por_dia = events[events['date'].dt.day_name() == dia].groupby('ref_hash').agg({'ref_hash':'size'})\n",
    "    eventos_por_dia.columns = ['cantidad_eventos_{}'.format(dia)]\n",
    "    \n",
    "    features_events_v1 = features_events_v1.merge(eventos_por_dia, how='outer', left_index=True, right_index=True)\n",
    "    features_events_v2 = features_events_v2.merge(eventos_por_dia, how='outer', left_index=True, right_index=True)\n",
    "    features_events_v3 = features_events_v3.merge(eventos_por_dia, how='outer', left_index=True, right_index=True)\n",
    "    features_events_v4 = features_events_v4.merge(eventos_por_dia, how='outer', left_index=True, right_index=True)\n",
    "    \n",
    "features_events_v1 = features_events_v1.fillna(0)\n",
    "features_events_v2 = features_events_v2.fillna(0)\n",
    "features_events_v3 = features_events_v3.fillna(0)\n",
    "features_events_v4 = features_events_v4.fillna(0)"
   ]
  },
  {
   "cell_type": "code",
   "execution_count": 134,
   "metadata": {},
   "outputs": [],
   "source": [
    "features_events_v1 = pd.merge(train_st[['device_id']],features_events_v1,left_on='device_id',right_on='ref_hash',how='left')"
   ]
  },
  {
   "cell_type": "code",
   "execution_count": 135,
   "metadata": {},
   "outputs": [
    {
     "data": {
      "text/html": [
       "<div>\n",
       "<style scoped>\n",
       "    .dataframe tbody tr th:only-of-type {\n",
       "        vertical-align: middle;\n",
       "    }\n",
       "\n",
       "    .dataframe tbody tr th {\n",
       "        vertical-align: top;\n",
       "    }\n",
       "\n",
       "    .dataframe thead th {\n",
       "        text-align: right;\n",
       "    }\n",
       "</style>\n",
       "<table border=\"1\" class=\"dataframe\">\n",
       "  <thead>\n",
       "    <tr style=\"text-align: right;\">\n",
       "      <th></th>\n",
       "      <th>device_id</th>\n",
       "      <th>cantidad_de_eventos_en_ventana</th>\n",
       "      <th>cantidad_eventos_Monday</th>\n",
       "      <th>cantidad_eventos_Tuesday</th>\n",
       "      <th>cantidad_eventos_Wednesday</th>\n",
       "      <th>cantidad_eventos_Thursday</th>\n",
       "      <th>cantidad_eventos_Friday</th>\n",
       "      <th>cantidad_eventos_Saturday</th>\n",
       "      <th>cantidad_eventos_Sunday</th>\n",
       "    </tr>\n",
       "  </thead>\n",
       "  <tbody>\n",
       "    <tr>\n",
       "      <th>0</th>\n",
       "      <td>1826643666390887030</td>\n",
       "      <td>NaN</td>\n",
       "      <td>NaN</td>\n",
       "      <td>NaN</td>\n",
       "      <td>NaN</td>\n",
       "      <td>NaN</td>\n",
       "      <td>NaN</td>\n",
       "      <td>NaN</td>\n",
       "      <td>NaN</td>\n",
       "    </tr>\n",
       "    <tr>\n",
       "      <th>1</th>\n",
       "      <td>7037174172278258682</td>\n",
       "      <td>0.0</td>\n",
       "      <td>0.0</td>\n",
       "      <td>0.0</td>\n",
       "      <td>0.0</td>\n",
       "      <td>0.0</td>\n",
       "      <td>65.0</td>\n",
       "      <td>0.0</td>\n",
       "      <td>0.0</td>\n",
       "    </tr>\n",
       "    <tr>\n",
       "      <th>2</th>\n",
       "      <td>3392065368947589877</td>\n",
       "      <td>4.0</td>\n",
       "      <td>0.0</td>\n",
       "      <td>0.0</td>\n",
       "      <td>0.0</td>\n",
       "      <td>4.0</td>\n",
       "      <td>0.0</td>\n",
       "      <td>0.0</td>\n",
       "      <td>0.0</td>\n",
       "    </tr>\n",
       "    <tr>\n",
       "      <th>3</th>\n",
       "      <td>1228982273563226229</td>\n",
       "      <td>NaN</td>\n",
       "      <td>NaN</td>\n",
       "      <td>NaN</td>\n",
       "      <td>NaN</td>\n",
       "      <td>NaN</td>\n",
       "      <td>NaN</td>\n",
       "      <td>NaN</td>\n",
       "      <td>NaN</td>\n",
       "    </tr>\n",
       "    <tr>\n",
       "      <th>4</th>\n",
       "      <td>4123059034628125459</td>\n",
       "      <td>8.0</td>\n",
       "      <td>0.0</td>\n",
       "      <td>0.0</td>\n",
       "      <td>0.0</td>\n",
       "      <td>8.0</td>\n",
       "      <td>0.0</td>\n",
       "      <td>0.0</td>\n",
       "      <td>0.0</td>\n",
       "    </tr>\n",
       "  </tbody>\n",
       "</table>\n",
       "</div>"
      ],
      "text/plain": [
       "             device_id  cantidad_de_eventos_en_ventana  \\\n",
       "0  1826643666390887030                             NaN   \n",
       "1  7037174172278258682                             0.0   \n",
       "2  3392065368947589877                             4.0   \n",
       "3  1228982273563226229                             NaN   \n",
       "4  4123059034628125459                             8.0   \n",
       "\n",
       "   cantidad_eventos_Monday  cantidad_eventos_Tuesday  \\\n",
       "0                      NaN                       NaN   \n",
       "1                      0.0                       0.0   \n",
       "2                      0.0                       0.0   \n",
       "3                      NaN                       NaN   \n",
       "4                      0.0                       0.0   \n",
       "\n",
       "   cantidad_eventos_Wednesday  cantidad_eventos_Thursday  \\\n",
       "0                         NaN                        NaN   \n",
       "1                         0.0                        0.0   \n",
       "2                         0.0                        4.0   \n",
       "3                         NaN                        NaN   \n",
       "4                         0.0                        8.0   \n",
       "\n",
       "   cantidad_eventos_Friday  cantidad_eventos_Saturday  cantidad_eventos_Sunday  \n",
       "0                      NaN                        NaN                      NaN  \n",
       "1                     65.0                        0.0                      0.0  \n",
       "2                      0.0                        0.0                      0.0  \n",
       "3                      NaN                        NaN                      NaN  \n",
       "4                      0.0                        0.0                      0.0  "
      ]
     },
     "execution_count": 135,
     "metadata": {},
     "output_type": "execute_result"
    }
   ],
   "source": [
    "features_events_v1.head()"
   ]
  },
  {
   "cell_type": "code",
   "execution_count": 136,
   "metadata": {},
   "outputs": [
    {
     "data": {
      "text/plain": [
       "(475338, 9)"
      ]
     },
     "execution_count": 136,
     "metadata": {},
     "output_type": "execute_result"
    }
   ],
   "source": [
    "features_events_v1.shape"
   ]
  },
  {
   "cell_type": "code",
   "execution_count": 137,
   "metadata": {},
   "outputs": [],
   "source": [
    "features_events_v1.fillna(0,inplace=True)"
   ]
  },
  {
   "cell_type": "code",
   "execution_count": 138,
   "metadata": {},
   "outputs": [],
   "source": [
    "features_events_v1.sort_values(by='device_id',inplace=True)"
   ]
  },
  {
   "cell_type": "code",
   "execution_count": null,
   "metadata": {},
   "outputs": [],
   "source": []
  },
  {
   "cell_type": "markdown",
   "metadata": {},
   "source": [
    "### Clicks"
   ]
  },
  {
   "cell_type": "code",
   "execution_count": 141,
   "metadata": {},
   "outputs": [],
   "source": [
    "#Hay clicks que suceden fuera del período de análisis.\n",
    "clicks_a_considerar = clicks.loc[(clicks['created'] > pd.to_datetime('2019-04-18')) & (clicks['created'] < pd.to_datetime('2019-04-27'))]"
   ]
  },
  {
   "cell_type": "code",
   "execution_count": 142,
   "metadata": {},
   "outputs": [],
   "source": [
    "clicks_v1 = clicks.loc[(clicks['created'] > pd.to_datetime('2019-04-18')) & (clicks['created'] < pd.to_datetime('2019-04-21'))]\n",
    "clicks_v2 = clicks.loc[(clicks['created'] > pd.to_datetime('2019-04-19')) & (clicks['created'] < pd.to_datetime('2019-04-22'))]\n",
    "clicks_v3 = clicks.loc[(clicks['created'] > pd.to_datetime('2019-04-20')) & (clicks['created'] < pd.to_datetime('2019-04-23'))]\n",
    "clicks_v4 = clicks.loc[(clicks['created'] > pd.to_datetime('2019-04-21')) & (clicks['created'] < pd.to_datetime('2019-04-24'))]\n",
    "\n",
    "features_clicks_v1 = clicks_v1.groupby('ref_hash').agg({'ref_hash':'size'})\n",
    "features_clicks_v2 = clicks_v2.groupby('ref_hash').agg({'ref_hash':'size'})\n",
    "features_clicks_v3 = clicks_v3.groupby('ref_hash').agg({'ref_hash':'size'})\n",
    "features_clicks_v4 = clicks_v4.groupby('ref_hash').agg({'ref_hash':'size'})"
   ]
  },
  {
   "cell_type": "code",
   "execution_count": 143,
   "metadata": {},
   "outputs": [],
   "source": [
    "features_clicks_v1.columns = ['cantidad_de_clicks_en_ventana']\n",
    "features_clicks_v2.columns = ['cantidad_de_clicks_en_ventana']\n",
    "features_clicks_v3.columns = ['cantidad_de_clicks_en_ventana']\n",
    "features_clicks_v4.columns = ['cantidad_de_clicks_en_ventana']"
   ]
  },
  {
   "cell_type": "code",
   "execution_count": 144,
   "metadata": {},
   "outputs": [],
   "source": [
    "for dia in Week_Day:\n",
    "    clicks_por_dia = clicks_a_considerar[clicks_a_considerar['created'].dt.day_name() == dia].groupby('ref_hash').agg({'ref_hash':'size'})\n",
    "    clicks_por_dia.columns = ['cantidad_clicks_{}'.format(dia)]\n",
    "    \n",
    "    features_clicks_v1 = features_clicks_v1.merge(clicks_por_dia, how='outer', left_index=True, right_index=True)\n",
    "    features_clicks_v2 = features_clicks_v2.merge(clicks_por_dia, how='outer', left_index=True, right_index=True)\n",
    "    features_clicks_v3 = features_clicks_v3.merge(clicks_por_dia, how='outer', left_index=True, right_index=True)\n",
    "    features_clicks_v4 = features_clicks_v4.merge(clicks_por_dia, how='outer', left_index=True, right_index=True)\n",
    "    \n",
    "features_clicks_v1 = features_clicks_v1.fillna(0)\n",
    "features_clicks_v2 = features_clicks_v2.fillna(0)\n",
    "features_clicks_v3 = features_clicks_v3.fillna(0)\n",
    "features_clicks_v4 = features_clicks_v4.fillna(0)"
   ]
  },
  {
   "cell_type": "code",
   "execution_count": 145,
   "metadata": {},
   "outputs": [],
   "source": [
    "features_clicks_v1 = pd.merge(train_st[['device_id']],features_clicks_v1,left_on='device_id',right_on='ref_hash',how='left')"
   ]
  },
  {
   "cell_type": "code",
   "execution_count": 149,
   "metadata": {},
   "outputs": [
    {
     "data": {
      "text/html": [
       "<div>\n",
       "<style scoped>\n",
       "    .dataframe tbody tr th:only-of-type {\n",
       "        vertical-align: middle;\n",
       "    }\n",
       "\n",
       "    .dataframe tbody tr th {\n",
       "        vertical-align: top;\n",
       "    }\n",
       "\n",
       "    .dataframe thead th {\n",
       "        text-align: right;\n",
       "    }\n",
       "</style>\n",
       "<table border=\"1\" class=\"dataframe\">\n",
       "  <thead>\n",
       "    <tr style=\"text-align: right;\">\n",
       "      <th></th>\n",
       "      <th>device_id</th>\n",
       "      <th>cantidad_de_clicks_en_ventana</th>\n",
       "      <th>cantidad_clicks_Monday</th>\n",
       "      <th>cantidad_clicks_Tuesday</th>\n",
       "      <th>cantidad_clicks_Wednesday</th>\n",
       "      <th>cantidad_clicks_Thursday</th>\n",
       "      <th>cantidad_clicks_Friday</th>\n",
       "      <th>cantidad_clicks_Saturday</th>\n",
       "      <th>cantidad_clicks_Sunday</th>\n",
       "    </tr>\n",
       "  </thead>\n",
       "  <tbody>\n",
       "    <tr>\n",
       "      <th>0</th>\n",
       "      <td>1826643666390887030</td>\n",
       "      <td>NaN</td>\n",
       "      <td>NaN</td>\n",
       "      <td>NaN</td>\n",
       "      <td>NaN</td>\n",
       "      <td>NaN</td>\n",
       "      <td>NaN</td>\n",
       "      <td>NaN</td>\n",
       "      <td>NaN</td>\n",
       "    </tr>\n",
       "    <tr>\n",
       "      <th>1</th>\n",
       "      <td>7037174172278258682</td>\n",
       "      <td>0.0</td>\n",
       "      <td>0.0</td>\n",
       "      <td>0.0</td>\n",
       "      <td>1.0</td>\n",
       "      <td>0.0</td>\n",
       "      <td>0.0</td>\n",
       "      <td>0.0</td>\n",
       "      <td>0.0</td>\n",
       "    </tr>\n",
       "    <tr>\n",
       "      <th>2</th>\n",
       "      <td>3392065368947589877</td>\n",
       "      <td>NaN</td>\n",
       "      <td>NaN</td>\n",
       "      <td>NaN</td>\n",
       "      <td>NaN</td>\n",
       "      <td>NaN</td>\n",
       "      <td>NaN</td>\n",
       "      <td>NaN</td>\n",
       "      <td>NaN</td>\n",
       "    </tr>\n",
       "    <tr>\n",
       "      <th>3</th>\n",
       "      <td>1228982273563226229</td>\n",
       "      <td>NaN</td>\n",
       "      <td>NaN</td>\n",
       "      <td>NaN</td>\n",
       "      <td>NaN</td>\n",
       "      <td>NaN</td>\n",
       "      <td>NaN</td>\n",
       "      <td>NaN</td>\n",
       "      <td>NaN</td>\n",
       "    </tr>\n",
       "    <tr>\n",
       "      <th>4</th>\n",
       "      <td>4123059034628125459</td>\n",
       "      <td>NaN</td>\n",
       "      <td>NaN</td>\n",
       "      <td>NaN</td>\n",
       "      <td>NaN</td>\n",
       "      <td>NaN</td>\n",
       "      <td>NaN</td>\n",
       "      <td>NaN</td>\n",
       "      <td>NaN</td>\n",
       "    </tr>\n",
       "  </tbody>\n",
       "</table>\n",
       "</div>"
      ],
      "text/plain": [
       "             device_id  cantidad_de_clicks_en_ventana  cantidad_clicks_Monday  \\\n",
       "0  1826643666390887030                            NaN                     NaN   \n",
       "1  7037174172278258682                            0.0                     0.0   \n",
       "2  3392065368947589877                            NaN                     NaN   \n",
       "3  1228982273563226229                            NaN                     NaN   \n",
       "4  4123059034628125459                            NaN                     NaN   \n",
       "\n",
       "   cantidad_clicks_Tuesday  cantidad_clicks_Wednesday  \\\n",
       "0                      NaN                        NaN   \n",
       "1                      0.0                        1.0   \n",
       "2                      NaN                        NaN   \n",
       "3                      NaN                        NaN   \n",
       "4                      NaN                        NaN   \n",
       "\n",
       "   cantidad_clicks_Thursday  cantidad_clicks_Friday  cantidad_clicks_Saturday  \\\n",
       "0                       NaN                     NaN                       NaN   \n",
       "1                       0.0                     0.0                       0.0   \n",
       "2                       NaN                     NaN                       NaN   \n",
       "3                       NaN                     NaN                       NaN   \n",
       "4                       NaN                     NaN                       NaN   \n",
       "\n",
       "   cantidad_clicks_Sunday  \n",
       "0                     NaN  \n",
       "1                     0.0  \n",
       "2                     NaN  \n",
       "3                     NaN  \n",
       "4                     NaN  "
      ]
     },
     "execution_count": 149,
     "metadata": {},
     "output_type": "execute_result"
    }
   ],
   "source": [
    "features_clicks_v1.head()"
   ]
  },
  {
   "cell_type": "code",
   "execution_count": 150,
   "metadata": {},
   "outputs": [
    {
     "data": {
      "text/plain": [
       "(475338, 9)"
      ]
     },
     "execution_count": 150,
     "metadata": {},
     "output_type": "execute_result"
    }
   ],
   "source": [
    "features_clicks_v1.shape"
   ]
  },
  {
   "cell_type": "code",
   "execution_count": 151,
   "metadata": {},
   "outputs": [],
   "source": [
    "features_clicks_v1.fillna(0,inplace=True)"
   ]
  },
  {
   "cell_type": "code",
   "execution_count": 152,
   "metadata": {},
   "outputs": [],
   "source": [
    "features_clicks_v1.sort_values(by='device_id',inplace=True)"
   ]
  },
  {
   "cell_type": "code",
   "execution_count": null,
   "metadata": {},
   "outputs": [],
   "source": []
  },
  {
   "cell_type": "markdown",
   "metadata": {},
   "source": [
    "# LABEL"
   ]
  },
  {
   "cell_type": "code",
   "execution_count": 86,
   "metadata": {},
   "outputs": [],
   "source": [
    "label1 = train_st[['device_id','st_v1']]"
   ]
  },
  {
   "cell_type": "code",
   "execution_count": 87,
   "metadata": {},
   "outputs": [
    {
     "data": {
      "text/plain": [
       "(475338, 2)"
      ]
     },
     "execution_count": 87,
     "metadata": {},
     "output_type": "execute_result"
    }
   ],
   "source": [
    "label1.shape"
   ]
  },
  {
   "cell_type": "code",
   "execution_count": 100,
   "metadata": {},
   "outputs": [],
   "source": [
    "label1['st_v1'].replace(\n",
    "    to_replace=[0],\n",
    "    value=tiempo_maximo,\n",
    "    inplace=True\n",
    ")\n",
    "\n",
    "label1['binary'] = np.where(label1['st_v1']>=tiempo_maximo,False,True)\n",
    "label1.sort_values(by='device_id',inplace=True)"
   ]
  },
  {
   "cell_type": "code",
   "execution_count": 101,
   "metadata": {},
   "outputs": [],
   "source": [
    "del label1['device_id']\n",
    "label1 = label1[['binary','st_v1']].to_records(index=False) "
   ]
  },
  {
   "cell_type": "code",
   "execution_count": null,
   "metadata": {},
   "outputs": [],
   "source": []
  },
  {
   "cell_type": "markdown",
   "metadata": {},
   "source": [
    "# Algoritmo"
   ]
  },
  {
   "cell_type": "code",
   "execution_count": 102,
   "metadata": {},
   "outputs": [
    {
     "data": {
      "text/plain": [
       "CoxPHSurvivalAnalysis(alpha=0, n_iter=100, tol=1e-09, verbose=0)"
      ]
     },
     "execution_count": 102,
     "metadata": {},
     "output_type": "execute_result"
    }
   ],
   "source": [
    "from sksurv.linear_model import CoxPHSurvivalAnalysis\n",
    "\n",
    "estimator = CoxPHSurvivalAnalysis()\n",
    "estimator.fit(df_features,label1)"
   ]
  },
  {
   "cell_type": "code",
   "execution_count": 103,
   "metadata": {},
   "outputs": [
    {
     "data": {
      "text/plain": [
       "ref_hash                     -8.357441e-22\n",
       "cantidad_de_eventos           1.150665e-05\n",
       "cantidad_eventos_Monday      -3.380476e-04\n",
       "cantidad_eventos_Tuesday      4.059600e-04\n",
       "cantidad_eventos_Wednesday   -5.670885e-04\n",
       "cantidad_eventos_Thursday     2.586518e-04\n",
       "cantidad_eventos_Friday       6.406885e-05\n",
       "cantidad_eventos_Saturday     3.038192e-04\n",
       "cantidad_eventos_Sunday       1.380709e-04\n",
       "dtype: float64"
      ]
     },
     "execution_count": 103,
     "metadata": {},
     "output_type": "execute_result"
    }
   ],
   "source": [
    "pd.Series(estimator.coef_, index=df_features.columns)"
   ]
  },
  {
   "cell_type": "markdown",
   "metadata": {},
   "source": [
    "#### El resultado es un vector de coeficientes, uno para cada variable, donde cada valor corresponde a la relación del registro y evento"
   ]
  },
  {
   "cell_type": "code",
   "execution_count": null,
   "metadata": {},
   "outputs": [],
   "source": []
  },
  {
   "cell_type": "code",
   "execution_count": 104,
   "metadata": {},
   "outputs": [],
   "source": [
    "prediction = estimator.predict(df_features)"
   ]
  },
  {
   "cell_type": "code",
   "execution_count": 105,
   "metadata": {},
   "outputs": [
    {
     "data": {
      "text/plain": [
       "0.5021970863822909"
      ]
     },
     "execution_count": 105,
     "metadata": {},
     "output_type": "execute_result"
    }
   ],
   "source": [
    "estimator.score(df_features, label1)"
   ]
  },
  {
   "cell_type": "code",
   "execution_count": null,
   "metadata": {},
   "outputs": [],
   "source": []
  },
  {
   "cell_type": "markdown",
   "metadata": {},
   "source": [
    "# KNN"
   ]
  },
  {
   "cell_type": "code",
   "execution_count": 107,
   "metadata": {},
   "outputs": [],
   "source": [
    "set_training = pd.merge(train_st[['device_id','st_v1']],df_features, how='inner', left_on='device_id',right_on='ref_hash')"
   ]
  },
  {
   "cell_type": "code",
   "execution_count": 108,
   "metadata": {},
   "outputs": [],
   "source": [
    "del set_training['device_id']"
   ]
  },
  {
   "cell_type": "code",
   "execution_count": 109,
   "metadata": {},
   "outputs": [],
   "source": [
    "columns = list(set_training.columns)\n",
    "columns.remove('st_v1')"
   ]
  },
  {
   "cell_type": "code",
   "execution_count": 110,
   "metadata": {},
   "outputs": [],
   "source": [
    "from sklearn.model_selection import train_test_split\n",
    "\n",
    "#TRAIN_TEST_SPLIT\n",
    "#Split arrays or matrices into random train and test subsets\n",
    "X_train, X_test, Y_train, Y_test = train_test_split(set_training.loc[:, columns],\n",
    "                                                    set_training['st_v1'],\n",
    "                                                    test_size=0.2,\n",
    "                                                    random_state=43)"
   ]
  },
  {
   "cell_type": "code",
   "execution_count": 111,
   "metadata": {},
   "outputs": [],
   "source": [
    "from sklearn.neighbors import KNeighborsRegressor\n",
    "from sklearn import metrics\n",
    "\n",
    "k=5 #-->Hiperparametro\n",
    "neigh = KNeighborsRegressor(n_neighbors = k ,    #Cantidad de vecinos a usar --> K hiperparametro.\n",
    "                            n_jobs=-1,           #Define la cantidad de procesadores a usar, -1 todos los disponibles.\n",
    "                            weights='distance',  #Se define el peso como la inversa a la distancia, los mas cercanos tienen mayor influencia.\n",
    "                            algorithm='brute'    #Fuerza bruta para el algorimo, podría ser KDTree o sino automatico.\n",
    "                           )\n",
    "#En weights se puede pasar una funcion definida por el usuario--> Segundo hiperparametro posible de KNN."
   ]
  },
  {
   "cell_type": "code",
   "execution_count": 112,
   "metadata": {},
   "outputs": [
    {
     "data": {
      "text/plain": [
       "KNeighborsRegressor(algorithm='brute', leaf_size=30, metric='minkowski',\n",
       "          metric_params=None, n_jobs=-1, n_neighbors=5, p=2,\n",
       "          weights='distance')"
      ]
     },
     "execution_count": 112,
     "metadata": {},
     "output_type": "execute_result"
    }
   ],
   "source": [
    "neigh.fit(X_train,Y_train) #Fit the model using X as training data and Y as target values"
   ]
  },
  {
   "cell_type": "code",
   "execution_count": 113,
   "metadata": {},
   "outputs": [],
   "source": [
    "predicted = neigh.predict(X_test) #Predict the target for the provided data"
   ]
  },
  {
   "cell_type": "code",
   "execution_count": 114,
   "metadata": {},
   "outputs": [
    {
     "data": {
      "text/plain": [
       "-0.3960931039558926"
      ]
     },
     "execution_count": 114,
     "metadata": {},
     "output_type": "execute_result"
    }
   ],
   "source": [
    "neigh.score(X_test, Y_test)"
   ]
  },
  {
   "cell_type": "code",
   "execution_count": null,
   "metadata": {},
   "outputs": [],
   "source": []
  },
  {
   "cell_type": "code",
   "execution_count": null,
   "metadata": {},
   "outputs": [],
   "source": []
  },
  {
   "cell_type": "code",
   "execution_count": null,
   "metadata": {},
   "outputs": [],
   "source": []
  }
 ],
 "metadata": {
  "kernelspec": {
   "display_name": "Python 3",
   "language": "python",
   "name": "python3"
  },
  "language_info": {
   "codemirror_mode": {
    "name": "ipython",
    "version": 3
   },
   "file_extension": ".py",
   "mimetype": "text/x-python",
   "name": "python",
   "nbconvert_exporter": "python",
   "pygments_lexer": "ipython3",
   "version": "3.7.1"
  }
 },
 "nbformat": 4,
 "nbformat_minor": 2
}
