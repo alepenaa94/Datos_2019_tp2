{
 "cells": [
  {
   "cell_type": "code",
   "execution_count": 1,
   "metadata": {},
   "outputs": [],
   "source": [
    "import pandas as pd\n",
    "import numpy as np\n",
    "import matplotlib.pyplot as plt\n",
    "import matplotlib.colors as clr\n",
    "import matplotlib.dates as md\n",
    "import seaborn as sns\n",
    "import datetime as datetime\n",
    "import numpy as np\n",
    "import os\n",
    "\n",
    "%matplotlib inline\n",
    "\n",
    "plt.style.use('default')\n",
    "\n",
    "sns.set(style=\"whitegrid\")\n",
    "\n",
    "import warnings \n",
    "warnings.filterwarnings('ignore')\n",
    "\n",
    "my_colors = plt.rcParams['axes.prop_cycle'].by_key()['color']"
   ]
  },
  {
   "cell_type": "code",
   "execution_count": 2,
   "metadata": {},
   "outputs": [],
   "source": [
    "if '__file__' in locals():\n",
    "    current_folder = os.path.dirname(os.path.abspath(__file__))\n",
    "else:\n",
    "    current_folder = os.getcwd()\n",
    "\n",
    "Limpieza_Clicks = '\"{}\"'.format(os.path.join(current_folder, '..', 'Notebook_limpieza', 'Limpieza_Clicks.ipynb'))\n",
    "Limpieza_Auctions = '\"{}\"'.format(os.path.join(current_folder, '..', 'Notebook_limpieza', 'Limpieza_Auctions.ipynb'))\n",
    "Limpieza_Installs = '\"{}\"'.format(os.path.join(current_folder, '..', 'Notebook_limpieza', 'Limpieza_Installs.ipynb'))\n",
    "Limpieza_Events = '\"{}\"'.format(os.path.join(current_folder, '..', 'Notebook_limpieza', 'Limpieza_Events.ipynb'))"
   ]
  },
  {
   "cell_type": "code",
   "execution_count": 3,
   "metadata": {},
   "outputs": [],
   "source": [
    "%run $Limpieza_Clicks\n",
    "%run $Limpieza_Auctions\n",
    "%run $Limpieza_Installs\n",
    "%run $Limpieza_Events"
   ]
  },
  {
   "cell_type": "markdown",
   "metadata": {},
   "source": [
    "# Cálculo del St"
   ]
  },
  {
   "cell_type": "code",
   "execution_count": 34,
   "metadata": {},
   "outputs": [],
   "source": [
    "training_set = auctions\n",
    "training_set.sort_values(ascending=True,by='date',inplace=True)"
   ]
  },
  {
   "cell_type": "code",
   "execution_count": 35,
   "metadata": {},
   "outputs": [],
   "source": [
    "#Separamos el set de datos en \"ventanas\" de 3 días cada una.\n",
    "ventana1 = training_set.loc[(training_set['date'] > pd.to_datetime('2019-04-18')) & (training_set['date'] < pd.to_datetime('2019-04-21'))]\n",
    "ventana2 = training_set.loc[(training_set['date'] > pd.to_datetime('2019-04-19')) & (training_set['date'] < pd.to_datetime('2019-04-22'))]\n",
    "ventana3 = training_set.loc[(training_set['date'] > pd.to_datetime('2019-04-20')) & (training_set['date'] < pd.to_datetime('2019-04-23'))]\n",
    "ventana4 = training_set.loc[(training_set['date'] > pd.to_datetime('2019-04-21')) & (training_set['date'] < pd.to_datetime('2019-04-24'))]\n",
    "ventana5 = training_set.loc[(training_set['date'] > pd.to_datetime('2019-04-22')) & (training_set['date'] < pd.to_datetime('2019-04-25'))]\n",
    "ventana6 = training_set.loc[(training_set['date'] > pd.to_datetime('2019-04-23')) & (training_set['date'] < pd.to_datetime('2019-04-26'))]\n",
    "ventana7 = training_set.loc[(training_set['date'] > pd.to_datetime('2019-04-24')) & (training_set['date'] < pd.to_datetime('2019-04-27'))]"
   ]
  },
  {
   "cell_type": "code",
   "execution_count": 36,
   "metadata": {},
   "outputs": [],
   "source": [
    "fecha_iv1 = pd.to_datetime('2019-04-18')\n",
    "fecha_iv2 = pd.to_datetime('2019-04-19')\n",
    "fecha_iv3 = pd.to_datetime('2019-04-20')\n",
    "fecha_iv4 = pd.to_datetime('2019-04-21')\n",
    "fecha_iv5 = pd.to_datetime('2019-04-22')\n",
    "fecha_iv6 = pd.to_datetime('2019-04-23')\n",
    "fecha_iv7 = pd.to_datetime('2019-04-24')\n",
    "\n",
    "ventana1['st'] = (ventana1.groupby('device_id')['date'].transform(min) -  fecha_iv1).dt.total_seconds()\n",
    "ventana2['st'] = (ventana2.groupby('device_id')['date'].transform(min) -  fecha_iv2).dt.total_seconds()\n",
    "ventana3['st'] = (ventana3.groupby('device_id')['date'].transform(min) -  fecha_iv3).dt.total_seconds()\n",
    "ventana4['st'] = (ventana4.groupby('device_id')['date'].transform(min) -  fecha_iv4).dt.total_seconds()\n",
    "ventana5['st'] = (ventana5.groupby('device_id')['date'].transform(min) -  fecha_iv5).dt.total_seconds()\n",
    "ventana6['st'] = (ventana6.groupby('device_id')['date'].transform(min) -  fecha_iv6).dt.total_seconds()\n",
    "ventana7['st'] = (ventana7.groupby('device_id')['date'].transform(min) -  fecha_iv7).dt.total_seconds()"
   ]
  },
  {
   "cell_type": "code",
   "execution_count": 37,
   "metadata": {},
   "outputs": [],
   "source": [
    "label1 = ventana1[['device_id','st']].drop_duplicates()"
   ]
  },
  {
   "cell_type": "code",
   "execution_count": 38,
   "metadata": {},
   "outputs": [],
   "source": [
    "label2 = ventana2[['device_id','st']].drop_duplicates()"
   ]
  },
  {
   "cell_type": "code",
   "execution_count": 39,
   "metadata": {},
   "outputs": [],
   "source": [
    "label3 = ventana3[['device_id','st']].drop_duplicates()"
   ]
  },
  {
   "cell_type": "code",
   "execution_count": 40,
   "metadata": {},
   "outputs": [],
   "source": [
    "label4 = ventana4[['device_id','st']].drop_duplicates()"
   ]
  },
  {
   "cell_type": "code",
   "execution_count": 41,
   "metadata": {},
   "outputs": [],
   "source": [
    "label5 = ventana5[['device_id','st']].drop_duplicates()"
   ]
  },
  {
   "cell_type": "markdown",
   "metadata": {},
   "source": [
    "# Cálculo del Sc"
   ]
  },
  {
   "cell_type": "code",
   "execution_count": 42,
   "metadata": {},
   "outputs": [],
   "source": [
    "training_set = installs\n",
    "training_set.sort_values(ascending=True,by='created',inplace=True)"
   ]
  },
  {
   "cell_type": "code",
   "execution_count": 43,
   "metadata": {},
   "outputs": [],
   "source": [
    "#Separamos el set de datos en \"ventanas\" de 3 días cada una.\n",
    "ventana1 = training_set.loc[(training_set['created'] > pd.to_datetime('2019-04-18')) & (training_set['created'] < pd.to_datetime('2019-04-21'))]\n",
    "ventana2 = training_set.loc[(training_set['created'] > pd.to_datetime('2019-04-19')) & (training_set['created'] < pd.to_datetime('2019-04-22'))]\n",
    "ventana3 = training_set.loc[(training_set['created'] > pd.to_datetime('2019-04-20')) & (training_set['created'] < pd.to_datetime('2019-04-23'))]\n",
    "ventana4 = training_set.loc[(training_set['created'] > pd.to_datetime('2019-04-21')) & (training_set['created'] < pd.to_datetime('2019-04-24'))]\n",
    "ventana5 = training_set.loc[(training_set['created'] > pd.to_datetime('2019-04-22')) & (training_set['created'] < pd.to_datetime('2019-04-25'))]\n",
    "ventana6 = training_set.loc[(training_set['created'] > pd.to_datetime('2019-04-23')) & (training_set['created'] < pd.to_datetime('2019-04-26'))]\n",
    "ventana7 = training_set.loc[(training_set['created'] > pd.to_datetime('2019-04-24')) & (training_set['created'] < pd.to_datetime('2019-04-27'))]"
   ]
  },
  {
   "cell_type": "code",
   "execution_count": 44,
   "metadata": {},
   "outputs": [],
   "source": [
    "fecha_iv1 = pd.to_datetime('2019-04-18')\n",
    "fecha_iv2 = pd.to_datetime('2019-04-19')\n",
    "fecha_iv3 = pd.to_datetime('2019-04-20')\n",
    "fecha_iv4 = pd.to_datetime('2019-04-21')\n",
    "fecha_iv5 = pd.to_datetime('2019-04-22')\n",
    "fecha_iv6 = pd.to_datetime('2019-04-23')\n",
    "fecha_iv7 = pd.to_datetime('2019-04-24')\n",
    "\n",
    "ventana1['sc'] = (ventana1.groupby('ref_hash')['created'].transform(min) -  fecha_iv1).dt.total_seconds()\n",
    "ventana2['sc'] = (ventana2.groupby('ref_hash')['created'].transform(min) -  fecha_iv2).dt.total_seconds()\n",
    "ventana3['sc'] = (ventana3.groupby('ref_hash')['created'].transform(min) -  fecha_iv3).dt.total_seconds()\n",
    "ventana4['sc'] = (ventana4.groupby('ref_hash')['created'].transform(min) -  fecha_iv4).dt.total_seconds()\n",
    "ventana5['sc'] = (ventana5.groupby('ref_hash')['created'].transform(min) -  fecha_iv5).dt.total_seconds()\n",
    "ventana6['sc'] = (ventana6.groupby('ref_hash')['created'].transform(min) -  fecha_iv6).dt.total_seconds()\n",
    "ventana7['sc'] = (ventana7.groupby('ref_hash')['created'].transform(min) -  fecha_iv7).dt.total_seconds()"
   ]
  },
  {
   "cell_type": "code",
   "execution_count": 45,
   "metadata": {},
   "outputs": [],
   "source": [
    "label1 = pd.merge(label1,ventana1[['ref_hash','sc']].drop_duplicates(),left_on='device_id',right_on='ref_hash',how='inner')  \n",
    "del label1['ref_hash']"
   ]
  },
  {
   "cell_type": "code",
   "execution_count": 46,
   "metadata": {},
   "outputs": [],
   "source": [
    "label2 = pd.merge(label2,ventana2[['ref_hash','sc']].drop_duplicates(),left_on='device_id',right_on='ref_hash',how='inner')  \n",
    "del label2['ref_hash']"
   ]
  },
  {
   "cell_type": "code",
   "execution_count": 47,
   "metadata": {},
   "outputs": [],
   "source": [
    "label3 = pd.merge(label3,ventana3[['ref_hash','sc']].drop_duplicates(),left_on='device_id',right_on='ref_hash',how='inner')  \n",
    "del label3['ref_hash']"
   ]
  },
  {
   "cell_type": "code",
   "execution_count": 48,
   "metadata": {},
   "outputs": [],
   "source": [
    "label4 = pd.merge(label4,ventana4[['ref_hash','sc']].drop_duplicates(),left_on='device_id',right_on='ref_hash',how='inner')  \n",
    "del label4['ref_hash']"
   ]
  },
  {
   "cell_type": "code",
   "execution_count": 49,
   "metadata": {},
   "outputs": [],
   "source": [
    "label5 = pd.merge(label5,ventana5[['ref_hash','sc']].drop_duplicates(),left_on='device_id',right_on='ref_hash',how='inner')  \n",
    "del label5['ref_hash']"
   ]
  },
  {
   "cell_type": "code",
   "execution_count": 50,
   "metadata": {},
   "outputs": [
    {
     "data": {
      "text/html": [
       "<div>\n",
       "<style scoped>\n",
       "    .dataframe tbody tr th:only-of-type {\n",
       "        vertical-align: middle;\n",
       "    }\n",
       "\n",
       "    .dataframe tbody tr th {\n",
       "        vertical-align: top;\n",
       "    }\n",
       "\n",
       "    .dataframe thead th {\n",
       "        text-align: right;\n",
       "    }\n",
       "</style>\n",
       "<table border=\"1\" class=\"dataframe\">\n",
       "  <thead>\n",
       "    <tr style=\"text-align: right;\">\n",
       "      <th></th>\n",
       "      <th>device_id</th>\n",
       "      <th>st</th>\n",
       "      <th>sc</th>\n",
       "    </tr>\n",
       "  </thead>\n",
       "  <tbody>\n",
       "    <tr>\n",
       "      <th>0</th>\n",
       "      <td>4123059034628125459</td>\n",
       "      <td>0.132510</td>\n",
       "      <td>17800.664</td>\n",
       "    </tr>\n",
       "    <tr>\n",
       "      <th>1</th>\n",
       "      <td>2844535553398493162</td>\n",
       "      <td>0.219200</td>\n",
       "      <td>254067.909</td>\n",
       "    </tr>\n",
       "    <tr>\n",
       "      <th>2</th>\n",
       "      <td>7081017498081781688</td>\n",
       "      <td>0.370859</td>\n",
       "      <td>246869.802</td>\n",
       "    </tr>\n",
       "    <tr>\n",
       "      <th>3</th>\n",
       "      <td>5372400508976774833</td>\n",
       "      <td>0.485009</td>\n",
       "      <td>162439.165</td>\n",
       "    </tr>\n",
       "    <tr>\n",
       "      <th>4</th>\n",
       "      <td>2227766999717522159</td>\n",
       "      <td>0.502433</td>\n",
       "      <td>46431.436</td>\n",
       "    </tr>\n",
       "  </tbody>\n",
       "</table>\n",
       "</div>"
      ],
      "text/plain": [
       "             device_id        st          sc\n",
       "0  4123059034628125459  0.132510   17800.664\n",
       "1  2844535553398493162  0.219200  254067.909\n",
       "2  7081017498081781688  0.370859  246869.802\n",
       "3  5372400508976774833  0.485009  162439.165\n",
       "4  2227766999717522159  0.502433   46431.436"
      ]
     },
     "execution_count": 50,
     "metadata": {},
     "output_type": "execute_result"
    }
   ],
   "source": [
    "label1.head()"
   ]
  },
  {
   "cell_type": "markdown",
   "metadata": {},
   "source": [
    "# FEATURES"
   ]
  },
  {
   "cell_type": "markdown",
   "metadata": {},
   "source": [
    "Creamos features en base a los datasets. Los features van a estar divididos por dispositivo para poder mergearlos en un unico dataframe con features de todos los dataframes."
   ]
  },
  {
   "cell_type": "markdown",
   "metadata": {},
   "source": [
    "### Features de Auctions"
   ]
  },
  {
   "cell_type": "code",
   "execution_count": 12,
   "metadata": {},
   "outputs": [],
   "source": [
    "auctions_v1 = auctions.loc[(auctions['date'] > pd.to_datetime('2019-04-18')) & (auctions['date'] < pd.to_datetime('2019-04-21'))]\n",
    "auctions_v2 = auctions.loc[(auctions['date'] > pd.to_datetime('2019-04-19')) & (auctions['date'] < pd.to_datetime('2019-04-22'))]\n",
    "auctions_v3 = auctions.loc[(auctions['date'] > pd.to_datetime('2019-04-20')) & (auctions['date'] < pd.to_datetime('2019-04-23'))]\n",
    "auctions_v4 = auctions.loc[(auctions['date'] > pd.to_datetime('2019-04-21')) & (auctions['date'] < pd.to_datetime('2019-04-24'))]\n",
    "auctions_v5 = auctions.loc[(auctions['date'] > pd.to_datetime('2019-04-22')) & (auctions['date'] < pd.to_datetime('2019-04-25'))]\n",
    "\n",
    "features_auctions_v1 = auctions_v1.groupby('device_id').agg({'device_id':'size'})\n",
    "features_auctions_v2 = auctions_v2.groupby('device_id').agg({'device_id':'size'})\n",
    "features_auctions_v3 = auctions_v3.groupby('device_id').agg({'device_id':'size'})\n",
    "features_auctions_v4 = auctions_v4.groupby('device_id').agg({'device_id':'size'})\n",
    "features_auctions_v5 = auctions_v5.groupby('device_id').agg({'device_id':'size'})"
   ]
  },
  {
   "cell_type": "code",
   "execution_count": 13,
   "metadata": {},
   "outputs": [],
   "source": [
    "features_auctions_v1.columns = ['cantidad_de_subastas_en_ventana']\n",
    "features_auctions_v2.columns = ['cantidad_de_subastas_en_ventana']\n",
    "features_auctions_v3.columns = ['cantidad_de_subastas_en_ventana']\n",
    "features_auctions_v4.columns = ['cantidad_de_subastas_en_ventana']\n",
    "features_auctions_v5.columns = ['cantidad_de_subastas_en_ventana']"
   ]
  },
  {
   "cell_type": "code",
   "execution_count": 14,
   "metadata": {},
   "outputs": [],
   "source": [
    "Week_Day = [\"Monday\",\"Tuesday\",\"Wednesday\",\"Thursday\",\"Friday\",\"Saturday\",\"Sunday\"]\n",
    "\n",
    "for dia in Week_Day:\n",
    "    subastas_por_dia = auctions[auctions['date'].dt.day_name() == dia].groupby('device_id').agg({'device_id':'size'})\n",
    "    subastas_por_dia.columns = ['cantidad_subastas_{}'.format(dia)]\n",
    "    \n",
    "    features_auctions_v1 = features_auctions_v1.merge(subastas_por_dia, how='outer', left_index=True, right_index=True)\n",
    "    features_auctions_v2 = features_auctions_v2.merge(subastas_por_dia, how='outer', left_index=True, right_index=True)\n",
    "    features_auctions_v3 = features_auctions_v3.merge(subastas_por_dia, how='outer', left_index=True, right_index=True)\n",
    "    features_auctions_v4 = features_auctions_v4.merge(subastas_por_dia, how='outer', left_index=True, right_index=True)\n",
    "    features_auctions_v5 = features_auctions_v5.merge(subastas_por_dia, how='outer', left_index=True, right_index=True)\n",
    "    \n",
    "features_auctions_v1 = features_auctions_v1.fillna(0)\n",
    "features_auctions_v2 = features_auctions_v2.fillna(0)\n",
    "features_auctions_v3 = features_auctions_v3.fillna(0)\n",
    "features_auctions_v4 = features_auctions_v4.fillna(0)\n",
    "features_auctions_v5 = features_auctions_v5.fillna(0)"
   ]
  },
  {
   "cell_type": "code",
   "execution_count": 15,
   "metadata": {},
   "outputs": [
    {
     "data": {
      "text/html": [
       "<div>\n",
       "<style scoped>\n",
       "    .dataframe tbody tr th:only-of-type {\n",
       "        vertical-align: middle;\n",
       "    }\n",
       "\n",
       "    .dataframe tbody tr th {\n",
       "        vertical-align: top;\n",
       "    }\n",
       "\n",
       "    .dataframe thead th {\n",
       "        text-align: right;\n",
       "    }\n",
       "</style>\n",
       "<table border=\"1\" class=\"dataframe\">\n",
       "  <thead>\n",
       "    <tr style=\"text-align: right;\">\n",
       "      <th></th>\n",
       "      <th>cantidad_de_subastas_en_ventana</th>\n",
       "      <th>cantidad_subastas_Monday</th>\n",
       "      <th>cantidad_subastas_Tuesday</th>\n",
       "      <th>cantidad_subastas_Wednesday</th>\n",
       "      <th>cantidad_subastas_Thursday</th>\n",
       "      <th>cantidad_subastas_Friday</th>\n",
       "      <th>cantidad_subastas_Saturday</th>\n",
       "      <th>cantidad_subastas_Sunday</th>\n",
       "    </tr>\n",
       "    <tr>\n",
       "      <th>device_id</th>\n",
       "      <th></th>\n",
       "      <th></th>\n",
       "      <th></th>\n",
       "      <th></th>\n",
       "      <th></th>\n",
       "      <th></th>\n",
       "      <th></th>\n",
       "      <th></th>\n",
       "    </tr>\n",
       "  </thead>\n",
       "  <tbody>\n",
       "    <tr>\n",
       "      <th>40621409780134</th>\n",
       "      <td>0.0</td>\n",
       "      <td>0.0</td>\n",
       "      <td>1.0</td>\n",
       "      <td>0.0</td>\n",
       "      <td>0.0</td>\n",
       "      <td>0.0</td>\n",
       "      <td>0.0</td>\n",
       "      <td>0.0</td>\n",
       "    </tr>\n",
       "    <tr>\n",
       "      <th>41863526108385</th>\n",
       "      <td>35.0</td>\n",
       "      <td>0.0</td>\n",
       "      <td>0.0</td>\n",
       "      <td>0.0</td>\n",
       "      <td>0.0</td>\n",
       "      <td>1.0</td>\n",
       "      <td>34.0</td>\n",
       "      <td>0.0</td>\n",
       "    </tr>\n",
       "    <tr>\n",
       "      <th>69039685746313</th>\n",
       "      <td>0.0</td>\n",
       "      <td>0.0</td>\n",
       "      <td>0.0</td>\n",
       "      <td>0.0</td>\n",
       "      <td>4.0</td>\n",
       "      <td>0.0</td>\n",
       "      <td>0.0</td>\n",
       "      <td>0.0</td>\n",
       "    </tr>\n",
       "    <tr>\n",
       "      <th>135153013040192</th>\n",
       "      <td>8.0</td>\n",
       "      <td>0.0</td>\n",
       "      <td>0.0</td>\n",
       "      <td>0.0</td>\n",
       "      <td>0.0</td>\n",
       "      <td>0.0</td>\n",
       "      <td>8.0</td>\n",
       "      <td>0.0</td>\n",
       "    </tr>\n",
       "    <tr>\n",
       "      <th>161514654074162</th>\n",
       "      <td>6.0</td>\n",
       "      <td>0.0</td>\n",
       "      <td>0.0</td>\n",
       "      <td>0.0</td>\n",
       "      <td>6.0</td>\n",
       "      <td>0.0</td>\n",
       "      <td>0.0</td>\n",
       "      <td>0.0</td>\n",
       "    </tr>\n",
       "  </tbody>\n",
       "</table>\n",
       "</div>"
      ],
      "text/plain": [
       "                 cantidad_de_subastas_en_ventana  cantidad_subastas_Monday  \\\n",
       "device_id                                                                    \n",
       "40621409780134                               0.0                       0.0   \n",
       "41863526108385                              35.0                       0.0   \n",
       "69039685746313                               0.0                       0.0   \n",
       "135153013040192                              8.0                       0.0   \n",
       "161514654074162                              6.0                       0.0   \n",
       "\n",
       "                 cantidad_subastas_Tuesday  cantidad_subastas_Wednesday  \\\n",
       "device_id                                                                 \n",
       "40621409780134                         1.0                          0.0   \n",
       "41863526108385                         0.0                          0.0   \n",
       "69039685746313                         0.0                          0.0   \n",
       "135153013040192                        0.0                          0.0   \n",
       "161514654074162                        0.0                          0.0   \n",
       "\n",
       "                 cantidad_subastas_Thursday  cantidad_subastas_Friday  \\\n",
       "device_id                                                               \n",
       "40621409780134                          0.0                       0.0   \n",
       "41863526108385                          0.0                       1.0   \n",
       "69039685746313                          4.0                       0.0   \n",
       "135153013040192                         0.0                       0.0   \n",
       "161514654074162                         6.0                       0.0   \n",
       "\n",
       "                 cantidad_subastas_Saturday  cantidad_subastas_Sunday  \n",
       "device_id                                                              \n",
       "40621409780134                          0.0                       0.0  \n",
       "41863526108385                         34.0                       0.0  \n",
       "69039685746313                          0.0                       0.0  \n",
       "135153013040192                         8.0                       0.0  \n",
       "161514654074162                         0.0                       0.0  "
      ]
     },
     "execution_count": 15,
     "metadata": {},
     "output_type": "execute_result"
    }
   ],
   "source": [
    "features_auctions_v1.head()"
   ]
  },
  {
   "cell_type": "code",
   "execution_count": null,
   "metadata": {},
   "outputs": [],
   "source": []
  },
  {
   "cell_type": "markdown",
   "metadata": {},
   "source": [
    "### Features de Events"
   ]
  },
  {
   "cell_type": "code",
   "execution_count": 16,
   "metadata": {},
   "outputs": [],
   "source": [
    "events_v1 = events.loc[(events['date'] >= pd.to_datetime('2019-04-18')) & (events['date'] <= pd.to_datetime('2019-04-21'))]\n",
    "events_v2 = events.loc[(events['date'] >= pd.to_datetime('2019-04-19')) & (events['date'] <= pd.to_datetime('2019-04-22'))]\n",
    "events_v3 = events.loc[(events['date'] >= pd.to_datetime('2019-04-20')) & (events['date'] <= pd.to_datetime('2019-04-23'))]\n",
    "events_v4 = events.loc[(events['date'] >= pd.to_datetime('2019-04-21')) & (events['date'] <= pd.to_datetime('2019-04-24'))]\n",
    "\n",
    "ventanas_events = [events_v1, events_v2, events_v3, events_v4]"
   ]
  },
  {
   "cell_type": "code",
   "execution_count": 17,
   "metadata": {},
   "outputs": [],
   "source": [
    "features_events = []\n",
    "\n",
    "for ventana in ventanas_events:\n",
    "    features_ventana = ventana.groupby('ref_hash').agg({'ref_hash':'size'})\n",
    "    features_ventana.columns = ['cantidad_de_eventos_en_ventana']\n",
    "    features_events.append(features_ventana)"
   ]
  },
  {
   "cell_type": "code",
   "execution_count": 18,
   "metadata": {},
   "outputs": [],
   "source": [
    "for index, ventana in enumerate(ventanas_events):\n",
    "    for dia in Week_Day:\n",
    "        eventos_por_dia = ventana[ventana['date'].dt.day_name() == dia].groupby('ref_hash').agg({'ref_hash':'size'})\n",
    "        eventos_por_dia.columns = ['cantidad_eventos_{}'.format(dia)]\n",
    "        \n",
    "        features_events[index] = features_events[index].merge(eventos_por_dia, how='outer', left_index=True, right_index=True)\n",
    "        features_events[index].fillna(0, inplace=True)"
   ]
  },
  {
   "cell_type": "markdown",
   "metadata": {},
   "source": [
    "#### Eventos por hora"
   ]
  },
  {
   "cell_type": "code",
   "execution_count": 20,
   "metadata": {},
   "outputs": [],
   "source": [
    "for index, ventana in enumerate(ventanas_events):\n",
    "    for hora in range(24):\n",
    "        eventos_por_hora = ventana[ventana['date'].dt.hour == hora].groupby('ref_hash').agg({'ref_hash':'size'})\n",
    "        eventos_por_hora.columns = ['cantidad_eventos_hora_{}'.format(hora)]\n",
    "        features_events[index] = features_events[index].merge(eventos_por_hora, how='outer', left_index=True, right_index=True) \n",
    "        features_events[index]['cantidad_eventos_hora_{}'.format(hora)].fillna(0, inplace=True)"
   ]
  },
  {
   "cell_type": "code",
   "execution_count": 21,
   "metadata": {},
   "outputs": [
    {
     "data": {
      "text/html": [
       "<div>\n",
       "<style scoped>\n",
       "    .dataframe tbody tr th:only-of-type {\n",
       "        vertical-align: middle;\n",
       "    }\n",
       "\n",
       "    .dataframe tbody tr th {\n",
       "        vertical-align: top;\n",
       "    }\n",
       "\n",
       "    .dataframe thead th {\n",
       "        text-align: right;\n",
       "    }\n",
       "</style>\n",
       "<table border=\"1\" class=\"dataframe\">\n",
       "  <thead>\n",
       "    <tr style=\"text-align: right;\">\n",
       "      <th></th>\n",
       "      <th>cantidad_de_eventos_en_ventana</th>\n",
       "      <th>cantidad_eventos_Monday</th>\n",
       "      <th>cantidad_eventos_Tuesday</th>\n",
       "      <th>cantidad_eventos_Wednesday</th>\n",
       "      <th>cantidad_eventos_Thursday</th>\n",
       "      <th>cantidad_eventos_Friday</th>\n",
       "      <th>cantidad_eventos_Saturday</th>\n",
       "      <th>cantidad_eventos_Sunday</th>\n",
       "      <th>cantidad_eventos_hora_0</th>\n",
       "      <th>cantidad_eventos_hora_1</th>\n",
       "      <th>...</th>\n",
       "      <th>cantidad_eventos_hora_14</th>\n",
       "      <th>cantidad_eventos_hora_15</th>\n",
       "      <th>cantidad_eventos_hora_16</th>\n",
       "      <th>cantidad_eventos_hora_17</th>\n",
       "      <th>cantidad_eventos_hora_18</th>\n",
       "      <th>cantidad_eventos_hora_19</th>\n",
       "      <th>cantidad_eventos_hora_20</th>\n",
       "      <th>cantidad_eventos_hora_21</th>\n",
       "      <th>cantidad_eventos_hora_22</th>\n",
       "      <th>cantidad_eventos_hora_23</th>\n",
       "    </tr>\n",
       "    <tr>\n",
       "      <th>ref_hash</th>\n",
       "      <th></th>\n",
       "      <th></th>\n",
       "      <th></th>\n",
       "      <th></th>\n",
       "      <th></th>\n",
       "      <th></th>\n",
       "      <th></th>\n",
       "      <th></th>\n",
       "      <th></th>\n",
       "      <th></th>\n",
       "      <th></th>\n",
       "      <th></th>\n",
       "      <th></th>\n",
       "      <th></th>\n",
       "      <th></th>\n",
       "      <th></th>\n",
       "      <th></th>\n",
       "      <th></th>\n",
       "      <th></th>\n",
       "      <th></th>\n",
       "      <th></th>\n",
       "    </tr>\n",
       "  </thead>\n",
       "  <tbody>\n",
       "    <tr>\n",
       "      <th>41863526108385</th>\n",
       "      <td>88</td>\n",
       "      <td>0.0</td>\n",
       "      <td>0.0</td>\n",
       "      <td>0.0</td>\n",
       "      <td>24.0</td>\n",
       "      <td>21.0</td>\n",
       "      <td>43.0</td>\n",
       "      <td>0.0</td>\n",
       "      <td>0.0</td>\n",
       "      <td>0.0</td>\n",
       "      <td>...</td>\n",
       "      <td>0.0</td>\n",
       "      <td>0.0</td>\n",
       "      <td>0.0</td>\n",
       "      <td>0.0</td>\n",
       "      <td>0.0</td>\n",
       "      <td>0.0</td>\n",
       "      <td>0.0</td>\n",
       "      <td>24.0</td>\n",
       "      <td>0.0</td>\n",
       "      <td>0.0</td>\n",
       "    </tr>\n",
       "    <tr>\n",
       "      <th>161514654074162</th>\n",
       "      <td>8</td>\n",
       "      <td>0.0</td>\n",
       "      <td>0.0</td>\n",
       "      <td>0.0</td>\n",
       "      <td>0.0</td>\n",
       "      <td>8.0</td>\n",
       "      <td>0.0</td>\n",
       "      <td>0.0</td>\n",
       "      <td>0.0</td>\n",
       "      <td>0.0</td>\n",
       "      <td>...</td>\n",
       "      <td>0.0</td>\n",
       "      <td>0.0</td>\n",
       "      <td>0.0</td>\n",
       "      <td>8.0</td>\n",
       "      <td>0.0</td>\n",
       "      <td>0.0</td>\n",
       "      <td>0.0</td>\n",
       "      <td>0.0</td>\n",
       "      <td>0.0</td>\n",
       "      <td>0.0</td>\n",
       "    </tr>\n",
       "    <tr>\n",
       "      <th>186034136943920</th>\n",
       "      <td>13</td>\n",
       "      <td>0.0</td>\n",
       "      <td>0.0</td>\n",
       "      <td>0.0</td>\n",
       "      <td>13.0</td>\n",
       "      <td>0.0</td>\n",
       "      <td>0.0</td>\n",
       "      <td>0.0</td>\n",
       "      <td>0.0</td>\n",
       "      <td>0.0</td>\n",
       "      <td>...</td>\n",
       "      <td>0.0</td>\n",
       "      <td>0.0</td>\n",
       "      <td>13.0</td>\n",
       "      <td>0.0</td>\n",
       "      <td>0.0</td>\n",
       "      <td>0.0</td>\n",
       "      <td>0.0</td>\n",
       "      <td>0.0</td>\n",
       "      <td>0.0</td>\n",
       "      <td>0.0</td>\n",
       "    </tr>\n",
       "    <tr>\n",
       "      <th>360710529886978</th>\n",
       "      <td>3</td>\n",
       "      <td>0.0</td>\n",
       "      <td>0.0</td>\n",
       "      <td>0.0</td>\n",
       "      <td>0.0</td>\n",
       "      <td>1.0</td>\n",
       "      <td>2.0</td>\n",
       "      <td>0.0</td>\n",
       "      <td>0.0</td>\n",
       "      <td>0.0</td>\n",
       "      <td>...</td>\n",
       "      <td>0.0</td>\n",
       "      <td>0.0</td>\n",
       "      <td>0.0</td>\n",
       "      <td>0.0</td>\n",
       "      <td>2.0</td>\n",
       "      <td>0.0</td>\n",
       "      <td>0.0</td>\n",
       "      <td>1.0</td>\n",
       "      <td>0.0</td>\n",
       "      <td>0.0</td>\n",
       "    </tr>\n",
       "    <tr>\n",
       "      <th>365882020742330</th>\n",
       "      <td>57</td>\n",
       "      <td>0.0</td>\n",
       "      <td>0.0</td>\n",
       "      <td>0.0</td>\n",
       "      <td>0.0</td>\n",
       "      <td>36.0</td>\n",
       "      <td>21.0</td>\n",
       "      <td>0.0</td>\n",
       "      <td>4.0</td>\n",
       "      <td>6.0</td>\n",
       "      <td>...</td>\n",
       "      <td>1.0</td>\n",
       "      <td>0.0</td>\n",
       "      <td>4.0</td>\n",
       "      <td>1.0</td>\n",
       "      <td>8.0</td>\n",
       "      <td>1.0</td>\n",
       "      <td>3.0</td>\n",
       "      <td>0.0</td>\n",
       "      <td>0.0</td>\n",
       "      <td>0.0</td>\n",
       "    </tr>\n",
       "  </tbody>\n",
       "</table>\n",
       "<p>5 rows × 32 columns</p>\n",
       "</div>"
      ],
      "text/plain": [
       "                 cantidad_de_eventos_en_ventana  cantidad_eventos_Monday  \\\n",
       "ref_hash                                                                   \n",
       "41863526108385                               88                      0.0   \n",
       "161514654074162                               8                      0.0   \n",
       "186034136943920                              13                      0.0   \n",
       "360710529886978                               3                      0.0   \n",
       "365882020742330                              57                      0.0   \n",
       "\n",
       "                 cantidad_eventos_Tuesday  cantidad_eventos_Wednesday  \\\n",
       "ref_hash                                                                \n",
       "41863526108385                        0.0                         0.0   \n",
       "161514654074162                       0.0                         0.0   \n",
       "186034136943920                       0.0                         0.0   \n",
       "360710529886978                       0.0                         0.0   \n",
       "365882020742330                       0.0                         0.0   \n",
       "\n",
       "                 cantidad_eventos_Thursday  cantidad_eventos_Friday  \\\n",
       "ref_hash                                                              \n",
       "41863526108385                        24.0                     21.0   \n",
       "161514654074162                        0.0                      8.0   \n",
       "186034136943920                       13.0                      0.0   \n",
       "360710529886978                        0.0                      1.0   \n",
       "365882020742330                        0.0                     36.0   \n",
       "\n",
       "                 cantidad_eventos_Saturday  cantidad_eventos_Sunday  \\\n",
       "ref_hash                                                              \n",
       "41863526108385                        43.0                      0.0   \n",
       "161514654074162                        0.0                      0.0   \n",
       "186034136943920                        0.0                      0.0   \n",
       "360710529886978                        2.0                      0.0   \n",
       "365882020742330                       21.0                      0.0   \n",
       "\n",
       "                 cantidad_eventos_hora_0  cantidad_eventos_hora_1  \\\n",
       "ref_hash                                                            \n",
       "41863526108385                       0.0                      0.0   \n",
       "161514654074162                      0.0                      0.0   \n",
       "186034136943920                      0.0                      0.0   \n",
       "360710529886978                      0.0                      0.0   \n",
       "365882020742330                      4.0                      6.0   \n",
       "\n",
       "                           ...             cantidad_eventos_hora_14  \\\n",
       "ref_hash                   ...                                        \n",
       "41863526108385             ...                                  0.0   \n",
       "161514654074162            ...                                  0.0   \n",
       "186034136943920            ...                                  0.0   \n",
       "360710529886978            ...                                  0.0   \n",
       "365882020742330            ...                                  1.0   \n",
       "\n",
       "                 cantidad_eventos_hora_15  cantidad_eventos_hora_16  \\\n",
       "ref_hash                                                              \n",
       "41863526108385                        0.0                       0.0   \n",
       "161514654074162                       0.0                       0.0   \n",
       "186034136943920                       0.0                      13.0   \n",
       "360710529886978                       0.0                       0.0   \n",
       "365882020742330                       0.0                       4.0   \n",
       "\n",
       "                 cantidad_eventos_hora_17  cantidad_eventos_hora_18  \\\n",
       "ref_hash                                                              \n",
       "41863526108385                        0.0                       0.0   \n",
       "161514654074162                       8.0                       0.0   \n",
       "186034136943920                       0.0                       0.0   \n",
       "360710529886978                       0.0                       2.0   \n",
       "365882020742330                       1.0                       8.0   \n",
       "\n",
       "                 cantidad_eventos_hora_19  cantidad_eventos_hora_20  \\\n",
       "ref_hash                                                              \n",
       "41863526108385                        0.0                       0.0   \n",
       "161514654074162                       0.0                       0.0   \n",
       "186034136943920                       0.0                       0.0   \n",
       "360710529886978                       0.0                       0.0   \n",
       "365882020742330                       1.0                       3.0   \n",
       "\n",
       "                 cantidad_eventos_hora_21  cantidad_eventos_hora_22  \\\n",
       "ref_hash                                                              \n",
       "41863526108385                       24.0                       0.0   \n",
       "161514654074162                       0.0                       0.0   \n",
       "186034136943920                       0.0                       0.0   \n",
       "360710529886978                       1.0                       0.0   \n",
       "365882020742330                       0.0                       0.0   \n",
       "\n",
       "                 cantidad_eventos_hora_23  \n",
       "ref_hash                                   \n",
       "41863526108385                        0.0  \n",
       "161514654074162                       0.0  \n",
       "186034136943920                       0.0  \n",
       "360710529886978                       0.0  \n",
       "365882020742330                       0.0  \n",
       "\n",
       "[5 rows x 32 columns]"
      ]
     },
     "execution_count": 21,
     "metadata": {},
     "output_type": "execute_result"
    }
   ],
   "source": [
    "features_events[0].head()"
   ]
  },
  {
   "cell_type": "markdown",
   "metadata": {},
   "source": [
    "### Clicks"
   ]
  },
  {
   "cell_type": "code",
   "execution_count": 22,
   "metadata": {},
   "outputs": [],
   "source": [
    "#Hay clicks que suceden fuera del período de análisis.\n",
    "clicks_a_considerar = clicks.loc[(clicks['created'] > pd.to_datetime('2019-04-18')) & (clicks['created'] < pd.to_datetime('2019-04-27'))]"
   ]
  },
  {
   "cell_type": "code",
   "execution_count": 23,
   "metadata": {},
   "outputs": [],
   "source": [
    "clicks_v1 = clicks.loc[(clicks['created'] > pd.to_datetime('2019-04-18')) & (clicks['created'] < pd.to_datetime('2019-04-21'))]\n",
    "clicks_v2 = clicks.loc[(clicks['created'] > pd.to_datetime('2019-04-19')) & (clicks['created'] < pd.to_datetime('2019-04-22'))]\n",
    "clicks_v3 = clicks.loc[(clicks['created'] > pd.to_datetime('2019-04-20')) & (clicks['created'] < pd.to_datetime('2019-04-23'))]\n",
    "clicks_v4 = clicks.loc[(clicks['created'] > pd.to_datetime('2019-04-21')) & (clicks['created'] < pd.to_datetime('2019-04-24'))]\n",
    "\n",
    "features_clicks_v1 = clicks_v1.groupby('ref_hash').agg({'ref_hash':'size'})\n",
    "features_clicks_v2 = clicks_v2.groupby('ref_hash').agg({'ref_hash':'size'})\n",
    "features_clicks_v3 = clicks_v3.groupby('ref_hash').agg({'ref_hash':'size'})\n",
    "features_clicks_v4 = clicks_v4.groupby('ref_hash').agg({'ref_hash':'size'})"
   ]
  },
  {
   "cell_type": "code",
   "execution_count": 24,
   "metadata": {},
   "outputs": [],
   "source": [
    "features_clicks_v1.columns = ['cantidad_de_clicks_en_ventana']\n",
    "features_clicks_v2.columns = ['cantidad_de_clicks_en_ventana']\n",
    "features_clicks_v3.columns = ['cantidad_de_clicks_en_ventana']\n",
    "features_clicks_v4.columns = ['cantidad_de_clicks_en_ventana']"
   ]
  },
  {
   "cell_type": "code",
   "execution_count": 25,
   "metadata": {},
   "outputs": [],
   "source": [
    "for dia in Week_Day:\n",
    "    clicks_por_dia = clicks_a_considerar[clicks_a_considerar['created'].dt.day_name() == dia].groupby('ref_hash').agg({'ref_hash':'size'})\n",
    "    clicks_por_dia.columns = ['cantidad_clicks_{}'.format(dia)]\n",
    "    \n",
    "    features_clicks_v1 = features_clicks_v1.merge(clicks_por_dia, how='outer', left_index=True, right_index=True)\n",
    "    features_clicks_v2 = features_clicks_v2.merge(clicks_por_dia, how='outer', left_index=True, right_index=True)\n",
    "    features_clicks_v3 = features_clicks_v3.merge(clicks_por_dia, how='outer', left_index=True, right_index=True)\n",
    "    features_clicks_v4 = features_clicks_v4.merge(clicks_por_dia, how='outer', left_index=True, right_index=True)\n",
    "    \n",
    "features_clicks_v1 = features_clicks_v1.fillna(0)\n",
    "features_clicks_v2 = features_clicks_v2.fillna(0)\n",
    "features_clicks_v3 = features_clicks_v3.fillna(0)\n",
    "features_clicks_v4 = features_clicks_v4.fillna(0)"
   ]
  },
  {
   "cell_type": "code",
   "execution_count": 26,
   "metadata": {},
   "outputs": [
    {
     "data": {
      "text/html": [
       "<div>\n",
       "<style scoped>\n",
       "    .dataframe tbody tr th:only-of-type {\n",
       "        vertical-align: middle;\n",
       "    }\n",
       "\n",
       "    .dataframe tbody tr th {\n",
       "        vertical-align: top;\n",
       "    }\n",
       "\n",
       "    .dataframe thead th {\n",
       "        text-align: right;\n",
       "    }\n",
       "</style>\n",
       "<table border=\"1\" class=\"dataframe\">\n",
       "  <thead>\n",
       "    <tr style=\"text-align: right;\">\n",
       "      <th></th>\n",
       "      <th>cantidad_de_clicks_en_ventana</th>\n",
       "      <th>cantidad_clicks_Monday</th>\n",
       "      <th>cantidad_clicks_Tuesday</th>\n",
       "      <th>cantidad_clicks_Wednesday</th>\n",
       "      <th>cantidad_clicks_Thursday</th>\n",
       "      <th>cantidad_clicks_Friday</th>\n",
       "      <th>cantidad_clicks_Saturday</th>\n",
       "      <th>cantidad_clicks_Sunday</th>\n",
       "    </tr>\n",
       "    <tr>\n",
       "      <th>ref_hash</th>\n",
       "      <th></th>\n",
       "      <th></th>\n",
       "      <th></th>\n",
       "      <th></th>\n",
       "      <th></th>\n",
       "      <th></th>\n",
       "      <th></th>\n",
       "      <th></th>\n",
       "    </tr>\n",
       "  </thead>\n",
       "  <tbody>\n",
       "    <tr>\n",
       "      <th>693609737448534</th>\n",
       "      <td>0.0</td>\n",
       "      <td>0.0</td>\n",
       "      <td>1.0</td>\n",
       "      <td>0.0</td>\n",
       "      <td>0.0</td>\n",
       "      <td>0.0</td>\n",
       "      <td>0.0</td>\n",
       "      <td>1.0</td>\n",
       "    </tr>\n",
       "    <tr>\n",
       "      <th>1461247282174365</th>\n",
       "      <td>1.0</td>\n",
       "      <td>0.0</td>\n",
       "      <td>0.0</td>\n",
       "      <td>0.0</td>\n",
       "      <td>0.0</td>\n",
       "      <td>1.0</td>\n",
       "      <td>0.0</td>\n",
       "      <td>0.0</td>\n",
       "    </tr>\n",
       "    <tr>\n",
       "      <th>2204225481747532</th>\n",
       "      <td>0.0</td>\n",
       "      <td>1.0</td>\n",
       "      <td>0.0</td>\n",
       "      <td>0.0</td>\n",
       "      <td>0.0</td>\n",
       "      <td>0.0</td>\n",
       "      <td>0.0</td>\n",
       "      <td>0.0</td>\n",
       "    </tr>\n",
       "    <tr>\n",
       "      <th>5470466329076030</th>\n",
       "      <td>1.0</td>\n",
       "      <td>0.0</td>\n",
       "      <td>0.0</td>\n",
       "      <td>0.0</td>\n",
       "      <td>0.0</td>\n",
       "      <td>0.0</td>\n",
       "      <td>1.0</td>\n",
       "      <td>0.0</td>\n",
       "    </tr>\n",
       "    <tr>\n",
       "      <th>5534899846690585</th>\n",
       "      <td>1.0</td>\n",
       "      <td>0.0</td>\n",
       "      <td>0.0</td>\n",
       "      <td>0.0</td>\n",
       "      <td>1.0</td>\n",
       "      <td>0.0</td>\n",
       "      <td>0.0</td>\n",
       "      <td>0.0</td>\n",
       "    </tr>\n",
       "  </tbody>\n",
       "</table>\n",
       "</div>"
      ],
      "text/plain": [
       "                  cantidad_de_clicks_en_ventana  cantidad_clicks_Monday  \\\n",
       "ref_hash                                                                  \n",
       "693609737448534                             0.0                     0.0   \n",
       "1461247282174365                            1.0                     0.0   \n",
       "2204225481747532                            0.0                     1.0   \n",
       "5470466329076030                            1.0                     0.0   \n",
       "5534899846690585                            1.0                     0.0   \n",
       "\n",
       "                  cantidad_clicks_Tuesday  cantidad_clicks_Wednesday  \\\n",
       "ref_hash                                                               \n",
       "693609737448534                       1.0                        0.0   \n",
       "1461247282174365                      0.0                        0.0   \n",
       "2204225481747532                      0.0                        0.0   \n",
       "5470466329076030                      0.0                        0.0   \n",
       "5534899846690585                      0.0                        0.0   \n",
       "\n",
       "                  cantidad_clicks_Thursday  cantidad_clicks_Friday  \\\n",
       "ref_hash                                                             \n",
       "693609737448534                        0.0                     0.0   \n",
       "1461247282174365                       0.0                     1.0   \n",
       "2204225481747532                       0.0                     0.0   \n",
       "5470466329076030                       0.0                     0.0   \n",
       "5534899846690585                       1.0                     0.0   \n",
       "\n",
       "                  cantidad_clicks_Saturday  cantidad_clicks_Sunday  \n",
       "ref_hash                                                            \n",
       "693609737448534                        0.0                     1.0  \n",
       "1461247282174365                       0.0                     0.0  \n",
       "2204225481747532                       0.0                     0.0  \n",
       "5470466329076030                       1.0                     0.0  \n",
       "5534899846690585                       0.0                     0.0  "
      ]
     },
     "execution_count": 26,
     "metadata": {},
     "output_type": "execute_result"
    }
   ],
   "source": [
    "features_clicks_v1.head()"
   ]
  },
  {
   "cell_type": "code",
   "execution_count": null,
   "metadata": {},
   "outputs": [],
   "source": []
  },
  {
   "cell_type": "markdown",
   "metadata": {},
   "source": [
    "### Installs"
   ]
  },
  {
   "cell_type": "code",
   "execution_count": 27,
   "metadata": {},
   "outputs": [],
   "source": [
    "installs_v1 = installs.loc[(installs['created'] > pd.to_datetime('2019-04-18')) & (installs['created'] < pd.to_datetime('2019-04-21'))]\n",
    "installs_v2 = installs.loc[(installs['created'] > pd.to_datetime('2019-04-19')) & (installs['created'] < pd.to_datetime('2019-04-22'))]\n",
    "installs_v3 = installs.loc[(installs['created'] > pd.to_datetime('2019-04-20')) & (installs['created'] < pd.to_datetime('2019-04-23'))]\n",
    "installs_v4 = installs.loc[(installs['created'] > pd.to_datetime('2019-04-21')) & (installs['created'] < pd.to_datetime('2019-04-24'))]\n",
    "installs_v5 = installs.loc[(installs['created'] > pd.to_datetime('2019-04-22')) & (installs['created'] < pd.to_datetime('2019-04-25'))]\n",
    "\n",
    "features_installs_v1 = installs_v1.groupby('ref_hash').agg({'ref_hash':'size'})\n",
    "features_installs_v2 = installs_v2.groupby('ref_hash').agg({'ref_hash':'size'})\n",
    "features_installs_v3 = installs_v3.groupby('ref_hash').agg({'ref_hash':'size'})\n",
    "features_installs_v4 = installs_v4.groupby('ref_hash').agg({'ref_hash':'size'})\n",
    "features_installs_v5 = installs_v5.groupby('ref_hash').agg({'ref_hash':'size'})"
   ]
  },
  {
   "cell_type": "code",
   "execution_count": 28,
   "metadata": {},
   "outputs": [],
   "source": [
    "features_installs_v1.columns = ['cantidad_de_instalaciones_en_ventana']\n",
    "features_installs_v2.columns = ['cantidad_de_instalaciones_en_ventana']\n",
    "features_installs_v3.columns = ['cantidad_de_instalaciones_en_ventana']\n",
    "features_installs_v4.columns = ['cantidad_de_instalaciones_en_ventana']\n",
    "features_installs_v5.columns = ['cantidad_de_instalaciones_en_ventana']"
   ]
  },
  {
   "cell_type": "code",
   "execution_count": 29,
   "metadata": {},
   "outputs": [],
   "source": [
    "for dia in Week_Day:\n",
    "    instalaciones_por_dia = installs[installs['created'].dt.day_name() == dia].groupby('ref_hash').agg({'ref_hash':'size'})\n",
    "    instalaciones_por_dia.columns = ['cantidad_installs_{}'.format(dia)]\n",
    "    \n",
    "    features_installs_v1 = features_installs_v1.merge(instalaciones_por_dia, how='outer', left_index=True, right_index=True)\n",
    "    features_installs_v2 = features_installs_v2.merge(instalaciones_por_dia, how='outer', left_index=True, right_index=True)\n",
    "    features_installs_v3 = features_installs_v3.merge(instalaciones_por_dia, how='outer', left_index=True, right_index=True)\n",
    "    features_installs_v4 = features_installs_v4.merge(instalaciones_por_dia, how='outer', left_index=True, right_index=True)\n",
    "    features_installs_v5 = features_installs_v5.merge(instalaciones_por_dia, how='outer', left_index=True, right_index=True)\n",
    "    \n",
    "features_installs_v1 = features_installs_v1.fillna(0)\n",
    "features_installs_v2 = features_installs_v2.fillna(0)\n",
    "features_installs_v3 = features_installs_v3.fillna(0)\n",
    "features_installs_v4 = features_installs_v4.fillna(0)\n",
    "features_installs_v5 = features_installs_v5.fillna(0)"
   ]
  },
  {
   "cell_type": "code",
   "execution_count": 30,
   "metadata": {},
   "outputs": [
    {
     "data": {
      "text/html": [
       "<div>\n",
       "<style scoped>\n",
       "    .dataframe tbody tr th:only-of-type {\n",
       "        vertical-align: middle;\n",
       "    }\n",
       "\n",
       "    .dataframe tbody tr th {\n",
       "        vertical-align: top;\n",
       "    }\n",
       "\n",
       "    .dataframe thead th {\n",
       "        text-align: right;\n",
       "    }\n",
       "</style>\n",
       "<table border=\"1\" class=\"dataframe\">\n",
       "  <thead>\n",
       "    <tr style=\"text-align: right;\">\n",
       "      <th></th>\n",
       "      <th>cantidad_de_instalaciones_en_ventana</th>\n",
       "      <th>cantidad_installs_Monday</th>\n",
       "      <th>cantidad_installs_Tuesday</th>\n",
       "      <th>cantidad_installs_Wednesday</th>\n",
       "      <th>cantidad_installs_Thursday</th>\n",
       "      <th>cantidad_installs_Friday</th>\n",
       "      <th>cantidad_installs_Saturday</th>\n",
       "      <th>cantidad_installs_Sunday</th>\n",
       "    </tr>\n",
       "    <tr>\n",
       "      <th>ref_hash</th>\n",
       "      <th></th>\n",
       "      <th></th>\n",
       "      <th></th>\n",
       "      <th></th>\n",
       "      <th></th>\n",
       "      <th></th>\n",
       "      <th></th>\n",
       "      <th></th>\n",
       "    </tr>\n",
       "  </thead>\n",
       "  <tbody>\n",
       "    <tr>\n",
       "      <th>40621409780134</th>\n",
       "      <td>0.0</td>\n",
       "      <td>0.0</td>\n",
       "      <td>0.0</td>\n",
       "      <td>0.0</td>\n",
       "      <td>0.0</td>\n",
       "      <td>0.0</td>\n",
       "      <td>0.0</td>\n",
       "      <td>1.0</td>\n",
       "    </tr>\n",
       "    <tr>\n",
       "      <th>41863526108385</th>\n",
       "      <td>4.0</td>\n",
       "      <td>0.0</td>\n",
       "      <td>0.0</td>\n",
       "      <td>0.0</td>\n",
       "      <td>4.0</td>\n",
       "      <td>0.0</td>\n",
       "      <td>0.0</td>\n",
       "      <td>0.0</td>\n",
       "    </tr>\n",
       "    <tr>\n",
       "      <th>90072729247980</th>\n",
       "      <td>0.0</td>\n",
       "      <td>0.0</td>\n",
       "      <td>0.0</td>\n",
       "      <td>1.0</td>\n",
       "      <td>0.0</td>\n",
       "      <td>0.0</td>\n",
       "      <td>0.0</td>\n",
       "      <td>0.0</td>\n",
       "    </tr>\n",
       "    <tr>\n",
       "      <th>135153013040192</th>\n",
       "      <td>1.0</td>\n",
       "      <td>0.0</td>\n",
       "      <td>0.0</td>\n",
       "      <td>0.0</td>\n",
       "      <td>0.0</td>\n",
       "      <td>0.0</td>\n",
       "      <td>1.0</td>\n",
       "      <td>0.0</td>\n",
       "    </tr>\n",
       "    <tr>\n",
       "      <th>161514654074162</th>\n",
       "      <td>0.0</td>\n",
       "      <td>1.0</td>\n",
       "      <td>0.0</td>\n",
       "      <td>0.0</td>\n",
       "      <td>0.0</td>\n",
       "      <td>0.0</td>\n",
       "      <td>0.0</td>\n",
       "      <td>0.0</td>\n",
       "    </tr>\n",
       "  </tbody>\n",
       "</table>\n",
       "</div>"
      ],
      "text/plain": [
       "                 cantidad_de_instalaciones_en_ventana  \\\n",
       "ref_hash                                                \n",
       "40621409780134                                    0.0   \n",
       "41863526108385                                    4.0   \n",
       "90072729247980                                    0.0   \n",
       "135153013040192                                   1.0   \n",
       "161514654074162                                   0.0   \n",
       "\n",
       "                 cantidad_installs_Monday  cantidad_installs_Tuesday  \\\n",
       "ref_hash                                                               \n",
       "40621409780134                        0.0                        0.0   \n",
       "41863526108385                        0.0                        0.0   \n",
       "90072729247980                        0.0                        0.0   \n",
       "135153013040192                       0.0                        0.0   \n",
       "161514654074162                       1.0                        0.0   \n",
       "\n",
       "                 cantidad_installs_Wednesday  cantidad_installs_Thursday  \\\n",
       "ref_hash                                                                   \n",
       "40621409780134                           0.0                         0.0   \n",
       "41863526108385                           0.0                         4.0   \n",
       "90072729247980                           1.0                         0.0   \n",
       "135153013040192                          0.0                         0.0   \n",
       "161514654074162                          0.0                         0.0   \n",
       "\n",
       "                 cantidad_installs_Friday  cantidad_installs_Saturday  \\\n",
       "ref_hash                                                                \n",
       "40621409780134                        0.0                         0.0   \n",
       "41863526108385                        0.0                         0.0   \n",
       "90072729247980                        0.0                         0.0   \n",
       "135153013040192                       0.0                         1.0   \n",
       "161514654074162                       0.0                         0.0   \n",
       "\n",
       "                 cantidad_installs_Sunday  \n",
       "ref_hash                                   \n",
       "40621409780134                        1.0  \n",
       "41863526108385                        0.0  \n",
       "90072729247980                        0.0  \n",
       "135153013040192                       0.0  \n",
       "161514654074162                       0.0  "
      ]
     },
     "execution_count": 30,
     "metadata": {},
     "output_type": "execute_result"
    }
   ],
   "source": [
    "features_installs_v1.head()"
   ]
  },
  {
   "cell_type": "code",
   "execution_count": null,
   "metadata": {},
   "outputs": [],
   "source": []
  },
  {
   "cell_type": "markdown",
   "metadata": {},
   "source": [
    "## mergeo todos los features por dispositivo"
   ]
  },
  {
   "cell_type": "code",
   "execution_count": 31,
   "metadata": {},
   "outputs": [],
   "source": [
    "features_v1 = pd.merge(features_auctions_v1.reset_index(),\\\n",
    "                       features_clicks_v1.reset_index(),\\\n",
    "                       left_on='device_id',right_on='ref_hash',how='inner')"
   ]
  },
  {
   "cell_type": "code",
   "execution_count": 32,
   "metadata": {},
   "outputs": [],
   "source": [
    "del features_v1['device_id']"
   ]
  },
  {
   "cell_type": "code",
   "execution_count": 33,
   "metadata": {},
   "outputs": [],
   "source": [
    "features_v1 = pd.merge(features_v1,features_installs_v1.reset_index(),on='ref_hash',how='inner')"
   ]
  },
  {
   "cell_type": "code",
   "execution_count": 34,
   "metadata": {},
   "outputs": [],
   "source": [
    "features_v1 = pd.merge(features_v1,features_events[0].reset_index(),on='ref_hash',how='inner')"
   ]
  },
  {
   "cell_type": "code",
   "execution_count": 35,
   "metadata": {},
   "outputs": [
    {
     "data": {
      "text/plain": [
       "(4238, 57)"
      ]
     },
     "execution_count": 35,
     "metadata": {},
     "output_type": "execute_result"
    }
   ],
   "source": [
    "features_v1.shape"
   ]
  },
  {
   "cell_type": "code",
   "execution_count": 36,
   "metadata": {},
   "outputs": [],
   "source": [
    "features_v1 = pd.merge(label1[['device_id']],features_v1,left_on='device_id',right_on='ref_hash',how='inner')"
   ]
  },
  {
   "cell_type": "code",
   "execution_count": 37,
   "metadata": {},
   "outputs": [
    {
     "data": {
      "text/plain": [
       "(3755, 58)"
      ]
     },
     "execution_count": 37,
     "metadata": {},
     "output_type": "execute_result"
    }
   ],
   "source": [
    "features_v1.shape"
   ]
  },
  {
   "cell_type": "code",
   "execution_count": 38,
   "metadata": {},
   "outputs": [],
   "source": [
    "features_v1.sort_values(by='ref_hash',inplace=True)"
   ]
  },
  {
   "cell_type": "code",
   "execution_count": 39,
   "metadata": {},
   "outputs": [],
   "source": [
    "del features_v1['device_id']"
   ]
  },
  {
   "cell_type": "code",
   "execution_count": 40,
   "metadata": {},
   "outputs": [
    {
     "data": {
      "text/html": [
       "<div>\n",
       "<style scoped>\n",
       "    .dataframe tbody tr th:only-of-type {\n",
       "        vertical-align: middle;\n",
       "    }\n",
       "\n",
       "    .dataframe tbody tr th {\n",
       "        vertical-align: top;\n",
       "    }\n",
       "\n",
       "    .dataframe thead th {\n",
       "        text-align: right;\n",
       "    }\n",
       "</style>\n",
       "<table border=\"1\" class=\"dataframe\">\n",
       "  <thead>\n",
       "    <tr style=\"text-align: right;\">\n",
       "      <th></th>\n",
       "      <th>cantidad_de_subastas_en_ventana</th>\n",
       "      <th>cantidad_subastas_Monday</th>\n",
       "      <th>cantidad_subastas_Tuesday</th>\n",
       "      <th>cantidad_subastas_Wednesday</th>\n",
       "      <th>cantidad_subastas_Thursday</th>\n",
       "      <th>cantidad_subastas_Friday</th>\n",
       "      <th>cantidad_subastas_Saturday</th>\n",
       "      <th>cantidad_subastas_Sunday</th>\n",
       "      <th>ref_hash</th>\n",
       "      <th>cantidad_de_clicks_en_ventana</th>\n",
       "      <th>...</th>\n",
       "      <th>cantidad_eventos_hora_14</th>\n",
       "      <th>cantidad_eventos_hora_15</th>\n",
       "      <th>cantidad_eventos_hora_16</th>\n",
       "      <th>cantidad_eventos_hora_17</th>\n",
       "      <th>cantidad_eventos_hora_18</th>\n",
       "      <th>cantidad_eventos_hora_19</th>\n",
       "      <th>cantidad_eventos_hora_20</th>\n",
       "      <th>cantidad_eventos_hora_21</th>\n",
       "      <th>cantidad_eventos_hora_22</th>\n",
       "      <th>cantidad_eventos_hora_23</th>\n",
       "    </tr>\n",
       "  </thead>\n",
       "  <tbody>\n",
       "    <tr>\n",
       "      <th>1471</th>\n",
       "      <td>8.0</td>\n",
       "      <td>0.0</td>\n",
       "      <td>13.0</td>\n",
       "      <td>4.0</td>\n",
       "      <td>6.0</td>\n",
       "      <td>7.0</td>\n",
       "      <td>2.0</td>\n",
       "      <td>2.0</td>\n",
       "      <td>7164788605058735</td>\n",
       "      <td>0.0</td>\n",
       "      <td>...</td>\n",
       "      <td>1.0</td>\n",
       "      <td>0.0</td>\n",
       "      <td>5.0</td>\n",
       "      <td>4.0</td>\n",
       "      <td>0.0</td>\n",
       "      <td>0.0</td>\n",
       "      <td>3.0</td>\n",
       "      <td>4.0</td>\n",
       "      <td>1.0</td>\n",
       "      <td>7.0</td>\n",
       "    </tr>\n",
       "    <tr>\n",
       "      <th>2684</th>\n",
       "      <td>158.0</td>\n",
       "      <td>0.0</td>\n",
       "      <td>0.0</td>\n",
       "      <td>0.0</td>\n",
       "      <td>25.0</td>\n",
       "      <td>105.0</td>\n",
       "      <td>28.0</td>\n",
       "      <td>0.0</td>\n",
       "      <td>11447172392196885</td>\n",
       "      <td>3.0</td>\n",
       "      <td>...</td>\n",
       "      <td>0.0</td>\n",
       "      <td>0.0</td>\n",
       "      <td>0.0</td>\n",
       "      <td>0.0</td>\n",
       "      <td>0.0</td>\n",
       "      <td>0.0</td>\n",
       "      <td>0.0</td>\n",
       "      <td>6.0</td>\n",
       "      <td>0.0</td>\n",
       "      <td>1.0</td>\n",
       "    </tr>\n",
       "    <tr>\n",
       "      <th>2529</th>\n",
       "      <td>4.0</td>\n",
       "      <td>1.0</td>\n",
       "      <td>0.0</td>\n",
       "      <td>73.0</td>\n",
       "      <td>8.0</td>\n",
       "      <td>2.0</td>\n",
       "      <td>0.0</td>\n",
       "      <td>0.0</td>\n",
       "      <td>17411113585415081</td>\n",
       "      <td>1.0</td>\n",
       "      <td>...</td>\n",
       "      <td>0.0</td>\n",
       "      <td>0.0</td>\n",
       "      <td>0.0</td>\n",
       "      <td>0.0</td>\n",
       "      <td>0.0</td>\n",
       "      <td>0.0</td>\n",
       "      <td>0.0</td>\n",
       "      <td>8.0</td>\n",
       "      <td>1.0</td>\n",
       "      <td>0.0</td>\n",
       "    </tr>\n",
       "    <tr>\n",
       "      <th>964</th>\n",
       "      <td>254.0</td>\n",
       "      <td>33.0</td>\n",
       "      <td>11.0</td>\n",
       "      <td>0.0</td>\n",
       "      <td>42.0</td>\n",
       "      <td>108.0</td>\n",
       "      <td>104.0</td>\n",
       "      <td>39.0</td>\n",
       "      <td>18336104939494418</td>\n",
       "      <td>4.0</td>\n",
       "      <td>...</td>\n",
       "      <td>0.0</td>\n",
       "      <td>0.0</td>\n",
       "      <td>0.0</td>\n",
       "      <td>0.0</td>\n",
       "      <td>0.0</td>\n",
       "      <td>0.0</td>\n",
       "      <td>0.0</td>\n",
       "      <td>0.0</td>\n",
       "      <td>5.0</td>\n",
       "      <td>0.0</td>\n",
       "    </tr>\n",
       "    <tr>\n",
       "      <th>1362</th>\n",
       "      <td>6.0</td>\n",
       "      <td>0.0</td>\n",
       "      <td>0.0</td>\n",
       "      <td>0.0</td>\n",
       "      <td>6.0</td>\n",
       "      <td>1.0</td>\n",
       "      <td>0.0</td>\n",
       "      <td>0.0</td>\n",
       "      <td>22109383369151163</td>\n",
       "      <td>0.0</td>\n",
       "      <td>...</td>\n",
       "      <td>0.0</td>\n",
       "      <td>0.0</td>\n",
       "      <td>0.0</td>\n",
       "      <td>0.0</td>\n",
       "      <td>0.0</td>\n",
       "      <td>0.0</td>\n",
       "      <td>0.0</td>\n",
       "      <td>0.0</td>\n",
       "      <td>0.0</td>\n",
       "      <td>0.0</td>\n",
       "    </tr>\n",
       "  </tbody>\n",
       "</table>\n",
       "<p>5 rows × 57 columns</p>\n",
       "</div>"
      ],
      "text/plain": [
       "      cantidad_de_subastas_en_ventana  cantidad_subastas_Monday  \\\n",
       "1471                              8.0                       0.0   \n",
       "2684                            158.0                       0.0   \n",
       "2529                              4.0                       1.0   \n",
       "964                             254.0                      33.0   \n",
       "1362                              6.0                       0.0   \n",
       "\n",
       "      cantidad_subastas_Tuesday  cantidad_subastas_Wednesday  \\\n",
       "1471                       13.0                          4.0   \n",
       "2684                        0.0                          0.0   \n",
       "2529                        0.0                         73.0   \n",
       "964                        11.0                          0.0   \n",
       "1362                        0.0                          0.0   \n",
       "\n",
       "      cantidad_subastas_Thursday  cantidad_subastas_Friday  \\\n",
       "1471                         6.0                       7.0   \n",
       "2684                        25.0                     105.0   \n",
       "2529                         8.0                       2.0   \n",
       "964                         42.0                     108.0   \n",
       "1362                         6.0                       1.0   \n",
       "\n",
       "      cantidad_subastas_Saturday  cantidad_subastas_Sunday           ref_hash  \\\n",
       "1471                         2.0                       2.0   7164788605058735   \n",
       "2684                        28.0                       0.0  11447172392196885   \n",
       "2529                         0.0                       0.0  17411113585415081   \n",
       "964                        104.0                      39.0  18336104939494418   \n",
       "1362                         0.0                       0.0  22109383369151163   \n",
       "\n",
       "      cantidad_de_clicks_en_ventana            ...             \\\n",
       "1471                            0.0            ...              \n",
       "2684                            3.0            ...              \n",
       "2529                            1.0            ...              \n",
       "964                             4.0            ...              \n",
       "1362                            0.0            ...              \n",
       "\n",
       "      cantidad_eventos_hora_14  cantidad_eventos_hora_15  \\\n",
       "1471                       1.0                       0.0   \n",
       "2684                       0.0                       0.0   \n",
       "2529                       0.0                       0.0   \n",
       "964                        0.0                       0.0   \n",
       "1362                       0.0                       0.0   \n",
       "\n",
       "      cantidad_eventos_hora_16  cantidad_eventos_hora_17  \\\n",
       "1471                       5.0                       4.0   \n",
       "2684                       0.0                       0.0   \n",
       "2529                       0.0                       0.0   \n",
       "964                        0.0                       0.0   \n",
       "1362                       0.0                       0.0   \n",
       "\n",
       "      cantidad_eventos_hora_18  cantidad_eventos_hora_19  \\\n",
       "1471                       0.0                       0.0   \n",
       "2684                       0.0                       0.0   \n",
       "2529                       0.0                       0.0   \n",
       "964                        0.0                       0.0   \n",
       "1362                       0.0                       0.0   \n",
       "\n",
       "      cantidad_eventos_hora_20  cantidad_eventos_hora_21  \\\n",
       "1471                       3.0                       4.0   \n",
       "2684                       0.0                       6.0   \n",
       "2529                       0.0                       8.0   \n",
       "964                        0.0                       0.0   \n",
       "1362                       0.0                       0.0   \n",
       "\n",
       "      cantidad_eventos_hora_22  cantidad_eventos_hora_23  \n",
       "1471                       1.0                       7.0  \n",
       "2684                       0.0                       1.0  \n",
       "2529                       1.0                       0.0  \n",
       "964                        5.0                       0.0  \n",
       "1362                       0.0                       0.0  \n",
       "\n",
       "[5 rows x 57 columns]"
      ]
     },
     "execution_count": 40,
     "metadata": {},
     "output_type": "execute_result"
    }
   ],
   "source": [
    "features_v1.head()"
   ]
  },
  {
   "cell_type": "code",
   "execution_count": null,
   "metadata": {},
   "outputs": [],
   "source": []
  },
  {
   "cell_type": "code",
   "execution_count": 41,
   "metadata": {},
   "outputs": [],
   "source": [
    "features_v2 = pd.merge(features_auctions_v2.reset_index(),\\\n",
    "                       features_clicks_v2.reset_index(),\\\n",
    "                       left_on='device_id',right_on='ref_hash',how='inner')"
   ]
  },
  {
   "cell_type": "code",
   "execution_count": 42,
   "metadata": {},
   "outputs": [],
   "source": [
    "del features_v2['device_id']"
   ]
  },
  {
   "cell_type": "code",
   "execution_count": 43,
   "metadata": {},
   "outputs": [],
   "source": [
    "features_v2 = pd.merge(features_v2,features_installs_v2.reset_index(),on='ref_hash',how='inner')"
   ]
  },
  {
   "cell_type": "code",
   "execution_count": 44,
   "metadata": {},
   "outputs": [],
   "source": [
    "features_v2 = pd.merge(features_v2,features_events[1].reset_index(),on='ref_hash',how='inner')"
   ]
  },
  {
   "cell_type": "code",
   "execution_count": 45,
   "metadata": {},
   "outputs": [
    {
     "data": {
      "text/plain": [
       "(4320, 57)"
      ]
     },
     "execution_count": 45,
     "metadata": {},
     "output_type": "execute_result"
    }
   ],
   "source": [
    "features_v2.shape"
   ]
  },
  {
   "cell_type": "code",
   "execution_count": 46,
   "metadata": {},
   "outputs": [],
   "source": [
    "features_v2 = pd.merge(label2[['device_id']],features_v2,left_on='device_id',right_on='ref_hash',how='inner')"
   ]
  },
  {
   "cell_type": "code",
   "execution_count": 47,
   "metadata": {},
   "outputs": [
    {
     "data": {
      "text/plain": [
       "(3827, 58)"
      ]
     },
     "execution_count": 47,
     "metadata": {},
     "output_type": "execute_result"
    }
   ],
   "source": [
    "features_v2.shape"
   ]
  },
  {
   "cell_type": "code",
   "execution_count": 48,
   "metadata": {},
   "outputs": [],
   "source": [
    "features_v2.sort_values(by='ref_hash',inplace=True)"
   ]
  },
  {
   "cell_type": "code",
   "execution_count": 49,
   "metadata": {},
   "outputs": [],
   "source": [
    "del features_v2['device_id']"
   ]
  },
  {
   "cell_type": "code",
   "execution_count": 50,
   "metadata": {},
   "outputs": [
    {
     "data": {
      "text/html": [
       "<div>\n",
       "<style scoped>\n",
       "    .dataframe tbody tr th:only-of-type {\n",
       "        vertical-align: middle;\n",
       "    }\n",
       "\n",
       "    .dataframe tbody tr th {\n",
       "        vertical-align: top;\n",
       "    }\n",
       "\n",
       "    .dataframe thead th {\n",
       "        text-align: right;\n",
       "    }\n",
       "</style>\n",
       "<table border=\"1\" class=\"dataframe\">\n",
       "  <thead>\n",
       "    <tr style=\"text-align: right;\">\n",
       "      <th></th>\n",
       "      <th>cantidad_de_subastas_en_ventana</th>\n",
       "      <th>cantidad_subastas_Monday</th>\n",
       "      <th>cantidad_subastas_Tuesday</th>\n",
       "      <th>cantidad_subastas_Wednesday</th>\n",
       "      <th>cantidad_subastas_Thursday</th>\n",
       "      <th>cantidad_subastas_Friday</th>\n",
       "      <th>cantidad_subastas_Saturday</th>\n",
       "      <th>cantidad_subastas_Sunday</th>\n",
       "      <th>ref_hash</th>\n",
       "      <th>cantidad_de_clicks_en_ventana</th>\n",
       "      <th>...</th>\n",
       "      <th>cantidad_eventos_hora_14</th>\n",
       "      <th>cantidad_eventos_hora_15</th>\n",
       "      <th>cantidad_eventos_hora_16</th>\n",
       "      <th>cantidad_eventos_hora_17</th>\n",
       "      <th>cantidad_eventos_hora_18</th>\n",
       "      <th>cantidad_eventos_hora_19</th>\n",
       "      <th>cantidad_eventos_hora_20</th>\n",
       "      <th>cantidad_eventos_hora_21</th>\n",
       "      <th>cantidad_eventos_hora_22</th>\n",
       "      <th>cantidad_eventos_hora_23</th>\n",
       "    </tr>\n",
       "  </thead>\n",
       "  <tbody>\n",
       "    <tr>\n",
       "      <th>218</th>\n",
       "      <td>9.0</td>\n",
       "      <td>0.0</td>\n",
       "      <td>13.0</td>\n",
       "      <td>4.0</td>\n",
       "      <td>6.0</td>\n",
       "      <td>7.0</td>\n",
       "      <td>2.0</td>\n",
       "      <td>2.0</td>\n",
       "      <td>7164788605058735</td>\n",
       "      <td>0.0</td>\n",
       "      <td>...</td>\n",
       "      <td>1.0</td>\n",
       "      <td>0.0</td>\n",
       "      <td>6.0</td>\n",
       "      <td>4.0</td>\n",
       "      <td>0.0</td>\n",
       "      <td>0.0</td>\n",
       "      <td>1.0</td>\n",
       "      <td>5.0</td>\n",
       "      <td>1.0</td>\n",
       "      <td>6.0</td>\n",
       "    </tr>\n",
       "    <tr>\n",
       "      <th>349</th>\n",
       "      <td>133.0</td>\n",
       "      <td>0.0</td>\n",
       "      <td>0.0</td>\n",
       "      <td>0.0</td>\n",
       "      <td>25.0</td>\n",
       "      <td>105.0</td>\n",
       "      <td>28.0</td>\n",
       "      <td>0.0</td>\n",
       "      <td>11447172392196885</td>\n",
       "      <td>1.0</td>\n",
       "      <td>...</td>\n",
       "      <td>0.0</td>\n",
       "      <td>0.0</td>\n",
       "      <td>0.0</td>\n",
       "      <td>0.0</td>\n",
       "      <td>0.0</td>\n",
       "      <td>0.0</td>\n",
       "      <td>0.0</td>\n",
       "      <td>0.0</td>\n",
       "      <td>3.0</td>\n",
       "      <td>1.0</td>\n",
       "    </tr>\n",
       "    <tr>\n",
       "      <th>480</th>\n",
       "      <td>339.0</td>\n",
       "      <td>38.0</td>\n",
       "      <td>25.0</td>\n",
       "      <td>104.0</td>\n",
       "      <td>304.0</td>\n",
       "      <td>195.0</td>\n",
       "      <td>117.0</td>\n",
       "      <td>77.0</td>\n",
       "      <td>12240396390252142</td>\n",
       "      <td>0.0</td>\n",
       "      <td>...</td>\n",
       "      <td>0.0</td>\n",
       "      <td>0.0</td>\n",
       "      <td>0.0</td>\n",
       "      <td>0.0</td>\n",
       "      <td>0.0</td>\n",
       "      <td>0.0</td>\n",
       "      <td>0.0</td>\n",
       "      <td>0.0</td>\n",
       "      <td>0.0</td>\n",
       "      <td>0.0</td>\n",
       "    </tr>\n",
       "    <tr>\n",
       "      <th>2762</th>\n",
       "      <td>1.0</td>\n",
       "      <td>0.0</td>\n",
       "      <td>0.0</td>\n",
       "      <td>0.0</td>\n",
       "      <td>2.0</td>\n",
       "      <td>1.0</td>\n",
       "      <td>0.0</td>\n",
       "      <td>0.0</td>\n",
       "      <td>19138953426032582</td>\n",
       "      <td>0.0</td>\n",
       "      <td>...</td>\n",
       "      <td>0.0</td>\n",
       "      <td>0.0</td>\n",
       "      <td>0.0</td>\n",
       "      <td>0.0</td>\n",
       "      <td>0.0</td>\n",
       "      <td>0.0</td>\n",
       "      <td>14.0</td>\n",
       "      <td>1.0</td>\n",
       "      <td>0.0</td>\n",
       "      <td>0.0</td>\n",
       "    </tr>\n",
       "    <tr>\n",
       "      <th>133</th>\n",
       "      <td>358.0</td>\n",
       "      <td>240.0</td>\n",
       "      <td>284.0</td>\n",
       "      <td>162.0</td>\n",
       "      <td>370.0</td>\n",
       "      <td>423.0</td>\n",
       "      <td>34.0</td>\n",
       "      <td>169.0</td>\n",
       "      <td>22893722123239044</td>\n",
       "      <td>1.0</td>\n",
       "      <td>...</td>\n",
       "      <td>0.0</td>\n",
       "      <td>7.0</td>\n",
       "      <td>0.0</td>\n",
       "      <td>0.0</td>\n",
       "      <td>0.0</td>\n",
       "      <td>0.0</td>\n",
       "      <td>0.0</td>\n",
       "      <td>0.0</td>\n",
       "      <td>0.0</td>\n",
       "      <td>0.0</td>\n",
       "    </tr>\n",
       "  </tbody>\n",
       "</table>\n",
       "<p>5 rows × 57 columns</p>\n",
       "</div>"
      ],
      "text/plain": [
       "      cantidad_de_subastas_en_ventana  cantidad_subastas_Monday  \\\n",
       "218                               9.0                       0.0   \n",
       "349                             133.0                       0.0   \n",
       "480                             339.0                      38.0   \n",
       "2762                              1.0                       0.0   \n",
       "133                             358.0                     240.0   \n",
       "\n",
       "      cantidad_subastas_Tuesday  cantidad_subastas_Wednesday  \\\n",
       "218                        13.0                          4.0   \n",
       "349                         0.0                          0.0   \n",
       "480                        25.0                        104.0   \n",
       "2762                        0.0                          0.0   \n",
       "133                       284.0                        162.0   \n",
       "\n",
       "      cantidad_subastas_Thursday  cantidad_subastas_Friday  \\\n",
       "218                          6.0                       7.0   \n",
       "349                         25.0                     105.0   \n",
       "480                        304.0                     195.0   \n",
       "2762                         2.0                       1.0   \n",
       "133                        370.0                     423.0   \n",
       "\n",
       "      cantidad_subastas_Saturday  cantidad_subastas_Sunday           ref_hash  \\\n",
       "218                          2.0                       2.0   7164788605058735   \n",
       "349                         28.0                       0.0  11447172392196885   \n",
       "480                        117.0                      77.0  12240396390252142   \n",
       "2762                         0.0                       0.0  19138953426032582   \n",
       "133                         34.0                     169.0  22893722123239044   \n",
       "\n",
       "      cantidad_de_clicks_en_ventana            ...             \\\n",
       "218                             0.0            ...              \n",
       "349                             1.0            ...              \n",
       "480                             0.0            ...              \n",
       "2762                            0.0            ...              \n",
       "133                             1.0            ...              \n",
       "\n",
       "      cantidad_eventos_hora_14  cantidad_eventos_hora_15  \\\n",
       "218                        1.0                       0.0   \n",
       "349                        0.0                       0.0   \n",
       "480                        0.0                       0.0   \n",
       "2762                       0.0                       0.0   \n",
       "133                        0.0                       7.0   \n",
       "\n",
       "      cantidad_eventos_hora_16  cantidad_eventos_hora_17  \\\n",
       "218                        6.0                       4.0   \n",
       "349                        0.0                       0.0   \n",
       "480                        0.0                       0.0   \n",
       "2762                       0.0                       0.0   \n",
       "133                        0.0                       0.0   \n",
       "\n",
       "      cantidad_eventos_hora_18  cantidad_eventos_hora_19  \\\n",
       "218                        0.0                       0.0   \n",
       "349                        0.0                       0.0   \n",
       "480                        0.0                       0.0   \n",
       "2762                       0.0                       0.0   \n",
       "133                        0.0                       0.0   \n",
       "\n",
       "      cantidad_eventos_hora_20  cantidad_eventos_hora_21  \\\n",
       "218                        1.0                       5.0   \n",
       "349                        0.0                       0.0   \n",
       "480                        0.0                       0.0   \n",
       "2762                      14.0                       1.0   \n",
       "133                        0.0                       0.0   \n",
       "\n",
       "      cantidad_eventos_hora_22  cantidad_eventos_hora_23  \n",
       "218                        1.0                       6.0  \n",
       "349                        3.0                       1.0  \n",
       "480                        0.0                       0.0  \n",
       "2762                       0.0                       0.0  \n",
       "133                        0.0                       0.0  \n",
       "\n",
       "[5 rows x 57 columns]"
      ]
     },
     "execution_count": 50,
     "metadata": {},
     "output_type": "execute_result"
    }
   ],
   "source": [
    "features_v2.head()"
   ]
  },
  {
   "cell_type": "markdown",
   "metadata": {},
   "source": [
    "# LABEL"
   ]
  },
  {
   "cell_type": "code",
   "execution_count": 96,
   "metadata": {},
   "outputs": [],
   "source": [
    "label1 = (label1.loc[label1['device_id'].isin(features_v1['ref_hash'])])[['device_id','st']]"
   ]
  },
  {
   "cell_type": "code",
   "execution_count": 97,
   "metadata": {},
   "outputs": [
    {
     "data": {
      "text/plain": [
       "(3755, 2)"
      ]
     },
     "execution_count": 97,
     "metadata": {},
     "output_type": "execute_result"
    }
   ],
   "source": [
    "label1.shape"
   ]
  },
  {
   "cell_type": "code",
   "execution_count": 98,
   "metadata": {},
   "outputs": [],
   "source": [
    "tiempo_maximo = 259200\n",
    "label1['binary'] = np.where(label1['st']>=tiempo_maximo,False,True)\n",
    "label1.sort_values(by='device_id',inplace=True)"
   ]
  },
  {
   "cell_type": "code",
   "execution_count": 99,
   "metadata": {},
   "outputs": [],
   "source": [
    "label1_b = label1[['binary','st']].to_records(index=False) "
   ]
  },
  {
   "cell_type": "code",
   "execution_count": null,
   "metadata": {},
   "outputs": [],
   "source": []
  },
  {
   "cell_type": "code",
   "execution_count": 100,
   "metadata": {},
   "outputs": [],
   "source": [
    "label2 = (label2.loc[label2['device_id'].isin(features_v2['ref_hash'])])[['device_id','st']]"
   ]
  },
  {
   "cell_type": "code",
   "execution_count": 101,
   "metadata": {},
   "outputs": [
    {
     "data": {
      "text/plain": [
       "(3827, 2)"
      ]
     },
     "execution_count": 101,
     "metadata": {},
     "output_type": "execute_result"
    }
   ],
   "source": [
    "label2.shape"
   ]
  },
  {
   "cell_type": "code",
   "execution_count": 102,
   "metadata": {},
   "outputs": [],
   "source": [
    "tiempo_maximo = 259200\n",
    "label2['binary'] = np.where(label2['st']>=tiempo_maximo,False,True)\n",
    "label2.sort_values(by='device_id',inplace=True)"
   ]
  },
  {
   "cell_type": "code",
   "execution_count": 103,
   "metadata": {},
   "outputs": [],
   "source": [
    "label2_b = label1[['binary','st']].to_records(index=False) "
   ]
  },
  {
   "cell_type": "code",
   "execution_count": null,
   "metadata": {},
   "outputs": [],
   "source": []
  },
  {
   "cell_type": "code",
   "execution_count": 59,
   "metadata": {},
   "outputs": [
    {
     "data": {
      "text/html": [
       "<div>\n",
       "<style scoped>\n",
       "    .dataframe tbody tr th:only-of-type {\n",
       "        vertical-align: middle;\n",
       "    }\n",
       "\n",
       "    .dataframe tbody tr th {\n",
       "        vertical-align: top;\n",
       "    }\n",
       "\n",
       "    .dataframe thead th {\n",
       "        text-align: right;\n",
       "    }\n",
       "</style>\n",
       "<table border=\"1\" class=\"dataframe\">\n",
       "  <thead>\n",
       "    <tr style=\"text-align: right;\">\n",
       "      <th></th>\n",
       "      <th>cantidad_de_subastas_en_ventana</th>\n",
       "      <th>cantidad_subastas_Monday</th>\n",
       "      <th>cantidad_subastas_Tuesday</th>\n",
       "      <th>cantidad_subastas_Wednesday</th>\n",
       "      <th>cantidad_subastas_Thursday</th>\n",
       "      <th>cantidad_subastas_Friday</th>\n",
       "      <th>cantidad_subastas_Saturday</th>\n",
       "      <th>cantidad_subastas_Sunday</th>\n",
       "      <th>ref_hash</th>\n",
       "      <th>cantidad_de_clicks_en_ventana</th>\n",
       "      <th>...</th>\n",
       "      <th>cantidad_eventos_hora_14</th>\n",
       "      <th>cantidad_eventos_hora_15</th>\n",
       "      <th>cantidad_eventos_hora_16</th>\n",
       "      <th>cantidad_eventos_hora_17</th>\n",
       "      <th>cantidad_eventos_hora_18</th>\n",
       "      <th>cantidad_eventos_hora_19</th>\n",
       "      <th>cantidad_eventos_hora_20</th>\n",
       "      <th>cantidad_eventos_hora_21</th>\n",
       "      <th>cantidad_eventos_hora_22</th>\n",
       "      <th>cantidad_eventos_hora_23</th>\n",
       "    </tr>\n",
       "  </thead>\n",
       "  <tbody>\n",
       "    <tr>\n",
       "      <th>1471</th>\n",
       "      <td>8.0</td>\n",
       "      <td>0.0</td>\n",
       "      <td>13.0</td>\n",
       "      <td>4.0</td>\n",
       "      <td>6.0</td>\n",
       "      <td>7.0</td>\n",
       "      <td>2.0</td>\n",
       "      <td>2.0</td>\n",
       "      <td>7164788605058735</td>\n",
       "      <td>0.0</td>\n",
       "      <td>...</td>\n",
       "      <td>1.0</td>\n",
       "      <td>0.0</td>\n",
       "      <td>5.0</td>\n",
       "      <td>4.0</td>\n",
       "      <td>0.0</td>\n",
       "      <td>0.0</td>\n",
       "      <td>3.0</td>\n",
       "      <td>4.0</td>\n",
       "      <td>1.0</td>\n",
       "      <td>7.0</td>\n",
       "    </tr>\n",
       "    <tr>\n",
       "      <th>2684</th>\n",
       "      <td>158.0</td>\n",
       "      <td>0.0</td>\n",
       "      <td>0.0</td>\n",
       "      <td>0.0</td>\n",
       "      <td>25.0</td>\n",
       "      <td>105.0</td>\n",
       "      <td>28.0</td>\n",
       "      <td>0.0</td>\n",
       "      <td>11447172392196885</td>\n",
       "      <td>3.0</td>\n",
       "      <td>...</td>\n",
       "      <td>0.0</td>\n",
       "      <td>0.0</td>\n",
       "      <td>0.0</td>\n",
       "      <td>0.0</td>\n",
       "      <td>0.0</td>\n",
       "      <td>0.0</td>\n",
       "      <td>0.0</td>\n",
       "      <td>6.0</td>\n",
       "      <td>0.0</td>\n",
       "      <td>1.0</td>\n",
       "    </tr>\n",
       "    <tr>\n",
       "      <th>2529</th>\n",
       "      <td>4.0</td>\n",
       "      <td>1.0</td>\n",
       "      <td>0.0</td>\n",
       "      <td>73.0</td>\n",
       "      <td>8.0</td>\n",
       "      <td>2.0</td>\n",
       "      <td>0.0</td>\n",
       "      <td>0.0</td>\n",
       "      <td>17411113585415081</td>\n",
       "      <td>1.0</td>\n",
       "      <td>...</td>\n",
       "      <td>0.0</td>\n",
       "      <td>0.0</td>\n",
       "      <td>0.0</td>\n",
       "      <td>0.0</td>\n",
       "      <td>0.0</td>\n",
       "      <td>0.0</td>\n",
       "      <td>0.0</td>\n",
       "      <td>8.0</td>\n",
       "      <td>1.0</td>\n",
       "      <td>0.0</td>\n",
       "    </tr>\n",
       "    <tr>\n",
       "      <th>964</th>\n",
       "      <td>254.0</td>\n",
       "      <td>33.0</td>\n",
       "      <td>11.0</td>\n",
       "      <td>0.0</td>\n",
       "      <td>42.0</td>\n",
       "      <td>108.0</td>\n",
       "      <td>104.0</td>\n",
       "      <td>39.0</td>\n",
       "      <td>18336104939494418</td>\n",
       "      <td>4.0</td>\n",
       "      <td>...</td>\n",
       "      <td>0.0</td>\n",
       "      <td>0.0</td>\n",
       "      <td>0.0</td>\n",
       "      <td>0.0</td>\n",
       "      <td>0.0</td>\n",
       "      <td>0.0</td>\n",
       "      <td>0.0</td>\n",
       "      <td>0.0</td>\n",
       "      <td>5.0</td>\n",
       "      <td>0.0</td>\n",
       "    </tr>\n",
       "    <tr>\n",
       "      <th>1362</th>\n",
       "      <td>6.0</td>\n",
       "      <td>0.0</td>\n",
       "      <td>0.0</td>\n",
       "      <td>0.0</td>\n",
       "      <td>6.0</td>\n",
       "      <td>1.0</td>\n",
       "      <td>0.0</td>\n",
       "      <td>0.0</td>\n",
       "      <td>22109383369151163</td>\n",
       "      <td>0.0</td>\n",
       "      <td>...</td>\n",
       "      <td>0.0</td>\n",
       "      <td>0.0</td>\n",
       "      <td>0.0</td>\n",
       "      <td>0.0</td>\n",
       "      <td>0.0</td>\n",
       "      <td>0.0</td>\n",
       "      <td>0.0</td>\n",
       "      <td>0.0</td>\n",
       "      <td>0.0</td>\n",
       "      <td>0.0</td>\n",
       "    </tr>\n",
       "  </tbody>\n",
       "</table>\n",
       "<p>5 rows × 57 columns</p>\n",
       "</div>"
      ],
      "text/plain": [
       "      cantidad_de_subastas_en_ventana  cantidad_subastas_Monday  \\\n",
       "1471                              8.0                       0.0   \n",
       "2684                            158.0                       0.0   \n",
       "2529                              4.0                       1.0   \n",
       "964                             254.0                      33.0   \n",
       "1362                              6.0                       0.0   \n",
       "\n",
       "      cantidad_subastas_Tuesday  cantidad_subastas_Wednesday  \\\n",
       "1471                       13.0                          4.0   \n",
       "2684                        0.0                          0.0   \n",
       "2529                        0.0                         73.0   \n",
       "964                        11.0                          0.0   \n",
       "1362                        0.0                          0.0   \n",
       "\n",
       "      cantidad_subastas_Thursday  cantidad_subastas_Friday  \\\n",
       "1471                         6.0                       7.0   \n",
       "2684                        25.0                     105.0   \n",
       "2529                         8.0                       2.0   \n",
       "964                         42.0                     108.0   \n",
       "1362                         6.0                       1.0   \n",
       "\n",
       "      cantidad_subastas_Saturday  cantidad_subastas_Sunday           ref_hash  \\\n",
       "1471                         2.0                       2.0   7164788605058735   \n",
       "2684                        28.0                       0.0  11447172392196885   \n",
       "2529                         0.0                       0.0  17411113585415081   \n",
       "964                        104.0                      39.0  18336104939494418   \n",
       "1362                         0.0                       0.0  22109383369151163   \n",
       "\n",
       "      cantidad_de_clicks_en_ventana            ...             \\\n",
       "1471                            0.0            ...              \n",
       "2684                            3.0            ...              \n",
       "2529                            1.0            ...              \n",
       "964                             4.0            ...              \n",
       "1362                            0.0            ...              \n",
       "\n",
       "      cantidad_eventos_hora_14  cantidad_eventos_hora_15  \\\n",
       "1471                       1.0                       0.0   \n",
       "2684                       0.0                       0.0   \n",
       "2529                       0.0                       0.0   \n",
       "964                        0.0                       0.0   \n",
       "1362                       0.0                       0.0   \n",
       "\n",
       "      cantidad_eventos_hora_16  cantidad_eventos_hora_17  \\\n",
       "1471                       5.0                       4.0   \n",
       "2684                       0.0                       0.0   \n",
       "2529                       0.0                       0.0   \n",
       "964                        0.0                       0.0   \n",
       "1362                       0.0                       0.0   \n",
       "\n",
       "      cantidad_eventos_hora_18  cantidad_eventos_hora_19  \\\n",
       "1471                       0.0                       0.0   \n",
       "2684                       0.0                       0.0   \n",
       "2529                       0.0                       0.0   \n",
       "964                        0.0                       0.0   \n",
       "1362                       0.0                       0.0   \n",
       "\n",
       "      cantidad_eventos_hora_20  cantidad_eventos_hora_21  \\\n",
       "1471                       3.0                       4.0   \n",
       "2684                       0.0                       6.0   \n",
       "2529                       0.0                       8.0   \n",
       "964                        0.0                       0.0   \n",
       "1362                       0.0                       0.0   \n",
       "\n",
       "      cantidad_eventos_hora_22  cantidad_eventos_hora_23  \n",
       "1471                       1.0                       7.0  \n",
       "2684                       0.0                       1.0  \n",
       "2529                       1.0                       0.0  \n",
       "964                        5.0                       0.0  \n",
       "1362                       0.0                       0.0  \n",
       "\n",
       "[5 rows x 57 columns]"
      ]
     },
     "execution_count": 59,
     "metadata": {},
     "output_type": "execute_result"
    }
   ],
   "source": [
    "features_v1.head()"
   ]
  },
  {
   "cell_type": "markdown",
   "metadata": {},
   "source": [
    "# Algoritmo"
   ]
  },
  {
   "cell_type": "code",
   "execution_count": 60,
   "metadata": {},
   "outputs": [
    {
     "data": {
      "text/html": [
       "<div>\n",
       "<style scoped>\n",
       "    .dataframe tbody tr th:only-of-type {\n",
       "        vertical-align: middle;\n",
       "    }\n",
       "\n",
       "    .dataframe tbody tr th {\n",
       "        vertical-align: top;\n",
       "    }\n",
       "\n",
       "    .dataframe thead th {\n",
       "        text-align: right;\n",
       "    }\n",
       "</style>\n",
       "<table border=\"1\" class=\"dataframe\">\n",
       "  <thead>\n",
       "    <tr style=\"text-align: right;\">\n",
       "      <th></th>\n",
       "      <th>cantidad_de_subastas_en_ventana</th>\n",
       "      <th>cantidad_subastas_Monday</th>\n",
       "      <th>cantidad_subastas_Tuesday</th>\n",
       "      <th>cantidad_subastas_Wednesday</th>\n",
       "      <th>cantidad_subastas_Thursday</th>\n",
       "      <th>cantidad_subastas_Friday</th>\n",
       "      <th>cantidad_subastas_Saturday</th>\n",
       "      <th>cantidad_subastas_Sunday</th>\n",
       "      <th>ref_hash</th>\n",
       "      <th>cantidad_de_clicks_en_ventana</th>\n",
       "      <th>...</th>\n",
       "      <th>cantidad_eventos_hora_14</th>\n",
       "      <th>cantidad_eventos_hora_15</th>\n",
       "      <th>cantidad_eventos_hora_16</th>\n",
       "      <th>cantidad_eventos_hora_17</th>\n",
       "      <th>cantidad_eventos_hora_18</th>\n",
       "      <th>cantidad_eventos_hora_19</th>\n",
       "      <th>cantidad_eventos_hora_20</th>\n",
       "      <th>cantidad_eventos_hora_21</th>\n",
       "      <th>cantidad_eventos_hora_22</th>\n",
       "      <th>cantidad_eventos_hora_23</th>\n",
       "    </tr>\n",
       "  </thead>\n",
       "  <tbody>\n",
       "    <tr>\n",
       "      <th>1471</th>\n",
       "      <td>8.0</td>\n",
       "      <td>0.0</td>\n",
       "      <td>13.0</td>\n",
       "      <td>4.0</td>\n",
       "      <td>6.0</td>\n",
       "      <td>7.0</td>\n",
       "      <td>2.0</td>\n",
       "      <td>2.0</td>\n",
       "      <td>7164788605058735</td>\n",
       "      <td>0.0</td>\n",
       "      <td>...</td>\n",
       "      <td>1.0</td>\n",
       "      <td>0.0</td>\n",
       "      <td>5.0</td>\n",
       "      <td>4.0</td>\n",
       "      <td>0.0</td>\n",
       "      <td>0.0</td>\n",
       "      <td>3.0</td>\n",
       "      <td>4.0</td>\n",
       "      <td>1.0</td>\n",
       "      <td>7.0</td>\n",
       "    </tr>\n",
       "    <tr>\n",
       "      <th>2684</th>\n",
       "      <td>158.0</td>\n",
       "      <td>0.0</td>\n",
       "      <td>0.0</td>\n",
       "      <td>0.0</td>\n",
       "      <td>25.0</td>\n",
       "      <td>105.0</td>\n",
       "      <td>28.0</td>\n",
       "      <td>0.0</td>\n",
       "      <td>11447172392196885</td>\n",
       "      <td>3.0</td>\n",
       "      <td>...</td>\n",
       "      <td>0.0</td>\n",
       "      <td>0.0</td>\n",
       "      <td>0.0</td>\n",
       "      <td>0.0</td>\n",
       "      <td>0.0</td>\n",
       "      <td>0.0</td>\n",
       "      <td>0.0</td>\n",
       "      <td>6.0</td>\n",
       "      <td>0.0</td>\n",
       "      <td>1.0</td>\n",
       "    </tr>\n",
       "    <tr>\n",
       "      <th>2529</th>\n",
       "      <td>4.0</td>\n",
       "      <td>1.0</td>\n",
       "      <td>0.0</td>\n",
       "      <td>73.0</td>\n",
       "      <td>8.0</td>\n",
       "      <td>2.0</td>\n",
       "      <td>0.0</td>\n",
       "      <td>0.0</td>\n",
       "      <td>17411113585415081</td>\n",
       "      <td>1.0</td>\n",
       "      <td>...</td>\n",
       "      <td>0.0</td>\n",
       "      <td>0.0</td>\n",
       "      <td>0.0</td>\n",
       "      <td>0.0</td>\n",
       "      <td>0.0</td>\n",
       "      <td>0.0</td>\n",
       "      <td>0.0</td>\n",
       "      <td>8.0</td>\n",
       "      <td>1.0</td>\n",
       "      <td>0.0</td>\n",
       "    </tr>\n",
       "    <tr>\n",
       "      <th>964</th>\n",
       "      <td>254.0</td>\n",
       "      <td>33.0</td>\n",
       "      <td>11.0</td>\n",
       "      <td>0.0</td>\n",
       "      <td>42.0</td>\n",
       "      <td>108.0</td>\n",
       "      <td>104.0</td>\n",
       "      <td>39.0</td>\n",
       "      <td>18336104939494418</td>\n",
       "      <td>4.0</td>\n",
       "      <td>...</td>\n",
       "      <td>0.0</td>\n",
       "      <td>0.0</td>\n",
       "      <td>0.0</td>\n",
       "      <td>0.0</td>\n",
       "      <td>0.0</td>\n",
       "      <td>0.0</td>\n",
       "      <td>0.0</td>\n",
       "      <td>0.0</td>\n",
       "      <td>5.0</td>\n",
       "      <td>0.0</td>\n",
       "    </tr>\n",
       "    <tr>\n",
       "      <th>1362</th>\n",
       "      <td>6.0</td>\n",
       "      <td>0.0</td>\n",
       "      <td>0.0</td>\n",
       "      <td>0.0</td>\n",
       "      <td>6.0</td>\n",
       "      <td>1.0</td>\n",
       "      <td>0.0</td>\n",
       "      <td>0.0</td>\n",
       "      <td>22109383369151163</td>\n",
       "      <td>0.0</td>\n",
       "      <td>...</td>\n",
       "      <td>0.0</td>\n",
       "      <td>0.0</td>\n",
       "      <td>0.0</td>\n",
       "      <td>0.0</td>\n",
       "      <td>0.0</td>\n",
       "      <td>0.0</td>\n",
       "      <td>0.0</td>\n",
       "      <td>0.0</td>\n",
       "      <td>0.0</td>\n",
       "      <td>0.0</td>\n",
       "    </tr>\n",
       "  </tbody>\n",
       "</table>\n",
       "<p>5 rows × 57 columns</p>\n",
       "</div>"
      ],
      "text/plain": [
       "      cantidad_de_subastas_en_ventana  cantidad_subastas_Monday  \\\n",
       "1471                              8.0                       0.0   \n",
       "2684                            158.0                       0.0   \n",
       "2529                              4.0                       1.0   \n",
       "964                             254.0                      33.0   \n",
       "1362                              6.0                       0.0   \n",
       "\n",
       "      cantidad_subastas_Tuesday  cantidad_subastas_Wednesday  \\\n",
       "1471                       13.0                          4.0   \n",
       "2684                        0.0                          0.0   \n",
       "2529                        0.0                         73.0   \n",
       "964                        11.0                          0.0   \n",
       "1362                        0.0                          0.0   \n",
       "\n",
       "      cantidad_subastas_Thursday  cantidad_subastas_Friday  \\\n",
       "1471                         6.0                       7.0   \n",
       "2684                        25.0                     105.0   \n",
       "2529                         8.0                       2.0   \n",
       "964                         42.0                     108.0   \n",
       "1362                         6.0                       1.0   \n",
       "\n",
       "      cantidad_subastas_Saturday  cantidad_subastas_Sunday           ref_hash  \\\n",
       "1471                         2.0                       2.0   7164788605058735   \n",
       "2684                        28.0                       0.0  11447172392196885   \n",
       "2529                         0.0                       0.0  17411113585415081   \n",
       "964                        104.0                      39.0  18336104939494418   \n",
       "1362                         0.0                       0.0  22109383369151163   \n",
       "\n",
       "      cantidad_de_clicks_en_ventana            ...             \\\n",
       "1471                            0.0            ...              \n",
       "2684                            3.0            ...              \n",
       "2529                            1.0            ...              \n",
       "964                             4.0            ...              \n",
       "1362                            0.0            ...              \n",
       "\n",
       "      cantidad_eventos_hora_14  cantidad_eventos_hora_15  \\\n",
       "1471                       1.0                       0.0   \n",
       "2684                       0.0                       0.0   \n",
       "2529                       0.0                       0.0   \n",
       "964                        0.0                       0.0   \n",
       "1362                       0.0                       0.0   \n",
       "\n",
       "      cantidad_eventos_hora_16  cantidad_eventos_hora_17  \\\n",
       "1471                       5.0                       4.0   \n",
       "2684                       0.0                       0.0   \n",
       "2529                       0.0                       0.0   \n",
       "964                        0.0                       0.0   \n",
       "1362                       0.0                       0.0   \n",
       "\n",
       "      cantidad_eventos_hora_18  cantidad_eventos_hora_19  \\\n",
       "1471                       0.0                       0.0   \n",
       "2684                       0.0                       0.0   \n",
       "2529                       0.0                       0.0   \n",
       "964                        0.0                       0.0   \n",
       "1362                       0.0                       0.0   \n",
       "\n",
       "      cantidad_eventos_hora_20  cantidad_eventos_hora_21  \\\n",
       "1471                       3.0                       4.0   \n",
       "2684                       0.0                       6.0   \n",
       "2529                       0.0                       8.0   \n",
       "964                        0.0                       0.0   \n",
       "1362                       0.0                       0.0   \n",
       "\n",
       "      cantidad_eventos_hora_22  cantidad_eventos_hora_23  \n",
       "1471                       1.0                       7.0  \n",
       "2684                       0.0                       1.0  \n",
       "2529                       1.0                       0.0  \n",
       "964                        5.0                       0.0  \n",
       "1362                       0.0                       0.0  \n",
       "\n",
       "[5 rows x 57 columns]"
      ]
     },
     "execution_count": 60,
     "metadata": {},
     "output_type": "execute_result"
    }
   ],
   "source": [
    "from sksurv.preprocessing import OneHotEncoder\n",
    "\n",
    "features_v1 = OneHotEncoder().fit_transform(features_v1)\n",
    "features_v1.head()"
   ]
  },
  {
   "cell_type": "code",
   "execution_count": 61,
   "metadata": {},
   "outputs": [
    {
     "data": {
      "text/plain": [
       "CoxPHSurvivalAnalysis(alpha=0.0001, n_iter=100, tol=1e-09, verbose=0)"
      ]
     },
     "execution_count": 61,
     "metadata": {},
     "output_type": "execute_result"
    }
   ],
   "source": [
    "from sksurv.linear_model import CoxPHSurvivalAnalysis\n",
    "\n",
    "estimator = CoxPHSurvivalAnalysis(alpha=0.0001)\n",
    "estimator.fit(features_v1,label1_b)"
   ]
  },
  {
   "cell_type": "code",
   "execution_count": 62,
   "metadata": {},
   "outputs": [
    {
     "data": {
      "text/plain": [
       "cantidad_de_subastas_en_ventana         1.718933e-03\n",
       "cantidad_subastas_Monday                3.085618e-04\n",
       "cantidad_subastas_Tuesday               5.405698e-04\n",
       "cantidad_subastas_Wednesday             2.088994e-06\n",
       "cantidad_subastas_Thursday              3.112952e-04\n",
       "cantidad_subastas_Friday               -8.147825e-04\n",
       "cantidad_subastas_Saturday             -1.715264e-03\n",
       "cantidad_subastas_Sunday               -2.266670e-04\n",
       "ref_hash                               -3.655799e-21\n",
       "cantidad_de_clicks_en_ventana           1.110205e-01\n",
       "cantidad_clicks_Monday                  5.428324e-04\n",
       "cantidad_clicks_Tuesday                 3.645190e-02\n",
       "cantidad_clicks_Wednesday               1.162701e-01\n",
       "cantidad_clicks_Thursday                1.526191e-01\n",
       "cantidad_clicks_Friday                  3.162756e-02\n",
       "cantidad_clicks_Saturday               -1.938275e-01\n",
       "cantidad_clicks_Sunday                  3.763540e-03\n",
       "cantidad_de_instalaciones_en_ventana   -5.982065e-03\n",
       "cantidad_installs_Monday               -6.839921e-02\n",
       "cantidad_installs_Tuesday               6.444897e-03\n",
       "cantidad_installs_Wednesday            -1.360200e-01\n",
       "cantidad_installs_Thursday             -3.979396e-02\n",
       "cantidad_installs_Friday               -5.577177e-02\n",
       "cantidad_installs_Saturday             -1.092527e-01\n",
       "cantidad_installs_Sunday               -9.638496e-02\n",
       "cantidad_de_eventos_en_ventana          1.584934e-03\n",
       "cantidad_eventos_Monday                 0.000000e+00\n",
       "cantidad_eventos_Tuesday                0.000000e+00\n",
       "cantidad_eventos_Wednesday              0.000000e+00\n",
       "cantidad_eventos_Thursday               3.276030e-03\n",
       "cantidad_eventos_Friday                -2.155495e-03\n",
       "cantidad_eventos_Saturday               4.644807e-04\n",
       "cantidad_eventos_Sunday                 0.000000e+00\n",
       "cantidad_eventos_hora_0                 1.237111e-02\n",
       "cantidad_eventos_hora_1                -2.002226e-03\n",
       "cantidad_eventos_hora_2                 9.439209e-04\n",
       "cantidad_eventos_hora_3                -6.754756e-03\n",
       "cantidad_eventos_hora_4                 7.825222e-03\n",
       "cantidad_eventos_hora_5                -8.669784e-03\n",
       "cantidad_eventos_hora_6                 4.409673e-03\n",
       "cantidad_eventos_hora_7                 1.560942e-03\n",
       "cantidad_eventos_hora_8                 1.460883e-02\n",
       "cantidad_eventos_hora_9                -4.093435e-04\n",
       "cantidad_eventos_hora_10                1.073901e-02\n",
       "cantidad_eventos_hora_11               -1.170262e-02\n",
       "cantidad_eventos_hora_12                1.578875e-02\n",
       "cantidad_eventos_hora_13               -1.076098e-02\n",
       "cantidad_eventos_hora_14                1.611015e-04\n",
       "cantidad_eventos_hora_15               -8.239588e-03\n",
       "cantidad_eventos_hora_16               -4.068543e-03\n",
       "cantidad_eventos_hora_17               -6.718156e-03\n",
       "cantidad_eventos_hora_18               -1.465543e-03\n",
       "cantidad_eventos_hora_19                5.530311e-03\n",
       "cantidad_eventos_hora_20               -1.997276e-03\n",
       "cantidad_eventos_hora_21               -5.601456e-03\n",
       "cantidad_eventos_hora_22               -5.795142e-04\n",
       "cantidad_eventos_hora_23               -3.384212e-03\n",
       "dtype: float64"
      ]
     },
     "execution_count": 62,
     "metadata": {},
     "output_type": "execute_result"
    }
   ],
   "source": [
    "pd.Series(estimator.coef_, index=features_v1.columns)"
   ]
  },
  {
   "cell_type": "markdown",
   "metadata": {},
   "source": [
    "#### El resultado es un vector de coeficientes, uno para cada variable, donde cada valor corresponde a la relación del registro y evento"
   ]
  },
  {
   "cell_type": "code",
   "execution_count": null,
   "metadata": {},
   "outputs": [],
   "source": []
  },
  {
   "cell_type": "code",
   "execution_count": 63,
   "metadata": {},
   "outputs": [],
   "source": [
    "prediction = estimator.predict(features_v2)"
   ]
  },
  {
   "cell_type": "code",
   "execution_count": 64,
   "metadata": {},
   "outputs": [
    {
     "data": {
      "text/plain": [
       "0.6313176209262851"
      ]
     },
     "execution_count": 64,
     "metadata": {},
     "output_type": "execute_result"
    }
   ],
   "source": [
    "from sksurv.metrics import concordance_index_censored\n",
    "result = concordance_index_censored(label2['binary'],label2['st'], prediction)\n",
    "result[0]"
   ]
  },
  {
   "cell_type": "code",
   "execution_count": null,
   "metadata": {},
   "outputs": [],
   "source": []
  },
  {
   "cell_type": "code",
   "execution_count": null,
   "metadata": {},
   "outputs": [],
   "source": []
  },
  {
   "cell_type": "code",
   "execution_count": null,
   "metadata": {},
   "outputs": [],
   "source": []
  },
  {
   "cell_type": "code",
   "execution_count": null,
   "metadata": {},
   "outputs": [],
   "source": []
  },
  {
   "cell_type": "code",
   "execution_count": null,
   "metadata": {},
   "outputs": [],
   "source": []
  },
  {
   "cell_type": "code",
   "execution_count": null,
   "metadata": {},
   "outputs": [],
   "source": []
  },
  {
   "cell_type": "markdown",
   "metadata": {},
   "source": [
    "# KNN"
   ]
  },
  {
   "cell_type": "code",
   "execution_count": 85,
   "metadata": {},
   "outputs": [
    {
     "data": {
      "text/html": [
       "<div>\n",
       "<style scoped>\n",
       "    .dataframe tbody tr th:only-of-type {\n",
       "        vertical-align: middle;\n",
       "    }\n",
       "\n",
       "    .dataframe tbody tr th {\n",
       "        vertical-align: top;\n",
       "    }\n",
       "\n",
       "    .dataframe thead th {\n",
       "        text-align: right;\n",
       "    }\n",
       "</style>\n",
       "<table border=\"1\" class=\"dataframe\">\n",
       "  <thead>\n",
       "    <tr style=\"text-align: right;\">\n",
       "      <th></th>\n",
       "      <th>device_id</th>\n",
       "      <th>st</th>\n",
       "      <th>binary</th>\n",
       "    </tr>\n",
       "  </thead>\n",
       "  <tbody>\n",
       "    <tr>\n",
       "      <th>7284162</th>\n",
       "      <td>7164788605058735</td>\n",
       "      <td>12173.399769</td>\n",
       "      <td>True</td>\n",
       "    </tr>\n",
       "    <tr>\n",
       "      <th>25164500</th>\n",
       "      <td>11447172392196885</td>\n",
       "      <td>77013.727597</td>\n",
       "      <td>True</td>\n",
       "    </tr>\n",
       "    <tr>\n",
       "      <th>28277538</th>\n",
       "      <td>17411113585415081</td>\n",
       "      <td>68166.777507</td>\n",
       "      <td>True</td>\n",
       "    </tr>\n",
       "    <tr>\n",
       "      <th>41330213</th>\n",
       "      <td>18336104939494418</td>\n",
       "      <td>5620.605960</td>\n",
       "      <td>True</td>\n",
       "    </tr>\n",
       "    <tr>\n",
       "      <th>25252632</th>\n",
       "      <td>22109383369151163</td>\n",
       "      <td>10758.970832</td>\n",
       "      <td>True</td>\n",
       "    </tr>\n",
       "  </tbody>\n",
       "</table>\n",
       "</div>"
      ],
      "text/plain": [
       "                  device_id            st  binary\n",
       "7284162    7164788605058735  12173.399769    True\n",
       "25164500  11447172392196885  77013.727597    True\n",
       "28277538  17411113585415081  68166.777507    True\n",
       "41330213  18336104939494418   5620.605960    True\n",
       "25252632  22109383369151163  10758.970832    True"
      ]
     },
     "execution_count": 85,
     "metadata": {},
     "output_type": "execute_result"
    }
   ],
   "source": [
    "df = label1.sort_values(ascending=True,by='device_id')\n",
    "df.head()"
   ]
  },
  {
   "cell_type": "code",
   "execution_count": 86,
   "metadata": {},
   "outputs": [
    {
     "data": {
      "text/html": [
       "<div>\n",
       "<style scoped>\n",
       "    .dataframe tbody tr th:only-of-type {\n",
       "        vertical-align: middle;\n",
       "    }\n",
       "\n",
       "    .dataframe tbody tr th {\n",
       "        vertical-align: top;\n",
       "    }\n",
       "\n",
       "    .dataframe thead th {\n",
       "        text-align: right;\n",
       "    }\n",
       "</style>\n",
       "<table border=\"1\" class=\"dataframe\">\n",
       "  <thead>\n",
       "    <tr style=\"text-align: right;\">\n",
       "      <th></th>\n",
       "      <th>cantidad_de_subastas_en_ventana</th>\n",
       "      <th>cantidad_subastas_Monday</th>\n",
       "      <th>cantidad_subastas_Tuesday</th>\n",
       "      <th>cantidad_subastas_Wednesday</th>\n",
       "      <th>cantidad_subastas_Thursday</th>\n",
       "      <th>cantidad_subastas_Friday</th>\n",
       "      <th>cantidad_subastas_Saturday</th>\n",
       "      <th>cantidad_subastas_Sunday</th>\n",
       "      <th>ref_hash</th>\n",
       "      <th>cantidad_de_clicks_en_ventana</th>\n",
       "      <th>...</th>\n",
       "      <th>cantidad_eventos_hora_14</th>\n",
       "      <th>cantidad_eventos_hora_15</th>\n",
       "      <th>cantidad_eventos_hora_16</th>\n",
       "      <th>cantidad_eventos_hora_17</th>\n",
       "      <th>cantidad_eventos_hora_18</th>\n",
       "      <th>cantidad_eventos_hora_19</th>\n",
       "      <th>cantidad_eventos_hora_20</th>\n",
       "      <th>cantidad_eventos_hora_21</th>\n",
       "      <th>cantidad_eventos_hora_22</th>\n",
       "      <th>cantidad_eventos_hora_23</th>\n",
       "    </tr>\n",
       "  </thead>\n",
       "  <tbody>\n",
       "    <tr>\n",
       "      <th>1471</th>\n",
       "      <td>8.0</td>\n",
       "      <td>0.0</td>\n",
       "      <td>13.0</td>\n",
       "      <td>4.0</td>\n",
       "      <td>6.0</td>\n",
       "      <td>7.0</td>\n",
       "      <td>2.0</td>\n",
       "      <td>2.0</td>\n",
       "      <td>7164788605058735</td>\n",
       "      <td>0.0</td>\n",
       "      <td>...</td>\n",
       "      <td>1.0</td>\n",
       "      <td>0.0</td>\n",
       "      <td>5.0</td>\n",
       "      <td>4.0</td>\n",
       "      <td>0.0</td>\n",
       "      <td>0.0</td>\n",
       "      <td>3.0</td>\n",
       "      <td>4.0</td>\n",
       "      <td>1.0</td>\n",
       "      <td>7.0</td>\n",
       "    </tr>\n",
       "    <tr>\n",
       "      <th>2684</th>\n",
       "      <td>158.0</td>\n",
       "      <td>0.0</td>\n",
       "      <td>0.0</td>\n",
       "      <td>0.0</td>\n",
       "      <td>25.0</td>\n",
       "      <td>105.0</td>\n",
       "      <td>28.0</td>\n",
       "      <td>0.0</td>\n",
       "      <td>11447172392196885</td>\n",
       "      <td>3.0</td>\n",
       "      <td>...</td>\n",
       "      <td>0.0</td>\n",
       "      <td>0.0</td>\n",
       "      <td>0.0</td>\n",
       "      <td>0.0</td>\n",
       "      <td>0.0</td>\n",
       "      <td>0.0</td>\n",
       "      <td>0.0</td>\n",
       "      <td>6.0</td>\n",
       "      <td>0.0</td>\n",
       "      <td>1.0</td>\n",
       "    </tr>\n",
       "    <tr>\n",
       "      <th>2529</th>\n",
       "      <td>4.0</td>\n",
       "      <td>1.0</td>\n",
       "      <td>0.0</td>\n",
       "      <td>73.0</td>\n",
       "      <td>8.0</td>\n",
       "      <td>2.0</td>\n",
       "      <td>0.0</td>\n",
       "      <td>0.0</td>\n",
       "      <td>17411113585415081</td>\n",
       "      <td>1.0</td>\n",
       "      <td>...</td>\n",
       "      <td>0.0</td>\n",
       "      <td>0.0</td>\n",
       "      <td>0.0</td>\n",
       "      <td>0.0</td>\n",
       "      <td>0.0</td>\n",
       "      <td>0.0</td>\n",
       "      <td>0.0</td>\n",
       "      <td>8.0</td>\n",
       "      <td>1.0</td>\n",
       "      <td>0.0</td>\n",
       "    </tr>\n",
       "    <tr>\n",
       "      <th>964</th>\n",
       "      <td>254.0</td>\n",
       "      <td>33.0</td>\n",
       "      <td>11.0</td>\n",
       "      <td>0.0</td>\n",
       "      <td>42.0</td>\n",
       "      <td>108.0</td>\n",
       "      <td>104.0</td>\n",
       "      <td>39.0</td>\n",
       "      <td>18336104939494418</td>\n",
       "      <td>4.0</td>\n",
       "      <td>...</td>\n",
       "      <td>0.0</td>\n",
       "      <td>0.0</td>\n",
       "      <td>0.0</td>\n",
       "      <td>0.0</td>\n",
       "      <td>0.0</td>\n",
       "      <td>0.0</td>\n",
       "      <td>0.0</td>\n",
       "      <td>0.0</td>\n",
       "      <td>5.0</td>\n",
       "      <td>0.0</td>\n",
       "    </tr>\n",
       "    <tr>\n",
       "      <th>1362</th>\n",
       "      <td>6.0</td>\n",
       "      <td>0.0</td>\n",
       "      <td>0.0</td>\n",
       "      <td>0.0</td>\n",
       "      <td>6.0</td>\n",
       "      <td>1.0</td>\n",
       "      <td>0.0</td>\n",
       "      <td>0.0</td>\n",
       "      <td>22109383369151163</td>\n",
       "      <td>0.0</td>\n",
       "      <td>...</td>\n",
       "      <td>0.0</td>\n",
       "      <td>0.0</td>\n",
       "      <td>0.0</td>\n",
       "      <td>0.0</td>\n",
       "      <td>0.0</td>\n",
       "      <td>0.0</td>\n",
       "      <td>0.0</td>\n",
       "      <td>0.0</td>\n",
       "      <td>0.0</td>\n",
       "      <td>0.0</td>\n",
       "    </tr>\n",
       "  </tbody>\n",
       "</table>\n",
       "<p>5 rows × 57 columns</p>\n",
       "</div>"
      ],
      "text/plain": [
       "      cantidad_de_subastas_en_ventana  cantidad_subastas_Monday  \\\n",
       "1471                              8.0                       0.0   \n",
       "2684                            158.0                       0.0   \n",
       "2529                              4.0                       1.0   \n",
       "964                             254.0                      33.0   \n",
       "1362                              6.0                       0.0   \n",
       "\n",
       "      cantidad_subastas_Tuesday  cantidad_subastas_Wednesday  \\\n",
       "1471                       13.0                          4.0   \n",
       "2684                        0.0                          0.0   \n",
       "2529                        0.0                         73.0   \n",
       "964                        11.0                          0.0   \n",
       "1362                        0.0                          0.0   \n",
       "\n",
       "      cantidad_subastas_Thursday  cantidad_subastas_Friday  \\\n",
       "1471                         6.0                       7.0   \n",
       "2684                        25.0                     105.0   \n",
       "2529                         8.0                       2.0   \n",
       "964                         42.0                     108.0   \n",
       "1362                         6.0                       1.0   \n",
       "\n",
       "      cantidad_subastas_Saturday  cantidad_subastas_Sunday           ref_hash  \\\n",
       "1471                         2.0                       2.0   7164788605058735   \n",
       "2684                        28.0                       0.0  11447172392196885   \n",
       "2529                         0.0                       0.0  17411113585415081   \n",
       "964                        104.0                      39.0  18336104939494418   \n",
       "1362                         0.0                       0.0  22109383369151163   \n",
       "\n",
       "      cantidad_de_clicks_en_ventana            ...             \\\n",
       "1471                            0.0            ...              \n",
       "2684                            3.0            ...              \n",
       "2529                            1.0            ...              \n",
       "964                             4.0            ...              \n",
       "1362                            0.0            ...              \n",
       "\n",
       "      cantidad_eventos_hora_14  cantidad_eventos_hora_15  \\\n",
       "1471                       1.0                       0.0   \n",
       "2684                       0.0                       0.0   \n",
       "2529                       0.0                       0.0   \n",
       "964                        0.0                       0.0   \n",
       "1362                       0.0                       0.0   \n",
       "\n",
       "      cantidad_eventos_hora_16  cantidad_eventos_hora_17  \\\n",
       "1471                       5.0                       4.0   \n",
       "2684                       0.0                       0.0   \n",
       "2529                       0.0                       0.0   \n",
       "964                        0.0                       0.0   \n",
       "1362                       0.0                       0.0   \n",
       "\n",
       "      cantidad_eventos_hora_18  cantidad_eventos_hora_19  \\\n",
       "1471                       0.0                       0.0   \n",
       "2684                       0.0                       0.0   \n",
       "2529                       0.0                       0.0   \n",
       "964                        0.0                       0.0   \n",
       "1362                       0.0                       0.0   \n",
       "\n",
       "      cantidad_eventos_hora_20  cantidad_eventos_hora_21  \\\n",
       "1471                       3.0                       4.0   \n",
       "2684                       0.0                       6.0   \n",
       "2529                       0.0                       8.0   \n",
       "964                        0.0                       0.0   \n",
       "1362                       0.0                       0.0   \n",
       "\n",
       "      cantidad_eventos_hora_22  cantidad_eventos_hora_23  \n",
       "1471                       1.0                       7.0  \n",
       "2684                       0.0                       1.0  \n",
       "2529                       1.0                       0.0  \n",
       "964                        5.0                       0.0  \n",
       "1362                       0.0                       0.0  \n",
       "\n",
       "[5 rows x 57 columns]"
      ]
     },
     "execution_count": 86,
     "metadata": {},
     "output_type": "execute_result"
    }
   ],
   "source": [
    "df_feat = features_v1.sort_values(ascending=True,by='ref_hash')\n",
    "df_feat.head()"
   ]
  },
  {
   "cell_type": "code",
   "execution_count": 90,
   "metadata": {},
   "outputs": [],
   "source": [
    "from sklearn.model_selection import train_test_split\n",
    "\n",
    "#TRAIN_TEST_SPLIT\n",
    "#Split arrays or matrices into random train and test subsets\n",
    "x_train, x_test, y_train, y_test = train_test_split(df_feat.drop(columns='ref_hash'),\n",
    "                                                    df['st'],\n",
    "                                                    test_size=0.2,\n",
    "                                                    random_state=43)"
   ]
  },
  {
   "cell_type": "code",
   "execution_count": 92,
   "metadata": {},
   "outputs": [],
   "source": [
    "from sklearn.neighbors import KNeighborsRegressor\n",
    "from sklearn import metrics\n",
    "\n",
    "k=5 #-->Hiperparametro\n",
    "neigh = KNeighborsRegressor(n_neighbors = k ,    #Cantidad de vecinos a usar --> K hiperparametro.\n",
    "                            n_jobs=-1,           #Define la cantidad de procesadores a usar, -1 todos los disponibles.\n",
    "                            weights='distance',  #Se define el peso como la inversa a la distancia, los mas cercanos tienen mayor influencia.\n",
    "                            algorithm='brute'    #Fuerza bruta para el algorimo, podría ser KDTree o sino automatico.\n",
    "                           )\n",
    "#En weights se puede pasar una funcion definida por el usuario--> Segundo hiperparametro posible de KNN."
   ]
  },
  {
   "cell_type": "code",
   "execution_count": 93,
   "metadata": {},
   "outputs": [
    {
     "data": {
      "text/plain": [
       "KNeighborsRegressor(algorithm='brute', leaf_size=30, metric='minkowski',\n",
       "          metric_params=None, n_jobs=-1, n_neighbors=5, p=2,\n",
       "          weights='distance')"
      ]
     },
     "execution_count": 93,
     "metadata": {},
     "output_type": "execute_result"
    }
   ],
   "source": [
    "neigh.fit(x_train,y_train) #Fit the model using X as training data and Y as target values"
   ]
  },
  {
   "cell_type": "code",
   "execution_count": 94,
   "metadata": {},
   "outputs": [],
   "source": [
    "predicted = neigh.predict(x_test) #Predict the target for the provided data"
   ]
  },
  {
   "cell_type": "code",
   "execution_count": 115,
   "metadata": {},
   "outputs": [
    {
     "data": {
      "text/plain": [
       "1.0"
      ]
     },
     "execution_count": 115,
     "metadata": {},
     "output_type": "execute_result"
    }
   ],
   "source": [
    "neigh.score(x_train, y_train)"
   ]
  },
  {
   "cell_type": "code",
   "execution_count": 95,
   "metadata": {},
   "outputs": [
    {
     "data": {
      "text/plain": [
       "0.31952334835977503"
      ]
     },
     "execution_count": 95,
     "metadata": {},
     "output_type": "execute_result"
    }
   ],
   "source": [
    "neigh.score(x_test, y_test)"
   ]
  },
  {
   "cell_type": "markdown",
   "metadata": {},
   "source": [
    "# Gradient Boosting"
   ]
  },
  {
   "cell_type": "code",
   "execution_count": 104,
   "metadata": {},
   "outputs": [],
   "source": [
    "from sklearn.ensemble import GradientBoostingRegressor\n",
    "\n",
    "gradient_boost = GradientBoostingRegressor()"
   ]
  },
  {
   "cell_type": "code",
   "execution_count": 105,
   "metadata": {},
   "outputs": [
    {
     "data": {
      "text/plain": [
       "GradientBoostingRegressor(alpha=0.9, criterion='friedman_mse', init=None,\n",
       "             learning_rate=0.1, loss='ls', max_depth=3, max_features=None,\n",
       "             max_leaf_nodes=None, min_impurity_decrease=0.0,\n",
       "             min_impurity_split=None, min_samples_leaf=1,\n",
       "             min_samples_split=2, min_weight_fraction_leaf=0.0,\n",
       "             n_estimators=100, n_iter_no_change=None, presort='auto',\n",
       "             random_state=None, subsample=1.0, tol=0.0001,\n",
       "             validation_fraction=0.1, verbose=0, warm_start=False)"
      ]
     },
     "execution_count": 105,
     "metadata": {},
     "output_type": "execute_result"
    }
   ],
   "source": [
    "gradient_boost.fit(x_train,y_train)"
   ]
  },
  {
   "cell_type": "code",
   "execution_count": 116,
   "metadata": {},
   "outputs": [
    {
     "data": {
      "text/plain": [
       "0.6676389678264849"
      ]
     },
     "execution_count": 116,
     "metadata": {},
     "output_type": "execute_result"
    }
   ],
   "source": [
    "gradient_boost.score(x_train, y_train)"
   ]
  },
  {
   "cell_type": "code",
   "execution_count": 106,
   "metadata": {},
   "outputs": [
    {
     "data": {
      "text/plain": [
       "0.5387903384814807"
      ]
     },
     "execution_count": 106,
     "metadata": {},
     "output_type": "execute_result"
    }
   ],
   "source": [
    "gradient_boost.score(x_test, y_test)"
   ]
  },
  {
   "cell_type": "markdown",
   "metadata": {},
   "source": [
    "# Random Forest"
   ]
  },
  {
   "cell_type": "code",
   "execution_count": 159,
   "metadata": {},
   "outputs": [],
   "source": [
    "from sklearn.ensemble import RandomForestRegressor\n",
    "\n",
    "random_forest = RandomForestRegressor()"
   ]
  },
  {
   "cell_type": "code",
   "execution_count": 160,
   "metadata": {},
   "outputs": [
    {
     "data": {
      "text/plain": [
       "RandomForestRegressor(bootstrap=True, criterion='mse', max_depth=None,\n",
       "           max_features='auto', max_leaf_nodes=None,\n",
       "           min_impurity_decrease=0.0, min_impurity_split=None,\n",
       "           min_samples_leaf=1, min_samples_split=2,\n",
       "           min_weight_fraction_leaf=0.0, n_estimators=10, n_jobs=None,\n",
       "           oob_score=False, random_state=None, verbose=0, warm_start=False)"
      ]
     },
     "execution_count": 160,
     "metadata": {},
     "output_type": "execute_result"
    }
   ],
   "source": [
    "random_forest.fit(x_train,y_train)"
   ]
  },
  {
   "cell_type": "code",
   "execution_count": 161,
   "metadata": {},
   "outputs": [
    {
     "data": {
      "text/plain": [
       "0.9224297267261782"
      ]
     },
     "execution_count": 161,
     "metadata": {},
     "output_type": "execute_result"
    }
   ],
   "source": [
    "random_forest.score(x_train, y_train)"
   ]
  },
  {
   "cell_type": "code",
   "execution_count": 162,
   "metadata": {},
   "outputs": [
    {
     "data": {
      "text/plain": [
       "0.5481475414753452"
      ]
     },
     "execution_count": 162,
     "metadata": {},
     "output_type": "execute_result"
    }
   ],
   "source": [
    "random_forest.score(x_test,y_test)"
   ]
  },
  {
   "cell_type": "markdown",
   "metadata": {},
   "source": [
    "# Linear Regression"
   ]
  },
  {
   "cell_type": "code",
   "execution_count": 122,
   "metadata": {},
   "outputs": [],
   "source": [
    "from sklearn.linear_model import LinearRegression\n",
    "\n",
    "reg_lineal = LinearRegression()"
   ]
  },
  {
   "cell_type": "code",
   "execution_count": 123,
   "metadata": {},
   "outputs": [
    {
     "data": {
      "text/plain": [
       "LinearRegression(copy_X=True, fit_intercept=True, n_jobs=None,\n",
       "         normalize=False)"
      ]
     },
     "execution_count": 123,
     "metadata": {},
     "output_type": "execute_result"
    }
   ],
   "source": [
    "reg_lineal.fit(x_train,y_train)"
   ]
  },
  {
   "cell_type": "code",
   "execution_count": 124,
   "metadata": {},
   "outputs": [
    {
     "data": {
      "text/plain": [
       "0.11937957647891118"
      ]
     },
     "execution_count": 124,
     "metadata": {},
     "output_type": "execute_result"
    }
   ],
   "source": [
    "reg_lineal.score(x_train,y_train)"
   ]
  },
  {
   "cell_type": "code",
   "execution_count": 125,
   "metadata": {},
   "outputs": [
    {
     "data": {
      "text/plain": [
       "0.1095188343171216"
      ]
     },
     "execution_count": 125,
     "metadata": {},
     "output_type": "execute_result"
    }
   ],
   "source": [
    "reg_lineal.score(x_test,y_test)"
   ]
  },
  {
   "cell_type": "markdown",
   "metadata": {},
   "source": [
    "# Ada Boost"
   ]
  },
  {
   "cell_type": "code",
   "execution_count": 108,
   "metadata": {},
   "outputs": [],
   "source": [
    "from sklearn.ensemble import AdaBoostRegressor\n",
    "\n",
    "ada_boost = AdaBoostRegressor()"
   ]
  },
  {
   "cell_type": "code",
   "execution_count": 109,
   "metadata": {},
   "outputs": [
    {
     "data": {
      "text/plain": [
       "AdaBoostRegressor(base_estimator=None, learning_rate=1.0, loss='linear',\n",
       "         n_estimators=50, random_state=None)"
      ]
     },
     "execution_count": 109,
     "metadata": {},
     "output_type": "execute_result"
    }
   ],
   "source": [
    "ada_boost.fit(x_train,y_train)"
   ]
  },
  {
   "cell_type": "code",
   "execution_count": 118,
   "metadata": {},
   "outputs": [
    {
     "data": {
      "text/plain": [
       "0.4831970677736707"
      ]
     },
     "execution_count": 118,
     "metadata": {},
     "output_type": "execute_result"
    }
   ],
   "source": [
    "ada_boost.score(x_train, y_train)"
   ]
  },
  {
   "cell_type": "code",
   "execution_count": 110,
   "metadata": {},
   "outputs": [
    {
     "data": {
      "text/plain": [
       "0.4341614750164816"
      ]
     },
     "execution_count": 110,
     "metadata": {},
     "output_type": "execute_result"
    }
   ],
   "source": [
    "ada_boost.score(x_test,y_test)"
   ]
  },
  {
   "cell_type": "markdown",
   "metadata": {},
   "source": [
    "# Decision Tree"
   ]
  },
  {
   "cell_type": "code",
   "execution_count": 129,
   "metadata": {},
   "outputs": [],
   "source": [
    "from sklearn.tree import DecisionTreeRegressor\n",
    "\n",
    "arbol_dec = DecisionTreeRegressor()"
   ]
  },
  {
   "cell_type": "code",
   "execution_count": 130,
   "metadata": {},
   "outputs": [
    {
     "data": {
      "text/plain": [
       "DecisionTreeRegressor(criterion='mse', max_depth=None, max_features=None,\n",
       "           max_leaf_nodes=None, min_impurity_decrease=0.0,\n",
       "           min_impurity_split=None, min_samples_leaf=1,\n",
       "           min_samples_split=2, min_weight_fraction_leaf=0.0,\n",
       "           presort=False, random_state=None, splitter='best')"
      ]
     },
     "execution_count": 130,
     "metadata": {},
     "output_type": "execute_result"
    }
   ],
   "source": [
    "arbol_dec.fit(x_train,y_train)"
   ]
  },
  {
   "cell_type": "code",
   "execution_count": 131,
   "metadata": {},
   "outputs": [
    {
     "data": {
      "text/plain": [
       "1.0"
      ]
     },
     "execution_count": 131,
     "metadata": {},
     "output_type": "execute_result"
    }
   ],
   "source": [
    "arbol_dec.score(x_train,y_train)"
   ]
  },
  {
   "cell_type": "code",
   "execution_count": 132,
   "metadata": {},
   "outputs": [
    {
     "data": {
      "text/plain": [
       "0.29308073318366956"
      ]
     },
     "execution_count": 132,
     "metadata": {},
     "output_type": "execute_result"
    }
   ],
   "source": [
    "arbol_dec.score(x_test,y_test)"
   ]
  },
  {
   "cell_type": "code",
   "execution_count": 136,
   "metadata": {},
   "outputs": [
    {
     "data": {
      "text/html": [
       "<div>\n",
       "<style scoped>\n",
       "    .dataframe tbody tr th:only-of-type {\n",
       "        vertical-align: middle;\n",
       "    }\n",
       "\n",
       "    .dataframe tbody tr th {\n",
       "        vertical-align: top;\n",
       "    }\n",
       "\n",
       "    .dataframe thead th {\n",
       "        text-align: right;\n",
       "    }\n",
       "</style>\n",
       "<table border=\"1\" class=\"dataframe\">\n",
       "  <thead>\n",
       "    <tr style=\"text-align: right;\">\n",
       "      <th></th>\n",
       "      <th>importance</th>\n",
       "    </tr>\n",
       "  </thead>\n",
       "  <tbody>\n",
       "    <tr>\n",
       "      <th>cantidad_subastas_Thursday</th>\n",
       "      <td>0.379769</td>\n",
       "    </tr>\n",
       "    <tr>\n",
       "      <th>cantidad_de_subastas_en_ventana</th>\n",
       "      <td>0.203122</td>\n",
       "    </tr>\n",
       "    <tr>\n",
       "      <th>cantidad_subastas_Saturday</th>\n",
       "      <td>0.091398</td>\n",
       "    </tr>\n",
       "    <tr>\n",
       "      <th>cantidad_subastas_Friday</th>\n",
       "      <td>0.057565</td>\n",
       "    </tr>\n",
       "    <tr>\n",
       "      <th>cantidad_subastas_Sunday</th>\n",
       "      <td>0.024739</td>\n",
       "    </tr>\n",
       "    <tr>\n",
       "      <th>cantidad_subastas_Monday</th>\n",
       "      <td>0.023625</td>\n",
       "    </tr>\n",
       "    <tr>\n",
       "      <th>cantidad_subastas_Wednesday</th>\n",
       "      <td>0.016235</td>\n",
       "    </tr>\n",
       "    <tr>\n",
       "      <th>cantidad_subastas_Tuesday</th>\n",
       "      <td>0.015293</td>\n",
       "    </tr>\n",
       "    <tr>\n",
       "      <th>cantidad_de_eventos_en_ventana</th>\n",
       "      <td>0.013291</td>\n",
       "    </tr>\n",
       "    <tr>\n",
       "      <th>cantidad_eventos_Friday</th>\n",
       "      <td>0.011030</td>\n",
       "    </tr>\n",
       "  </tbody>\n",
       "</table>\n",
       "</div>"
      ],
      "text/plain": [
       "                                 importance\n",
       "cantidad_subastas_Thursday         0.379769\n",
       "cantidad_de_subastas_en_ventana    0.203122\n",
       "cantidad_subastas_Saturday         0.091398\n",
       "cantidad_subastas_Friday           0.057565\n",
       "cantidad_subastas_Sunday           0.024739\n",
       "cantidad_subastas_Monday           0.023625\n",
       "cantidad_subastas_Wednesday        0.016235\n",
       "cantidad_subastas_Tuesday          0.015293\n",
       "cantidad_de_eventos_en_ventana     0.013291\n",
       "cantidad_eventos_Friday            0.011030"
      ]
     },
     "execution_count": 136,
     "metadata": {},
     "output_type": "execute_result"
    }
   ],
   "source": [
    "feature_importances = pd.DataFrame(arbol_dec.feature_importances_,\n",
    "                                   index = x_train.columns,\n",
    "                                    columns=['importance']).sort_values('importance',ascending=False)\n",
    "feature_importances.head(10)"
   ]
  },
  {
   "cell_type": "markdown",
   "metadata": {},
   "source": [
    "# XGBoost"
   ]
  },
  {
   "cell_type": "code",
   "execution_count": 139,
   "metadata": {},
   "outputs": [],
   "source": [
    "from xgboost import XGBRegressor\n",
    "\n",
    "xgboost = XGBRegressor()"
   ]
  },
  {
   "cell_type": "code",
   "execution_count": 140,
   "metadata": {},
   "outputs": [
    {
     "name": "stdout",
     "output_type": "stream",
     "text": [
      "[03:17:32] WARNING: src/objective/regression_obj.cu:152: reg:linear is now deprecated in favor of reg:squarederror.\n"
     ]
    },
    {
     "data": {
      "text/plain": [
       "XGBRegressor(base_score=0.5, booster='gbtree', colsample_bylevel=1,\n",
       "       colsample_bynode=1, colsample_bytree=1, gamma=0,\n",
       "       importance_type='gain', learning_rate=0.1, max_delta_step=0,\n",
       "       max_depth=3, min_child_weight=1, missing=None, n_estimators=100,\n",
       "       n_jobs=1, nthread=None, objective='reg:linear', random_state=0,\n",
       "       reg_alpha=0, reg_lambda=1, scale_pos_weight=1, seed=None,\n",
       "       silent=None, subsample=1, verbosity=1)"
      ]
     },
     "execution_count": 140,
     "metadata": {},
     "output_type": "execute_result"
    }
   ],
   "source": [
    "xgboost.fit(x_train,y_train)"
   ]
  },
  {
   "cell_type": "code",
   "execution_count": 141,
   "metadata": {},
   "outputs": [
    {
     "data": {
      "text/plain": [
       "0.6631303454779043"
      ]
     },
     "execution_count": 141,
     "metadata": {},
     "output_type": "execute_result"
    }
   ],
   "source": [
    "xgboost.score(x_train,y_train)"
   ]
  },
  {
   "cell_type": "code",
   "execution_count": 142,
   "metadata": {},
   "outputs": [
    {
     "data": {
      "text/plain": [
       "0.5419874635560339"
      ]
     },
     "execution_count": 142,
     "metadata": {},
     "output_type": "execute_result"
    }
   ],
   "source": [
    "xgboost.score(x_test,y_test)"
   ]
  },
  {
   "cell_type": "code",
   "execution_count": null,
   "metadata": {},
   "outputs": [],
   "source": []
  }
 ],
 "metadata": {
  "kernelspec": {
   "display_name": "Python 3",
   "language": "python",
   "name": "python3"
  },
  "language_info": {
   "codemirror_mode": {
    "name": "ipython",
    "version": 3
   },
   "file_extension": ".py",
   "mimetype": "text/x-python",
   "name": "python",
   "nbconvert_exporter": "python",
   "pygments_lexer": "ipython3",
   "version": "3.7.3"
  }
 },
 "nbformat": 4,
 "nbformat_minor": 2
}
