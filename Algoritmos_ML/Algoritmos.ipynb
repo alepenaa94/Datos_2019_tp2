{
 "cells": [
  {
   "cell_type": "code",
   "execution_count": 15,
   "metadata": {},
   "outputs": [],
   "source": [
    "import pandas as pd\n",
    "import numpy as np\n",
    "import matplotlib.pyplot as plt\n",
    "import matplotlib.colors as clr\n",
    "import matplotlib.dates as md\n",
    "import seaborn as sns\n",
    "import datetime as datetime\n",
    "import numpy as np\n",
    "import os\n",
    "\n",
    "%matplotlib inline\n",
    "\n",
    "plt.style.use('default')\n",
    "\n",
    "sns.set(style=\"whitegrid\")\n",
    "\n",
    "import warnings \n",
    "warnings.filterwarnings('ignore')\n",
    "\n",
    "my_colors = plt.rcParams['axes.prop_cycle'].by_key()['color']"
   ]
  },
  {
   "cell_type": "code",
   "execution_count": 16,
   "metadata": {},
   "outputs": [],
   "source": [
    "#CORRER PRIMERO EL NOTEBOOK FEATURES PARA CREAR LOS CSV DE LABELS Y FEATURES\n",
    "\n",
    "labels = []\n",
    "features_por_ventana = []\n",
    "\n",
    "for i in range(0,7):\n",
    "    labels.append(pd.read_csv('labels_v'+str(i+1)+'.csv'))\n",
    "    labels[i].drop('Unnamed: 0',axis='columns',inplace=True)\n",
    "    features_por_ventana.append(pd.read_csv('features_v'+str(i+1)+'.csv'))\n",
    "    features_por_ventana[i].drop('Unnamed: 0',axis='columns',inplace=True)"
   ]
  },
  {
   "cell_type": "code",
   "execution_count": 17,
   "metadata": {},
   "outputs": [
    {
     "data": {
      "text/html": [
       "<div>\n",
       "<style scoped>\n",
       "    .dataframe tbody tr th:only-of-type {\n",
       "        vertical-align: middle;\n",
       "    }\n",
       "\n",
       "    .dataframe tbody tr th {\n",
       "        vertical-align: top;\n",
       "    }\n",
       "\n",
       "    .dataframe thead th {\n",
       "        text-align: right;\n",
       "    }\n",
       "</style>\n",
       "<table border=\"1\" class=\"dataframe\">\n",
       "  <thead>\n",
       "    <tr style=\"text-align: right;\">\n",
       "      <th></th>\n",
       "      <th>device_id</th>\n",
       "      <th>st</th>\n",
       "      <th>sc</th>\n",
       "    </tr>\n",
       "  </thead>\n",
       "  <tbody>\n",
       "    <tr>\n",
       "      <th>0</th>\n",
       "      <td>1826643666390887030</td>\n",
       "      <td>0.015050</td>\n",
       "      <td>259200.000</td>\n",
       "    </tr>\n",
       "    <tr>\n",
       "      <th>1</th>\n",
       "      <td>7037174172278258682</td>\n",
       "      <td>0.029014</td>\n",
       "      <td>259200.000</td>\n",
       "    </tr>\n",
       "    <tr>\n",
       "      <th>2</th>\n",
       "      <td>3392065368947589877</td>\n",
       "      <td>0.057540</td>\n",
       "      <td>259200.000</td>\n",
       "    </tr>\n",
       "    <tr>\n",
       "      <th>3</th>\n",
       "      <td>1228982273563226229</td>\n",
       "      <td>0.126828</td>\n",
       "      <td>259200.000</td>\n",
       "    </tr>\n",
       "    <tr>\n",
       "      <th>4</th>\n",
       "      <td>4123059034628125459</td>\n",
       "      <td>0.132510</td>\n",
       "      <td>17800.664</td>\n",
       "    </tr>\n",
       "  </tbody>\n",
       "</table>\n",
       "</div>"
      ],
      "text/plain": [
       "             device_id        st          sc\n",
       "0  1826643666390887030  0.015050  259200.000\n",
       "1  7037174172278258682  0.029014  259200.000\n",
       "2  3392065368947589877  0.057540  259200.000\n",
       "3  1228982273563226229  0.126828  259200.000\n",
       "4  4123059034628125459  0.132510   17800.664"
      ]
     },
     "execution_count": 17,
     "metadata": {},
     "output_type": "execute_result"
    }
   ],
   "source": [
    "labels[0].head()"
   ]
  },
  {
   "cell_type": "code",
   "execution_count": 18,
   "metadata": {},
   "outputs": [
    {
     "data": {
      "text/html": [
       "<div>\n",
       "<style scoped>\n",
       "    .dataframe tbody tr th:only-of-type {\n",
       "        vertical-align: middle;\n",
       "    }\n",
       "\n",
       "    .dataframe tbody tr th {\n",
       "        vertical-align: top;\n",
       "    }\n",
       "\n",
       "    .dataframe thead th {\n",
       "        text-align: right;\n",
       "    }\n",
       "</style>\n",
       "<table border=\"1\" class=\"dataframe\">\n",
       "  <thead>\n",
       "    <tr style=\"text-align: right;\">\n",
       "      <th></th>\n",
       "      <th>device_id</th>\n",
       "      <th>cantidad_de_subastas_en_ventana</th>\n",
       "      <th>cantidad_subastas_Monday</th>\n",
       "      <th>cantidad_subastas_Tuesday</th>\n",
       "      <th>cantidad_subastas_Wednesday</th>\n",
       "      <th>cantidad_subastas_Thursday</th>\n",
       "      <th>cantidad_subastas_Friday</th>\n",
       "      <th>cantidad_subastas_Saturday</th>\n",
       "      <th>cantidad_subastas_Sunday</th>\n",
       "      <th>cantidad_de_clicks_en_ventana</th>\n",
       "      <th>...</th>\n",
       "      <th>cantidad_eventos_hora_15</th>\n",
       "      <th>cantidad_eventos_hora_16</th>\n",
       "      <th>cantidad_eventos_hora_17</th>\n",
       "      <th>cantidad_eventos_hora_18</th>\n",
       "      <th>cantidad_eventos_hora_19</th>\n",
       "      <th>cantidad_eventos_hora_20</th>\n",
       "      <th>cantidad_eventos_hora_21</th>\n",
       "      <th>cantidad_eventos_hora_22</th>\n",
       "      <th>cantidad_eventos_hora_23</th>\n",
       "      <th>device_os_version</th>\n",
       "    </tr>\n",
       "  </thead>\n",
       "  <tbody>\n",
       "    <tr>\n",
       "      <th>0</th>\n",
       "      <td>41863526108385</td>\n",
       "      <td>35.0</td>\n",
       "      <td>0.0</td>\n",
       "      <td>0.0</td>\n",
       "      <td>0.0</td>\n",
       "      <td>0.0</td>\n",
       "      <td>1.0</td>\n",
       "      <td>34.0</td>\n",
       "      <td>0.0</td>\n",
       "      <td>0.0</td>\n",
       "      <td>...</td>\n",
       "      <td>0.0</td>\n",
       "      <td>0.0</td>\n",
       "      <td>0.0</td>\n",
       "      <td>0.0</td>\n",
       "      <td>0.0</td>\n",
       "      <td>0.0</td>\n",
       "      <td>24.0</td>\n",
       "      <td>0.0</td>\n",
       "      <td>0.0</td>\n",
       "      <td>0.0</td>\n",
       "    </tr>\n",
       "    <tr>\n",
       "      <th>1</th>\n",
       "      <td>135153013040192</td>\n",
       "      <td>8.0</td>\n",
       "      <td>0.0</td>\n",
       "      <td>0.0</td>\n",
       "      <td>0.0</td>\n",
       "      <td>0.0</td>\n",
       "      <td>0.0</td>\n",
       "      <td>8.0</td>\n",
       "      <td>0.0</td>\n",
       "      <td>0.0</td>\n",
       "      <td>...</td>\n",
       "      <td>0.0</td>\n",
       "      <td>0.0</td>\n",
       "      <td>0.0</td>\n",
       "      <td>0.0</td>\n",
       "      <td>0.0</td>\n",
       "      <td>0.0</td>\n",
       "      <td>0.0</td>\n",
       "      <td>0.0</td>\n",
       "      <td>0.0</td>\n",
       "      <td>0.0</td>\n",
       "    </tr>\n",
       "    <tr>\n",
       "      <th>2</th>\n",
       "      <td>161514654074162</td>\n",
       "      <td>6.0</td>\n",
       "      <td>0.0</td>\n",
       "      <td>0.0</td>\n",
       "      <td>0.0</td>\n",
       "      <td>6.0</td>\n",
       "      <td>0.0</td>\n",
       "      <td>0.0</td>\n",
       "      <td>0.0</td>\n",
       "      <td>0.0</td>\n",
       "      <td>...</td>\n",
       "      <td>0.0</td>\n",
       "      <td>0.0</td>\n",
       "      <td>8.0</td>\n",
       "      <td>0.0</td>\n",
       "      <td>0.0</td>\n",
       "      <td>0.0</td>\n",
       "      <td>0.0</td>\n",
       "      <td>0.0</td>\n",
       "      <td>0.0</td>\n",
       "      <td>0.0</td>\n",
       "    </tr>\n",
       "    <tr>\n",
       "      <th>3</th>\n",
       "      <td>181891380775191</td>\n",
       "      <td>1.0</td>\n",
       "      <td>0.0</td>\n",
       "      <td>0.0</td>\n",
       "      <td>0.0</td>\n",
       "      <td>0.0</td>\n",
       "      <td>0.0</td>\n",
       "      <td>1.0</td>\n",
       "      <td>0.0</td>\n",
       "      <td>0.0</td>\n",
       "      <td>...</td>\n",
       "      <td>0.0</td>\n",
       "      <td>0.0</td>\n",
       "      <td>0.0</td>\n",
       "      <td>0.0</td>\n",
       "      <td>0.0</td>\n",
       "      <td>0.0</td>\n",
       "      <td>0.0</td>\n",
       "      <td>0.0</td>\n",
       "      <td>0.0</td>\n",
       "      <td>0.0</td>\n",
       "    </tr>\n",
       "    <tr>\n",
       "      <th>4</th>\n",
       "      <td>186034136943920</td>\n",
       "      <td>7.0</td>\n",
       "      <td>0.0</td>\n",
       "      <td>0.0</td>\n",
       "      <td>0.0</td>\n",
       "      <td>2.0</td>\n",
       "      <td>0.0</td>\n",
       "      <td>5.0</td>\n",
       "      <td>0.0</td>\n",
       "      <td>0.0</td>\n",
       "      <td>...</td>\n",
       "      <td>0.0</td>\n",
       "      <td>13.0</td>\n",
       "      <td>0.0</td>\n",
       "      <td>0.0</td>\n",
       "      <td>0.0</td>\n",
       "      <td>0.0</td>\n",
       "      <td>0.0</td>\n",
       "      <td>0.0</td>\n",
       "      <td>0.0</td>\n",
       "      <td>0.0</td>\n",
       "    </tr>\n",
       "  </tbody>\n",
       "</table>\n",
       "<p>5 rows × 74 columns</p>\n",
       "</div>"
      ],
      "text/plain": [
       "         device_id  cantidad_de_subastas_en_ventana  cantidad_subastas_Monday  \\\n",
       "0   41863526108385                             35.0                       0.0   \n",
       "1  135153013040192                              8.0                       0.0   \n",
       "2  161514654074162                              6.0                       0.0   \n",
       "3  181891380775191                              1.0                       0.0   \n",
       "4  186034136943920                              7.0                       0.0   \n",
       "\n",
       "   cantidad_subastas_Tuesday  cantidad_subastas_Wednesday  \\\n",
       "0                        0.0                          0.0   \n",
       "1                        0.0                          0.0   \n",
       "2                        0.0                          0.0   \n",
       "3                        0.0                          0.0   \n",
       "4                        0.0                          0.0   \n",
       "\n",
       "   cantidad_subastas_Thursday  cantidad_subastas_Friday  \\\n",
       "0                         0.0                       1.0   \n",
       "1                         0.0                       0.0   \n",
       "2                         6.0                       0.0   \n",
       "3                         0.0                       0.0   \n",
       "4                         2.0                       0.0   \n",
       "\n",
       "   cantidad_subastas_Saturday  cantidad_subastas_Sunday  \\\n",
       "0                        34.0                       0.0   \n",
       "1                         8.0                       0.0   \n",
       "2                         0.0                       0.0   \n",
       "3                         1.0                       0.0   \n",
       "4                         5.0                       0.0   \n",
       "\n",
       "   cantidad_de_clicks_en_ventana        ...          cantidad_eventos_hora_15  \\\n",
       "0                            0.0        ...                               0.0   \n",
       "1                            0.0        ...                               0.0   \n",
       "2                            0.0        ...                               0.0   \n",
       "3                            0.0        ...                               0.0   \n",
       "4                            0.0        ...                               0.0   \n",
       "\n",
       "   cantidad_eventos_hora_16  cantidad_eventos_hora_17  \\\n",
       "0                       0.0                       0.0   \n",
       "1                       0.0                       0.0   \n",
       "2                       0.0                       8.0   \n",
       "3                       0.0                       0.0   \n",
       "4                      13.0                       0.0   \n",
       "\n",
       "   cantidad_eventos_hora_18  cantidad_eventos_hora_19  \\\n",
       "0                       0.0                       0.0   \n",
       "1                       0.0                       0.0   \n",
       "2                       0.0                       0.0   \n",
       "3                       0.0                       0.0   \n",
       "4                       0.0                       0.0   \n",
       "\n",
       "   cantidad_eventos_hora_20  cantidad_eventos_hora_21  \\\n",
       "0                       0.0                      24.0   \n",
       "1                       0.0                       0.0   \n",
       "2                       0.0                       0.0   \n",
       "3                       0.0                       0.0   \n",
       "4                       0.0                       0.0   \n",
       "\n",
       "   cantidad_eventos_hora_22  cantidad_eventos_hora_23  device_os_version  \n",
       "0                       0.0                       0.0                0.0  \n",
       "1                       0.0                       0.0                0.0  \n",
       "2                       0.0                       0.0                0.0  \n",
       "3                       0.0                       0.0                0.0  \n",
       "4                       0.0                       0.0                0.0  \n",
       "\n",
       "[5 rows x 74 columns]"
      ]
     },
     "execution_count": 18,
     "metadata": {},
     "output_type": "execute_result"
    }
   ],
   "source": [
    "features_por_ventana[0].head()"
   ]
  },
  {
   "cell_type": "markdown",
   "metadata": {},
   "source": [
    "# Label"
   ]
  },
  {
   "cell_type": "code",
   "execution_count": 150,
   "metadata": {},
   "outputs": [],
   "source": [
    "labels_b = []\n",
    "tiempo_maximo = 259200\n",
    "\n",
    "for i in range(0,7):\n",
    "    labels[i] = (labels[i].loc[labels[i]['device_id'].isin(features_por_ventana[i]['device_id'])])[['device_id','st','sc']]\n",
    "    labels[i]['binary'] = np.where(labels[i]['st']>=tiempo_maximo,False,True)\n",
    "    labels[i].sort_values(by='device_id',inplace=True)\n",
    "    labels_b.append(labels[i][['binary','st']].to_records(index=False))"
   ]
  },
  {
   "cell_type": "code",
   "execution_count": 67,
   "metadata": {},
   "outputs": [
    {
     "data": {
      "text/plain": [
       "rec.array([( True, 157228.465866), ( True, 187854.009137),\n",
       "           ( True,  10366.357746), ..., ( True,  50088.250389),\n",
       "           ( True,  81157.046477), ( True,   1081.247579)],\n",
       "          dtype=[('binary', '?'), ('st', '<f8')])"
      ]
     },
     "execution_count": 67,
     "metadata": {},
     "output_type": "execute_result"
    }
   ],
   "source": [
    "labels_b[0]"
   ]
  },
  {
   "cell_type": "markdown",
   "metadata": {},
   "source": [
    "# Se agrega chequeo para que los df_feautures cumplan condiciones en los algoritmos a ser usados"
   ]
  },
  {
   "cell_type": "code",
   "execution_count": 19,
   "metadata": {},
   "outputs": [],
   "source": [
    "for i in range(0,7):\n",
    "    if (features_por_ventana[i].shape[0] != labels[i].shape[0]):\n",
    "        raise AssertionError(\"Los df_features de cada ventana tienen que tener misma \\\n",
    "                cantidad de dispositivos(mismos device_id)\")"
   ]
  },
  {
   "cell_type": "markdown",
   "metadata": {},
   "source": [
    "# Algoritmo"
   ]
  },
  {
   "cell_type": "code",
   "execution_count": 20,
   "metadata": {},
   "outputs": [],
   "source": [
    "from sksurv.column import categorical_to_numeric\n",
    "for i in range(0,7):\n",
    "    features_por_ventana[i].replace([np.inf, -np.inf],0,inplace=True)\n",
    "    features_por_ventana[i]['tipo_evento'] = features_por_ventana[i]['tipo_evento'].astype('category')\n",
    "    features_por_ventana[i]['wifi'] = features_por_ventana[i]['wifi'].astype('category')\n",
    "    features_por_ventana[i]['kind'] = features_por_ventana[i]['kind'].astype('category')\n",
    "    features_por_ventana[i]['device_os_version'] = features_por_ventana[i]['device_os_version'].astype('category')\n",
    "    features_por_ventana[i]['prediccion_ventana_st_0'] = 0\n",
    "    features_por_ventana[i]['prediccion_ventana_st_1'] = 0\n",
    "    features_por_ventana[i]['prediccion_ventana_st_2'] = 0\n",
    "    features_por_ventana[i]['prediccion_ventana_st_3'] = 0\n",
    "    features_por_ventana[i]['prediccion_ventana_st_4'] = 0\n",
    "    features_por_ventana[i]['prediccion_ventana_st_5'] = 0\n",
    "    features_por_ventana[i]['prediccion_ventana_sc_0'] = 0\n",
    "    features_por_ventana[i]['prediccion_ventana_sc_1'] = 0\n",
    "    features_por_ventana[i]['prediccion_ventana_sc_2'] = 0\n",
    "    features_por_ventana[i]['prediccion_ventana_sc_3'] = 0\n",
    "    features_por_ventana[i]['prediccion_ventana_sc_4'] = 0\n",
    "    features_por_ventana[i]['prediccion_ventana_sc_5'] = 0\n",
    "    features_por_ventana[i] = categorical_to_numeric(features_por_ventana[i])\n",
    "    features_por_ventana[i].fillna(0,inplace=True)\n",
    "    \n",
    "    "
   ]
  },
  {
   "cell_type": "markdown",
   "metadata": {},
   "source": [
    "# GradientBoostingRegressor"
   ]
  },
  {
   "cell_type": "code",
   "execution_count": 21,
   "metadata": {},
   "outputs": [],
   "source": [
    "from sklearn.ensemble import GradientBoostingRegressor\n",
    "from sklearn.model_selection import train_test_split\n",
    "from sklearn.metrics import mean_squared_error\n",
    "\n",
    "gradient_boost_st = GradientBoostingRegressor()\n",
    "gradient_boost_sc = GradientBoostingRegressor()\n",
    "\n",
    "def root_mean_squared_error(y_test, predicted):\n",
    "    return (np.sqrt(mean_squared_error(y_test,predicted)))"
   ]
  },
  {
   "cell_type": "code",
   "execution_count": 22,
   "metadata": {},
   "outputs": [
    {
     "name": "stdout",
     "output_type": "stream",
     "text": [
      "2019-06-24 11:03:20.076712\n"
     ]
    }
   ],
   "source": [
    "print(datetime.datetime.now())"
   ]
  },
  {
   "cell_type": "code",
   "execution_count": 23,
   "metadata": {},
   "outputs": [],
   "source": [
    "score_st =[]\n",
    "score_sc =[]\n",
    "for i in range(0,4):\n",
    "\n",
    "    x_train = features_por_ventana[i].sort_values(by='device_id',ascending=True).drop('device_id',axis='columns')\n",
    "    labels_ventana_sorted = labels[i].sort_values(by='device_id',ascending=True)\n",
    "    y_train_st = labels_ventana_sorted['st']\n",
    "    y_train_sc = labels_ventana_sorted['sc']\n",
    "    x_test =  features_por_ventana[i+3].sort_values(by='device_id',ascending=True).drop('device_id',axis='columns')\n",
    "    labels_sig_ventana_sorted = labels[i+3].sort_values(by='device_id',ascending=True)\n",
    "    y_test_st = labels_sig_ventana_sorted['st']\n",
    "    y_test_sc = labels_sig_ventana_sorted['sc']\n",
    "    \n",
    "    gradient_boost_st.fit(x_train,y_train_st)\n",
    "    predicted_gb_st = gradient_boost_st.predict(x_test)\n",
    "    gradient_boost_sc.fit(x_train,y_train_sc)\n",
    "    predicted_gb_sc = gradient_boost_sc.predict(x_test)\n",
    "    \n",
    "    features_por_ventana[i+3]['prediccion_ventana_st_'+str(i)] = pd.Series(predicted_gb_st)\n",
    "    score_st.append(root_mean_squared_error(y_test_st,predicted_gb_st))\n",
    "    features_por_ventana[i+3]['prediccion_ventana_sc_'+str(i)] = pd.Series(predicted_gb_sc)\n",
    "    score_sc.append(root_mean_squared_error(y_test_sc,predicted_gb_sc))\n",
    "    "
   ]
  },
  {
   "cell_type": "code",
   "execution_count": 24,
   "metadata": {},
   "outputs": [
    {
     "name": "stdout",
     "output_type": "stream",
     "text": [
      "2019-06-24 11:17:23.255165\n"
     ]
    }
   ],
   "source": [
    "print(datetime.datetime.now())"
   ]
  },
  {
   "cell_type": "code",
   "execution_count": 25,
   "metadata": {},
   "outputs": [
    {
     "data": {
      "text/plain": [
       "[160144.7155420151, 148981.8855760605, 148686.23248387178, 131025.75986437846]"
      ]
     },
     "execution_count": 25,
     "metadata": {},
     "output_type": "execute_result"
    }
   ],
   "source": [
    "score_st"
   ]
  },
  {
   "cell_type": "code",
   "execution_count": 26,
   "metadata": {},
   "outputs": [
    {
     "data": {
      "text/plain": [
       "[160144.7155420151, 148981.8855760605, 148686.23248387178, 131025.75986437846]"
      ]
     },
     "execution_count": 26,
     "metadata": {},
     "output_type": "execute_result"
    }
   ],
   "source": [
    "score_st"
   ]
  },
  {
   "cell_type": "code",
   "execution_count": 27,
   "metadata": {},
   "outputs": [
    {
     "data": {
      "text/plain": [
       "[69531.86622879654, 71933.17591224518, 69836.63544906589, 82301.3397016576]"
      ]
     },
     "execution_count": 27,
     "metadata": {},
     "output_type": "execute_result"
    }
   ],
   "source": [
    "score_sc"
   ]
  },
  {
   "cell_type": "code",
   "execution_count": null,
   "metadata": {},
   "outputs": [],
   "source": []
  },
  {
   "cell_type": "code",
   "execution_count": 53,
   "metadata": {},
   "outputs": [
    {
     "data": {
      "text/plain": [
       "(400446, 86)"
      ]
     },
     "execution_count": 53,
     "metadata": {},
     "output_type": "execute_result"
    }
   ],
   "source": [
    "features_por_ventana[4].shape"
   ]
  },
  {
   "cell_type": "code",
   "execution_count": 70,
   "metadata": {},
   "outputs": [],
   "source": [
    "target = pd.read_csv('../Data/target_competencia_ids.csv')"
   ]
  },
  {
   "cell_type": "code",
   "execution_count": null,
   "metadata": {},
   "outputs": [],
   "source": []
  },
  {
   "cell_type": "code",
   "execution_count": 89,
   "metadata": {},
   "outputs": [],
   "source": [
    "target['device_id'] = (target['ref_hash'].str.split('_').str[0]).astype('int64')\n",
    "\n",
    "features_por_ventana[4] = pd.merge(features_por_ventana[4],\n",
    "                                  target[['device_id']].drop_duplicates(),\n",
    "                                  on='device_id',\n",
    "                                  how='outer').drop_duplicates()\n"
   ]
  },
  {
   "cell_type": "code",
   "execution_count": 90,
   "metadata": {},
   "outputs": [
    {
     "data": {
      "text/plain": [
       "(4037,)"
      ]
     },
     "execution_count": 90,
     "metadata": {},
     "output_type": "execute_result"
    }
   ],
   "source": [
    "features_por_ventana[4]['device_id'].shape"
   ]
  },
  {
   "cell_type": "code",
   "execution_count": 91,
   "metadata": {},
   "outputs": [
    {
     "data": {
      "text/plain": [
       "(4037, 1)"
      ]
     },
     "execution_count": 91,
     "metadata": {},
     "output_type": "execute_result"
    }
   ],
   "source": [
    "target[['device_id']].drop_duplicates().shape"
   ]
  },
  {
   "cell_type": "code",
   "execution_count": 92,
   "metadata": {},
   "outputs": [],
   "source": [
    "from sksurv.column import categorical_to_numeric\n",
    "i = 4\n",
    "features_por_ventana[i].replace([np.inf, -np.inf],0,inplace=True)\n",
    "features_por_ventana[i]['tipo_evento'] = features_por_ventana[i]['tipo_evento'].astype('category')\n",
    "features_por_ventana[i]['wifi'] = features_por_ventana[i]['wifi'].astype('category')\n",
    "features_por_ventana[i]['kind'] = features_por_ventana[i]['kind'].astype('category')\n",
    "features_por_ventana[i]['device_os_version'] = features_por_ventana[i]['device_os_version'].astype('category')\n",
    "features_por_ventana[i]['prediccion_ventana_st_0'] = 0\n",
    "features_por_ventana[i]['prediccion_ventana_st_1'] = 0\n",
    "features_por_ventana[i]['prediccion_ventana_st_2'] = 0\n",
    "features_por_ventana[i]['prediccion_ventana_st_3'] = 0\n",
    "features_por_ventana[i]['prediccion_ventana_st_4'] = 0\n",
    "features_por_ventana[i]['prediccion_ventana_st_5'] = 0\n",
    "features_por_ventana[i]['prediccion_ventana_sc_0'] = 0\n",
    "features_por_ventana[i]['prediccion_ventana_sc_1'] = 0\n",
    "features_por_ventana[i]['prediccion_ventana_sc_2'] = 0\n",
    "features_por_ventana[i]['prediccion_ventana_sc_3'] = 0\n",
    "features_por_ventana[i]['prediccion_ventana_sc_4'] = 0\n",
    "features_por_ventana[i]['prediccion_ventana_sc_5'] = 0\n",
    "features_por_ventana[i] = categorical_to_numeric(features_por_ventana[i])\n",
    "features_por_ventana[i].fillna(0,inplace=True)\n",
    "    \n",
    "    "
   ]
  },
  {
   "cell_type": "code",
   "execution_count": 93,
   "metadata": {},
   "outputs": [],
   "source": [
    "st = gradient_boost_st.predict(features_por_ventana[4].sort_values(by='device_id',ascending=True).drop('device_id',axis='columns'))"
   ]
  },
  {
   "cell_type": "code",
   "execution_count": 94,
   "metadata": {},
   "outputs": [],
   "source": [
    "sc = gradient_boost_sc.predict(features_por_ventana[4].sort_values(by='device_id',ascending=True).drop('device_id',axis='columns'))"
   ]
  },
  {
   "cell_type": "code",
   "execution_count": null,
   "metadata": {},
   "outputs": [],
   "source": []
  },
  {
   "cell_type": "code",
   "execution_count": 96,
   "metadata": {},
   "outputs": [],
   "source": [
    "df1 = pd.DataFrame(pd.Series(st))\n",
    "df1['ref_hash'] =  (features_por_ventana[4].sort_values(by='device_id',ascending=True)['device_id'])\n",
    "df1.columns=['obj','ref_hash']\n",
    "df1['ref_hash'] = df1['ref_hash'].astype('object')\n",
    "df1['ref_hash'] = [str(int(item))+'_st' for item in df1['ref_hash']]"
   ]
  },
  {
   "cell_type": "code",
   "execution_count": 97,
   "metadata": {
    "scrolled": true
   },
   "outputs": [],
   "source": [
    "df1.set_index('ref_hash').to_csv('prediction_st.csv')"
   ]
  },
  {
   "cell_type": "code",
   "execution_count": 98,
   "metadata": {},
   "outputs": [],
   "source": [
    "df2 = pd.DataFrame(pd.Series(sc))\n",
    "df2['ref_hash'] =  (features_por_ventana[4].sort_values(by='device_id',ascending=True)['device_id'])\n",
    "df2.columns=['obj','ref_hash']\n",
    "df2['ref_hash'] = df2['ref_hash'].astype('object')\n",
    "df2['ref_hash'] = [str(int(item))+'_sc' for item in df2['ref_hash']]"
   ]
  },
  {
   "cell_type": "code",
   "execution_count": 99,
   "metadata": {},
   "outputs": [],
   "source": [
    "df2.set_index('ref_hash').to_csv('prediction_sc.csv')"
   ]
  },
  {
   "cell_type": "code",
   "execution_count": 47,
   "metadata": {},
   "outputs": [
    {
     "data": {
      "text/html": [
       "<div>\n",
       "<style scoped>\n",
       "    .dataframe tbody tr th:only-of-type {\n",
       "        vertical-align: middle;\n",
       "    }\n",
       "\n",
       "    .dataframe tbody tr th {\n",
       "        vertical-align: top;\n",
       "    }\n",
       "\n",
       "    .dataframe thead th {\n",
       "        text-align: right;\n",
       "    }\n",
       "</style>\n",
       "<table border=\"1\" class=\"dataframe\">\n",
       "  <thead>\n",
       "    <tr style=\"text-align: right;\">\n",
       "      <th></th>\n",
       "      <th>obj</th>\n",
       "      <th>ref_hash</th>\n",
       "    </tr>\n",
       "  </thead>\n",
       "  <tbody>\n",
       "    <tr>\n",
       "      <th>0</th>\n",
       "      <td>190358.171375</td>\n",
       "      <td>40621409780134_sc</td>\n",
       "    </tr>\n",
       "    <tr>\n",
       "      <th>1</th>\n",
       "      <td>159208.586859</td>\n",
       "      <td>90072729247980_sc</td>\n",
       "    </tr>\n",
       "    <tr>\n",
       "      <th>2</th>\n",
       "      <td>112317.423683</td>\n",
       "      <td>161514654074162_sc</td>\n",
       "    </tr>\n",
       "    <tr>\n",
       "      <th>3</th>\n",
       "      <td>88747.400149</td>\n",
       "      <td>168103949904656_sc</td>\n",
       "    </tr>\n",
       "    <tr>\n",
       "      <th>4</th>\n",
       "      <td>192408.252285</td>\n",
       "      <td>186034136943920_sc</td>\n",
       "    </tr>\n",
       "    <tr>\n",
       "      <th>5</th>\n",
       "      <td>111291.788584</td>\n",
       "      <td>283297668933729_sc</td>\n",
       "    </tr>\n",
       "    <tr>\n",
       "      <th>6</th>\n",
       "      <td>175681.804236</td>\n",
       "      <td>345999128501141_sc</td>\n",
       "    </tr>\n",
       "    <tr>\n",
       "      <th>7</th>\n",
       "      <td>175392.967288</td>\n",
       "      <td>360710529886978_sc</td>\n",
       "    </tr>\n",
       "    <tr>\n",
       "      <th>8</th>\n",
       "      <td>175681.804236</td>\n",
       "      <td>416301579449694_sc</td>\n",
       "    </tr>\n",
       "    <tr>\n",
       "      <th>9</th>\n",
       "      <td>162459.000307</td>\n",
       "      <td>448610188195811_sc</td>\n",
       "    </tr>\n",
       "    <tr>\n",
       "      <th>10</th>\n",
       "      <td>160625.375723</td>\n",
       "      <td>456015810461357_sc</td>\n",
       "    </tr>\n",
       "    <tr>\n",
       "      <th>11</th>\n",
       "      <td>179300.964079</td>\n",
       "      <td>468235013311868_sc</td>\n",
       "    </tr>\n",
       "    <tr>\n",
       "      <th>12</th>\n",
       "      <td>175681.804236</td>\n",
       "      <td>473668258229864_sc</td>\n",
       "    </tr>\n",
       "    <tr>\n",
       "      <th>13</th>\n",
       "      <td>175681.804236</td>\n",
       "      <td>519199987760489_sc</td>\n",
       "    </tr>\n",
       "    <tr>\n",
       "      <th>14</th>\n",
       "      <td>175681.804236</td>\n",
       "      <td>526030445561483_sc</td>\n",
       "    </tr>\n",
       "    <tr>\n",
       "      <th>15</th>\n",
       "      <td>176794.353872</td>\n",
       "      <td>538200907470757_sc</td>\n",
       "    </tr>\n",
       "    <tr>\n",
       "      <th>16</th>\n",
       "      <td>180815.213886</td>\n",
       "      <td>622102439689666_sc</td>\n",
       "    </tr>\n",
       "    <tr>\n",
       "      <th>17</th>\n",
       "      <td>175681.804236</td>\n",
       "      <td>627959756577621_sc</td>\n",
       "    </tr>\n",
       "    <tr>\n",
       "      <th>18</th>\n",
       "      <td>180266.983077</td>\n",
       "      <td>642751118419841_sc</td>\n",
       "    </tr>\n",
       "    <tr>\n",
       "      <th>19</th>\n",
       "      <td>173564.871181</td>\n",
       "      <td>643594200494946_sc</td>\n",
       "    </tr>\n",
       "    <tr>\n",
       "      <th>20</th>\n",
       "      <td>175681.804236</td>\n",
       "      <td>645011308561636_sc</td>\n",
       "    </tr>\n",
       "    <tr>\n",
       "      <th>21</th>\n",
       "      <td>175681.804236</td>\n",
       "      <td>651957297814003_sc</td>\n",
       "    </tr>\n",
       "    <tr>\n",
       "      <th>22</th>\n",
       "      <td>175681.804236</td>\n",
       "      <td>686608884458246_sc</td>\n",
       "    </tr>\n",
       "    <tr>\n",
       "      <th>23</th>\n",
       "      <td>175681.804236</td>\n",
       "      <td>693609737448534_sc</td>\n",
       "    </tr>\n",
       "    <tr>\n",
       "      <th>24</th>\n",
       "      <td>175681.804236</td>\n",
       "      <td>717556230663455_sc</td>\n",
       "    </tr>\n",
       "    <tr>\n",
       "      <th>25</th>\n",
       "      <td>159201.895578</td>\n",
       "      <td>719819620272773_sc</td>\n",
       "    </tr>\n",
       "    <tr>\n",
       "      <th>26</th>\n",
       "      <td>107700.937202</td>\n",
       "      <td>732881181016646_sc</td>\n",
       "    </tr>\n",
       "    <tr>\n",
       "      <th>27</th>\n",
       "      <td>175681.804236</td>\n",
       "      <td>755296410475964_sc</td>\n",
       "    </tr>\n",
       "    <tr>\n",
       "      <th>28</th>\n",
       "      <td>96309.371368</td>\n",
       "      <td>799061852287939_sc</td>\n",
       "    </tr>\n",
       "    <tr>\n",
       "      <th>29</th>\n",
       "      <td>175681.804236</td>\n",
       "      <td>848739744907305_sc</td>\n",
       "    </tr>\n",
       "    <tr>\n",
       "      <th>...</th>\n",
       "      <td>...</td>\n",
       "      <td>...</td>\n",
       "    </tr>\n",
       "    <tr>\n",
       "      <th>396379</th>\n",
       "      <td>175681.804236</td>\n",
       "      <td>8939869801047365695_sc</td>\n",
       "    </tr>\n",
       "    <tr>\n",
       "      <th>396380</th>\n",
       "      <td>159233.236214</td>\n",
       "      <td>8944856036798445171_sc</td>\n",
       "    </tr>\n",
       "    <tr>\n",
       "      <th>396381</th>\n",
       "      <td>175681.804236</td>\n",
       "      <td>8949302680259157833_sc</td>\n",
       "    </tr>\n",
       "    <tr>\n",
       "      <th>396382</th>\n",
       "      <td>175681.804236</td>\n",
       "      <td>8955360223360071182_sc</td>\n",
       "    </tr>\n",
       "    <tr>\n",
       "      <th>396383</th>\n",
       "      <td>155044.023228</td>\n",
       "      <td>8963156963105164669_sc</td>\n",
       "    </tr>\n",
       "    <tr>\n",
       "      <th>396384</th>\n",
       "      <td>175681.804236</td>\n",
       "      <td>8963524456011135906_sc</td>\n",
       "    </tr>\n",
       "    <tr>\n",
       "      <th>396385</th>\n",
       "      <td>175681.804236</td>\n",
       "      <td>8979762036590628675_sc</td>\n",
       "    </tr>\n",
       "    <tr>\n",
       "      <th>396386</th>\n",
       "      <td>175681.804236</td>\n",
       "      <td>9014774857493485371_sc</td>\n",
       "    </tr>\n",
       "    <tr>\n",
       "      <th>396387</th>\n",
       "      <td>175681.804236</td>\n",
       "      <td>9019933572054651515_sc</td>\n",
       "    </tr>\n",
       "    <tr>\n",
       "      <th>396388</th>\n",
       "      <td>171143.259146</td>\n",
       "      <td>903252717477410588_sc</td>\n",
       "    </tr>\n",
       "    <tr>\n",
       "      <th>396389</th>\n",
       "      <td>175681.804236</td>\n",
       "      <td>9050325141114801708_sc</td>\n",
       "    </tr>\n",
       "    <tr>\n",
       "      <th>396390</th>\n",
       "      <td>178595.542567</td>\n",
       "      <td>9066948070456651597_sc</td>\n",
       "    </tr>\n",
       "    <tr>\n",
       "      <th>396391</th>\n",
       "      <td>101971.420682</td>\n",
       "      <td>908167070649666934_sc</td>\n",
       "    </tr>\n",
       "    <tr>\n",
       "      <th>396392</th>\n",
       "      <td>94934.652991</td>\n",
       "      <td>9085242785497456528_sc</td>\n",
       "    </tr>\n",
       "    <tr>\n",
       "      <th>396393</th>\n",
       "      <td>175681.804236</td>\n",
       "      <td>9104529887229099961_sc</td>\n",
       "    </tr>\n",
       "    <tr>\n",
       "      <th>396394</th>\n",
       "      <td>175681.804236</td>\n",
       "      <td>9111328558743942773_sc</td>\n",
       "    </tr>\n",
       "    <tr>\n",
       "      <th>396395</th>\n",
       "      <td>175681.804236</td>\n",
       "      <td>9118630733045711506_sc</td>\n",
       "    </tr>\n",
       "    <tr>\n",
       "      <th>396396</th>\n",
       "      <td>175681.804236</td>\n",
       "      <td>9119356578300559483_sc</td>\n",
       "    </tr>\n",
       "    <tr>\n",
       "      <th>396397</th>\n",
       "      <td>178981.830249</td>\n",
       "      <td>9140920919494391560_sc</td>\n",
       "    </tr>\n",
       "    <tr>\n",
       "      <th>396398</th>\n",
       "      <td>175681.804236</td>\n",
       "      <td>915907285474421971_sc</td>\n",
       "    </tr>\n",
       "    <tr>\n",
       "      <th>396399</th>\n",
       "      <td>175681.804236</td>\n",
       "      <td>9171510929255741927_sc</td>\n",
       "    </tr>\n",
       "    <tr>\n",
       "      <th>396400</th>\n",
       "      <td>175681.804236</td>\n",
       "      <td>9184649714736980131_sc</td>\n",
       "    </tr>\n",
       "    <tr>\n",
       "      <th>396401</th>\n",
       "      <td>175681.804236</td>\n",
       "      <td>9192601081645552835_sc</td>\n",
       "    </tr>\n",
       "    <tr>\n",
       "      <th>396402</th>\n",
       "      <td>159078.561246</td>\n",
       "      <td>9195689871539772280_sc</td>\n",
       "    </tr>\n",
       "    <tr>\n",
       "      <th>396403</th>\n",
       "      <td>178472.208235</td>\n",
       "      <td>9202591485087100048_sc</td>\n",
       "    </tr>\n",
       "    <tr>\n",
       "      <th>396404</th>\n",
       "      <td>175681.804236</td>\n",
       "      <td>9210211798524147977_sc</td>\n",
       "    </tr>\n",
       "    <tr>\n",
       "      <th>396405</th>\n",
       "      <td>175681.804236</td>\n",
       "      <td>9214306696431615228_sc</td>\n",
       "    </tr>\n",
       "    <tr>\n",
       "      <th>396406</th>\n",
       "      <td>175681.804236</td>\n",
       "      <td>926513304015298690_sc</td>\n",
       "    </tr>\n",
       "    <tr>\n",
       "      <th>396407</th>\n",
       "      <td>102207.166446</td>\n",
       "      <td>977508757724050464_sc</td>\n",
       "    </tr>\n",
       "    <tr>\n",
       "      <th>396408</th>\n",
       "      <td>175681.804236</td>\n",
       "      <td>979880031097032355_sc</td>\n",
       "    </tr>\n",
       "  </tbody>\n",
       "</table>\n",
       "<p>396409 rows × 2 columns</p>\n",
       "</div>"
      ],
      "text/plain": [
       "                  obj                ref_hash\n",
       "0       190358.171375       40621409780134_sc\n",
       "1       159208.586859       90072729247980_sc\n",
       "2       112317.423683      161514654074162_sc\n",
       "3        88747.400149      168103949904656_sc\n",
       "4       192408.252285      186034136943920_sc\n",
       "5       111291.788584      283297668933729_sc\n",
       "6       175681.804236      345999128501141_sc\n",
       "7       175392.967288      360710529886978_sc\n",
       "8       175681.804236      416301579449694_sc\n",
       "9       162459.000307      448610188195811_sc\n",
       "10      160625.375723      456015810461357_sc\n",
       "11      179300.964079      468235013311868_sc\n",
       "12      175681.804236      473668258229864_sc\n",
       "13      175681.804236      519199987760489_sc\n",
       "14      175681.804236      526030445561483_sc\n",
       "15      176794.353872      538200907470757_sc\n",
       "16      180815.213886      622102439689666_sc\n",
       "17      175681.804236      627959756577621_sc\n",
       "18      180266.983077      642751118419841_sc\n",
       "19      173564.871181      643594200494946_sc\n",
       "20      175681.804236      645011308561636_sc\n",
       "21      175681.804236      651957297814003_sc\n",
       "22      175681.804236      686608884458246_sc\n",
       "23      175681.804236      693609737448534_sc\n",
       "24      175681.804236      717556230663455_sc\n",
       "25      159201.895578      719819620272773_sc\n",
       "26      107700.937202      732881181016646_sc\n",
       "27      175681.804236      755296410475964_sc\n",
       "28       96309.371368      799061852287939_sc\n",
       "29      175681.804236      848739744907305_sc\n",
       "...               ...                     ...\n",
       "396379  175681.804236  8939869801047365695_sc\n",
       "396380  159233.236214  8944856036798445171_sc\n",
       "396381  175681.804236  8949302680259157833_sc\n",
       "396382  175681.804236  8955360223360071182_sc\n",
       "396383  155044.023228  8963156963105164669_sc\n",
       "396384  175681.804236  8963524456011135906_sc\n",
       "396385  175681.804236  8979762036590628675_sc\n",
       "396386  175681.804236  9014774857493485371_sc\n",
       "396387  175681.804236  9019933572054651515_sc\n",
       "396388  171143.259146   903252717477410588_sc\n",
       "396389  175681.804236  9050325141114801708_sc\n",
       "396390  178595.542567  9066948070456651597_sc\n",
       "396391  101971.420682   908167070649666934_sc\n",
       "396392   94934.652991  9085242785497456528_sc\n",
       "396393  175681.804236  9104529887229099961_sc\n",
       "396394  175681.804236  9111328558743942773_sc\n",
       "396395  175681.804236  9118630733045711506_sc\n",
       "396396  175681.804236  9119356578300559483_sc\n",
       "396397  178981.830249  9140920919494391560_sc\n",
       "396398  175681.804236   915907285474421971_sc\n",
       "396399  175681.804236  9171510929255741927_sc\n",
       "396400  175681.804236  9184649714736980131_sc\n",
       "396401  175681.804236  9192601081645552835_sc\n",
       "396402  159078.561246  9195689871539772280_sc\n",
       "396403  178472.208235  9202591485087100048_sc\n",
       "396404  175681.804236  9210211798524147977_sc\n",
       "396405  175681.804236  9214306696431615228_sc\n",
       "396406  175681.804236   926513304015298690_sc\n",
       "396407  102207.166446   977508757724050464_sc\n",
       "396408  175681.804236   979880031097032355_sc\n",
       "\n",
       "[396409 rows x 2 columns]"
      ]
     },
     "execution_count": 47,
     "metadata": {},
     "output_type": "execute_result"
    }
   ],
   "source": [
    "df2.set_index('ref_hash')"
   ]
  },
  {
   "cell_type": "code",
   "execution_count": 39,
   "metadata": {},
   "outputs": [
    {
     "data": {
      "text/html": [
       "<div>\n",
       "<style scoped>\n",
       "    .dataframe tbody tr th:only-of-type {\n",
       "        vertical-align: middle;\n",
       "    }\n",
       "\n",
       "    .dataframe tbody tr th {\n",
       "        vertical-align: top;\n",
       "    }\n",
       "\n",
       "    .dataframe thead th {\n",
       "        text-align: right;\n",
       "    }\n",
       "</style>\n",
       "<table border=\"1\" class=\"dataframe\">\n",
       "  <thead>\n",
       "    <tr style=\"text-align: right;\">\n",
       "      <th></th>\n",
       "      <th>obj_x</th>\n",
       "      <th>ref_hash</th>\n",
       "      <th>obj_y</th>\n",
       "    </tr>\n",
       "  </thead>\n",
       "  <tbody>\n",
       "    <tr>\n",
       "      <th>0</th>\n",
       "      <td>204769.377398</td>\n",
       "      <td>40621409780134_st</td>\n",
       "      <td>NaN</td>\n",
       "    </tr>\n",
       "    <tr>\n",
       "      <th>1</th>\n",
       "      <td>201740.329985</td>\n",
       "      <td>90072729247980_st</td>\n",
       "      <td>NaN</td>\n",
       "    </tr>\n",
       "    <tr>\n",
       "      <th>2</th>\n",
       "      <td>204180.714358</td>\n",
       "      <td>161514654074162_st</td>\n",
       "      <td>NaN</td>\n",
       "    </tr>\n",
       "    <tr>\n",
       "      <th>3</th>\n",
       "      <td>203308.704594</td>\n",
       "      <td>168103949904656_st</td>\n",
       "      <td>NaN</td>\n",
       "    </tr>\n",
       "    <tr>\n",
       "      <th>4</th>\n",
       "      <td>119949.478938</td>\n",
       "      <td>186034136943920_st</td>\n",
       "      <td>NaN</td>\n",
       "    </tr>\n",
       "  </tbody>\n",
       "</table>\n",
       "</div>"
      ],
      "text/plain": [
       "           obj_x            ref_hash  obj_y\n",
       "0  204769.377398   40621409780134_st    NaN\n",
       "1  201740.329985   90072729247980_st    NaN\n",
       "2  204180.714358  161514654074162_st    NaN\n",
       "3  203308.704594  168103949904656_st    NaN\n",
       "4  119949.478938  186034136943920_st    NaN"
      ]
     },
     "execution_count": 39,
     "metadata": {},
     "output_type": "execute_result"
    }
   ],
   "source": [
    "#--> revisar\n",
    "pd.merge(df1,df2,on='ref_hash',how='outer').head()"
   ]
  },
  {
   "cell_type": "code",
   "execution_count": 40,
   "metadata": {},
   "outputs": [],
   "source": [
    "labels[i].to_csv('prediction.csv')\n",
    "features_por_ventana[i].to_csv('features_v'+str(i+1)+'.csv')  "
   ]
  },
  {
   "cell_type": "code",
   "execution_count": null,
   "metadata": {},
   "outputs": [],
   "source": []
  },
  {
   "cell_type": "code",
   "execution_count": null,
   "metadata": {},
   "outputs": [],
   "source": []
  },
  {
   "cell_type": "code",
   "execution_count": null,
   "metadata": {},
   "outputs": [],
   "source": []
  },
  {
   "cell_type": "code",
   "execution_count": null,
   "metadata": {},
   "outputs": [],
   "source": []
  },
  {
   "cell_type": "code",
   "execution_count": null,
   "metadata": {},
   "outputs": [],
   "source": []
  },
  {
   "cell_type": "code",
   "execution_count": null,
   "metadata": {},
   "outputs": [],
   "source": []
  },
  {
   "cell_type": "code",
   "execution_count": null,
   "metadata": {},
   "outputs": [],
   "source": []
  },
  {
   "cell_type": "code",
   "execution_count": null,
   "metadata": {},
   "outputs": [],
   "source": []
  },
  {
   "cell_type": "code",
   "execution_count": null,
   "metadata": {},
   "outputs": [],
   "source": []
  },
  {
   "cell_type": "code",
   "execution_count": 12,
   "metadata": {},
   "outputs": [
    {
     "data": {
      "text/html": [
       "<div>\n",
       "<style scoped>\n",
       "    .dataframe tbody tr th:only-of-type {\n",
       "        vertical-align: middle;\n",
       "    }\n",
       "\n",
       "    .dataframe tbody tr th {\n",
       "        vertical-align: top;\n",
       "    }\n",
       "\n",
       "    .dataframe thead th {\n",
       "        text-align: right;\n",
       "    }\n",
       "</style>\n",
       "<table border=\"1\" class=\"dataframe\">\n",
       "  <thead>\n",
       "    <tr style=\"text-align: right;\">\n",
       "      <th></th>\n",
       "      <th>device_id</th>\n",
       "      <th>cantidad_de_subastas_en_ventana</th>\n",
       "      <th>cantidad_subastas_Monday</th>\n",
       "      <th>cantidad_subastas_Tuesday</th>\n",
       "      <th>cantidad_subastas_Wednesday</th>\n",
       "      <th>cantidad_subastas_Thursday</th>\n",
       "      <th>cantidad_subastas_Friday</th>\n",
       "      <th>cantidad_subastas_Saturday</th>\n",
       "      <th>cantidad_subastas_Sunday</th>\n",
       "      <th>cantidad_de_clicks_en_ventana</th>\n",
       "      <th>...</th>\n",
       "      <th>cantidad_eventos_hora_21</th>\n",
       "      <th>cantidad_eventos_hora_22</th>\n",
       "      <th>cantidad_eventos_hora_23</th>\n",
       "      <th>device_os_version</th>\n",
       "      <th>prediccion_ventana_0</th>\n",
       "      <th>prediccion_ventana_1</th>\n",
       "      <th>prediccion_ventana_2</th>\n",
       "      <th>prediccion_ventana_3</th>\n",
       "      <th>prediccion_ventana_4</th>\n",
       "      <th>prediccion_ventana_5</th>\n",
       "    </tr>\n",
       "  </thead>\n",
       "  <tbody>\n",
       "    <tr>\n",
       "      <th>0</th>\n",
       "      <td>41863526108385</td>\n",
       "      <td>35.0</td>\n",
       "      <td>0.0</td>\n",
       "      <td>0.0</td>\n",
       "      <td>0.0</td>\n",
       "      <td>0.0</td>\n",
       "      <td>1.0</td>\n",
       "      <td>34.0</td>\n",
       "      <td>0.0</td>\n",
       "      <td>0.0</td>\n",
       "      <td>...</td>\n",
       "      <td>24.0</td>\n",
       "      <td>0.0</td>\n",
       "      <td>0.0</td>\n",
       "      <td>0</td>\n",
       "      <td>0</td>\n",
       "      <td>0</td>\n",
       "      <td>0</td>\n",
       "      <td>0</td>\n",
       "      <td>0</td>\n",
       "      <td>0</td>\n",
       "    </tr>\n",
       "    <tr>\n",
       "      <th>1</th>\n",
       "      <td>135153013040192</td>\n",
       "      <td>8.0</td>\n",
       "      <td>0.0</td>\n",
       "      <td>0.0</td>\n",
       "      <td>0.0</td>\n",
       "      <td>0.0</td>\n",
       "      <td>0.0</td>\n",
       "      <td>8.0</td>\n",
       "      <td>0.0</td>\n",
       "      <td>0.0</td>\n",
       "      <td>...</td>\n",
       "      <td>0.0</td>\n",
       "      <td>0.0</td>\n",
       "      <td>0.0</td>\n",
       "      <td>0</td>\n",
       "      <td>0</td>\n",
       "      <td>0</td>\n",
       "      <td>0</td>\n",
       "      <td>0</td>\n",
       "      <td>0</td>\n",
       "      <td>0</td>\n",
       "    </tr>\n",
       "    <tr>\n",
       "      <th>2</th>\n",
       "      <td>161514654074162</td>\n",
       "      <td>6.0</td>\n",
       "      <td>0.0</td>\n",
       "      <td>0.0</td>\n",
       "      <td>0.0</td>\n",
       "      <td>6.0</td>\n",
       "      <td>0.0</td>\n",
       "      <td>0.0</td>\n",
       "      <td>0.0</td>\n",
       "      <td>0.0</td>\n",
       "      <td>...</td>\n",
       "      <td>0.0</td>\n",
       "      <td>0.0</td>\n",
       "      <td>0.0</td>\n",
       "      <td>0</td>\n",
       "      <td>0</td>\n",
       "      <td>0</td>\n",
       "      <td>0</td>\n",
       "      <td>0</td>\n",
       "      <td>0</td>\n",
       "      <td>0</td>\n",
       "    </tr>\n",
       "    <tr>\n",
       "      <th>3</th>\n",
       "      <td>181891380775191</td>\n",
       "      <td>1.0</td>\n",
       "      <td>0.0</td>\n",
       "      <td>0.0</td>\n",
       "      <td>0.0</td>\n",
       "      <td>0.0</td>\n",
       "      <td>0.0</td>\n",
       "      <td>1.0</td>\n",
       "      <td>0.0</td>\n",
       "      <td>0.0</td>\n",
       "      <td>...</td>\n",
       "      <td>0.0</td>\n",
       "      <td>0.0</td>\n",
       "      <td>0.0</td>\n",
       "      <td>0</td>\n",
       "      <td>0</td>\n",
       "      <td>0</td>\n",
       "      <td>0</td>\n",
       "      <td>0</td>\n",
       "      <td>0</td>\n",
       "      <td>0</td>\n",
       "    </tr>\n",
       "    <tr>\n",
       "      <th>4</th>\n",
       "      <td>186034136943920</td>\n",
       "      <td>7.0</td>\n",
       "      <td>0.0</td>\n",
       "      <td>0.0</td>\n",
       "      <td>0.0</td>\n",
       "      <td>2.0</td>\n",
       "      <td>0.0</td>\n",
       "      <td>5.0</td>\n",
       "      <td>0.0</td>\n",
       "      <td>0.0</td>\n",
       "      <td>...</td>\n",
       "      <td>0.0</td>\n",
       "      <td>0.0</td>\n",
       "      <td>0.0</td>\n",
       "      <td>0</td>\n",
       "      <td>0</td>\n",
       "      <td>0</td>\n",
       "      <td>0</td>\n",
       "      <td>0</td>\n",
       "      <td>0</td>\n",
       "      <td>0</td>\n",
       "    </tr>\n",
       "  </tbody>\n",
       "</table>\n",
       "<p>5 rows × 78 columns</p>\n",
       "</div>"
      ],
      "text/plain": [
       "         device_id  cantidad_de_subastas_en_ventana  cantidad_subastas_Monday  \\\n",
       "0   41863526108385                             35.0                       0.0   \n",
       "1  135153013040192                              8.0                       0.0   \n",
       "2  161514654074162                              6.0                       0.0   \n",
       "3  181891380775191                              1.0                       0.0   \n",
       "4  186034136943920                              7.0                       0.0   \n",
       "\n",
       "   cantidad_subastas_Tuesday  cantidad_subastas_Wednesday  \\\n",
       "0                        0.0                          0.0   \n",
       "1                        0.0                          0.0   \n",
       "2                        0.0                          0.0   \n",
       "3                        0.0                          0.0   \n",
       "4                        0.0                          0.0   \n",
       "\n",
       "   cantidad_subastas_Thursday  cantidad_subastas_Friday  \\\n",
       "0                         0.0                       1.0   \n",
       "1                         0.0                       0.0   \n",
       "2                         6.0                       0.0   \n",
       "3                         0.0                       0.0   \n",
       "4                         2.0                       0.0   \n",
       "\n",
       "   cantidad_subastas_Saturday  cantidad_subastas_Sunday  \\\n",
       "0                        34.0                       0.0   \n",
       "1                         8.0                       0.0   \n",
       "2                         0.0                       0.0   \n",
       "3                         1.0                       0.0   \n",
       "4                         5.0                       0.0   \n",
       "\n",
       "   cantidad_de_clicks_en_ventana          ...           \\\n",
       "0                            0.0          ...            \n",
       "1                            0.0          ...            \n",
       "2                            0.0          ...            \n",
       "3                            0.0          ...            \n",
       "4                            0.0          ...            \n",
       "\n",
       "   cantidad_eventos_hora_21  cantidad_eventos_hora_22  \\\n",
       "0                      24.0                       0.0   \n",
       "1                       0.0                       0.0   \n",
       "2                       0.0                       0.0   \n",
       "3                       0.0                       0.0   \n",
       "4                       0.0                       0.0   \n",
       "\n",
       "   cantidad_eventos_hora_23  device_os_version  prediccion_ventana_0  \\\n",
       "0                       0.0                  0                     0   \n",
       "1                       0.0                  0                     0   \n",
       "2                       0.0                  0                     0   \n",
       "3                       0.0                  0                     0   \n",
       "4                       0.0                  0                     0   \n",
       "\n",
       "   prediccion_ventana_1  prediccion_ventana_2  prediccion_ventana_3  \\\n",
       "0                     0                     0                     0   \n",
       "1                     0                     0                     0   \n",
       "2                     0                     0                     0   \n",
       "3                     0                     0                     0   \n",
       "4                     0                     0                     0   \n",
       "\n",
       "   prediccion_ventana_4  prediccion_ventana_5  \n",
       "0                     0                     0  \n",
       "1                     0                     0  \n",
       "2                     0                     0  \n",
       "3                     0                     0  \n",
       "4                     0                     0  \n",
       "\n",
       "[5 rows x 78 columns]"
      ]
     },
     "execution_count": 12,
     "metadata": {},
     "output_type": "execute_result"
    }
   ],
   "source": [
    "from sksurv.preprocessing import OneHotEncoder\n",
    "\n",
    "features_v1 = OneHotEncoder().fit_transform(features_por_ventana[0])\n",
    "features_v2 = OneHotEncoder().fit_transform(features_por_ventana[1])\n",
    "features_v1.head()"
   ]
  },
  {
   "cell_type": "markdown",
   "metadata": {},
   "source": [
    "# GradientBoostingSurvivalAnalysis"
   ]
  },
  {
   "cell_type": "code",
   "execution_count": null,
   "metadata": {},
   "outputs": [],
   "source": [
    "from sksurv.ensemble import GradientBoostingSurvivalAnalysis\n",
    "\n",
    "score = []\n",
    "for i in range(0,4):\n",
    "    model = GradientBoostingSurvivalAnalysis()\n",
    "    model.fit(features_por_ventana[i],labels_b[i])\n",
    "    #prediccion = model.predict(features_por_ventana[i+1])\n",
    "    #features_por_ventana[i+1]['prediccion_ventana_'+str(i)] = pd.Series(prediccion)\n",
    "    score.append( model.score(features_por_ventana[i+1], labels_b[i+1]) )"
   ]
  },
  {
   "cell_type": "code",
   "execution_count": null,
   "metadata": {},
   "outputs": [],
   "source": []
  },
  {
   "cell_type": "code",
   "execution_count": null,
   "metadata": {},
   "outputs": [],
   "source": [
    "from sksurv.ensemble import GradientBoostingSurvivalAnalysis\n",
    "\n",
    "model = GradientBoostingSurvivalAnalysis()"
   ]
  },
  {
   "cell_type": "code",
   "execution_count": null,
   "metadata": {},
   "outputs": [],
   "source": [
    "model.fit(features_v1.head(5000),labels_b[0][:5000])"
   ]
  },
  {
   "cell_type": "code",
   "execution_count": null,
   "metadata": {},
   "outputs": [],
   "source": [
    "model.score(features_v2.head(5000),labels_b[1][:5000])"
   ]
  },
  {
   "cell_type": "code",
   "execution_count": null,
   "metadata": {},
   "outputs": [],
   "source": []
  },
  {
   "cell_type": "code",
   "execution_count": null,
   "metadata": {},
   "outputs": [],
   "source": [
    "from sksurv.preprocessing import OneHotEncoder\n",
    "for i in range(0,5):\n",
    "    features_por_ventana[i] = OneHotEncoder().fit_transform(features_por_ventana[i])"
   ]
  },
  {
   "cell_type": "code",
   "execution_count": null,
   "metadata": {},
   "outputs": [],
   "source": []
  },
  {
   "cell_type": "code",
   "execution_count": null,
   "metadata": {},
   "outputs": [],
   "source": [
    "from sksurv.ensemble import GradientBoostingSurvivalAnalysis\n",
    "\n",
    "score = []\n",
    "for i in range(0,1):\n",
    "    model = GradientBoostingSurvivalAnalysis()\n",
    "    model.fit(features_por_ventana[i].head(5000),labels_b[i][:5000])\n",
    "    prediccion = model.predict(features_por_ventana[i+1].head(5000))\n",
    "    features_por_ventana[i+1]['prediccion_ventana_'+str(i)] = prediccion\n",
    "    score.append( model.score(features_por_ventana[i+1].head(5000), labels_b[i+1][:5000]) )\n",
    "    \n",
    "    \n",
    "    "
   ]
  },
  {
   "cell_type": "code",
   "execution_count": null,
   "metadata": {},
   "outputs": [],
   "source": []
  },
  {
   "cell_type": "code",
   "execution_count": null,
   "metadata": {},
   "outputs": [],
   "source": []
  },
  {
   "cell_type": "code",
   "execution_count": null,
   "metadata": {},
   "outputs": [],
   "source": [
    "from sksurv.linear_model import CoxPHSurvivalAnalysis\n",
    "\n",
    "estimator = CoxPHSurvivalAnalysis(alpha=0.0001)\n",
    "estimator.fit(features_v1.head(10000),labels_b[0][:10000])"
   ]
  },
  {
   "cell_type": "code",
   "execution_count": null,
   "metadata": {},
   "outputs": [],
   "source": [
    "pd.Series(estimator.coef_, index=features_v1.columns)"
   ]
  },
  {
   "cell_type": "markdown",
   "metadata": {},
   "source": [
    "#### El resultado es un vector de coeficientes, uno para cada variable, donde cada valor corresponde a la relación del registro y evento"
   ]
  },
  {
   "cell_type": "code",
   "execution_count": null,
   "metadata": {},
   "outputs": [],
   "source": [
    "estimator.score(features_v2.head(10000), labels_b[1][:10000])"
   ]
  },
  {
   "cell_type": "markdown",
   "metadata": {},
   "source": [
    "# Datasets split"
   ]
  },
  {
   "cell_type": "code",
   "execution_count": 13,
   "metadata": {},
   "outputs": [],
   "source": [
    "from sklearn.metrics import mean_squared_error\n",
    "\n",
    "def root_mean_squared_error(y_test, predicted):\n",
    "    return (np.sqrt(mean_squared_error(y_test,predicted)))"
   ]
  },
  {
   "cell_type": "code",
   "execution_count": 14,
   "metadata": {},
   "outputs": [
    {
     "data": {
      "text/html": [
       "<div>\n",
       "<style scoped>\n",
       "    .dataframe tbody tr th:only-of-type {\n",
       "        vertical-align: middle;\n",
       "    }\n",
       "\n",
       "    .dataframe tbody tr th {\n",
       "        vertical-align: top;\n",
       "    }\n",
       "\n",
       "    .dataframe thead th {\n",
       "        text-align: right;\n",
       "    }\n",
       "</style>\n",
       "<table border=\"1\" class=\"dataframe\">\n",
       "  <thead>\n",
       "    <tr style=\"text-align: right;\">\n",
       "      <th></th>\n",
       "      <th>device_id</th>\n",
       "      <th>st</th>\n",
       "      <th>binary</th>\n",
       "    </tr>\n",
       "  </thead>\n",
       "  <tbody>\n",
       "    <tr>\n",
       "      <th>257007</th>\n",
       "      <td>41863526108385</td>\n",
       "      <td>157228.465866</td>\n",
       "      <td>True</td>\n",
       "    </tr>\n",
       "    <tr>\n",
       "      <th>285766</th>\n",
       "      <td>135153013040192</td>\n",
       "      <td>187854.009137</td>\n",
       "      <td>True</td>\n",
       "    </tr>\n",
       "    <tr>\n",
       "      <th>70944</th>\n",
       "      <td>161514654074162</td>\n",
       "      <td>10366.357746</td>\n",
       "      <td>True</td>\n",
       "    </tr>\n",
       "    <tr>\n",
       "      <th>316713</th>\n",
       "      <td>181891380775191</td>\n",
       "      <td>256765.420614</td>\n",
       "      <td>True</td>\n",
       "    </tr>\n",
       "    <tr>\n",
       "      <th>155213</th>\n",
       "      <td>186034136943920</td>\n",
       "      <td>60166.331894</td>\n",
       "      <td>True</td>\n",
       "    </tr>\n",
       "  </tbody>\n",
       "</table>\n",
       "</div>"
      ],
      "text/plain": [
       "              device_id             st  binary\n",
       "257007   41863526108385  157228.465866    True\n",
       "285766  135153013040192  187854.009137    True\n",
       "70944   161514654074162   10366.357746    True\n",
       "316713  181891380775191  256765.420614    True\n",
       "155213  186034136943920   60166.331894    True"
      ]
     },
     "execution_count": 14,
     "metadata": {},
     "output_type": "execute_result"
    }
   ],
   "source": [
    "df = labels[0].sort_values(ascending=True,by='device_id').head(10000)\n",
    "df.head()"
   ]
  },
  {
   "cell_type": "code",
   "execution_count": 15,
   "metadata": {},
   "outputs": [
    {
     "data": {
      "text/html": [
       "<div>\n",
       "<style scoped>\n",
       "    .dataframe tbody tr th:only-of-type {\n",
       "        vertical-align: middle;\n",
       "    }\n",
       "\n",
       "    .dataframe tbody tr th {\n",
       "        vertical-align: top;\n",
       "    }\n",
       "\n",
       "    .dataframe thead th {\n",
       "        text-align: right;\n",
       "    }\n",
       "</style>\n",
       "<table border=\"1\" class=\"dataframe\">\n",
       "  <thead>\n",
       "    <tr style=\"text-align: right;\">\n",
       "      <th></th>\n",
       "      <th>device_id</th>\n",
       "      <th>cantidad_de_subastas_en_ventana</th>\n",
       "      <th>cantidad_subastas_Monday</th>\n",
       "      <th>cantidad_subastas_Tuesday</th>\n",
       "      <th>cantidad_subastas_Wednesday</th>\n",
       "      <th>cantidad_subastas_Thursday</th>\n",
       "      <th>cantidad_subastas_Friday</th>\n",
       "      <th>cantidad_subastas_Saturday</th>\n",
       "      <th>cantidad_subastas_Sunday</th>\n",
       "      <th>cantidad_de_clicks_en_ventana</th>\n",
       "      <th>...</th>\n",
       "      <th>cantidad_eventos_hora_21</th>\n",
       "      <th>cantidad_eventos_hora_22</th>\n",
       "      <th>cantidad_eventos_hora_23</th>\n",
       "      <th>device_os_version</th>\n",
       "      <th>prediccion_ventana_0</th>\n",
       "      <th>prediccion_ventana_1</th>\n",
       "      <th>prediccion_ventana_2</th>\n",
       "      <th>prediccion_ventana_3</th>\n",
       "      <th>prediccion_ventana_4</th>\n",
       "      <th>prediccion_ventana_5</th>\n",
       "    </tr>\n",
       "  </thead>\n",
       "  <tbody>\n",
       "    <tr>\n",
       "      <th>0</th>\n",
       "      <td>41863526108385</td>\n",
       "      <td>35.0</td>\n",
       "      <td>0.0</td>\n",
       "      <td>0.0</td>\n",
       "      <td>0.0</td>\n",
       "      <td>0.0</td>\n",
       "      <td>1.0</td>\n",
       "      <td>34.0</td>\n",
       "      <td>0.0</td>\n",
       "      <td>0.0</td>\n",
       "      <td>...</td>\n",
       "      <td>24.0</td>\n",
       "      <td>0.0</td>\n",
       "      <td>0.0</td>\n",
       "      <td>0</td>\n",
       "      <td>0</td>\n",
       "      <td>0</td>\n",
       "      <td>0</td>\n",
       "      <td>0</td>\n",
       "      <td>0</td>\n",
       "      <td>0</td>\n",
       "    </tr>\n",
       "    <tr>\n",
       "      <th>1</th>\n",
       "      <td>135153013040192</td>\n",
       "      <td>8.0</td>\n",
       "      <td>0.0</td>\n",
       "      <td>0.0</td>\n",
       "      <td>0.0</td>\n",
       "      <td>0.0</td>\n",
       "      <td>0.0</td>\n",
       "      <td>8.0</td>\n",
       "      <td>0.0</td>\n",
       "      <td>0.0</td>\n",
       "      <td>...</td>\n",
       "      <td>0.0</td>\n",
       "      <td>0.0</td>\n",
       "      <td>0.0</td>\n",
       "      <td>0</td>\n",
       "      <td>0</td>\n",
       "      <td>0</td>\n",
       "      <td>0</td>\n",
       "      <td>0</td>\n",
       "      <td>0</td>\n",
       "      <td>0</td>\n",
       "    </tr>\n",
       "    <tr>\n",
       "      <th>2</th>\n",
       "      <td>161514654074162</td>\n",
       "      <td>6.0</td>\n",
       "      <td>0.0</td>\n",
       "      <td>0.0</td>\n",
       "      <td>0.0</td>\n",
       "      <td>6.0</td>\n",
       "      <td>0.0</td>\n",
       "      <td>0.0</td>\n",
       "      <td>0.0</td>\n",
       "      <td>0.0</td>\n",
       "      <td>...</td>\n",
       "      <td>0.0</td>\n",
       "      <td>0.0</td>\n",
       "      <td>0.0</td>\n",
       "      <td>0</td>\n",
       "      <td>0</td>\n",
       "      <td>0</td>\n",
       "      <td>0</td>\n",
       "      <td>0</td>\n",
       "      <td>0</td>\n",
       "      <td>0</td>\n",
       "    </tr>\n",
       "    <tr>\n",
       "      <th>3</th>\n",
       "      <td>181891380775191</td>\n",
       "      <td>1.0</td>\n",
       "      <td>0.0</td>\n",
       "      <td>0.0</td>\n",
       "      <td>0.0</td>\n",
       "      <td>0.0</td>\n",
       "      <td>0.0</td>\n",
       "      <td>1.0</td>\n",
       "      <td>0.0</td>\n",
       "      <td>0.0</td>\n",
       "      <td>...</td>\n",
       "      <td>0.0</td>\n",
       "      <td>0.0</td>\n",
       "      <td>0.0</td>\n",
       "      <td>0</td>\n",
       "      <td>0</td>\n",
       "      <td>0</td>\n",
       "      <td>0</td>\n",
       "      <td>0</td>\n",
       "      <td>0</td>\n",
       "      <td>0</td>\n",
       "    </tr>\n",
       "    <tr>\n",
       "      <th>4</th>\n",
       "      <td>186034136943920</td>\n",
       "      <td>7.0</td>\n",
       "      <td>0.0</td>\n",
       "      <td>0.0</td>\n",
       "      <td>0.0</td>\n",
       "      <td>2.0</td>\n",
       "      <td>0.0</td>\n",
       "      <td>5.0</td>\n",
       "      <td>0.0</td>\n",
       "      <td>0.0</td>\n",
       "      <td>...</td>\n",
       "      <td>0.0</td>\n",
       "      <td>0.0</td>\n",
       "      <td>0.0</td>\n",
       "      <td>0</td>\n",
       "      <td>0</td>\n",
       "      <td>0</td>\n",
       "      <td>0</td>\n",
       "      <td>0</td>\n",
       "      <td>0</td>\n",
       "      <td>0</td>\n",
       "    </tr>\n",
       "  </tbody>\n",
       "</table>\n",
       "<p>5 rows × 78 columns</p>\n",
       "</div>"
      ],
      "text/plain": [
       "         device_id  cantidad_de_subastas_en_ventana  cantidad_subastas_Monday  \\\n",
       "0   41863526108385                             35.0                       0.0   \n",
       "1  135153013040192                              8.0                       0.0   \n",
       "2  161514654074162                              6.0                       0.0   \n",
       "3  181891380775191                              1.0                       0.0   \n",
       "4  186034136943920                              7.0                       0.0   \n",
       "\n",
       "   cantidad_subastas_Tuesday  cantidad_subastas_Wednesday  \\\n",
       "0                        0.0                          0.0   \n",
       "1                        0.0                          0.0   \n",
       "2                        0.0                          0.0   \n",
       "3                        0.0                          0.0   \n",
       "4                        0.0                          0.0   \n",
       "\n",
       "   cantidad_subastas_Thursday  cantidad_subastas_Friday  \\\n",
       "0                         0.0                       1.0   \n",
       "1                         0.0                       0.0   \n",
       "2                         6.0                       0.0   \n",
       "3                         0.0                       0.0   \n",
       "4                         2.0                       0.0   \n",
       "\n",
       "   cantidad_subastas_Saturday  cantidad_subastas_Sunday  \\\n",
       "0                        34.0                       0.0   \n",
       "1                         8.0                       0.0   \n",
       "2                         0.0                       0.0   \n",
       "3                         1.0                       0.0   \n",
       "4                         5.0                       0.0   \n",
       "\n",
       "   cantidad_de_clicks_en_ventana          ...           \\\n",
       "0                            0.0          ...            \n",
       "1                            0.0          ...            \n",
       "2                            0.0          ...            \n",
       "3                            0.0          ...            \n",
       "4                            0.0          ...            \n",
       "\n",
       "   cantidad_eventos_hora_21  cantidad_eventos_hora_22  \\\n",
       "0                      24.0                       0.0   \n",
       "1                       0.0                       0.0   \n",
       "2                       0.0                       0.0   \n",
       "3                       0.0                       0.0   \n",
       "4                       0.0                       0.0   \n",
       "\n",
       "   cantidad_eventos_hora_23  device_os_version  prediccion_ventana_0  \\\n",
       "0                       0.0                  0                     0   \n",
       "1                       0.0                  0                     0   \n",
       "2                       0.0                  0                     0   \n",
       "3                       0.0                  0                     0   \n",
       "4                       0.0                  0                     0   \n",
       "\n",
       "   prediccion_ventana_1  prediccion_ventana_2  prediccion_ventana_3  \\\n",
       "0                     0                     0                     0   \n",
       "1                     0                     0                     0   \n",
       "2                     0                     0                     0   \n",
       "3                     0                     0                     0   \n",
       "4                     0                     0                     0   \n",
       "\n",
       "   prediccion_ventana_4  prediccion_ventana_5  \n",
       "0                     0                     0  \n",
       "1                     0                     0  \n",
       "2                     0                     0  \n",
       "3                     0                     0  \n",
       "4                     0                     0  \n",
       "\n",
       "[5 rows x 78 columns]"
      ]
     },
     "execution_count": 15,
     "metadata": {},
     "output_type": "execute_result"
    }
   ],
   "source": [
    "df_feat = features_v1.sort_values(ascending=True,by='device_id').head(10000)\n",
    "df_feat.head()"
   ]
  },
  {
   "cell_type": "code",
   "execution_count": 16,
   "metadata": {},
   "outputs": [],
   "source": [
    "from sklearn.model_selection import train_test_split\n",
    "\n",
    "#TRAIN_TEST_SPLIT\n",
    "#Split arrays or matrices into random train and test subsets\n",
    "x_train, x_test, y_train, y_test = train_test_split(df_feat.drop(columns='device_id'),\n",
    "                                                    df['st'],\n",
    "                                                    test_size=0.2,\n",
    "                                                    random_state=43)"
   ]
  },
  {
   "cell_type": "markdown",
   "metadata": {},
   "source": [
    "# KNN"
   ]
  },
  {
   "cell_type": "code",
   "execution_count": 28,
   "metadata": {},
   "outputs": [
    {
     "data": {
      "text/plain": [
       "(73539.3725672565, 0.5393407379662112, 0.4116223190865531)"
      ]
     },
     "execution_count": 28,
     "metadata": {},
     "output_type": "execute_result"
    }
   ],
   "source": [
    "from sklearn.neighbors import KNeighborsRegressor\n",
    "from sklearn import metrics\n",
    "\n",
    "k=5 #-->Hiperparametro\n",
    "neigh = KNeighborsRegressor(n_neighbors = k ,    #Cantidad de vecinos a usar --> K hiperparametro.\n",
    "                            n_jobs=-1,           #Define la cantidad de procesadores a usar, -1 todos los disponibles.\n",
    "                            weights='distance',  #Se define el peso como la inversa a la distancia, los mas cercanos tienen mayor influencia.\n",
    "                            algorithm='brute'    #Fuerza bruta para el algorimo, podría ser KDTree o sino automatico.\n",
    "                           )\n",
    "#En weights se puede pasar una funcion definida por el usuario--> Segundo hiperparametro posible de KNN.\n",
    "neigh.fit(x_train,y_train) #Fit the model using X as training data and Y as target values\n",
    "(root_mean_squared_error(y_test, neigh.predict(x_test)), neigh.score(x_train,y_train),neigh.score(x_test,y_test))"
   ]
  },
  {
   "cell_type": "markdown",
   "metadata": {},
   "source": [
    "# Gradient Boosting"
   ]
  },
  {
   "cell_type": "code",
   "execution_count": 27,
   "metadata": {},
   "outputs": [
    {
     "data": {
      "text/plain": [
       "(24404.462550766973, 0.9372422830604865, 0.9352030080196484)"
      ]
     },
     "execution_count": 27,
     "metadata": {},
     "output_type": "execute_result"
    }
   ],
   "source": [
    "from sklearn.ensemble import GradientBoostingRegressor\n",
    "gradient_boost = GradientBoostingRegressor()\n",
    "gradient_boost.fit(x_train,y_train)\n",
    "(root_mean_squared_error(y_test, gradient_boost.predict(x_test)), gradient_boost.score(x_train,y_train),gradient_boost.score(x_test,y_test))"
   ]
  },
  {
   "cell_type": "markdown",
   "metadata": {},
   "source": [
    "### Gradient Boosting - GridSearch"
   ]
  },
  {
   "cell_type": "code",
   "execution_count": 63,
   "metadata": {},
   "outputs": [
    {
     "data": {
      "text/plain": [
       "({'learning_rate': 0.005, 'n_estimators': 1250}, 0.9335394614324747)"
      ]
     },
     "execution_count": 63,
     "metadata": {},
     "output_type": "execute_result"
    }
   ],
   "source": [
    "from sklearn.model_selection import GridSearchCV\n",
    "p_test1 = {'learning_rate':[0.15,0.1,0.05,0.01,0.005,0.001], 'n_estimators':[100,250,500,750,1000,1250,1500,1750]}\n",
    "\n",
    "tuning = GridSearchCV(estimator =GradientBoostingRegressor(), param_grid = p_test1)\n",
    "\n",
    "tuning.fit(df_feat.drop(columns='device_id'),df['st'])\n",
    "tuning.best_params_, tuning.best_score_"
   ]
  },
  {
   "cell_type": "code",
   "execution_count": 65,
   "metadata": {},
   "outputs": [
    {
     "data": {
      "text/plain": [
       "24429.581248523762"
      ]
     },
     "execution_count": 65,
     "metadata": {},
     "output_type": "execute_result"
    }
   ],
   "source": [
    "gradient_boost_2 = GradientBoostingRegressor(n_estimators= 1250, learning_rate=0.005)\n",
    "gradient_boost_2.fit(x_train,y_train)\n",
    "predicted_gb_2 = gradient_boost_2.predict(x_test)\n",
    "gradient_boost_2.score(x_train, y_train)\n",
    "root_mean_squared_error(y_test,predicted_gb_2)"
   ]
  },
  {
   "cell_type": "code",
   "execution_count": 67,
   "metadata": {},
   "outputs": [
    {
     "data": {
      "text/plain": [
       "0.9350695526174552"
      ]
     },
     "execution_count": 67,
     "metadata": {},
     "output_type": "execute_result"
    }
   ],
   "source": [
    "gradient_boost_2.score(x_test, y_test)\n",
    "#Baja"
   ]
  },
  {
   "cell_type": "code",
   "execution_count": 71,
   "metadata": {},
   "outputs": [
    {
     "data": {
      "text/plain": [
       "({'max_depth': 3}, 0.9338475449027231)"
      ]
     },
     "execution_count": 71,
     "metadata": {},
     "output_type": "execute_result"
    }
   ],
   "source": [
    "p_test2 = {'max_depth':[2,3,4,5,6,7]}\n",
    "tuning = GridSearchCV(estimator =GradientBoostingRegressor(), param_grid = p_test2)\n",
    "\n",
    "tuning.fit(df_feat.drop(columns='device_id'),df['st'])\n",
    "tuning.best_params_, tuning.best_score_"
   ]
  },
  {
   "cell_type": "code",
   "execution_count": 72,
   "metadata": {},
   "outputs": [
    {
     "data": {
      "text/plain": [
       "0.9351380720519836"
      ]
     },
     "execution_count": 72,
     "metadata": {},
     "output_type": "execute_result"
    }
   ],
   "source": [
    "gradient_boost_3 = GradientBoostingRegressor(max_depth= 3)\n",
    "gradient_boost_3.fit(x_train,y_train)\n",
    "gradient_boost_3.score(x_test, y_test)\n",
    "#baja"
   ]
  },
  {
   "cell_type": "code",
   "execution_count": 73,
   "metadata": {},
   "outputs": [
    {
     "data": {
      "text/plain": [
       "({'min_samples_leaf': 5, 'min_samples_split': 60}, 0.9339450691357554)"
      ]
     },
     "execution_count": 73,
     "metadata": {},
     "output_type": "execute_result"
    }
   ],
   "source": [
    "p_test3 = {'min_samples_split':[2,4,6,8,10,20,40,60,100], 'min_samples_leaf':[1,3,5,7,9] }\n",
    "\n",
    "tuning = GridSearchCV(estimator =GradientBoostingRegressor(), param_grid = p_test3)\n",
    "\n",
    "tuning.fit(df_feat.drop(columns='device_id'),df['st'])\n",
    "tuning.best_params_, tuning.best_score_"
   ]
  },
  {
   "cell_type": "code",
   "execution_count": 74,
   "metadata": {},
   "outputs": [
    {
     "data": {
      "text/plain": [
       "0.9350079834773051"
      ]
     },
     "execution_count": 74,
     "metadata": {},
     "output_type": "execute_result"
    }
   ],
   "source": [
    "gradient_boost_4 = GradientBoostingRegressor(min_samples_leaf= 5, min_samples_split= 60)\n",
    "gradient_boost_4.fit(x_train,y_train)\n",
    "gradient_boost_4.score(x_test, y_test)\n",
    "#Baja"
   ]
  },
  {
   "cell_type": "code",
   "execution_count": null,
   "metadata": {},
   "outputs": [],
   "source": []
  },
  {
   "cell_type": "markdown",
   "metadata": {},
   "source": [
    "# Random Forest"
   ]
  },
  {
   "cell_type": "code",
   "execution_count": 26,
   "metadata": {},
   "outputs": [
    {
     "data": {
      "text/plain": [
       "(26151.213795828015, 0.9637028642597366, 0.9255953544244009)"
      ]
     },
     "execution_count": 26,
     "metadata": {},
     "output_type": "execute_result"
    }
   ],
   "source": [
    "from sklearn.ensemble import RandomForestRegressor\n",
    "random_forest = RandomForestRegressor()\n",
    "random_forest.fit(x_train,y_train)\n",
    "(root_mean_squared_error(y_test, random_forest.predict(x_test)), random_forest.score(x_train,y_train),random_forest.score(x_test,y_test))"
   ]
  },
  {
   "cell_type": "markdown",
   "metadata": {},
   "source": [
    "# Linear Regression"
   ]
  },
  {
   "cell_type": "code",
   "execution_count": 25,
   "metadata": {},
   "outputs": [
    {
     "data": {
      "text/plain": [
       "(92393.60424428641, 0.06929584017408585, 0.07124713162299445)"
      ]
     },
     "execution_count": 25,
     "metadata": {},
     "output_type": "execute_result"
    }
   ],
   "source": [
    "from sklearn.linear_model import LinearRegression\n",
    "reg_lineal = LinearRegression()\n",
    "reg_lineal.fit(x_train,y_train)\n",
    "(root_mean_squared_error(y_test, reg_lineal.predict(x_test)), reg_lineal.score(x_train,y_train),reg_lineal.score(x_test,y_test))"
   ]
  },
  {
   "cell_type": "markdown",
   "metadata": {},
   "source": [
    "# Ada Boost"
   ]
  },
  {
   "cell_type": "code",
   "execution_count": 24,
   "metadata": {},
   "outputs": [
    {
     "data": {
      "text/plain": [
       "(24884.160947039603, 0.9321162772062425, 0.932630650636244)"
      ]
     },
     "execution_count": 24,
     "metadata": {},
     "output_type": "execute_result"
    }
   ],
   "source": [
    "from sklearn.ensemble import AdaBoostRegressor\n",
    "ada_boost = AdaBoostRegressor()\n",
    "ada_boost.fit(x_train,y_train)\n",
    "(root_mean_squared_error(y_test, ada_boost.predict(x_test)), ada_boost.score(x_train,y_train),ada_boost.score(x_test,y_test))"
   ]
  },
  {
   "cell_type": "markdown",
   "metadata": {},
   "source": [
    "# Decision Tree"
   ]
  },
  {
   "cell_type": "code",
   "execution_count": 51,
   "metadata": {},
   "outputs": [],
   "source": [
    "from sklearn.tree import DecisionTreeRegressor\n",
    "arbol_dec = DecisionTreeRegressor()\n",
    "arbol_dec.fit(x_train,y_train)\n",
    "(root_mean_squared_error(y_test, arbol_dec.predict(x_test)), arbol_dec.score(x_train,y_train),arbol_dec.score(x_test,y_test))"
   ]
  },
  {
   "cell_type": "markdown",
   "metadata": {},
   "source": [
    "### Feature importances"
   ]
  },
  {
   "cell_type": "code",
   "execution_count": 57,
   "metadata": {},
   "outputs": [
    {
     "data": {
      "text/html": [
       "<div>\n",
       "<style scoped>\n",
       "    .dataframe tbody tr th:only-of-type {\n",
       "        vertical-align: middle;\n",
       "    }\n",
       "\n",
       "    .dataframe tbody tr th {\n",
       "        vertical-align: top;\n",
       "    }\n",
       "\n",
       "    .dataframe thead th {\n",
       "        text-align: right;\n",
       "    }\n",
       "</style>\n",
       "<table border=\"1\" class=\"dataframe\">\n",
       "  <thead>\n",
       "    <tr style=\"text-align: right;\">\n",
       "      <th></th>\n",
       "      <th>importance</th>\n",
       "    </tr>\n",
       "  </thead>\n",
       "  <tbody>\n",
       "    <tr>\n",
       "      <th>cantidad_subastas_Thursday</th>\n",
       "      <td>0.778212</td>\n",
       "    </tr>\n",
       "    <tr>\n",
       "      <th>cantidad_subastas_Friday</th>\n",
       "      <td>0.173654</td>\n",
       "    </tr>\n",
       "    <tr>\n",
       "      <th>cantidad_subastas_Saturday</th>\n",
       "      <td>0.023967</td>\n",
       "    </tr>\n",
       "    <tr>\n",
       "      <th>cantidad_de_subastas_en_ventana</th>\n",
       "      <td>0.008015</td>\n",
       "    </tr>\n",
       "    <tr>\n",
       "      <th>cantidad_de_eventos_en_ventana</th>\n",
       "      <td>0.001236</td>\n",
       "    </tr>\n",
       "    <tr>\n",
       "      <th>aplicacion_mas_usada</th>\n",
       "      <td>0.001119</td>\n",
       "    </tr>\n",
       "    <tr>\n",
       "      <th>tipo_evento_mas_frec</th>\n",
       "      <td>0.001060</td>\n",
       "    </tr>\n",
       "    <tr>\n",
       "      <th>Porc_I-E</th>\n",
       "      <td>0.000908</td>\n",
       "    </tr>\n",
       "    <tr>\n",
       "      <th>cantidad_instalaciones_Thursday</th>\n",
       "      <td>0.000735</td>\n",
       "    </tr>\n",
       "    <tr>\n",
       "      <th>cantidad_eventos_Friday</th>\n",
       "      <td>0.000727</td>\n",
       "    </tr>\n",
       "  </tbody>\n",
       "</table>\n",
       "</div>"
      ],
      "text/plain": [
       "                                 importance\n",
       "cantidad_subastas_Thursday         0.778212\n",
       "cantidad_subastas_Friday           0.173654\n",
       "cantidad_subastas_Saturday         0.023967\n",
       "cantidad_de_subastas_en_ventana    0.008015\n",
       "cantidad_de_eventos_en_ventana     0.001236\n",
       "aplicacion_mas_usada               0.001119\n",
       "tipo_evento_mas_frec               0.001060\n",
       "Porc_I-E                           0.000908\n",
       "cantidad_instalaciones_Thursday    0.000735\n",
       "cantidad_eventos_Friday            0.000727"
      ]
     },
     "execution_count": 57,
     "metadata": {},
     "output_type": "execute_result"
    }
   ],
   "source": [
    "feature_importances = pd.DataFrame(arbol_dec.feature_importances_,\n",
    "                                   index = x_train.columns,\n",
    "                                    columns=['importance']).sort_values('importance',ascending=False)\n",
    "feature_importances.head(10)"
   ]
  },
  {
   "cell_type": "markdown",
   "metadata": {},
   "source": [
    "# ExtraTreeRegressor"
   ]
  },
  {
   "cell_type": "code",
   "execution_count": 23,
   "metadata": {},
   "outputs": [
    {
     "data": {
      "text/plain": [
       "0.8910753425261935"
      ]
     },
     "execution_count": 23,
     "metadata": {},
     "output_type": "execute_result"
    }
   ],
   "source": [
    "from sklearn.tree import ExtraTreeRegressor\n",
    "extra_tree = ExtraTreeRegressor()\n",
    "extra_tree.fit(x_train,y_train)\n",
    "extra_tree.score(x_test,y_test)"
   ]
  },
  {
   "cell_type": "markdown",
   "metadata": {},
   "source": [
    "# XGBoost"
   ]
  },
  {
   "cell_type": "code",
   "execution_count": 22,
   "metadata": {},
   "outputs": [
    {
     "name": "stdout",
     "output_type": "stream",
     "text": [
      "[18:56:10] WARNING: src/objective/regression_obj.cu:152: reg:linear is now deprecated in favor of reg:squarederror.\n"
     ]
    },
    {
     "data": {
      "text/plain": [
       "(24445.925918910216, 0.9370968849813937, 0.9349826398070178)"
      ]
     },
     "execution_count": 22,
     "metadata": {},
     "output_type": "execute_result"
    }
   ],
   "source": [
    "from xgboost import XGBRegressor\n",
    "xgboost = XGBRegressor()\n",
    "xgboost.fit(x_train,y_train)\n",
    "predicted_xg = xgboost.predict(x_test)\n",
    "(root_mean_squared_error(y_test,predicted_xg), xgboost.score(x_train,y_train), xgboost.score(x_test,y_test))"
   ]
  },
  {
   "cell_type": "markdown",
   "metadata": {},
   "source": [
    "### GridSearch"
   ]
  },
  {
   "cell_type": "code",
   "execution_count": null,
   "metadata": {},
   "outputs": [],
   "source": [
    "parameters_xgb = {\n",
    "        'num_boost_round': [100, 250, 500],\n",
    "        'eta': [0.05, 0.1, 0.3],\n",
    "        'max_depth': [6, 9, 12],\n",
    "        'subsample': [0.9, 1.0],\n",
    "        'colsample_bytree': [0.9, 1.0],\n",
    "}\n",
    "\n",
    "tuning_xgb = GridSearchCV(estimator = XGBRegressor(), param_grid = parameters_xgb)\n",
    "\n",
    "tuning_xgb.fit(df_feat.drop(columns='device_id'),df['st'])\n",
    "tuning_xgb.best_params_, tuning.best_score_"
   ]
  },
  {
   "cell_type": "markdown",
   "metadata": {},
   "source": [
    "# Majority Voting"
   ]
  },
  {
   "cell_type": "code",
   "execution_count": null,
   "metadata": {},
   "outputs": [],
   "source": [
    "from sklearn.ensemble import VotingRegressor\n",
    "from sklearn import model_selection\n",
    "#Jugando con cuales se usan se obtienen distintos resultados\n",
    "estimators = []\n",
    "estimators.append(('RandomForest',RandomForestRegressor()))\n",
    "#estimators.append(('DecisionTree', DecisionTreeRegressor()))\n",
    "estimators.append(('AdaBoost', AdaBoostRegressor()))\n",
    "#estimators.append(('LinearRegression',LinearRegression()))\n",
    "estimators.append(('XGBoost',XGBRegressor()))\n",
    "estimators.append(('GradientBoosting',GradientBoostingRegressor()))\n",
    "voting = VotingRegressor(estimators)\n",
    "voting.fit(x_train,y_train)\n",
    "(root_mean_squared_error(y_test, voting.predict(x_test)), voting.score(x_train,y_train),voting.score(x_test,y_test))"
   ]
  },
  {
   "cell_type": "markdown",
   "metadata": {},
   "source": [
    "# Bagging "
   ]
  },
  {
   "cell_type": "code",
   "execution_count": 20,
   "metadata": {},
   "outputs": [
    {
     "data": {
      "text/plain": [
       "(26283.321203105806, 0.9637006782608304, 0.9248417196319347)"
      ]
     },
     "execution_count": 20,
     "metadata": {},
     "output_type": "execute_result"
    }
   ],
   "source": [
    "from sklearn.ensemble import BaggingRegressor\n",
    "bagging = BaggingRegressor()\n",
    "bagging.fit(x_train,y_train)\n",
    "(root_mean_squared_error(y_test, bagging.predict(x_test)), bagging.score(x_train,y_train),bagging.score(x_test,y_test))"
   ]
  },
  {
   "cell_type": "markdown",
   "metadata": {},
   "source": [
    "# HistGradientBoostingRegressor"
   ]
  },
  {
   "cell_type": "code",
   "execution_count": 29,
   "metadata": {},
   "outputs": [
    {
     "ename": "KeyboardInterrupt",
     "evalue": "",
     "output_type": "error",
     "traceback": [
      "\u001b[0;31m---------------------------------------------------------------------------\u001b[0m",
      "\u001b[0;31mKeyboardInterrupt\u001b[0m                         Traceback (most recent call last)",
      "\u001b[0;32m<ipython-input-29-04e6fec5a7b5>\u001b[0m in \u001b[0;36m<module>\u001b[0;34m\u001b[0m\n\u001b[1;32m      3\u001b[0m \u001b[0;32mfrom\u001b[0m \u001b[0msklearn\u001b[0m\u001b[0;34m.\u001b[0m\u001b[0mensemble\u001b[0m \u001b[0;32mimport\u001b[0m \u001b[0mHistGradientBoostingRegressor\u001b[0m\u001b[0;34m\u001b[0m\u001b[0;34m\u001b[0m\u001b[0m\n\u001b[1;32m      4\u001b[0m \u001b[0mbagging\u001b[0m \u001b[0;34m=\u001b[0m \u001b[0mHistGradientBoostingRegressor\u001b[0m\u001b[0;34m(\u001b[0m\u001b[0;34m)\u001b[0m\u001b[0;34m\u001b[0m\u001b[0;34m\u001b[0m\u001b[0m\n\u001b[0;32m----> 5\u001b[0;31m \u001b[0mbagging\u001b[0m\u001b[0;34m.\u001b[0m\u001b[0mfit\u001b[0m\u001b[0;34m(\u001b[0m\u001b[0mx_train\u001b[0m\u001b[0;34m,\u001b[0m\u001b[0my_train\u001b[0m\u001b[0;34m)\u001b[0m\u001b[0;34m\u001b[0m\u001b[0;34m\u001b[0m\u001b[0m\n\u001b[0m\u001b[1;32m      6\u001b[0m \u001b[0;34m(\u001b[0m\u001b[0mroot_mean_squared_error\u001b[0m\u001b[0;34m(\u001b[0m\u001b[0my_test\u001b[0m\u001b[0;34m,\u001b[0m \u001b[0mbagging\u001b[0m\u001b[0;34m.\u001b[0m\u001b[0mpredict\u001b[0m\u001b[0;34m(\u001b[0m\u001b[0mx_test\u001b[0m\u001b[0;34m)\u001b[0m\u001b[0;34m)\u001b[0m\u001b[0;34m,\u001b[0m \u001b[0mbagging\u001b[0m\u001b[0;34m.\u001b[0m\u001b[0mscore\u001b[0m\u001b[0;34m(\u001b[0m\u001b[0mx_train\u001b[0m\u001b[0;34m,\u001b[0m\u001b[0my_train\u001b[0m\u001b[0;34m)\u001b[0m\u001b[0;34m,\u001b[0m\u001b[0mbagging\u001b[0m\u001b[0;34m.\u001b[0m\u001b[0mscore\u001b[0m\u001b[0;34m(\u001b[0m\u001b[0mx_test\u001b[0m\u001b[0;34m,\u001b[0m\u001b[0my_test\u001b[0m\u001b[0;34m)\u001b[0m\u001b[0;34m)\u001b[0m\u001b[0;34m\u001b[0m\u001b[0;34m\u001b[0m\u001b[0m\n",
      "\u001b[0;32m~/.local/lib/python3.7/site-packages/sklearn/ensemble/_hist_gradient_boosting/gradient_boosting.py\u001b[0m in \u001b[0;36mfit\u001b[0;34m(self, X, y)\u001b[0m\n\u001b[1;32m    256\u001b[0m                     \u001b[0ml2_regularization\u001b[0m\u001b[0;34m=\u001b[0m\u001b[0mself\u001b[0m\u001b[0;34m.\u001b[0m\u001b[0ml2_regularization\u001b[0m\u001b[0;34m,\u001b[0m\u001b[0;34m\u001b[0m\u001b[0;34m\u001b[0m\u001b[0m\n\u001b[1;32m    257\u001b[0m                     shrinkage=self.learning_rate)\n\u001b[0;32m--> 258\u001b[0;31m                 \u001b[0mgrower\u001b[0m\u001b[0;34m.\u001b[0m\u001b[0mgrow\u001b[0m\u001b[0;34m(\u001b[0m\u001b[0;34m)\u001b[0m\u001b[0;34m\u001b[0m\u001b[0;34m\u001b[0m\u001b[0m\n\u001b[0m\u001b[1;32m    259\u001b[0m \u001b[0;34m\u001b[0m\u001b[0m\n\u001b[1;32m    260\u001b[0m                 \u001b[0macc_apply_split_time\u001b[0m \u001b[0;34m+=\u001b[0m \u001b[0mgrower\u001b[0m\u001b[0;34m.\u001b[0m\u001b[0mtotal_apply_split_time\u001b[0m\u001b[0;34m\u001b[0m\u001b[0;34m\u001b[0m\u001b[0m\n",
      "\u001b[0;32m~/.local/lib/python3.7/site-packages/sklearn/ensemble/_hist_gradient_boosting/grower.py\u001b[0m in \u001b[0;36mgrow\u001b[0;34m(self)\u001b[0m\n\u001b[1;32m    233\u001b[0m         \u001b[0;34m\"\"\"Grow the tree, from root to leaves.\"\"\"\u001b[0m\u001b[0;34m\u001b[0m\u001b[0;34m\u001b[0m\u001b[0m\n\u001b[1;32m    234\u001b[0m         \u001b[0;32mwhile\u001b[0m \u001b[0mself\u001b[0m\u001b[0;34m.\u001b[0m\u001b[0msplittable_nodes\u001b[0m\u001b[0;34m:\u001b[0m\u001b[0;34m\u001b[0m\u001b[0;34m\u001b[0m\u001b[0m\n\u001b[0;32m--> 235\u001b[0;31m             \u001b[0mself\u001b[0m\u001b[0;34m.\u001b[0m\u001b[0msplit_next\u001b[0m\u001b[0;34m(\u001b[0m\u001b[0;34m)\u001b[0m\u001b[0;34m\u001b[0m\u001b[0;34m\u001b[0m\u001b[0m\n\u001b[0m\u001b[1;32m    236\u001b[0m \u001b[0;34m\u001b[0m\u001b[0m\n\u001b[1;32m    237\u001b[0m     \u001b[0;32mdef\u001b[0m \u001b[0m_intilialize_root\u001b[0m\u001b[0;34m(\u001b[0m\u001b[0mself\u001b[0m\u001b[0;34m,\u001b[0m \u001b[0mgradients\u001b[0m\u001b[0;34m,\u001b[0m \u001b[0mhessians\u001b[0m\u001b[0;34m,\u001b[0m \u001b[0mhessians_are_constant\u001b[0m\u001b[0;34m)\u001b[0m\u001b[0;34m:\u001b[0m\u001b[0;34m\u001b[0m\u001b[0;34m\u001b[0m\u001b[0m\n",
      "\u001b[0;32m~/.local/lib/python3.7/site-packages/sklearn/ensemble/_hist_gradient_boosting/grower.py\u001b[0m in \u001b[0;36msplit_next\u001b[0;34m(self)\u001b[0m\n\u001b[1;32m    301\u001b[0m          \u001b[0msample_indices_right\u001b[0m\u001b[0;34m,\u001b[0m\u001b[0;34m\u001b[0m\u001b[0;34m\u001b[0m\u001b[0m\n\u001b[1;32m    302\u001b[0m          \u001b[0mright_child_pos\u001b[0m\u001b[0;34m)\u001b[0m \u001b[0;34m=\u001b[0m \u001b[0mself\u001b[0m\u001b[0;34m.\u001b[0m\u001b[0msplitter\u001b[0m\u001b[0;34m.\u001b[0m\u001b[0msplit_indices\u001b[0m\u001b[0;34m(\u001b[0m\u001b[0mnode\u001b[0m\u001b[0;34m.\u001b[0m\u001b[0msplit_info\u001b[0m\u001b[0;34m,\u001b[0m\u001b[0;34m\u001b[0m\u001b[0;34m\u001b[0m\u001b[0m\n\u001b[0;32m--> 303\u001b[0;31m                                                         node.sample_indices)\n\u001b[0m\u001b[1;32m    304\u001b[0m         \u001b[0mself\u001b[0m\u001b[0;34m.\u001b[0m\u001b[0mtotal_apply_split_time\u001b[0m \u001b[0;34m+=\u001b[0m \u001b[0mtime\u001b[0m\u001b[0;34m(\u001b[0m\u001b[0;34m)\u001b[0m \u001b[0;34m-\u001b[0m \u001b[0mtic\u001b[0m\u001b[0;34m\u001b[0m\u001b[0;34m\u001b[0m\u001b[0m\n\u001b[1;32m    305\u001b[0m \u001b[0;34m\u001b[0m\u001b[0m\n",
      "\u001b[0;31mKeyboardInterrupt\u001b[0m: "
     ]
    }
   ],
   "source": [
    "#Este sirve para grandes cantidades de parametros\n",
    "from sklearn.experimental import enable_hist_gradient_boosting\n",
    "from sklearn.ensemble import HistGradientBoostingRegressor\n",
    "bagging = HistGradientBoostingRegressor()\n",
    "bagging.fit(x_train,y_train)\n",
    "(root_mean_squared_error(y_test, bagging.predict(x_test)), bagging.score(x_train,y_train),bagging.score(x_test,y_test))"
   ]
  },
  {
   "cell_type": "code",
   "execution_count": null,
   "metadata": {},
   "outputs": [],
   "source": []
  },
  {
   "cell_type": "code",
   "execution_count": null,
   "metadata": {},
   "outputs": [],
   "source": []
  },
  {
   "cell_type": "code",
   "execution_count": null,
   "metadata": {},
   "outputs": [],
   "source": []
  },
  {
   "cell_type": "code",
   "execution_count": 100,
   "metadata": {},
   "outputs": [],
   "source": [
    "prediction_st = pd.read_csv('prediction_st.csv')"
   ]
  },
  {
   "cell_type": "code",
   "execution_count": 101,
   "metadata": {},
   "outputs": [
    {
     "data": {
      "text/plain": [
       "(8074, 2)"
      ]
     },
     "execution_count": 101,
     "metadata": {},
     "output_type": "execute_result"
    }
   ],
   "source": [
    "prediction_st.shape"
   ]
  },
  {
   "cell_type": "code",
   "execution_count": null,
   "metadata": {},
   "outputs": [],
   "source": []
  }
 ],
 "metadata": {
  "kernelspec": {
   "display_name": "Python 3",
   "language": "python",
   "name": "python3"
  },
  "language_info": {
   "codemirror_mode": {
    "name": "ipython",
    "version": 3
   },
   "file_extension": ".py",
   "mimetype": "text/x-python",
   "name": "python",
   "nbconvert_exporter": "python",
   "pygments_lexer": "ipython3",
   "version": "3.7.1"
  }
 },
 "nbformat": 4,
 "nbformat_minor": 2
}
