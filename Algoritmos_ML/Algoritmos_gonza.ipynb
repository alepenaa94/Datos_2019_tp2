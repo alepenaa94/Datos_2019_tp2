{
 "cells": [
  {
   "cell_type": "code",
   "execution_count": 1,
   "metadata": {},
   "outputs": [],
   "source": [
    "import pandas as pd\n",
    "import numpy as np\n",
    "import matplotlib.pyplot as plt\n",
    "import matplotlib.colors as clr\n",
    "import matplotlib.dates as md\n",
    "import seaborn as sns\n",
    "import datetime as datetime\n",
    "import numpy as np\n",
    "import os\n",
    "\n",
    "%matplotlib inline\n",
    "\n",
    "plt.style.use('default')\n",
    "\n",
    "sns.set(style=\"whitegrid\")\n",
    "\n",
    "import warnings \n",
    "warnings.filterwarnings('ignore')\n",
    "\n",
    "my_colors = plt.rcParams['axes.prop_cycle'].by_key()['color']"
   ]
  },
  {
   "cell_type": "code",
   "execution_count": 2,
   "metadata": {},
   "outputs": [],
   "source": [
    "#CORRER PRIMERO EL NOTEBOOK FEATURES PARA CREAR LOS CSV DE LABELS Y FEATURES\n",
    "\n",
    "labels = []\n",
    "features_por_ventana = []\n",
    "\n",
    "for i in range(0,7):\n",
    "    labels.append(pd.read_csv('labels_v'+str(i+1)+'.csv'))\n",
    "    labels[i].drop('Unnamed: 0',axis='columns',inplace=True)\n",
    "    features_por_ventana.append(pd.read_csv('features_v'+str(i+1)+'.csv'))\n",
    "    features_por_ventana[i].drop('Unnamed: 0',axis='columns',inplace=True)"
   ]
  },
  {
   "cell_type": "code",
   "execution_count": 3,
   "metadata": {},
   "outputs": [
    {
     "data": {
      "text/html": [
       "<div>\n",
       "<style scoped>\n",
       "    .dataframe tbody tr th:only-of-type {\n",
       "        vertical-align: middle;\n",
       "    }\n",
       "\n",
       "    .dataframe tbody tr th {\n",
       "        vertical-align: top;\n",
       "    }\n",
       "\n",
       "    .dataframe thead th {\n",
       "        text-align: right;\n",
       "    }\n",
       "</style>\n",
       "<table border=\"1\" class=\"dataframe\">\n",
       "  <thead>\n",
       "    <tr style=\"text-align: right;\">\n",
       "      <th></th>\n",
       "      <th>device_id</th>\n",
       "      <th>st</th>\n",
       "      <th>sc</th>\n",
       "    </tr>\n",
       "  </thead>\n",
       "  <tbody>\n",
       "    <tr>\n",
       "      <th>0</th>\n",
       "      <td>1826643666390887030</td>\n",
       "      <td>0.015050</td>\n",
       "      <td>259200.000</td>\n",
       "    </tr>\n",
       "    <tr>\n",
       "      <th>1</th>\n",
       "      <td>7037174172278258682</td>\n",
       "      <td>0.029014</td>\n",
       "      <td>259200.000</td>\n",
       "    </tr>\n",
       "    <tr>\n",
       "      <th>2</th>\n",
       "      <td>3392065368947589877</td>\n",
       "      <td>0.057540</td>\n",
       "      <td>259200.000</td>\n",
       "    </tr>\n",
       "    <tr>\n",
       "      <th>3</th>\n",
       "      <td>1228982273563226229</td>\n",
       "      <td>0.126828</td>\n",
       "      <td>259200.000</td>\n",
       "    </tr>\n",
       "    <tr>\n",
       "      <th>4</th>\n",
       "      <td>4123059034628125459</td>\n",
       "      <td>0.132510</td>\n",
       "      <td>17800.664</td>\n",
       "    </tr>\n",
       "  </tbody>\n",
       "</table>\n",
       "</div>"
      ],
      "text/plain": [
       "             device_id        st          sc\n",
       "0  1826643666390887030  0.015050  259200.000\n",
       "1  7037174172278258682  0.029014  259200.000\n",
       "2  3392065368947589877  0.057540  259200.000\n",
       "3  1228982273563226229  0.126828  259200.000\n",
       "4  4123059034628125459  0.132510   17800.664"
      ]
     },
     "execution_count": 3,
     "metadata": {},
     "output_type": "execute_result"
    }
   ],
   "source": [
    "labels[0].head()"
   ]
  },
  {
   "cell_type": "code",
   "execution_count": 4,
   "metadata": {},
   "outputs": [
    {
     "data": {
      "text/html": [
       "<div>\n",
       "<style scoped>\n",
       "    .dataframe tbody tr th:only-of-type {\n",
       "        vertical-align: middle;\n",
       "    }\n",
       "\n",
       "    .dataframe tbody tr th {\n",
       "        vertical-align: top;\n",
       "    }\n",
       "\n",
       "    .dataframe thead th {\n",
       "        text-align: right;\n",
       "    }\n",
       "</style>\n",
       "<table border=\"1\" class=\"dataframe\">\n",
       "  <thead>\n",
       "    <tr style=\"text-align: right;\">\n",
       "      <th></th>\n",
       "      <th>device_id</th>\n",
       "      <th>cantidad_de_subastas_en_ventana</th>\n",
       "      <th>cantidad_de_clicks_en_ventana</th>\n",
       "      <th>tiempo_de_click_promedio</th>\n",
       "      <th>SUP_D</th>\n",
       "      <th>SUP_C</th>\n",
       "      <th>SUP_I</th>\n",
       "      <th>CENT_D</th>\n",
       "      <th>CENT_C</th>\n",
       "      <th>CENT_I</th>\n",
       "      <th>...</th>\n",
       "      <th>cantidad_de_instalaciones_en_ventana</th>\n",
       "      <th>wifi</th>\n",
       "      <th>kind</th>\n",
       "      <th>Porc_I-E</th>\n",
       "      <th>instalacion_open</th>\n",
       "      <th>cantidad_de_eventos_en_ventana</th>\n",
       "      <th>evento_mas_frecuente</th>\n",
       "      <th>aplicacion_mas_usada</th>\n",
       "      <th>tipo_evento</th>\n",
       "      <th>device_os_version</th>\n",
       "    </tr>\n",
       "  </thead>\n",
       "  <tbody>\n",
       "    <tr>\n",
       "      <th>0</th>\n",
       "      <td>41863526108385</td>\n",
       "      <td>35.0</td>\n",
       "      <td>0.0</td>\n",
       "      <td>0.0</td>\n",
       "      <td>0.0</td>\n",
       "      <td>0.0</td>\n",
       "      <td>0.0</td>\n",
       "      <td>0.0</td>\n",
       "      <td>0.0</td>\n",
       "      <td>0.0</td>\n",
       "      <td>...</td>\n",
       "      <td>4.0</td>\n",
       "      <td>Sin Wifi</td>\n",
       "      <td>NaN</td>\n",
       "      <td>0.04544</td>\n",
       "      <td>True</td>\n",
       "      <td>88.0</td>\n",
       "      <td>1.0</td>\n",
       "      <td>210.0</td>\n",
       "      <td>4.017674e+18</td>\n",
       "      <td>0.0</td>\n",
       "    </tr>\n",
       "    <tr>\n",
       "      <th>1</th>\n",
       "      <td>135153013040192</td>\n",
       "      <td>8.0</td>\n",
       "      <td>0.0</td>\n",
       "      <td>0.0</td>\n",
       "      <td>0.0</td>\n",
       "      <td>0.0</td>\n",
       "      <td>0.0</td>\n",
       "      <td>0.0</td>\n",
       "      <td>0.0</td>\n",
       "      <td>0.0</td>\n",
       "      <td>...</td>\n",
       "      <td>1.0</td>\n",
       "      <td>Sin Definir</td>\n",
       "      <td>NaN</td>\n",
       "      <td>0.00000</td>\n",
       "      <td>False</td>\n",
       "      <td>0.0</td>\n",
       "      <td>0.0</td>\n",
       "      <td>0.0</td>\n",
       "      <td>0.000000e+00</td>\n",
       "      <td>0.0</td>\n",
       "    </tr>\n",
       "    <tr>\n",
       "      <th>2</th>\n",
       "      <td>161514654074162</td>\n",
       "      <td>6.0</td>\n",
       "      <td>0.0</td>\n",
       "      <td>0.0</td>\n",
       "      <td>0.0</td>\n",
       "      <td>0.0</td>\n",
       "      <td>0.0</td>\n",
       "      <td>0.0</td>\n",
       "      <td>0.0</td>\n",
       "      <td>0.0</td>\n",
       "      <td>...</td>\n",
       "      <td>0.0</td>\n",
       "      <td>0</td>\n",
       "      <td>0</td>\n",
       "      <td>0.00000</td>\n",
       "      <td>0</td>\n",
       "      <td>8.0</td>\n",
       "      <td>23.0</td>\n",
       "      <td>121.0</td>\n",
       "      <td>6.081165e+18</td>\n",
       "      <td>0.0</td>\n",
       "    </tr>\n",
       "    <tr>\n",
       "      <th>3</th>\n",
       "      <td>181891380775191</td>\n",
       "      <td>1.0</td>\n",
       "      <td>0.0</td>\n",
       "      <td>0.0</td>\n",
       "      <td>0.0</td>\n",
       "      <td>0.0</td>\n",
       "      <td>0.0</td>\n",
       "      <td>0.0</td>\n",
       "      <td>0.0</td>\n",
       "      <td>0.0</td>\n",
       "      <td>...</td>\n",
       "      <td>0.0</td>\n",
       "      <td>0</td>\n",
       "      <td>0</td>\n",
       "      <td>0.00000</td>\n",
       "      <td>0</td>\n",
       "      <td>0.0</td>\n",
       "      <td>0.0</td>\n",
       "      <td>0.0</td>\n",
       "      <td>0.000000e+00</td>\n",
       "      <td>0.0</td>\n",
       "    </tr>\n",
       "    <tr>\n",
       "      <th>4</th>\n",
       "      <td>186034136943920</td>\n",
       "      <td>7.0</td>\n",
       "      <td>0.0</td>\n",
       "      <td>0.0</td>\n",
       "      <td>0.0</td>\n",
       "      <td>0.0</td>\n",
       "      <td>0.0</td>\n",
       "      <td>0.0</td>\n",
       "      <td>0.0</td>\n",
       "      <td>0.0</td>\n",
       "      <td>...</td>\n",
       "      <td>1.0</td>\n",
       "      <td>Sin Definir</td>\n",
       "      <td>list view</td>\n",
       "      <td>0.07690</td>\n",
       "      <td>False</td>\n",
       "      <td>13.0</td>\n",
       "      <td>1.0</td>\n",
       "      <td>210.0</td>\n",
       "      <td>4.017674e+18</td>\n",
       "      <td>0.0</td>\n",
       "    </tr>\n",
       "  </tbody>\n",
       "</table>\n",
       "<p>5 rows × 23 columns</p>\n",
       "</div>"
      ],
      "text/plain": [
       "         device_id  cantidad_de_subastas_en_ventana  \\\n",
       "0   41863526108385                             35.0   \n",
       "1  135153013040192                              8.0   \n",
       "2  161514654074162                              6.0   \n",
       "3  181891380775191                              1.0   \n",
       "4  186034136943920                              7.0   \n",
       "\n",
       "   cantidad_de_clicks_en_ventana  tiempo_de_click_promedio  SUP_D  SUP_C  \\\n",
       "0                            0.0                       0.0    0.0    0.0   \n",
       "1                            0.0                       0.0    0.0    0.0   \n",
       "2                            0.0                       0.0    0.0    0.0   \n",
       "3                            0.0                       0.0    0.0    0.0   \n",
       "4                            0.0                       0.0    0.0    0.0   \n",
       "\n",
       "   SUP_I  CENT_D  CENT_C  CENT_I        ...          \\\n",
       "0    0.0     0.0     0.0     0.0        ...           \n",
       "1    0.0     0.0     0.0     0.0        ...           \n",
       "2    0.0     0.0     0.0     0.0        ...           \n",
       "3    0.0     0.0     0.0     0.0        ...           \n",
       "4    0.0     0.0     0.0     0.0        ...           \n",
       "\n",
       "   cantidad_de_instalaciones_en_ventana         wifi       kind  Porc_I-E  \\\n",
       "0                                   4.0     Sin Wifi        NaN   0.04544   \n",
       "1                                   1.0  Sin Definir        NaN   0.00000   \n",
       "2                                   0.0            0          0   0.00000   \n",
       "3                                   0.0            0          0   0.00000   \n",
       "4                                   1.0  Sin Definir  list view   0.07690   \n",
       "\n",
       "  instalacion_open cantidad_de_eventos_en_ventana  evento_mas_frecuente  \\\n",
       "0             True                           88.0                   1.0   \n",
       "1            False                            0.0                   0.0   \n",
       "2                0                            8.0                  23.0   \n",
       "3                0                            0.0                   0.0   \n",
       "4            False                           13.0                   1.0   \n",
       "\n",
       "  aplicacion_mas_usada   tipo_evento  device_os_version  \n",
       "0                210.0  4.017674e+18                0.0  \n",
       "1                  0.0  0.000000e+00                0.0  \n",
       "2                121.0  6.081165e+18                0.0  \n",
       "3                  0.0  0.000000e+00                0.0  \n",
       "4                210.0  4.017674e+18                0.0  \n",
       "\n",
       "[5 rows x 23 columns]"
      ]
     },
     "execution_count": 4,
     "metadata": {},
     "output_type": "execute_result"
    }
   ],
   "source": [
    "features_por_ventana[0].head()"
   ]
  },
  {
   "cell_type": "markdown",
   "metadata": {},
   "source": [
    "# Algoritmos "
   ]
  },
  {
   "cell_type": "code",
   "execution_count": 6,
   "metadata": {},
   "outputs": [],
   "source": [
    "from sklearn.metrics import mean_squared_error\n",
    "\n",
    "def root_mean_squared_error(y_test, predicted):\n",
    "    return (np.sqrt(mean_squared_error(y_test,predicted)))"
   ]
  },
  {
   "cell_type": "code",
   "execution_count": 5,
   "metadata": {},
   "outputs": [],
   "source": [
    "from sksurv.column import categorical_to_numeric\n",
    "\n",
    "for i in range(0,7):\n",
    "    features_por_ventana[i].replace([np.inf, -np.inf],0,inplace=True)\n",
    "    features_por_ventana[i]['tipo_evento'] = features_por_ventana[i]['tipo_evento'].astype('category')\n",
    "    features_por_ventana[i]['wifi'] = features_por_ventana[i]['wifi'].astype('category')\n",
    "    features_por_ventana[i]['kind'] = features_por_ventana[i]['kind'].astype('category')\n",
    "    features_por_ventana[i]['device_os_version'] = features_por_ventana[i]['device_os_version'].astype('category')\n",
    "    features_por_ventana[i]['prediccion_ventana_st_0'] = 0\n",
    "    features_por_ventana[i]['prediccion_ventana_st_1'] = 0\n",
    "    features_por_ventana[i]['prediccion_ventana_st_2'] = 0\n",
    "    features_por_ventana[i]['prediccion_ventana_st_3'] = 0\n",
    "    features_por_ventana[i]['prediccion_ventana_st_4'] = 0\n",
    "    features_por_ventana[i]['prediccion_ventana_sc_0'] = 0\n",
    "    features_por_ventana[i]['prediccion_ventana_sc_1'] = 0\n",
    "    features_por_ventana[i]['prediccion_ventana_sc_2'] = 0\n",
    "    features_por_ventana[i]['prediccion_ventana_sc_3'] = 0\n",
    "    features_por_ventana[i]['prediccion_ventana_sc_4'] = 0\n",
    "    features_por_ventana[i] = categorical_to_numeric(features_por_ventana[i])\n",
    "    features_por_ventana[i].fillna(0,inplace=True)\n",
    "    \n",
    "    "
   ]
  },
  {
   "cell_type": "code",
   "execution_count": 14,
   "metadata": {},
   "outputs": [],
   "source": [
    "def prediccion_por_ventanas(algoritmo_st, algoritmo_sc, features_por_ventana, labels, cant_ventanas):\n",
    "    for i in range(cant_ventanas):\n",
    "        \n",
    "        print('Prediccion '+str(i+1))\n",
    "        \n",
    "        labels_ventana_sorted = labels[i].sort_values(by='device_id',ascending=True)\n",
    "        labels_sig_ventana_sorted = labels[i+3].sort_values(by='device_id',ascending=True)\n",
    "\n",
    "        x_train = features_por_ventana[i].sort_values(by='device_id',ascending=True).drop('device_id',axis='columns')\n",
    "        y_train_st = labels_ventana_sorted['st']\n",
    "        y_train_sc = labels_ventana_sorted['sc']\n",
    "        \n",
    "        x_test =  features_por_ventana[i+3].sort_values(by='device_id',ascending=True).drop('device_id',axis='columns')\n",
    "        y_test_st = labels_sig_ventana_sorted['st']\n",
    "        y_test_sc = labels_sig_ventana_sorted['sc']\n",
    "    \n",
    "        algoritmo_st.fit(x_train,y_train_st)\n",
    "        predicted_st = algoritmo_st.predict(x_test)\n",
    "        algoritmo_sc.fit(x_train,y_train_sc)\n",
    "        predicted_sc = algoritmo_sc.predict(x_test)\n",
    "        \n",
    "        print('Score ST: '+str(algoritmo_st.score(x_test,y_test_st)))\n",
    "        print('Score SC: '+str(algoritmo_sc.score(x_test,y_test_sc)))\n",
    "        print('Root Mean Squared ST: '+str(root_mean_squared_error(y_test_st,predicted_st)))\n",
    "        print('Root Mean Squared SC: '+str(root_mean_squared_error(y_test_st,predicted_sc)))\n",
    "    \n",
    "        features_por_ventana[i+3]['prediccion_ventana_st_'+str(i)] = pd.Series(predicted_st)\n",
    "        features_por_ventana[i+3]['prediccion_ventana_sc_'+str(i)] = pd.Series(predicted_sc)\n",
    "        \n",
    "    return    "
   ]
  },
  {
   "cell_type": "code",
   "execution_count": null,
   "metadata": {},
   "outputs": [],
   "source": []
  },
  {
   "cell_type": "markdown",
   "metadata": {},
   "source": [
    "# Survival Analysis"
   ]
  },
  {
   "cell_type": "markdown",
   "metadata": {},
   "source": [
    "## Label"
   ]
  },
  {
   "cell_type": "code",
   "execution_count": null,
   "metadata": {},
   "outputs": [],
   "source": [
    "labels_b = []\n",
    "tiempo_maximo = 259200\n",
    "\n",
    "for i in range(0,7):\n",
    "    labels[i] = (labels[i].loc[labels[i]['device_id'].isin(features_por_ventana[i]['device_id'])])[['device_id','st']]\n",
    "    labels[i]['binary'] = np.where(labels[i]['st']>=tiempo_maximo,False,True)\n",
    "    labels[i].sort_values(by='device_id',inplace=True)\n",
    "    labels_b.append(labels[i][['binary','st']].to_records(index=False))"
   ]
  },
  {
   "cell_type": "code",
   "execution_count": null,
   "metadata": {},
   "outputs": [],
   "source": [
    "labels_b[0]"
   ]
  },
  {
   "cell_type": "markdown",
   "metadata": {},
   "source": [
    "### Se agrega chequeo para que los df_feautures cumplan condiciones en los algoritmos a ser usados"
   ]
  },
  {
   "cell_type": "code",
   "execution_count": 4,
   "metadata": {},
   "outputs": [],
   "source": [
    "for i in range(0,7):\n",
    "    if (features_por_ventana[i].shape[0] != labels[i].shape[0]):\n",
    "        raise AssertionError(\"Los df_features de cada ventana tienen que tener misma \\\n",
    "                cantidad de dispositivos(mismos device_id)\")"
   ]
  },
  {
   "cell_type": "markdown",
   "metadata": {},
   "source": [
    "## GradientBoosting"
   ]
  },
  {
   "cell_type": "code",
   "execution_count": 12,
   "metadata": {},
   "outputs": [
    {
     "data": {
      "text/html": [
       "<div>\n",
       "<style scoped>\n",
       "    .dataframe tbody tr th:only-of-type {\n",
       "        vertical-align: middle;\n",
       "    }\n",
       "\n",
       "    .dataframe tbody tr th {\n",
       "        vertical-align: top;\n",
       "    }\n",
       "\n",
       "    .dataframe thead th {\n",
       "        text-align: right;\n",
       "    }\n",
       "</style>\n",
       "<table border=\"1\" class=\"dataframe\">\n",
       "  <thead>\n",
       "    <tr style=\"text-align: right;\">\n",
       "      <th></th>\n",
       "      <th>device_id</th>\n",
       "      <th>cantidad_de_subastas_en_ventana</th>\n",
       "      <th>cantidad_subastas_Monday</th>\n",
       "      <th>cantidad_subastas_Tuesday</th>\n",
       "      <th>cantidad_subastas_Wednesday</th>\n",
       "      <th>cantidad_subastas_Thursday</th>\n",
       "      <th>cantidad_subastas_Friday</th>\n",
       "      <th>cantidad_subastas_Saturday</th>\n",
       "      <th>cantidad_subastas_Sunday</th>\n",
       "      <th>cantidad_de_clicks_en_ventana</th>\n",
       "      <th>...</th>\n",
       "      <th>cantidad_eventos_hora_21</th>\n",
       "      <th>cantidad_eventos_hora_22</th>\n",
       "      <th>cantidad_eventos_hora_23</th>\n",
       "      <th>device_os_version</th>\n",
       "      <th>prediccion_ventana_0</th>\n",
       "      <th>prediccion_ventana_1</th>\n",
       "      <th>prediccion_ventana_2</th>\n",
       "      <th>prediccion_ventana_3</th>\n",
       "      <th>prediccion_ventana_4</th>\n",
       "      <th>prediccion_ventana_5</th>\n",
       "    </tr>\n",
       "  </thead>\n",
       "  <tbody>\n",
       "    <tr>\n",
       "      <th>0</th>\n",
       "      <td>41863526108385</td>\n",
       "      <td>35.0</td>\n",
       "      <td>0.0</td>\n",
       "      <td>0.0</td>\n",
       "      <td>0.0</td>\n",
       "      <td>0.0</td>\n",
       "      <td>1.0</td>\n",
       "      <td>34.0</td>\n",
       "      <td>0.0</td>\n",
       "      <td>0.0</td>\n",
       "      <td>...</td>\n",
       "      <td>24.0</td>\n",
       "      <td>0.0</td>\n",
       "      <td>0.0</td>\n",
       "      <td>0</td>\n",
       "      <td>0</td>\n",
       "      <td>0</td>\n",
       "      <td>0</td>\n",
       "      <td>0</td>\n",
       "      <td>0</td>\n",
       "      <td>0</td>\n",
       "    </tr>\n",
       "    <tr>\n",
       "      <th>1</th>\n",
       "      <td>135153013040192</td>\n",
       "      <td>8.0</td>\n",
       "      <td>0.0</td>\n",
       "      <td>0.0</td>\n",
       "      <td>0.0</td>\n",
       "      <td>0.0</td>\n",
       "      <td>0.0</td>\n",
       "      <td>8.0</td>\n",
       "      <td>0.0</td>\n",
       "      <td>0.0</td>\n",
       "      <td>...</td>\n",
       "      <td>0.0</td>\n",
       "      <td>0.0</td>\n",
       "      <td>0.0</td>\n",
       "      <td>0</td>\n",
       "      <td>0</td>\n",
       "      <td>0</td>\n",
       "      <td>0</td>\n",
       "      <td>0</td>\n",
       "      <td>0</td>\n",
       "      <td>0</td>\n",
       "    </tr>\n",
       "    <tr>\n",
       "      <th>2</th>\n",
       "      <td>161514654074162</td>\n",
       "      <td>6.0</td>\n",
       "      <td>0.0</td>\n",
       "      <td>0.0</td>\n",
       "      <td>0.0</td>\n",
       "      <td>6.0</td>\n",
       "      <td>0.0</td>\n",
       "      <td>0.0</td>\n",
       "      <td>0.0</td>\n",
       "      <td>0.0</td>\n",
       "      <td>...</td>\n",
       "      <td>0.0</td>\n",
       "      <td>0.0</td>\n",
       "      <td>0.0</td>\n",
       "      <td>0</td>\n",
       "      <td>0</td>\n",
       "      <td>0</td>\n",
       "      <td>0</td>\n",
       "      <td>0</td>\n",
       "      <td>0</td>\n",
       "      <td>0</td>\n",
       "    </tr>\n",
       "    <tr>\n",
       "      <th>3</th>\n",
       "      <td>181891380775191</td>\n",
       "      <td>1.0</td>\n",
       "      <td>0.0</td>\n",
       "      <td>0.0</td>\n",
       "      <td>0.0</td>\n",
       "      <td>0.0</td>\n",
       "      <td>0.0</td>\n",
       "      <td>1.0</td>\n",
       "      <td>0.0</td>\n",
       "      <td>0.0</td>\n",
       "      <td>...</td>\n",
       "      <td>0.0</td>\n",
       "      <td>0.0</td>\n",
       "      <td>0.0</td>\n",
       "      <td>0</td>\n",
       "      <td>0</td>\n",
       "      <td>0</td>\n",
       "      <td>0</td>\n",
       "      <td>0</td>\n",
       "      <td>0</td>\n",
       "      <td>0</td>\n",
       "    </tr>\n",
       "    <tr>\n",
       "      <th>4</th>\n",
       "      <td>186034136943920</td>\n",
       "      <td>7.0</td>\n",
       "      <td>0.0</td>\n",
       "      <td>0.0</td>\n",
       "      <td>0.0</td>\n",
       "      <td>2.0</td>\n",
       "      <td>0.0</td>\n",
       "      <td>5.0</td>\n",
       "      <td>0.0</td>\n",
       "      <td>0.0</td>\n",
       "      <td>...</td>\n",
       "      <td>0.0</td>\n",
       "      <td>0.0</td>\n",
       "      <td>0.0</td>\n",
       "      <td>0</td>\n",
       "      <td>0</td>\n",
       "      <td>0</td>\n",
       "      <td>0</td>\n",
       "      <td>0</td>\n",
       "      <td>0</td>\n",
       "      <td>0</td>\n",
       "    </tr>\n",
       "  </tbody>\n",
       "</table>\n",
       "<p>5 rows × 78 columns</p>\n",
       "</div>"
      ],
      "text/plain": [
       "         device_id  cantidad_de_subastas_en_ventana  cantidad_subastas_Monday  \\\n",
       "0   41863526108385                             35.0                       0.0   \n",
       "1  135153013040192                              8.0                       0.0   \n",
       "2  161514654074162                              6.0                       0.0   \n",
       "3  181891380775191                              1.0                       0.0   \n",
       "4  186034136943920                              7.0                       0.0   \n",
       "\n",
       "   cantidad_subastas_Tuesday  cantidad_subastas_Wednesday  \\\n",
       "0                        0.0                          0.0   \n",
       "1                        0.0                          0.0   \n",
       "2                        0.0                          0.0   \n",
       "3                        0.0                          0.0   \n",
       "4                        0.0                          0.0   \n",
       "\n",
       "   cantidad_subastas_Thursday  cantidad_subastas_Friday  \\\n",
       "0                         0.0                       1.0   \n",
       "1                         0.0                       0.0   \n",
       "2                         6.0                       0.0   \n",
       "3                         0.0                       0.0   \n",
       "4                         2.0                       0.0   \n",
       "\n",
       "   cantidad_subastas_Saturday  cantidad_subastas_Sunday  \\\n",
       "0                        34.0                       0.0   \n",
       "1                         8.0                       0.0   \n",
       "2                         0.0                       0.0   \n",
       "3                         1.0                       0.0   \n",
       "4                         5.0                       0.0   \n",
       "\n",
       "   cantidad_de_clicks_en_ventana          ...           \\\n",
       "0                            0.0          ...            \n",
       "1                            0.0          ...            \n",
       "2                            0.0          ...            \n",
       "3                            0.0          ...            \n",
       "4                            0.0          ...            \n",
       "\n",
       "   cantidad_eventos_hora_21  cantidad_eventos_hora_22  \\\n",
       "0                      24.0                       0.0   \n",
       "1                       0.0                       0.0   \n",
       "2                       0.0                       0.0   \n",
       "3                       0.0                       0.0   \n",
       "4                       0.0                       0.0   \n",
       "\n",
       "   cantidad_eventos_hora_23  device_os_version  prediccion_ventana_0  \\\n",
       "0                       0.0                  0                     0   \n",
       "1                       0.0                  0                     0   \n",
       "2                       0.0                  0                     0   \n",
       "3                       0.0                  0                     0   \n",
       "4                       0.0                  0                     0   \n",
       "\n",
       "   prediccion_ventana_1  prediccion_ventana_2  prediccion_ventana_3  \\\n",
       "0                     0                     0                     0   \n",
       "1                     0                     0                     0   \n",
       "2                     0                     0                     0   \n",
       "3                     0                     0                     0   \n",
       "4                     0                     0                     0   \n",
       "\n",
       "   prediccion_ventana_4  prediccion_ventana_5  \n",
       "0                     0                     0  \n",
       "1                     0                     0  \n",
       "2                     0                     0  \n",
       "3                     0                     0  \n",
       "4                     0                     0  \n",
       "\n",
       "[5 rows x 78 columns]"
      ]
     },
     "execution_count": 12,
     "metadata": {},
     "output_type": "execute_result"
    }
   ],
   "source": [
    "from sksurv.preprocessing import OneHotEncoder\n",
    "\n",
    "features_v1 = OneHotEncoder().fit_transform(features_por_ventana[0])\n",
    "features_v2 = OneHotEncoder().fit_transform(features_por_ventana[1])\n",
    "features_v1.head()"
   ]
  },
  {
   "cell_type": "code",
   "execution_count": null,
   "metadata": {},
   "outputs": [],
   "source": [
    "from sksurv.ensemble import GradientBoostingSurvivalAnalysis\n",
    "\n",
    "score = []\n",
    "for i in range(0,4):\n",
    "    model = GradientBoostingSurvivalAnalysis()\n",
    "    model.fit(features_por_ventana[i],labels_b[i])\n",
    "    #prediccion = model.predict(features_por_ventana[i+1])\n",
    "    #features_por_ventana[i+1]['prediccion_ventana_'+str(i)] = pd.Series(prediccion)\n",
    "    score.append( model.score(features_por_ventana[i+1], labels_b[i+1]) )"
   ]
  },
  {
   "cell_type": "code",
   "execution_count": null,
   "metadata": {},
   "outputs": [],
   "source": [
    "from sksurv.ensemble import GradientBoostingSurvivalAnalysis\n",
    "\n",
    "model = GradientBoostingSurvivalAnalysis()"
   ]
  },
  {
   "cell_type": "code",
   "execution_count": null,
   "metadata": {},
   "outputs": [],
   "source": [
    "model.fit(features_v1.head(5000),labels_b[0][:5000])"
   ]
  },
  {
   "cell_type": "code",
   "execution_count": null,
   "metadata": {},
   "outputs": [],
   "source": [
    "model.score(features_v2.head(5000),labels_b[1][:5000])"
   ]
  },
  {
   "cell_type": "code",
   "execution_count": null,
   "metadata": {},
   "outputs": [],
   "source": [
    "from sksurv.preprocessing import OneHotEncoder\n",
    "for i in range(0,5):\n",
    "    features_por_ventana[i] = OneHotEncoder().fit_transform(features_por_ventana[i])"
   ]
  },
  {
   "cell_type": "code",
   "execution_count": null,
   "metadata": {},
   "outputs": [],
   "source": [
    "from sksurv.ensemble import GradientBoostingSurvivalAnalysis\n",
    "\n",
    "score = []\n",
    "for i in range(0,1):\n",
    "    model = GradientBoostingSurvivalAnalysis()\n",
    "    model.fit(features_por_ventana[i].head(5000),labels_b[i][:5000])\n",
    "    prediccion = model.predict(features_por_ventana[i+1].head(5000))\n",
    "    features_por_ventana[i+1]['prediccion_ventana_'+str(i)] = prediccion\n",
    "    score.append( model.score(features_por_ventana[i+1].head(5000), labels_b[i+1][:5000]) )\n",
    "    \n",
    "    \n",
    "    "
   ]
  },
  {
   "cell_type": "markdown",
   "metadata": {},
   "source": [
    "## CoxPH"
   ]
  },
  {
   "cell_type": "code",
   "execution_count": null,
   "metadata": {},
   "outputs": [],
   "source": [
    "from sksurv.linear_model import CoxPHSurvivalAnalysis\n",
    "\n",
    "estimator = CoxPHSurvivalAnalysis(alpha=0.0001)\n",
    "estimator.fit(features_v1.head(10000),labels_b[0][:10000])"
   ]
  },
  {
   "cell_type": "code",
   "execution_count": null,
   "metadata": {},
   "outputs": [],
   "source": [
    "pd.Series(estimator.coef_, index=features_v1.columns)"
   ]
  },
  {
   "cell_type": "markdown",
   "metadata": {},
   "source": [
    "#### El resultado es un vector de coeficientes, uno para cada variable, donde cada valor corresponde a la relación del registro y evento"
   ]
  },
  {
   "cell_type": "code",
   "execution_count": null,
   "metadata": {},
   "outputs": [],
   "source": [
    "estimator.score(features_v2.head(10000), labels_b[1][:10000])"
   ]
  },
  {
   "cell_type": "markdown",
   "metadata": {},
   "source": [
    "# Regressor"
   ]
  },
  {
   "cell_type": "markdown",
   "metadata": {},
   "source": [
    "## KNN"
   ]
  },
  {
   "cell_type": "code",
   "execution_count": 28,
   "metadata": {},
   "outputs": [
    {
     "data": {
      "text/plain": [
       "(73539.3725672565, 0.5393407379662112, 0.4116223190865531)"
      ]
     },
     "execution_count": 28,
     "metadata": {},
     "output_type": "execute_result"
    }
   ],
   "source": [
    "from sklearn.neighbors import KNeighborsRegressor\n",
    "from sklearn import metrics\n",
    "\n",
    "k=5 #-->Hiperparametro\n",
    "neigh = KNeighborsRegressor(n_neighbors = k ,    #Cantidad de vecinos a usar --> K hiperparametro.\n",
    "                            n_jobs=-1,           #Define la cantidad de procesadores a usar, -1 todos los disponibles.\n",
    "                            weights='distance',  #Se define el peso como la inversa a la distancia, los mas cercanos tienen mayor influencia.\n",
    "                            algorithm='brute'    #Fuerza bruta para el algorimo, podría ser KDTree o sino automatico.\n",
    "                           )\n",
    "#En weights se puede pasar una funcion definida por el usuario--> Segundo hiperparametro posible de KNN.\n",
    "neigh.fit(x_train,y_train) #Fit the model using X as training data and Y as target values\n",
    "(root_mean_squared_error(y_test, neigh.predict(x_test)), neigh.score(x_train,y_train),neigh.score(x_test,y_test))"
   ]
  },
  {
   "cell_type": "markdown",
   "metadata": {},
   "source": [
    "## Gradient Boosting"
   ]
  },
  {
   "cell_type": "code",
   "execution_count": 18,
   "metadata": {},
   "outputs": [
    {
     "name": "stdout",
     "output_type": "stream",
     "text": [
      "Prediccion 1\n",
      "Score ST: 0.581397429720397\n",
      "Score SC: 0.6538081279279816\n",
      "Root Mean Squared ST: 61430.52865649722\n",
      "Root Mean Squared SC: 170028.65857304053\n",
      "Prediccion 2\n",
      "Score ST: 0.5883439422152601\n",
      "Score SC: 0.6622906508696496\n",
      "Root Mean Squared ST: 61787.30651837886\n",
      "Root Mean Squared SC: 172598.01571921687\n",
      "Prediccion 3\n",
      "Score ST: 0.5963219093765021\n",
      "Score SC: 0.6431153103993874\n",
      "Root Mean Squared ST: 61306.116959851504\n",
      "Root Mean Squared SC: 170097.11433868416\n",
      "Prediccion 4\n",
      "Score ST: -0.2969737355527178\n",
      "Score SC: -0.45512678875784607\n",
      "Root Mean Squared ST: 109638.32278082428\n",
      "Root Mean Squared SC: 129220.02990659451\n"
     ]
    }
   ],
   "source": [
    "from sklearn.ensemble import GradientBoostingRegressor\n",
    "\n",
    "gradient_boost_st = GradientBoostingRegressor()\n",
    "gradient_boost_sc = GradientBoostingRegressor()\n",
    "\n",
    "prediccion_por_ventanas(gradient_boost_st,gradient_boost_sc,features_por_ventana,labels,4)"
   ]
  },
  {
   "cell_type": "code",
   "execution_count": 20,
   "metadata": {},
   "outputs": [
    {
     "data": {
      "text/html": [
       "<div>\n",
       "<style scoped>\n",
       "    .dataframe tbody tr th:only-of-type {\n",
       "        vertical-align: middle;\n",
       "    }\n",
       "\n",
       "    .dataframe tbody tr th {\n",
       "        vertical-align: top;\n",
       "    }\n",
       "\n",
       "    .dataframe thead th {\n",
       "        text-align: right;\n",
       "    }\n",
       "</style>\n",
       "<table border=\"1\" class=\"dataframe\">\n",
       "  <thead>\n",
       "    <tr style=\"text-align: right;\">\n",
       "      <th></th>\n",
       "      <th>device_id</th>\n",
       "      <th>cantidad_de_subastas_en_ventana</th>\n",
       "      <th>cantidad_de_clicks_en_ventana</th>\n",
       "      <th>tiempo_de_click_promedio</th>\n",
       "      <th>SUP_D</th>\n",
       "      <th>SUP_C</th>\n",
       "      <th>SUP_I</th>\n",
       "      <th>CENT_D</th>\n",
       "      <th>CENT_C</th>\n",
       "      <th>CENT_I</th>\n",
       "      <th>...</th>\n",
       "      <th>prediccion_ventana_st_0</th>\n",
       "      <th>prediccion_ventana_st_1</th>\n",
       "      <th>prediccion_ventana_st_2</th>\n",
       "      <th>prediccion_ventana_st_3</th>\n",
       "      <th>prediccion_ventana_st_4</th>\n",
       "      <th>prediccion_ventana_sc_0</th>\n",
       "      <th>prediccion_ventana_sc_1</th>\n",
       "      <th>prediccion_ventana_sc_2</th>\n",
       "      <th>prediccion_ventana_sc_3</th>\n",
       "      <th>prediccion_ventana_sc_4</th>\n",
       "    </tr>\n",
       "  </thead>\n",
       "  <tbody>\n",
       "    <tr>\n",
       "      <th>0</th>\n",
       "      <td>40621409780134</td>\n",
       "      <td>1.0</td>\n",
       "      <td>0.0</td>\n",
       "      <td>0.0</td>\n",
       "      <td>0.0</td>\n",
       "      <td>0.0</td>\n",
       "      <td>0.0</td>\n",
       "      <td>0.0</td>\n",
       "      <td>0.0</td>\n",
       "      <td>0.0</td>\n",
       "      <td>...</td>\n",
       "      <td>0</td>\n",
       "      <td>123611.529163</td>\n",
       "      <td>0</td>\n",
       "      <td>0</td>\n",
       "      <td>0</td>\n",
       "      <td>0</td>\n",
       "      <td>256562.629223</td>\n",
       "      <td>0</td>\n",
       "      <td>0</td>\n",
       "      <td>0</td>\n",
       "    </tr>\n",
       "    <tr>\n",
       "      <th>1</th>\n",
       "      <td>90072729247980</td>\n",
       "      <td>0.0</td>\n",
       "      <td>0.0</td>\n",
       "      <td>0.0</td>\n",
       "      <td>0.0</td>\n",
       "      <td>0.0</td>\n",
       "      <td>0.0</td>\n",
       "      <td>0.0</td>\n",
       "      <td>0.0</td>\n",
       "      <td>0.0</td>\n",
       "      <td>...</td>\n",
       "      <td>0</td>\n",
       "      <td>258525.399498</td>\n",
       "      <td>0</td>\n",
       "      <td>0</td>\n",
       "      <td>0</td>\n",
       "      <td>0</td>\n",
       "      <td>132037.314706</td>\n",
       "      <td>0</td>\n",
       "      <td>0</td>\n",
       "      <td>0</td>\n",
       "    </tr>\n",
       "    <tr>\n",
       "      <th>2</th>\n",
       "      <td>161514654074162</td>\n",
       "      <td>0.0</td>\n",
       "      <td>0.0</td>\n",
       "      <td>0.0</td>\n",
       "      <td>0.0</td>\n",
       "      <td>0.0</td>\n",
       "      <td>0.0</td>\n",
       "      <td>0.0</td>\n",
       "      <td>0.0</td>\n",
       "      <td>0.0</td>\n",
       "      <td>...</td>\n",
       "      <td>0</td>\n",
       "      <td>258624.915718</td>\n",
       "      <td>0</td>\n",
       "      <td>0</td>\n",
       "      <td>0</td>\n",
       "      <td>0</td>\n",
       "      <td>126433.422799</td>\n",
       "      <td>0</td>\n",
       "      <td>0</td>\n",
       "      <td>0</td>\n",
       "    </tr>\n",
       "    <tr>\n",
       "      <th>3</th>\n",
       "      <td>168103949904656</td>\n",
       "      <td>1.0</td>\n",
       "      <td>0.0</td>\n",
       "      <td>0.0</td>\n",
       "      <td>0.0</td>\n",
       "      <td>0.0</td>\n",
       "      <td>0.0</td>\n",
       "      <td>0.0</td>\n",
       "      <td>0.0</td>\n",
       "      <td>0.0</td>\n",
       "      <td>...</td>\n",
       "      <td>0</td>\n",
       "      <td>133315.969889</td>\n",
       "      <td>0</td>\n",
       "      <td>0</td>\n",
       "      <td>0</td>\n",
       "      <td>0</td>\n",
       "      <td>125315.189417</td>\n",
       "      <td>0</td>\n",
       "      <td>0</td>\n",
       "      <td>0</td>\n",
       "    </tr>\n",
       "    <tr>\n",
       "      <th>4</th>\n",
       "      <td>186034136943920</td>\n",
       "      <td>48.0</td>\n",
       "      <td>0.0</td>\n",
       "      <td>0.0</td>\n",
       "      <td>0.0</td>\n",
       "      <td>0.0</td>\n",
       "      <td>0.0</td>\n",
       "      <td>0.0</td>\n",
       "      <td>0.0</td>\n",
       "      <td>0.0</td>\n",
       "      <td>...</td>\n",
       "      <td>0</td>\n",
       "      <td>51124.365610</td>\n",
       "      <td>0</td>\n",
       "      <td>0</td>\n",
       "      <td>0</td>\n",
       "      <td>0</td>\n",
       "      <td>258289.803387</td>\n",
       "      <td>0</td>\n",
       "      <td>0</td>\n",
       "      <td>0</td>\n",
       "    </tr>\n",
       "  </tbody>\n",
       "</table>\n",
       "<p>5 rows × 33 columns</p>\n",
       "</div>"
      ],
      "text/plain": [
       "         device_id  cantidad_de_subastas_en_ventana  \\\n",
       "0   40621409780134                              1.0   \n",
       "1   90072729247980                              0.0   \n",
       "2  161514654074162                              0.0   \n",
       "3  168103949904656                              1.0   \n",
       "4  186034136943920                             48.0   \n",
       "\n",
       "   cantidad_de_clicks_en_ventana  tiempo_de_click_promedio  SUP_D  SUP_C  \\\n",
       "0                            0.0                       0.0    0.0    0.0   \n",
       "1                            0.0                       0.0    0.0    0.0   \n",
       "2                            0.0                       0.0    0.0    0.0   \n",
       "3                            0.0                       0.0    0.0    0.0   \n",
       "4                            0.0                       0.0    0.0    0.0   \n",
       "\n",
       "   SUP_I  CENT_D  CENT_C  CENT_I           ...             \\\n",
       "0    0.0     0.0     0.0     0.0           ...              \n",
       "1    0.0     0.0     0.0     0.0           ...              \n",
       "2    0.0     0.0     0.0     0.0           ...              \n",
       "3    0.0     0.0     0.0     0.0           ...              \n",
       "4    0.0     0.0     0.0     0.0           ...              \n",
       "\n",
       "   prediccion_ventana_st_0  prediccion_ventana_st_1  prediccion_ventana_st_2  \\\n",
       "0                        0            123611.529163                        0   \n",
       "1                        0            258525.399498                        0   \n",
       "2                        0            258624.915718                        0   \n",
       "3                        0            133315.969889                        0   \n",
       "4                        0             51124.365610                        0   \n",
       "\n",
       "   prediccion_ventana_st_3  prediccion_ventana_st_4  prediccion_ventana_sc_0  \\\n",
       "0                        0                        0                        0   \n",
       "1                        0                        0                        0   \n",
       "2                        0                        0                        0   \n",
       "3                        0                        0                        0   \n",
       "4                        0                        0                        0   \n",
       "\n",
       "   prediccion_ventana_sc_1  prediccion_ventana_sc_2  prediccion_ventana_sc_3  \\\n",
       "0            256562.629223                        0                        0   \n",
       "1            132037.314706                        0                        0   \n",
       "2            126433.422799                        0                        0   \n",
       "3            125315.189417                        0                        0   \n",
       "4            258289.803387                        0                        0   \n",
       "\n",
       "   prediccion_ventana_sc_4  \n",
       "0                        0  \n",
       "1                        0  \n",
       "2                        0  \n",
       "3                        0  \n",
       "4                        0  \n",
       "\n",
       "[5 rows x 33 columns]"
      ]
     },
     "execution_count": 20,
     "metadata": {},
     "output_type": "execute_result"
    }
   ],
   "source": [
    "features_por_ventana[4].head()"
   ]
  },
  {
   "cell_type": "markdown",
   "metadata": {},
   "source": [
    "### Gradient Boosting - GridSearch"
   ]
  },
  {
   "cell_type": "code",
   "execution_count": 63,
   "metadata": {},
   "outputs": [
    {
     "data": {
      "text/plain": [
       "({'learning_rate': 0.005, 'n_estimators': 1250}, 0.9335394614324747)"
      ]
     },
     "execution_count": 63,
     "metadata": {},
     "output_type": "execute_result"
    }
   ],
   "source": [
    "from sklearn.model_selection import GridSearchCV\n",
    "p_test1 = {'learning_rate':[0.15,0.1,0.05,0.01,0.005,0.001], 'n_estimators':[100,250,500,750,1000,1250,1500,1750]}\n",
    "\n",
    "tuning = GridSearchCV(estimator =GradientBoostingRegressor(), param_grid = p_test1)\n",
    "\n",
    "tuning.fit(df_feat.drop(columns='device_id'),df['st'])\n",
    "tuning.best_params_, tuning.best_score_"
   ]
  },
  {
   "cell_type": "code",
   "execution_count": 65,
   "metadata": {},
   "outputs": [
    {
     "data": {
      "text/plain": [
       "24429.581248523762"
      ]
     },
     "execution_count": 65,
     "metadata": {},
     "output_type": "execute_result"
    }
   ],
   "source": [
    "gradient_boost_2 = GradientBoostingRegressor(n_estimators= 1250, learning_rate=0.005)\n",
    "gradient_boost_2.fit(x_train,y_train)\n",
    "predicted_gb_2 = gradient_boost_2.predict(x_test)\n",
    "gradient_boost_2.score(x_train, y_train)\n",
    "root_mean_squared_error(y_test,predicted_gb_2)"
   ]
  },
  {
   "cell_type": "code",
   "execution_count": 67,
   "metadata": {},
   "outputs": [
    {
     "data": {
      "text/plain": [
       "0.9350695526174552"
      ]
     },
     "execution_count": 67,
     "metadata": {},
     "output_type": "execute_result"
    }
   ],
   "source": [
    "gradient_boost_2.score(x_test, y_test)\n",
    "#Baja"
   ]
  },
  {
   "cell_type": "code",
   "execution_count": 71,
   "metadata": {},
   "outputs": [
    {
     "data": {
      "text/plain": [
       "({'max_depth': 3}, 0.9338475449027231)"
      ]
     },
     "execution_count": 71,
     "metadata": {},
     "output_type": "execute_result"
    }
   ],
   "source": [
    "p_test2 = {'max_depth':[2,3,4,5,6,7]}\n",
    "tuning = GridSearchCV(estimator =GradientBoostingRegressor(), param_grid = p_test2)\n",
    "\n",
    "tuning.fit(df_feat.drop(columns='device_id'),df['st'])\n",
    "tuning.best_params_, tuning.best_score_"
   ]
  },
  {
   "cell_type": "code",
   "execution_count": 72,
   "metadata": {},
   "outputs": [
    {
     "data": {
      "text/plain": [
       "0.9351380720519836"
      ]
     },
     "execution_count": 72,
     "metadata": {},
     "output_type": "execute_result"
    }
   ],
   "source": [
    "gradient_boost_3 = GradientBoostingRegressor(max_depth= 3)\n",
    "gradient_boost_3.fit(x_train,y_train)\n",
    "gradient_boost_3.score(x_test, y_test)\n",
    "#baja"
   ]
  },
  {
   "cell_type": "code",
   "execution_count": 73,
   "metadata": {},
   "outputs": [
    {
     "data": {
      "text/plain": [
       "({'min_samples_leaf': 5, 'min_samples_split': 60}, 0.9339450691357554)"
      ]
     },
     "execution_count": 73,
     "metadata": {},
     "output_type": "execute_result"
    }
   ],
   "source": [
    "p_test3 = {'min_samples_split':[2,4,6,8,10,20,40,60,100], 'min_samples_leaf':[1,3,5,7,9] }\n",
    "\n",
    "tuning = GridSearchCV(estimator =GradientBoostingRegressor(), param_grid = p_test3)\n",
    "\n",
    "tuning.fit(df_feat.drop(columns='device_id'),df['st'])\n",
    "tuning.best_params_, tuning.best_score_"
   ]
  },
  {
   "cell_type": "code",
   "execution_count": 74,
   "metadata": {},
   "outputs": [
    {
     "data": {
      "text/plain": [
       "0.9350079834773051"
      ]
     },
     "execution_count": 74,
     "metadata": {},
     "output_type": "execute_result"
    }
   ],
   "source": [
    "gradient_boost_4 = GradientBoostingRegressor(min_samples_leaf= 5, min_samples_split= 60)\n",
    "gradient_boost_4.fit(x_train,y_train)\n",
    "gradient_boost_4.score(x_test, y_test)\n",
    "#Baja"
   ]
  },
  {
   "cell_type": "code",
   "execution_count": null,
   "metadata": {},
   "outputs": [],
   "source": []
  },
  {
   "cell_type": "markdown",
   "metadata": {},
   "source": [
    "## Random Forest"
   ]
  },
  {
   "cell_type": "code",
   "execution_count": null,
   "metadata": {},
   "outputs": [],
   "source": [
    "from sklearn.ensemble import RandomForestRegressor\n",
    "random_forest = RandomForestRegressor()\n",
    "random_forest.fit(x_train,y_train)\n",
    "(root_mean_squared_error(y_test, random_forest.predict(x_test)), random_forest.score(x_train,y_train),random_forest.score(x_test,y_test))"
   ]
  },
  {
   "cell_type": "code",
   "execution_count": 15,
   "metadata": {},
   "outputs": [
    {
     "name": "stdout",
     "output_type": "stream",
     "text": [
      "Prediccion 1\n",
      "Score ST: 0.55747801953616\n",
      "Score SC: 0.6093184314029053\n",
      "Root Mean Squared ST: 63161.252146139166\n",
      "Root Mean Squared SC: 171095.32033795014\n",
      "Prediccion 2\n",
      "Score ST: 0.5627484957500681\n",
      "Score SC: 0.6197853465264542\n",
      "Root Mean Squared ST: 63679.20960944252\n",
      "Root Mean Squared SC: 173219.18394728145\n",
      "Prediccion 3\n",
      "Score ST: 0.5705113792783527\n",
      "Score SC: 0.603154287622059\n",
      "Root Mean Squared ST: 63235.659281510474\n",
      "Root Mean Squared SC: 170788.2888423068\n",
      "Prediccion 4\n",
      "Score ST: 0.391932219776426\n",
      "Score SC: 0.08777132837958956\n",
      "Root Mean Squared ST: 75071.10154270833\n",
      "Root Mean Squared SC: 128441.68904667207\n"
     ]
    }
   ],
   "source": [
    "from sklearn.ensemble import RandomForestRegressor\n",
    "rf_st = RandomForestRegressor()\n",
    "rf_sc = RandomForestRegressor()\n",
    "\n",
    "prediccion_por_ventanas(rf_st,rf_sc,features_por_ventana,labels,4)"
   ]
  },
  {
   "cell_type": "markdown",
   "metadata": {},
   "source": [
    "## Linear"
   ]
  },
  {
   "cell_type": "code",
   "execution_count": 25,
   "metadata": {},
   "outputs": [
    {
     "data": {
      "text/plain": [
       "(92393.60424428641, 0.06929584017408585, 0.07124713162299445)"
      ]
     },
     "execution_count": 25,
     "metadata": {},
     "output_type": "execute_result"
    }
   ],
   "source": [
    "from sklearn.linear_model import LinearRegression\n",
    "reg_lineal = LinearRegression()\n",
    "reg_lineal.fit(x_train,y_train)\n",
    "(root_mean_squared_error(y_test, reg_lineal.predict(x_test)), reg_lineal.score(x_train,y_train),reg_lineal.score(x_test,y_test))"
   ]
  },
  {
   "cell_type": "markdown",
   "metadata": {},
   "source": [
    "## Ada Boost"
   ]
  },
  {
   "cell_type": "code",
   "execution_count": 21,
   "metadata": {},
   "outputs": [
    {
     "name": "stdout",
     "output_type": "stream",
     "text": [
      "Prediccion 1\n",
      "Score ST: 0.5582842710873648\n",
      "Score SC: 0.6540269701194741\n",
      "Root Mean Squared ST: 63103.68769051505\n",
      "Root Mean Squared SC: 170055.30278887952\n",
      "Prediccion 2\n",
      "Score ST: 0.5525183405955663\n",
      "Score SC: 0.6607252834123399\n",
      "Root Mean Squared ST: 64419.837966116225\n",
      "Root Mean Squared SC: 172766.4177329352\n",
      "Prediccion 3\n",
      "Score ST: 0.5572014367787247\n",
      "Score SC: 0.6434449182365674\n",
      "Root Mean Squared ST: 64208.02647106242\n",
      "Root Mean Squared SC: 170551.0213751848\n",
      "Prediccion 4\n",
      "Score ST: 0.07535987885295303\n",
      "Score SC: 0.6214869150884875\n",
      "Root Mean Squared ST: 92572.74877201971\n",
      "Root Mean Squared SC: 171313.25203450027\n"
     ]
    }
   ],
   "source": [
    "from sklearn.ensemble import AdaBoostRegressor\n",
    "ada_boost_st = AdaBoostRegressor()\n",
    "ada_boost_sc = AdaBoostRegressor()\n",
    "\n",
    "prediccion_por_ventanas(ada_boost_st,ada_boost_sc,features_por_ventana,labels,4)"
   ]
  },
  {
   "cell_type": "markdown",
   "metadata": {},
   "source": [
    "## Decision Tree"
   ]
  },
  {
   "cell_type": "code",
   "execution_count": 51,
   "metadata": {},
   "outputs": [],
   "source": [
    "from sklearn.tree import DecisionTreeRegressor\n",
    "arbol_dec = DecisionTreeRegressor()\n",
    "arbol_dec.fit(x_train,y_train)\n",
    "(root_mean_squared_error(y_test, arbol_dec.predict(x_test)), arbol_dec.score(x_train,y_train),arbol_dec.score(x_test,y_test))"
   ]
  },
  {
   "cell_type": "markdown",
   "metadata": {},
   "source": [
    "### Feature importances"
   ]
  },
  {
   "cell_type": "code",
   "execution_count": 57,
   "metadata": {},
   "outputs": [
    {
     "data": {
      "text/html": [
       "<div>\n",
       "<style scoped>\n",
       "    .dataframe tbody tr th:only-of-type {\n",
       "        vertical-align: middle;\n",
       "    }\n",
       "\n",
       "    .dataframe tbody tr th {\n",
       "        vertical-align: top;\n",
       "    }\n",
       "\n",
       "    .dataframe thead th {\n",
       "        text-align: right;\n",
       "    }\n",
       "</style>\n",
       "<table border=\"1\" class=\"dataframe\">\n",
       "  <thead>\n",
       "    <tr style=\"text-align: right;\">\n",
       "      <th></th>\n",
       "      <th>importance</th>\n",
       "    </tr>\n",
       "  </thead>\n",
       "  <tbody>\n",
       "    <tr>\n",
       "      <th>cantidad_subastas_Thursday</th>\n",
       "      <td>0.778212</td>\n",
       "    </tr>\n",
       "    <tr>\n",
       "      <th>cantidad_subastas_Friday</th>\n",
       "      <td>0.173654</td>\n",
       "    </tr>\n",
       "    <tr>\n",
       "      <th>cantidad_subastas_Saturday</th>\n",
       "      <td>0.023967</td>\n",
       "    </tr>\n",
       "    <tr>\n",
       "      <th>cantidad_de_subastas_en_ventana</th>\n",
       "      <td>0.008015</td>\n",
       "    </tr>\n",
       "    <tr>\n",
       "      <th>cantidad_de_eventos_en_ventana</th>\n",
       "      <td>0.001236</td>\n",
       "    </tr>\n",
       "    <tr>\n",
       "      <th>aplicacion_mas_usada</th>\n",
       "      <td>0.001119</td>\n",
       "    </tr>\n",
       "    <tr>\n",
       "      <th>tipo_evento_mas_frec</th>\n",
       "      <td>0.001060</td>\n",
       "    </tr>\n",
       "    <tr>\n",
       "      <th>Porc_I-E</th>\n",
       "      <td>0.000908</td>\n",
       "    </tr>\n",
       "    <tr>\n",
       "      <th>cantidad_instalaciones_Thursday</th>\n",
       "      <td>0.000735</td>\n",
       "    </tr>\n",
       "    <tr>\n",
       "      <th>cantidad_eventos_Friday</th>\n",
       "      <td>0.000727</td>\n",
       "    </tr>\n",
       "  </tbody>\n",
       "</table>\n",
       "</div>"
      ],
      "text/plain": [
       "                                 importance\n",
       "cantidad_subastas_Thursday         0.778212\n",
       "cantidad_subastas_Friday           0.173654\n",
       "cantidad_subastas_Saturday         0.023967\n",
       "cantidad_de_subastas_en_ventana    0.008015\n",
       "cantidad_de_eventos_en_ventana     0.001236\n",
       "aplicacion_mas_usada               0.001119\n",
       "tipo_evento_mas_frec               0.001060\n",
       "Porc_I-E                           0.000908\n",
       "cantidad_instalaciones_Thursday    0.000735\n",
       "cantidad_eventos_Friday            0.000727"
      ]
     },
     "execution_count": 57,
     "metadata": {},
     "output_type": "execute_result"
    }
   ],
   "source": [
    "feature_importances = pd.DataFrame(arbol_dec.feature_importances_,\n",
    "                                   index = x_train.columns,\n",
    "                                    columns=['importance']).sort_values('importance',ascending=False)\n",
    "feature_importances.head(10)"
   ]
  },
  {
   "cell_type": "markdown",
   "metadata": {},
   "source": [
    "## ExtraTree"
   ]
  },
  {
   "cell_type": "code",
   "execution_count": 23,
   "metadata": {},
   "outputs": [
    {
     "data": {
      "text/plain": [
       "0.8910753425261935"
      ]
     },
     "execution_count": 23,
     "metadata": {},
     "output_type": "execute_result"
    }
   ],
   "source": [
    "from sklearn.tree import ExtraTreeRegressor\n",
    "extra_tree = ExtraTreeRegressor()\n",
    "extra_tree.fit(x_train,y_train)\n",
    "extra_tree.score(x_test,y_test)"
   ]
  },
  {
   "cell_type": "markdown",
   "metadata": {},
   "source": [
    "## XGBoost"
   ]
  },
  {
   "cell_type": "code",
   "execution_count": 22,
   "metadata": {},
   "outputs": [
    {
     "name": "stdout",
     "output_type": "stream",
     "text": [
      "[18:56:10] WARNING: src/objective/regression_obj.cu:152: reg:linear is now deprecated in favor of reg:squarederror.\n"
     ]
    },
    {
     "data": {
      "text/plain": [
       "(24445.925918910216, 0.9370968849813937, 0.9349826398070178)"
      ]
     },
     "execution_count": 22,
     "metadata": {},
     "output_type": "execute_result"
    }
   ],
   "source": [
    "from xgboost import XGBRegressor\n",
    "xgboost = XGBRegressor()\n",
    "xgboost.fit(x_train,y_train)\n",
    "predicted_xg = xgboost.predict(x_test)\n",
    "(root_mean_squared_error(y_test,predicted_xg), xgboost.score(x_train,y_train), xgboost.score(x_test,y_test))"
   ]
  },
  {
   "cell_type": "markdown",
   "metadata": {},
   "source": [
    "### GridSearch"
   ]
  },
  {
   "cell_type": "code",
   "execution_count": null,
   "metadata": {},
   "outputs": [],
   "source": [
    "parameters_xgb = {\n",
    "        'num_boost_round': [100, 250, 500],\n",
    "        'eta': [0.05, 0.1, 0.3],\n",
    "        'max_depth': [6, 9, 12],\n",
    "        'subsample': [0.9, 1.0],\n",
    "        'colsample_bytree': [0.9, 1.0],\n",
    "}\n",
    "\n",
    "tuning_xgb = GridSearchCV(estimator = XGBRegressor(), param_grid = parameters_xgb)\n",
    "\n",
    "tuning_xgb.fit(df_feat.drop(columns='device_id'),df['st'])\n",
    "tuning_xgb.best_params_, tuning.best_score_"
   ]
  },
  {
   "cell_type": "markdown",
   "metadata": {},
   "source": [
    "## Majority Voting"
   ]
  },
  {
   "cell_type": "code",
   "execution_count": null,
   "metadata": {},
   "outputs": [],
   "source": [
    "from sklearn.ensemble import VotingRegressor\n",
    "from sklearn import model_selection\n",
    "#Jugando con cuales se usan se obtienen distintos resultados\n",
    "estimators = []\n",
    "estimators.append(('RandomForest',RandomForestRegressor()))\n",
    "#estimators.append(('DecisionTree', DecisionTreeRegressor()))\n",
    "estimators.append(('AdaBoost', AdaBoostRegressor()))\n",
    "#estimators.append(('LinearRegression',LinearRegression()))\n",
    "estimators.append(('XGBoost',XGBRegressor()))\n",
    "estimators.append(('GradientBoosting',GradientBoostingRegressor()))\n",
    "voting = VotingRegressor(estimators)\n",
    "voting.fit(x_train,y_train)\n",
    "(root_mean_squared_error(y_test, voting.predict(x_test)), voting.score(x_train,y_train),voting.score(x_test,y_test))"
   ]
  },
  {
   "cell_type": "markdown",
   "metadata": {},
   "source": [
    "## Bagging "
   ]
  },
  {
   "cell_type": "code",
   "execution_count": 20,
   "metadata": {},
   "outputs": [
    {
     "data": {
      "text/plain": [
       "(26283.321203105806, 0.9637006782608304, 0.9248417196319347)"
      ]
     },
     "execution_count": 20,
     "metadata": {},
     "output_type": "execute_result"
    }
   ],
   "source": [
    "from sklearn.ensemble import BaggingRegressor\n",
    "bagging = BaggingRegressor()\n",
    "bagging.fit(x_train,y_train)\n",
    "(root_mean_squared_error(y_test, bagging.predict(x_test)), bagging.score(x_train,y_train),bagging.score(x_test,y_test))"
   ]
  },
  {
   "cell_type": "markdown",
   "metadata": {},
   "source": [
    "## HistGradientBoosting"
   ]
  },
  {
   "cell_type": "code",
   "execution_count": null,
   "metadata": {},
   "outputs": [],
   "source": [
    "#Este sirve para grandes cantidades de parametros\n",
    "from sklearn.experimental import enable_hist_gradient_boosting\n",
    "from sklearn.ensemble import HistGradientBoostingRegressor\n",
    "bagging = HistGradientBoostingRegressor()\n",
    "bagging.fit(x_train,y_train)\n",
    "(root_mean_squared_error(y_test, bagging.predict(x_test)), bagging.score(x_train,y_train),bagging.score(x_test,y_test))"
   ]
  },
  {
   "cell_type": "code",
   "execution_count": null,
   "metadata": {},
   "outputs": [],
   "source": []
  },
  {
   "cell_type": "code",
   "execution_count": 54,
   "metadata": {},
   "outputs": [],
   "source": [
    "from sklearn.linear_model import SGDRegressor\n",
    "reg_st= SGDRegressor()\n",
    "reg_sc= SGDRegressor()\n",
    "\n",
    "score_st =[]\n",
    "score_sc =[]\n",
    "for i in range(0,7):\n",
    "\n",
    "    x_train = features_por_ventana[i].sort_values(by='device_id',ascending=True).drop('device_id',axis='columns')\n",
    "    labels_ventana_sorted = labels[i].sort_values(by='device_id',ascending=True)\n",
    "    y_train_st = labels_ventana_sorted['st']\n",
    "    y_train_sc = labels_ventana_sorted['sc']\n",
    "    \n",
    "    reg_st.partial_fit(x_train, y_train_st)\n",
    "    reg_sc.partial_fit(x_train, y_train_sc)\n"
   ]
  },
  {
   "cell_type": "code",
   "execution_count": 113,
   "metadata": {},
   "outputs": [],
   "source": [
    "\n",
    "labels_ventana_sorted = labels[6].sort_values(by='device_id',ascending=True)\n",
    "y_test_st = labels_ventana_sorted['st']\n",
    "y_test_sc = labels_ventana_sorted['sc']"
   ]
  },
  {
   "cell_type": "code",
   "execution_count": 114,
   "metadata": {},
   "outputs": [
    {
     "data": {
      "text/plain": [
       "1.442275521789478e+18"
      ]
     },
     "execution_count": 114,
     "metadata": {},
     "output_type": "execute_result"
    }
   ],
   "source": [
    "p = reg_st.predict(features_por_ventana[6].sort_values(by='device_id',ascending=True).drop('device_id',axis='columns'))\n",
    "root_mean_squared_error(y_train_st,p)"
   ]
  },
  {
   "cell_type": "code",
   "execution_count": 116,
   "metadata": {},
   "outputs": [
    {
     "data": {
      "text/plain": [
       "-2.2444135429160437e+26"
      ]
     },
     "execution_count": 116,
     "metadata": {},
     "output_type": "execute_result"
    }
   ],
   "source": [
    "reg_st.score(features_por_ventana[6].sort_values(by='device_id',ascending=True).drop('device_id',axis='columns'), y_test_st)"
   ]
  },
  {
   "cell_type": "code",
   "execution_count": 115,
   "metadata": {},
   "outputs": [
    {
     "data": {
      "text/plain": [
       "1.3716168102850394e+18"
      ]
     },
     "execution_count": 115,
     "metadata": {},
     "output_type": "execute_result"
    }
   ],
   "source": [
    "p = reg_sc.predict(features_por_ventana[6].sort_values(by='device_id',ascending=True).drop('device_id',axis='columns'))\n",
    "root_mean_squared_error(y_train_sc,p)"
   ]
  },
  {
   "cell_type": "markdown",
   "metadata": {},
   "source": [
    "# Armado de resultados"
   ]
  },
  {
   "cell_type": "code",
   "execution_count": 152,
   "metadata": {},
   "outputs": [],
   "source": [
    "target = pd.read_csv('../Data/target_competencia_ids.csv')"
   ]
  },
  {
   "cell_type": "code",
   "execution_count": null,
   "metadata": {},
   "outputs": [],
   "source": []
  },
  {
   "cell_type": "code",
   "execution_count": 153,
   "metadata": {},
   "outputs": [],
   "source": [
    "target['device_id'] = (target['ref_hash'].str.split('_').str[0]).astype('int64')\n",
    "\n",
    "prediction = pd.merge(features_por_ventana[4],\n",
    "                      target[['device_id']].drop_duplicates(),\n",
    "                      on='device_id',\n",
    "                      how='right').drop_duplicates()\n"
   ]
  },
  {
   "cell_type": "code",
   "execution_count": 154,
   "metadata": {},
   "outputs": [
    {
     "data": {
      "text/plain": [
       "(4037,)"
      ]
     },
     "execution_count": 154,
     "metadata": {},
     "output_type": "execute_result"
    }
   ],
   "source": [
    "prediction['device_id'].shape"
   ]
  },
  {
   "cell_type": "code",
   "execution_count": 155,
   "metadata": {},
   "outputs": [
    {
     "data": {
      "text/plain": [
       "(4037, 1)"
      ]
     },
     "execution_count": 155,
     "metadata": {},
     "output_type": "execute_result"
    }
   ],
   "source": [
    "target[['device_id']].drop_duplicates().shape"
   ]
  },
  {
   "cell_type": "code",
   "execution_count": 156,
   "metadata": {},
   "outputs": [],
   "source": [
    "from sksurv.column import categorical_to_numeric\n",
    "\n",
    "prediction.replace([np.inf, -np.inf],0,inplace=True)\n",
    "prediction['tipo_evento'] = prediction['tipo_evento'].astype('category')\n",
    "prediction['wifi'] = prediction['wifi'].astype('category')\n",
    "prediction['kind'] = prediction['kind'].astype('category')\n",
    "prediction['device_os_version'] = prediction['device_os_version'].astype('category')\n",
    "prediction['prediccion_ventana_st_0'] = 0\n",
    "prediction['prediccion_ventana_st_1'] = 0\n",
    "prediction['prediccion_ventana_st_2'] = 0\n",
    "prediction['prediccion_ventana_st_3'] = 0\n",
    "prediction['prediccion_ventana_st_4'] = 0\n",
    "prediction['prediccion_ventana_sc_0'] = 0\n",
    "prediction['prediccion_ventana_sc_1'] = 0\n",
    "prediction['prediccion_ventana_sc_2'] = 0\n",
    "prediction['prediccion_ventana_sc_3'] = 0\n",
    "prediction['prediccion_ventana_sc_4'] = 0\n",
    "prediction = categorical_to_numeric(prediction)\n",
    "prediction.fillna(0,inplace=True)\n"
   ]
  },
  {
   "cell_type": "code",
   "execution_count": 157,
   "metadata": {},
   "outputs": [],
   "source": [
    "st = ada_boost_st.predict(prediction.sort_values(by='device_id',ascending=True).drop('device_id',axis='columns'))"
   ]
  },
  {
   "cell_type": "code",
   "execution_count": 158,
   "metadata": {},
   "outputs": [],
   "source": [
    "sc = ada_boost_sc.predict(prediction.sort_values(by='device_id',ascending=True).drop('device_id',axis='columns'))"
   ]
  },
  {
   "cell_type": "code",
   "execution_count": null,
   "metadata": {},
   "outputs": [],
   "source": []
  },
  {
   "cell_type": "code",
   "execution_count": 159,
   "metadata": {},
   "outputs": [],
   "source": [
    "df1 = pd.DataFrame(pd.Series(st))\n",
    "df1['ref_hash'] =  (prediction.sort_values(by='device_id',ascending=True)['device_id'])\n",
    "df1.columns=['obj','ref_hash']\n",
    "df1['ref_hash'] = df1['ref_hash'].astype('object')\n",
    "df1['ref_hash'] = [str(int(item))+'_st' for item in df1['ref_hash']]"
   ]
  },
  {
   "cell_type": "code",
   "execution_count": 160,
   "metadata": {
    "scrolled": true
   },
   "outputs": [],
   "source": [
    "df1.set_index('ref_hash', inplace= True)"
   ]
  },
  {
   "cell_type": "code",
   "execution_count": 161,
   "metadata": {},
   "outputs": [],
   "source": [
    "df2 = pd.DataFrame(pd.Series(sc))\n",
    "df2['ref_hash'] =  (prediction.sort_values(by='device_id',ascending=True)['device_id'])\n",
    "df2.columns=['obj','ref_hash']\n",
    "df2['ref_hash'] = df2['ref_hash'].astype('object')\n",
    "df2['ref_hash'] = [str(int(item))+'_sc' for item in df2['ref_hash']]"
   ]
  },
  {
   "cell_type": "code",
   "execution_count": 162,
   "metadata": {},
   "outputs": [],
   "source": [
    "df2.set_index('ref_hash', inplace= True)"
   ]
  },
  {
   "cell_type": "code",
   "execution_count": 163,
   "metadata": {},
   "outputs": [
    {
     "data": {
      "text/plain": [
       "(4037, 1)"
      ]
     },
     "execution_count": 163,
     "metadata": {},
     "output_type": "execute_result"
    }
   ],
   "source": [
    "df1.shape"
   ]
  },
  {
   "cell_type": "code",
   "execution_count": 164,
   "metadata": {},
   "outputs": [],
   "source": [
    "result = pd.concat([df1, df2])"
   ]
  },
  {
   "cell_type": "code",
   "execution_count": 165,
   "metadata": {},
   "outputs": [
    {
     "data": {
      "text/html": [
       "<div>\n",
       "<style scoped>\n",
       "    .dataframe tbody tr th:only-of-type {\n",
       "        vertical-align: middle;\n",
       "    }\n",
       "\n",
       "    .dataframe tbody tr th {\n",
       "        vertical-align: top;\n",
       "    }\n",
       "\n",
       "    .dataframe thead th {\n",
       "        text-align: right;\n",
       "    }\n",
       "</style>\n",
       "<table border=\"1\" class=\"dataframe\">\n",
       "  <thead>\n",
       "    <tr style=\"text-align: right;\">\n",
       "      <th></th>\n",
       "      <th>obj</th>\n",
       "    </tr>\n",
       "    <tr>\n",
       "      <th>ref_hash</th>\n",
       "      <th></th>\n",
       "    </tr>\n",
       "  </thead>\n",
       "  <tbody>\n",
       "    <tr>\n",
       "      <th>1037575899869926_st</th>\n",
       "      <td>87824.444688</td>\n",
       "    </tr>\n",
       "    <tr>\n",
       "      <th>4700892528469466_st</th>\n",
       "      <td>87824.444688</td>\n",
       "    </tr>\n",
       "    <tr>\n",
       "      <th>4920567832392301_st</th>\n",
       "      <td>125940.938303</td>\n",
       "    </tr>\n",
       "    <tr>\n",
       "      <th>11222455493472018_st</th>\n",
       "      <td>125940.938303</td>\n",
       "    </tr>\n",
       "    <tr>\n",
       "      <th>12710129175666777_st</th>\n",
       "      <td>125940.938303</td>\n",
       "    </tr>\n",
       "    <tr>\n",
       "      <th>12880076216702587_st</th>\n",
       "      <td>107376.383975</td>\n",
       "    </tr>\n",
       "    <tr>\n",
       "      <th>12977391562678610_st</th>\n",
       "      <td>81450.556003</td>\n",
       "    </tr>\n",
       "    <tr>\n",
       "      <th>13538278622181869_st</th>\n",
       "      <td>81450.556003</td>\n",
       "    </tr>\n",
       "    <tr>\n",
       "      <th>15755635624013585_st</th>\n",
       "      <td>66887.330788</td>\n",
       "    </tr>\n",
       "    <tr>\n",
       "      <th>15864059592995091_st</th>\n",
       "      <td>99968.512176</td>\n",
       "    </tr>\n",
       "  </tbody>\n",
       "</table>\n",
       "</div>"
      ],
      "text/plain": [
       "                                obj\n",
       "ref_hash                           \n",
       "1037575899869926_st    87824.444688\n",
       "4700892528469466_st    87824.444688\n",
       "4920567832392301_st   125940.938303\n",
       "11222455493472018_st  125940.938303\n",
       "12710129175666777_st  125940.938303\n",
       "12880076216702587_st  107376.383975\n",
       "12977391562678610_st   81450.556003\n",
       "13538278622181869_st   81450.556003\n",
       "15755635624013585_st   66887.330788\n",
       "15864059592995091_st   99968.512176"
      ]
     },
     "execution_count": 165,
     "metadata": {},
     "output_type": "execute_result"
    }
   ],
   "source": [
    "result.head(10)"
   ]
  },
  {
   "cell_type": "code",
   "execution_count": 166,
   "metadata": {},
   "outputs": [],
   "source": [
    "result.to_csv('prediction_ada_boost_2.csv')"
   ]
  },
  {
   "cell_type": "code",
   "execution_count": null,
   "metadata": {},
   "outputs": [],
   "source": []
  }
 ],
 "metadata": {
  "kernelspec": {
   "display_name": "Python 3",
   "language": "python",
   "name": "python3"
  },
  "language_info": {
   "codemirror_mode": {
    "name": "ipython",
    "version": 3
   },
   "file_extension": ".py",
   "mimetype": "text/x-python",
   "name": "python",
   "nbconvert_exporter": "python",
   "pygments_lexer": "ipython3",
   "version": "3.7.1"
  }
 },
 "nbformat": 4,
 "nbformat_minor": 2
}
