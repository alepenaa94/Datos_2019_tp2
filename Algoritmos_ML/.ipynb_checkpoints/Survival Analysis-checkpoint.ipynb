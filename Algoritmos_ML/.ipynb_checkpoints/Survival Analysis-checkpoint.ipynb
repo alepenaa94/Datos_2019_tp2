{
 "cells": [
  {
   "cell_type": "code",
   "execution_count": 1,
   "metadata": {},
   "outputs": [],
   "source": [
    "import pandas as pd\n",
    "import numpy as np\n",
    "import matplotlib.pyplot as plt\n",
    "import matplotlib.colors as clr\n",
    "import matplotlib.dates as md\n",
    "import seaborn as sns\n",
    "import datetime as datetime\n",
    "import numpy as np\n",
    "import os\n",
    "\n",
    "%matplotlib inline\n",
    "\n",
    "plt.style.use('default')\n",
    "\n",
    "sns.set(style=\"whitegrid\")\n",
    "\n",
    "import warnings \n",
    "warnings.filterwarnings('ignore')\n",
    "\n",
    "my_colors = plt.rcParams['axes.prop_cycle'].by_key()['color']\n",
    "\n",
    "# ------------- Para uso luego --------------\n",
    "from sklearn.ensemble import RandomForestClassifier\n",
    "from sklearn.metrics import f1_score\n",
    "from sklearn.model_selection import KFold\n",
    "from sksurv.preprocessing import OneHotEncoder"
   ]
  },
  {
   "cell_type": "code",
   "execution_count": 2,
   "metadata": {},
   "outputs": [],
   "source": [
    "if '__file__' in locals():\n",
    "    current_folder = os.path.dirname(os.path.abspath(__file__))\n",
    "else:\n",
    "    current_folder = os.getcwd()\n",
    "\n",
    "Limpieza_Clicks = '\"{}\"'.format(os.path.join(current_folder, '..', 'Notebook_limpieza', 'Limpieza_Clicks.ipynb'))\n",
    "Limpieza_Auctions = '\"{}\"'.format(os.path.join(current_folder, '..', 'Notebook_limpieza', 'Limpieza_Auctions.ipynb'))\n",
    "Limpieza_Installs = '\"{}\"'.format(os.path.join(current_folder, '..', 'Notebook_limpieza', 'Limpieza_Installs.ipynb'))\n",
    "Limpieza_Events = '\"{}\"'.format(os.path.join(current_folder, '..', 'Notebook_limpieza', 'Limpieza_Events.ipynb'))"
   ]
  },
  {
   "cell_type": "code",
   "execution_count": 3,
   "metadata": {},
   "outputs": [],
   "source": [
    "%run $Limpieza_Clicks\n",
    "%run $Limpieza_Auctions\n",
    "%run $Limpieza_Installs\n",
    "%run $Limpieza_Events"
   ]
  },
  {
   "cell_type": "code",
   "execution_count": 4,
   "metadata": {},
   "outputs": [],
   "source": [
    "training_set = auctions\n",
    "training_set.sort_values(ascending=True,by='date',inplace=True)"
   ]
  },
  {
   "cell_type": "code",
   "execution_count": 5,
   "metadata": {},
   "outputs": [],
   "source": [
    "#Separamos el set de entrenamiento en 5 \"ventanas\" de 3 días cada una.\n",
    "ventana1 = training_set.loc[(training_set['date'] > pd.to_datetime('2019-04-18')) & (training_set['date'] < pd.to_datetime('2019-04-21'))]\n",
    "ventana2 = training_set.loc[(training_set['date'] > pd.to_datetime('2019-04-19')) & (training_set['date'] < pd.to_datetime('2019-04-22'))]\n",
    "ventana3 = training_set.loc[(training_set['date'] > pd.to_datetime('2019-04-20')) & (training_set['date'] < pd.to_datetime('2019-04-23'))]\n",
    "ventana4 = training_set.loc[(training_set['date'] > pd.to_datetime('2019-04-21')) & (training_set['date'] < pd.to_datetime('2019-04-24'))]\n",
    "ventana5 = training_set.loc[(training_set['date'] > pd.to_datetime('2019-04-22')) & (training_set['date'] < pd.to_datetime('2019-04-25'))]"
   ]
  },
  {
   "cell_type": "code",
   "execution_count": 6,
   "metadata": {},
   "outputs": [],
   "source": [
    "list_devices = list(set(training_set['device_id'].tolist()))\n",
    "df = pd.DataFrame(list_devices) \n",
    "df.columns = ['device_id']"
   ]
  },
  {
   "cell_type": "code",
   "execution_count": 7,
   "metadata": {},
   "outputs": [],
   "source": [
    "ventana1 = pd.merge(df,ventana1,on='device_id',how='left')\n",
    "ventana2 = pd.merge(df,ventana2,on='device_id',how='left')\n",
    "ventana3 = pd.merge(df,ventana3,on='device_id',how='left')\n",
    "ventana4 = pd.merge(df,ventana4,on='device_id',how='left')\n",
    "ventana5 = pd.merge(df,ventana5,on='device_id',how='left')"
   ]
  },
  {
   "cell_type": "markdown",
   "metadata": {},
   "source": [
    "### Explico lo que se busca hacer\n",
    "En la siguiente linea lo que se busca es para los dispositivos que no tienen reg en esta venatana, se les coloca una fecha de la ventana siguiente, de forma que tengan el tiempo maximo de la ventana luego al calcular el st/sc\n",
    "#### ventana1['date'].fillna(value=pd.to_datetime(\"2019-04-21\"),inplace=True)\n",
    "\n",
    "Luego seteo una fecha de inicio de la ventana para calcular los segs de cada registro contra esta. de forma que si el dispositivo aparece, es a X segundos del inicio de esta ventana. Luego hago el promedio de los segs de cada registro para cada dispositivo, generando un nuevo df al cual luego se le agregaran los features.\n",
    "#### fecha_inicio = pd.to_datetime(\"2019-04-18\")\n",
    "#### ventana1['date_seconds'] = (ventana1['date']-fecha_inicio).dt.total_seconds()\n",
    "#### ventana1_st = ventana1[['device_id','date_seconds']].groupby('device_id').mean().reset_index()\n",
    "#### ventana1_st.columns = ['device_id','st']"
   ]
  },
  {
   "cell_type": "code",
   "execution_count": 8,
   "metadata": {},
   "outputs": [],
   "source": [
    "ventana1['date'].fillna(value=pd.to_datetime(\"2019-04-21\"),inplace=True)\n",
    "fecha_inicio = pd.to_datetime(\"2019-04-18\")\n",
    "ventana1['date_seconds'] = (ventana1['date']-fecha_inicio).dt.total_seconds()\n",
    "ventana1_st = ventana1[['device_id','date_seconds']].groupby('device_id').mean().reset_index()\n",
    "ventana1_st.columns = ['device_id','st']"
   ]
  },
  {
   "cell_type": "code",
   "execution_count": 9,
   "metadata": {},
   "outputs": [],
   "source": [
    "ventana2['date'].fillna(value=pd.to_datetime(\"2019-04-22\"),inplace=True)\n",
    "fecha_inicio = pd.to_datetime(\"2019-04-19\")\n",
    "ventana2['date_seconds'] = (ventana2['date']-fecha_inicio).dt.total_seconds()\n",
    "ventana2_st = ventana2[['device_id','date_seconds']].groupby('device_id').mean().reset_index()\n",
    "ventana2_st.columns = ['device_id','st']"
   ]
  },
  {
   "cell_type": "code",
   "execution_count": 10,
   "metadata": {},
   "outputs": [],
   "source": [
    "ventana3['date'].fillna(value=pd.to_datetime(\"2019-04-23\"),inplace=True)\n",
    "fecha_inicio = pd.to_datetime(\"2019-04-20\")\n",
    "ventana3['date_seconds'] = (ventana3['date']-fecha_inicio).dt.total_seconds()\n",
    "ventana3_st = ventana3[['device_id','date_seconds']].groupby('device_id').mean().reset_index()\n",
    "ventana3_st.columns = ['device_id','st']"
   ]
  },
  {
   "cell_type": "code",
   "execution_count": 11,
   "metadata": {},
   "outputs": [],
   "source": [
    "ventana4['date'].fillna(value=pd.to_datetime(\"2019-04-24\"),inplace=True)\n",
    "fecha_inicio = pd.to_datetime(\"2019-04-21\")\n",
    "ventana4['date_seconds'] = (ventana4['date']-fecha_inicio).dt.total_seconds()\n",
    "ventana4_st = ventana4[['device_id','date_seconds']].groupby('device_id').mean().reset_index()\n",
    "ventana4_st.columns = ['device_id','st']"
   ]
  },
  {
   "cell_type": "code",
   "execution_count": 12,
   "metadata": {},
   "outputs": [],
   "source": [
    "ventana5['date'].fillna(value=pd.to_datetime(\"2019-04-25\"),inplace=True)\n",
    "fecha_inicio = pd.to_datetime(\"2019-04-22\")\n",
    "ventana5['date_seconds'] = (ventana5['date']-fecha_inicio).dt.total_seconds()\n",
    "ventana5_st = ventana5[['device_id','date_seconds']].groupby('device_id').mean().reset_index()\n",
    "ventana5_st.columns = ['device_id','st']"
   ]
  },
  {
   "cell_type": "code",
   "execution_count": 13,
   "metadata": {},
   "outputs": [
    {
     "data": {
      "text/html": [
       "<div>\n",
       "<style scoped>\n",
       "    .dataframe tbody tr th:only-of-type {\n",
       "        vertical-align: middle;\n",
       "    }\n",
       "\n",
       "    .dataframe tbody tr th {\n",
       "        vertical-align: top;\n",
       "    }\n",
       "\n",
       "    .dataframe thead th {\n",
       "        text-align: right;\n",
       "    }\n",
       "</style>\n",
       "<table border=\"1\" class=\"dataframe\">\n",
       "  <thead>\n",
       "    <tr style=\"text-align: right;\">\n",
       "      <th></th>\n",
       "      <th>device_id</th>\n",
       "      <th>st</th>\n",
       "    </tr>\n",
       "  </thead>\n",
       "  <tbody>\n",
       "    <tr>\n",
       "      <th>177542</th>\n",
       "      <td>3447451428440269355</td>\n",
       "      <td>126130.650969</td>\n",
       "    </tr>\n",
       "    <tr>\n",
       "      <th>266128</th>\n",
       "      <td>5165660681934737933</td>\n",
       "      <td>199125.645031</td>\n",
       "    </tr>\n",
       "    <tr>\n",
       "      <th>427273</th>\n",
       "      <td>8293718336415615699</td>\n",
       "      <td>34707.670535</td>\n",
       "    </tr>\n",
       "    <tr>\n",
       "      <th>446509</th>\n",
       "      <td>8668195199834708441</td>\n",
       "      <td>259200.000000</td>\n",
       "    </tr>\n",
       "    <tr>\n",
       "      <th>32823</th>\n",
       "      <td>640412101775753849</td>\n",
       "      <td>259200.000000</td>\n",
       "    </tr>\n",
       "    <tr>\n",
       "      <th>228750</th>\n",
       "      <td>4439500221329079685</td>\n",
       "      <td>259200.000000</td>\n",
       "    </tr>\n",
       "    <tr>\n",
       "      <th>55604</th>\n",
       "      <td>1082771975484126137</td>\n",
       "      <td>174350.177080</td>\n",
       "    </tr>\n",
       "    <tr>\n",
       "      <th>290656</th>\n",
       "      <td>5641285281654433558</td>\n",
       "      <td>259200.000000</td>\n",
       "    </tr>\n",
       "    <tr>\n",
       "      <th>404752</th>\n",
       "      <td>7857143308949027478</td>\n",
       "      <td>259200.000000</td>\n",
       "    </tr>\n",
       "    <tr>\n",
       "      <th>332483</th>\n",
       "      <td>6448452239984892409</td>\n",
       "      <td>134166.630051</td>\n",
       "    </tr>\n",
       "  </tbody>\n",
       "</table>\n",
       "</div>"
      ],
      "text/plain": [
       "                  device_id             st\n",
       "177542  3447451428440269355  126130.650969\n",
       "266128  5165660681934737933  199125.645031\n",
       "427273  8293718336415615699   34707.670535\n",
       "446509  8668195199834708441  259200.000000\n",
       "32823    640412101775753849  259200.000000\n",
       "228750  4439500221329079685  259200.000000\n",
       "55604   1082771975484126137  174350.177080\n",
       "290656  5641285281654433558  259200.000000\n",
       "404752  7857143308949027478  259200.000000\n",
       "332483  6448452239984892409  134166.630051"
      ]
     },
     "execution_count": 13,
     "metadata": {},
     "output_type": "execute_result"
    }
   ],
   "source": [
    "ventana1_st.sample(10)"
   ]
  },
  {
   "cell_type": "code",
   "execution_count": null,
   "metadata": {},
   "outputs": [],
   "source": []
  },
  {
   "cell_type": "code",
   "execution_count": null,
   "metadata": {},
   "outputs": [],
   "source": []
  },
  {
   "cell_type": "code",
   "execution_count": null,
   "metadata": {},
   "outputs": [],
   "source": []
  },
  {
   "cell_type": "code",
   "execution_count": null,
   "metadata": {},
   "outputs": [],
   "source": []
  },
  {
   "cell_type": "code",
   "execution_count": null,
   "metadata": {},
   "outputs": [],
   "source": []
  },
  {
   "cell_type": "code",
   "execution_count": null,
   "metadata": {},
   "outputs": [],
   "source": []
  },
  {
   "cell_type": "code",
   "execution_count": null,
   "metadata": {},
   "outputs": [],
   "source": []
  },
  {
   "cell_type": "code",
   "execution_count": null,
   "metadata": {},
   "outputs": [],
   "source": []
  },
  {
   "cell_type": "code",
   "execution_count": null,
   "metadata": {},
   "outputs": [],
   "source": []
  },
  {
   "cell_type": "code",
   "execution_count": null,
   "metadata": {},
   "outputs": [],
   "source": []
  },
  {
   "cell_type": "code",
   "execution_count": null,
   "metadata": {},
   "outputs": [],
   "source": []
  },
  {
   "cell_type": "code",
   "execution_count": null,
   "metadata": {},
   "outputs": [],
   "source": []
  },
  {
   "cell_type": "code",
   "execution_count": null,
   "metadata": {},
   "outputs": [],
   "source": []
  },
  {
   "cell_type": "code",
   "execution_count": null,
   "metadata": {},
   "outputs": [],
   "source": []
  },
  {
   "cell_type": "code",
   "execution_count": null,
   "metadata": {},
   "outputs": [],
   "source": []
  },
  {
   "cell_type": "code",
   "execution_count": null,
   "metadata": {},
   "outputs": [],
   "source": []
  },
  {
   "cell_type": "code",
   "execution_count": null,
   "metadata": {},
   "outputs": [],
   "source": []
  },
  {
   "cell_type": "code",
   "execution_count": null,
   "metadata": {},
   "outputs": [],
   "source": []
  },
  {
   "cell_type": "code",
   "execution_count": null,
   "metadata": {},
   "outputs": [],
   "source": []
  },
  {
   "cell_type": "code",
   "execution_count": null,
   "metadata": {},
   "outputs": [],
   "source": []
  },
  {
   "cell_type": "code",
   "execution_count": null,
   "metadata": {},
   "outputs": [],
   "source": []
  },
  {
   "cell_type": "code",
   "execution_count": null,
   "metadata": {},
   "outputs": [],
   "source": []
  },
  {
   "cell_type": "code",
   "execution_count": null,
   "metadata": {},
   "outputs": [],
   "source": []
  },
  {
   "cell_type": "code",
   "execution_count": null,
   "metadata": {},
   "outputs": [],
   "source": []
  },
  {
   "cell_type": "code",
   "execution_count": null,
   "metadata": {},
   "outputs": [],
   "source": []
  },
  {
   "cell_type": "code",
   "execution_count": null,
   "metadata": {},
   "outputs": [],
   "source": []
  },
  {
   "cell_type": "code",
   "execution_count": null,
   "metadata": {},
   "outputs": [],
   "source": []
  },
  {
   "cell_type": "code",
   "execution_count": null,
   "metadata": {},
   "outputs": [],
   "source": []
  },
  {
   "cell_type": "code",
   "execution_count": null,
   "metadata": {},
   "outputs": [],
   "source": []
  },
  {
   "cell_type": "code",
   "execution_count": null,
   "metadata": {},
   "outputs": [],
   "source": []
  }
 ],
 "metadata": {
  "kernelspec": {
   "display_name": "Python 3",
   "language": "python",
   "name": "python3"
  },
  "language_info": {
   "codemirror_mode": {
    "name": "ipython",
    "version": 3
   },
   "file_extension": ".py",
   "mimetype": "text/x-python",
   "name": "python",
   "nbconvert_exporter": "python",
   "pygments_lexer": "ipython3",
   "version": "3.7.3"
  }
 },
 "nbformat": 4,
 "nbformat_minor": 2
}
