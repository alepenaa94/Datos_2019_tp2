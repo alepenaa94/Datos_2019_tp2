{
 "cells": [
  {
   "cell_type": "code",
   "execution_count": null,
   "metadata": {},
   "outputs": [],
   "source": [
    "import pandas as pd\n",
    "import numpy as np\n",
    "import matplotlib.pyplot as plt\n",
    "import matplotlib.colors as clr\n",
    "import matplotlib.dates as md\n",
    "import seaborn as sns\n",
    "import datetime as datetime\n",
    "import numpy as np\n",
    "\n",
    "%matplotlib inline\n",
    "\n",
    "plt.style.use('default')\n",
    "\n",
    "sns.set(style=\"whitegrid\")\n",
    "\n",
    "import warnings \n",
    "warnings.filterwarnings('ignore')\n",
    "\n",
    "my_colors = plt.rcParams['axes.prop_cycle'].by_key()['color']\n",
    "\n",
    "# ------------- Para uso luego --------------\n",
    "from sklearn.ensemble import RandomForestClassifier\n",
    "from sklearn.metrics import f1_score\n",
    "from sklearn.model_selection import KFold\n",
    "from sksurv.preprocessing import OneHotEncoder"
   ]
  },
  {
   "cell_type": "code",
   "execution_count": null,
   "metadata": {},
   "outputs": [],
   "source": [
    "if '__file__' in locals():\n",
    "    current_folder = os.path.dirname(os.path.abspath(__file__))\n",
    "else:\n",
    "    current_folder = os.getcwd()\n",
    "\n",
    "Limpieza_Clicks = '\"{}\"'.format(os.path.join(current_folder, '..', 'Notebook_limpieza', 'Limpieza_Clicks.ipynb'))\n",
    "Limpieza_Auctions = '\"{}\"'.format(os.path.join(current_folder, '..', 'Notebook_limpieza', 'Limpieza_Auctions.ipynb'))\n",
    "Limpieza_Installs = '\"{}\"'.format(os.path.join(current_folder, '..', 'Notebook_limpieza', 'Limpieza_Installs.ipynb'))\n",
    "Limpieza_Events = '\"{}\"'.format(os.path.join(current_folder, '..', 'Notebook_limpieza', 'Limpieza_Events.ipynb'))"
   ]
  },
  {
   "cell_type": "code",
   "execution_count": null,
   "metadata": {},
   "outputs": [],
   "source": [
    "%run $Limpieza_Clicks\n",
    "%run $Limpieza_Auctions\n",
    "%run $Limpieza_Installs\n",
    "%run $Limpieza_Events"
   ]
  },
  {
   "cell_type": "code",
   "execution_count": null,
   "metadata": {},
   "outputs": [],
   "source": [
    "training_set = auctions\n",
    "training_set.sort_values(ascending=True,by='date',inplace=True)"
   ]
  },
  {
   "cell_type": "code",
   "execution_count": null,
   "metadata": {},
   "outputs": [],
   "source": [
    "#Separamos el set de entrenamiento en 5 \"ventanas\" de 3 días cada una.\n",
    "ventana1 = training_set.loc[(training_set['date'] > pd.to_datetime('2019-04-18')) & (training_set['date'] < pd.to_datetime('2019-04-21'))]\n",
    "ventana2 = training_set.loc[(training_set['date'] > pd.to_datetime('2019-04-19')) & (training_set['date'] < pd.to_datetime('2019-04-22'))]\n",
    "ventana3 = training_set.loc[(training_set['date'] > pd.to_datetime('2019-04-20')) & (training_set['date'] < pd.to_datetime('2019-04-23'))]\n",
    "ventana4 = training_set.loc[(training_set['date'] > pd.to_datetime('2019-04-21')) & (training_set['date'] < pd.to_datetime('2019-04-24'))]\n",
    "ventana5 = training_set.loc[(training_set['date'] > pd.to_datetime('2019-04-22')) & (training_set['date'] < pd.to_datetime('2019-04-25'))]"
   ]
  },
  {
   "cell_type": "code",
   "execution_count": null,
   "metadata": {},
   "outputs": [],
   "source": [
    "list_devices = list(set(training_set['device_id'].tolist()))\n",
    "df = pd.DataFrame(list_devices) \n",
    "df.columns = ['device_id']"
   ]
  },
  {
   "cell_type": "code",
   "execution_count": null,
   "metadata": {},
   "outputs": [],
   "source": [
    "ventana1 = pd.merge(df,ventana1,on='device_id',how='left')\n",
    "ventana2 = pd.merge(df,ventana2,on='device_id',how='left')\n",
    "ventana3 = pd.merge(df,ventana3,on='device_id',how='left')\n",
    "ventana4 = pd.merge(df,ventana4,on='device_id',how='left')\n",
    "ventana5 = pd.merge(df,ventana5,on='device_id',how='left')"
   ]
  },
  {
   "cell_type": "markdown",
   "metadata": {},
   "source": [
    "### Explico lo que se busca hacer\n",
    "En la siguiente linea lo que se busca es para los dispositivos que no tienen reg en esta venatana, se les coloca una fecha de la ventana siguiente, de forma que tengan el tiempo maximo de la ventana luego al calcular el st/sc\n",
    "#### ventana1['date'].fillna(value=pd.to_datetime(\"2019-04-21\"),inplace=True)\n",
    "\n",
    "Luego seteo una fecha de inicio de la ventana para calcular los segs de cada registro contra esta. de forma que si el dispositivo aparece, es a X segundos del inicio de esta ventana. Luego hago el promedio de los segs de cada registro para cada dispositivo, generando un nuevo df al cual luego se le agregaran los features.\n",
    "#### fecha_inicio = pd.to_datetime(\"2019-04-18\")\n",
    "#### ventana1['date_seconds'] = (ventana1['date']-fecha_inicio).dt.total_seconds()\n",
    "#### ventana1_st = ventana1[['device_id','date_seconds']].groupby('device_id').mean().reset_index()\n",
    "#### ventana1_st.columns = ['device_id','st']"
   ]
  },
  {
   "cell_type": "code",
   "execution_count": null,
   "metadata": {},
   "outputs": [],
   "source": [
    "ventana1['date'].fillna(value=pd.to_datetime(\"2019-04-21\"),inplace=True)\n",
    "fecha_inicio = pd.to_datetime(\"2019-04-18\")\n",
    "ventana1['date_seconds'] = (ventana1['date']-fecha_inicio).dt.total_seconds()\n",
    "ventana1_st = ventana1[['device_id','date_seconds']].groupby('device_id').mean().reset_index()\n",
    "ventana1_st.columns = ['device_id','st']"
   ]
  },
  {
   "cell_type": "code",
   "execution_count": null,
   "metadata": {},
   "outputs": [],
   "source": [
    "ventana2['date'].fillna(value=pd.to_datetime(\"2019-04-22\"),inplace=True)\n",
    "fecha_inicio = pd.to_datetime(\"2019-04-19\")\n",
    "ventana2['date_seconds'] = (ventana2['date']-fecha_inicio).dt.total_seconds()\n",
    "ventana2_st = ventana2[['device_id','date_seconds']].groupby('device_id').mean().reset_index()\n",
    "ventana2_st.columns = ['device_id','st']"
   ]
  },
  {
   "cell_type": "code",
   "execution_count": null,
   "metadata": {},
   "outputs": [],
   "source": [
    "ventana3['date'].fillna(value=pd.to_datetime(\"2019-04-23\"),inplace=True)\n",
    "fecha_inicio = pd.to_datetime(\"2019-04-20\")\n",
    "ventana3['date_seconds'] = (ventana3['date']-fecha_inicio).dt.total_seconds()\n",
    "ventana3_st = ventana3[['device_id','date_seconds']].groupby('device_id').mean().reset_index()\n",
    "ventana3_st.columns = ['device_id','st']"
   ]
  },
  {
   "cell_type": "code",
   "execution_count": null,
   "metadata": {},
   "outputs": [],
   "source": [
    "ventana4['date'].fillna(value=pd.to_datetime(\"2019-04-24\"),inplace=True)\n",
    "fecha_inicio = pd.to_datetime(\"2019-04-21\")\n",
    "ventana4['date_seconds'] = (ventana4['date']-fecha_inicio).dt.total_seconds()\n",
    "ventana4_st = ventana4[['device_id','date_seconds']].groupby('device_id').mean().reset_index()\n",
    "ventana4_st.columns = ['device_id','st']"
   ]
  },
  {
   "cell_type": "code",
   "execution_count": null,
   "metadata": {},
   "outputs": [],
   "source": [
    "ventana5['date'].fillna(value=pd.to_datetime(\"2019-04-25\"),inplace=True)\n",
    "fecha_inicio = pd.to_datetime(\"2019-04-22\")\n",
    "ventana5['date_seconds'] = (ventana5['date']-fecha_inicio).dt.total_seconds()\n",
    "ventana5_st = ventana5[['device_id','date_seconds']].groupby('device_id').mean().reset_index()\n",
    "ventana5_st.columns = ['device_id','st']"
   ]
  },
  {
   "cell_type": "code",
   "execution_count": null,
   "metadata": {},
   "outputs": [],
   "source": []
  },
  {
   "cell_type": "code",
   "execution_count": null,
   "metadata": {},
   "outputs": [],
   "source": []
  },
  {
   "cell_type": "code",
   "execution_count": null,
   "metadata": {},
   "outputs": [],
   "source": []
  },
  {
   "cell_type": "code",
   "execution_count": null,
   "metadata": {},
   "outputs": [],
   "source": []
  },
  {
   "cell_type": "code",
   "execution_count": null,
   "metadata": {},
   "outputs": [],
   "source": []
  },
  {
   "cell_type": "code",
   "execution_count": null,
   "metadata": {},
   "outputs": [],
   "source": []
  },
  {
   "cell_type": "code",
   "execution_count": null,
   "metadata": {},
   "outputs": [],
   "source": []
  },
  {
   "cell_type": "code",
   "execution_count": null,
   "metadata": {},
   "outputs": [],
   "source": []
  },
  {
   "cell_type": "code",
   "execution_count": null,
   "metadata": {},
   "outputs": [],
   "source": []
  },
  {
   "cell_type": "code",
   "execution_count": null,
   "metadata": {},
   "outputs": [],
   "source": []
  },
  {
   "cell_type": "code",
   "execution_count": null,
   "metadata": {},
   "outputs": [],
   "source": []
  },
  {
   "cell_type": "code",
   "execution_count": null,
   "metadata": {},
   "outputs": [],
   "source": []
  },
  {
   "cell_type": "code",
   "execution_count": null,
   "metadata": {},
   "outputs": [],
   "source": []
  },
  {
   "cell_type": "code",
   "execution_count": null,
   "metadata": {},
   "outputs": [],
   "source": []
  },
  {
   "cell_type": "code",
   "execution_count": null,
   "metadata": {},
   "outputs": [],
   "source": []
  },
  {
   "cell_type": "code",
   "execution_count": null,
   "metadata": {},
   "outputs": [],
   "source": []
  },
  {
   "cell_type": "code",
   "execution_count": null,
   "metadata": {},
   "outputs": [],
   "source": []
  },
  {
   "cell_type": "code",
   "execution_count": null,
   "metadata": {},
   "outputs": [],
   "source": []
  },
  {
   "cell_type": "code",
   "execution_count": null,
   "metadata": {},
   "outputs": [],
   "source": []
  },
  {
   "cell_type": "code",
   "execution_count": null,
   "metadata": {},
   "outputs": [],
   "source": []
  },
  {
   "cell_type": "code",
   "execution_count": null,
   "metadata": {},
   "outputs": [],
   "source": []
  },
  {
   "cell_type": "code",
   "execution_count": null,
   "metadata": {},
   "outputs": [],
   "source": []
  },
  {
   "cell_type": "code",
   "execution_count": null,
   "metadata": {},
   "outputs": [],
   "source": []
  },
  {
   "cell_type": "code",
   "execution_count": null,
   "metadata": {},
   "outputs": [],
   "source": []
  },
  {
   "cell_type": "code",
   "execution_count": null,
   "metadata": {},
   "outputs": [],
   "source": []
  },
  {
   "cell_type": "code",
   "execution_count": null,
   "metadata": {},
   "outputs": [],
   "source": []
  },
  {
   "cell_type": "code",
   "execution_count": null,
   "metadata": {},
   "outputs": [],
   "source": []
  },
  {
   "cell_type": "code",
   "execution_count": null,
   "metadata": {},
   "outputs": [],
   "source": []
  },
  {
   "cell_type": "code",
   "execution_count": null,
   "metadata": {},
   "outputs": [],
   "source": []
  },
  {
   "cell_type": "code",
   "execution_count": null,
   "metadata": {},
   "outputs": [],
   "source": []
  },
  {
   "cell_type": "code",
   "execution_count": null,
   "metadata": {},
   "outputs": [],
   "source": []
  }
 ],
 "metadata": {
  "kernelspec": {
   "display_name": "Python 3",
   "language": "python",
   "name": "python3"
  },
  "language_info": {
   "codemirror_mode": {
    "name": "ipython",
    "version": 3
   },
   "file_extension": ".py",
   "mimetype": "text/x-python",
   "name": "python",
   "nbconvert_exporter": "python",
   "pygments_lexer": "ipython3",
   "version": "3.7.3"
  }
 },
 "nbformat": 4,
 "nbformat_minor": 2
}
